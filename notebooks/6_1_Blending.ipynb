{
  "cells": [
    {
      "cell_type": "markdown",
      "id": "6ef8c685-df19-4cd3-ba60-b81cc72064b5",
      "metadata": {
        "id": "6ef8c685-df19-4cd3-ba60-b81cc72064b5"
      },
      "source": [
        "# <center>[⚔️ Блендинг - смешай и скор вырастет](https://stepik.org/lesson/825510/)</center>"
      ]
    },
    {
      "cell_type": "markdown",
      "id": "0c672a9c-78ad-4239-9efa-0ae27e7f14c8",
      "metadata": {
        "id": "0c672a9c-78ad-4239-9efa-0ae27e7f14c8"
      },
      "source": [
        "### Оглавление ноутбука\n",
        "\n",
        "<img src='https://raw.githubusercontent.com/a-milenkin/Competitive_Data_Science/main/images/blending.jpg'/>\n",
        "<br>\n",
        "\n",
        "<p><font size=\"3\" face=\"Arial\" font-size=\"large\"><ul type=\"square\">\n",
        "    \n",
        "<li><a href=\"#c1\">😺🚀 Обучаем CatBoost </a></li>\n",
        "<li><a href=\"#c1\">🦄🎳 Обучаем LightGBM </a></li>\n",
        "<li><a href=\"#c1\">👽🔱 Обучаем XGBoost </a></li>\n",
        "<li><a href=\"#c1\">🐲 Блендинг и принципы блендинга </a></li>\n",
        "<li><a href=\"#6\">🧸 Выводы и заключения</a>\n",
        "\n",
        "</li></ul></font></p>\n",
        "\n",
        "    "
      ]
    },
    {
      "cell_type": "markdown",
      "id": "c5cf2119-6397-4bed-9fbd-95108bf7c3bb",
      "metadata": {
        "id": "c5cf2119-6397-4bed-9fbd-95108bf7c3bb"
      },
      "source": [
        "<div class=\"alert alert-info\">\n",
        "\n",
        "* Основная идея данной техники заключается в том, чтобы взять от каждого алгоритма лучшее и совместить несколько разных ML моделей в одну.\n",
        "* За счет такого объединения увеличивается обобщающая способность финальной модели и качество улучшается.\n",
        "* Помимо этого ваша модель становится более стабильной, что позволяет не слететь на приватном лидерборде.\n",
        "* Особенно хорошо накидывает блендинг, если смешиваемые **модели имеют разную природу**: пример, нейронные сети, KNN и решающие деревья, в этом случае они выучивают разные зависимости и хорошо дополняют друг друга."
      ]
    },
    {
      "cell_type": "markdown",
      "id": "89a1b589-4ea3-4275-bf30-b45fe679fcba",
      "metadata": {
        "id": "89a1b589-4ea3-4275-bf30-b45fe679fcba"
      },
      "source": [
        "## Импортируем библиотеки"
      ]
    },
    {
      "cell_type": "code",
      "source": [
        "!pip install catboost -q"
      ],
      "metadata": {
        "colab": {
          "base_uri": "https://localhost:8080/"
        },
        "id": "wgvf0ffNZshr",
        "outputId": "40fb58a9-fd3a-4be5-eac8-fbe86cb29854"
      },
      "id": "wgvf0ffNZshr",
      "execution_count": null,
      "outputs": [
        {
          "output_type": "stream",
          "name": "stdout",
          "text": [
            "\u001b[2K     \u001b[90m━━━━━━━━━━━━━━━━━━━━━━━━━━━━━━━━━━━━━━━━\u001b[0m \u001b[32m98.6/98.6 MB\u001b[0m \u001b[31m8.8 MB/s\u001b[0m eta \u001b[36m0:00:00\u001b[0m\n",
            "\u001b[?25h"
          ]
        }
      ]
    },
    {
      "cell_type": "code",
      "execution_count": null,
      "id": "692ddece-de89-471c-b907-b747ce5646de",
      "metadata": {
        "id": "692ddece-de89-471c-b907-b747ce5646de"
      },
      "outputs": [],
      "source": [
        "# Модели для смешивания\n",
        "import lightgbm as lgbm\n",
        "import xgboost as xgb\n",
        "import catboost as cb"
      ]
    },
    {
      "cell_type": "code",
      "execution_count": null,
      "id": "206a3295-99ff-4da6-b724-f68092a24f22",
      "metadata": {
        "id": "206a3295-99ff-4da6-b724-f68092a24f22"
      },
      "outputs": [],
      "source": [
        "import numpy as np\n",
        "import pandas as pd\n",
        "\n",
        "from sklearn.metrics import mean_squared_error\n",
        "from sklearn.model_selection import train_test_split\n",
        "\n",
        "import warnings\n",
        "warnings.filterwarnings(\"ignore\")"
      ]
    },
    {
      "cell_type": "markdown",
      "id": "d555ee92-99e4-4bb3-bde8-ad5f05fa334e",
      "metadata": {
        "id": "d555ee92-99e4-4bb3-bde8-ad5f05fa334e"
      },
      "source": [
        "## Считываем данные"
      ]
    },
    {
      "cell_type": "code",
      "execution_count": null,
      "id": "ca4a2e50-31be-451a-b553-85409afad843",
      "metadata": {
        "colab": {
          "base_uri": "https://localhost:8080/",
          "height": 268
        },
        "id": "ca4a2e50-31be-451a-b553-85409afad843",
        "outputId": "f62a299d-3701-476d-ffa8-9e04fa2d6d14"
      },
      "outputs": [
        {
          "output_type": "execute_result",
          "data": {
            "text/plain": [
              "       car_id model car_type fuel_type  car_rating  year_to_start  riders  \\\n",
              "0  y13744087j     8        1         1        3.78           2015   76163   \n",
              "1  O41613818T    23        1         1        3.90           2015   78218   \n",
              "2  d-2109686j    16        3         1        6.30           2012   23340   \n",
              "3  u29695600e    12        0         1        4.04           2011    1263   \n",
              "4  N-8915870N    16        3         1        4.70           2012   26428   \n",
              "\n",
              "   year_to_work  target_reg target_class  mean_rating  distance_sum  \\\n",
              "0          2021      109.99  another_bug     4.737759  1.214131e+07   \n",
              "1          2021       34.48  electro_bug     4.480517  1.803909e+07   \n",
              "2          2017       34.93   gear_stick     4.768391  1.588366e+07   \n",
              "3          2020       32.22  engine_fuel     3.880920  1.651883e+07   \n",
              "4          2017       27.51  engine_fuel     4.181149  1.398317e+07   \n",
              "\n",
              "   rating_min   speed_max  user_ride_quality_median  deviation_normal_count  \\\n",
              "0         0.1  180.855726                  0.023174                     174   \n",
              "1         0.0  187.862734                 12.306011                     174   \n",
              "2         0.1  102.382857                  2.513319                     174   \n",
              "3         0.1  172.793237                 -5.029476                     174   \n",
              "4         0.1  203.462289                -14.260456                     174   \n",
              "\n",
              "   user_uniq  \n",
              "0        170  \n",
              "1        174  \n",
              "2        173  \n",
              "3        170  \n",
              "4        171  "
            ],
            "text/html": [
              "\n",
              "  <div id=\"df-e0e26fc7-0af5-4454-a1e4-511f610b2b00\">\n",
              "    <div class=\"colab-df-container\">\n",
              "      <div>\n",
              "<style scoped>\n",
              "    .dataframe tbody tr th:only-of-type {\n",
              "        vertical-align: middle;\n",
              "    }\n",
              "\n",
              "    .dataframe tbody tr th {\n",
              "        vertical-align: top;\n",
              "    }\n",
              "\n",
              "    .dataframe thead th {\n",
              "        text-align: right;\n",
              "    }\n",
              "</style>\n",
              "<table border=\"1\" class=\"dataframe\">\n",
              "  <thead>\n",
              "    <tr style=\"text-align: right;\">\n",
              "      <th></th>\n",
              "      <th>car_id</th>\n",
              "      <th>model</th>\n",
              "      <th>car_type</th>\n",
              "      <th>fuel_type</th>\n",
              "      <th>car_rating</th>\n",
              "      <th>year_to_start</th>\n",
              "      <th>riders</th>\n",
              "      <th>year_to_work</th>\n",
              "      <th>target_reg</th>\n",
              "      <th>target_class</th>\n",
              "      <th>mean_rating</th>\n",
              "      <th>distance_sum</th>\n",
              "      <th>rating_min</th>\n",
              "      <th>speed_max</th>\n",
              "      <th>user_ride_quality_median</th>\n",
              "      <th>deviation_normal_count</th>\n",
              "      <th>user_uniq</th>\n",
              "    </tr>\n",
              "  </thead>\n",
              "  <tbody>\n",
              "    <tr>\n",
              "      <th>0</th>\n",
              "      <td>y13744087j</td>\n",
              "      <td>8</td>\n",
              "      <td>1</td>\n",
              "      <td>1</td>\n",
              "      <td>3.78</td>\n",
              "      <td>2015</td>\n",
              "      <td>76163</td>\n",
              "      <td>2021</td>\n",
              "      <td>109.99</td>\n",
              "      <td>another_bug</td>\n",
              "      <td>4.737759</td>\n",
              "      <td>1.214131e+07</td>\n",
              "      <td>0.1</td>\n",
              "      <td>180.855726</td>\n",
              "      <td>0.023174</td>\n",
              "      <td>174</td>\n",
              "      <td>170</td>\n",
              "    </tr>\n",
              "    <tr>\n",
              "      <th>1</th>\n",
              "      <td>O41613818T</td>\n",
              "      <td>23</td>\n",
              "      <td>1</td>\n",
              "      <td>1</td>\n",
              "      <td>3.90</td>\n",
              "      <td>2015</td>\n",
              "      <td>78218</td>\n",
              "      <td>2021</td>\n",
              "      <td>34.48</td>\n",
              "      <td>electro_bug</td>\n",
              "      <td>4.480517</td>\n",
              "      <td>1.803909e+07</td>\n",
              "      <td>0.0</td>\n",
              "      <td>187.862734</td>\n",
              "      <td>12.306011</td>\n",
              "      <td>174</td>\n",
              "      <td>174</td>\n",
              "    </tr>\n",
              "    <tr>\n",
              "      <th>2</th>\n",
              "      <td>d-2109686j</td>\n",
              "      <td>16</td>\n",
              "      <td>3</td>\n",
              "      <td>1</td>\n",
              "      <td>6.30</td>\n",
              "      <td>2012</td>\n",
              "      <td>23340</td>\n",
              "      <td>2017</td>\n",
              "      <td>34.93</td>\n",
              "      <td>gear_stick</td>\n",
              "      <td>4.768391</td>\n",
              "      <td>1.588366e+07</td>\n",
              "      <td>0.1</td>\n",
              "      <td>102.382857</td>\n",
              "      <td>2.513319</td>\n",
              "      <td>174</td>\n",
              "      <td>173</td>\n",
              "    </tr>\n",
              "    <tr>\n",
              "      <th>3</th>\n",
              "      <td>u29695600e</td>\n",
              "      <td>12</td>\n",
              "      <td>0</td>\n",
              "      <td>1</td>\n",
              "      <td>4.04</td>\n",
              "      <td>2011</td>\n",
              "      <td>1263</td>\n",
              "      <td>2020</td>\n",
              "      <td>32.22</td>\n",
              "      <td>engine_fuel</td>\n",
              "      <td>3.880920</td>\n",
              "      <td>1.651883e+07</td>\n",
              "      <td>0.1</td>\n",
              "      <td>172.793237</td>\n",
              "      <td>-5.029476</td>\n",
              "      <td>174</td>\n",
              "      <td>170</td>\n",
              "    </tr>\n",
              "    <tr>\n",
              "      <th>4</th>\n",
              "      <td>N-8915870N</td>\n",
              "      <td>16</td>\n",
              "      <td>3</td>\n",
              "      <td>1</td>\n",
              "      <td>4.70</td>\n",
              "      <td>2012</td>\n",
              "      <td>26428</td>\n",
              "      <td>2017</td>\n",
              "      <td>27.51</td>\n",
              "      <td>engine_fuel</td>\n",
              "      <td>4.181149</td>\n",
              "      <td>1.398317e+07</td>\n",
              "      <td>0.1</td>\n",
              "      <td>203.462289</td>\n",
              "      <td>-14.260456</td>\n",
              "      <td>174</td>\n",
              "      <td>171</td>\n",
              "    </tr>\n",
              "  </tbody>\n",
              "</table>\n",
              "</div>\n",
              "      <button class=\"colab-df-convert\" onclick=\"convertToInteractive('df-e0e26fc7-0af5-4454-a1e4-511f610b2b00')\"\n",
              "              title=\"Convert this dataframe to an interactive table.\"\n",
              "              style=\"display:none;\">\n",
              "        \n",
              "  <svg xmlns=\"http://www.w3.org/2000/svg\" height=\"24px\"viewBox=\"0 0 24 24\"\n",
              "       width=\"24px\">\n",
              "    <path d=\"M0 0h24v24H0V0z\" fill=\"none\"/>\n",
              "    <path d=\"M18.56 5.44l.94 2.06.94-2.06 2.06-.94-2.06-.94-.94-2.06-.94 2.06-2.06.94zm-11 1L8.5 8.5l.94-2.06 2.06-.94-2.06-.94L8.5 2.5l-.94 2.06-2.06.94zm10 10l.94 2.06.94-2.06 2.06-.94-2.06-.94-.94-2.06-.94 2.06-2.06.94z\"/><path d=\"M17.41 7.96l-1.37-1.37c-.4-.4-.92-.59-1.43-.59-.52 0-1.04.2-1.43.59L10.3 9.45l-7.72 7.72c-.78.78-.78 2.05 0 2.83L4 21.41c.39.39.9.59 1.41.59.51 0 1.02-.2 1.41-.59l7.78-7.78 2.81-2.81c.8-.78.8-2.07 0-2.86zM5.41 20L4 18.59l7.72-7.72 1.47 1.35L5.41 20z\"/>\n",
              "  </svg>\n",
              "      </button>\n",
              "      \n",
              "  <style>\n",
              "    .colab-df-container {\n",
              "      display:flex;\n",
              "      flex-wrap:wrap;\n",
              "      gap: 12px;\n",
              "    }\n",
              "\n",
              "    .colab-df-convert {\n",
              "      background-color: #E8F0FE;\n",
              "      border: none;\n",
              "      border-radius: 50%;\n",
              "      cursor: pointer;\n",
              "      display: none;\n",
              "      fill: #1967D2;\n",
              "      height: 32px;\n",
              "      padding: 0 0 0 0;\n",
              "      width: 32px;\n",
              "    }\n",
              "\n",
              "    .colab-df-convert:hover {\n",
              "      background-color: #E2EBFA;\n",
              "      box-shadow: 0px 1px 2px rgba(60, 64, 67, 0.3), 0px 1px 3px 1px rgba(60, 64, 67, 0.15);\n",
              "      fill: #174EA6;\n",
              "    }\n",
              "\n",
              "    [theme=dark] .colab-df-convert {\n",
              "      background-color: #3B4455;\n",
              "      fill: #D2E3FC;\n",
              "    }\n",
              "\n",
              "    [theme=dark] .colab-df-convert:hover {\n",
              "      background-color: #434B5C;\n",
              "      box-shadow: 0px 1px 3px 1px rgba(0, 0, 0, 0.15);\n",
              "      filter: drop-shadow(0px 1px 2px rgba(0, 0, 0, 0.3));\n",
              "      fill: #FFFFFF;\n",
              "    }\n",
              "  </style>\n",
              "\n",
              "      <script>\n",
              "        const buttonEl =\n",
              "          document.querySelector('#df-e0e26fc7-0af5-4454-a1e4-511f610b2b00 button.colab-df-convert');\n",
              "        buttonEl.style.display =\n",
              "          google.colab.kernel.accessAllowed ? 'block' : 'none';\n",
              "\n",
              "        async function convertToInteractive(key) {\n",
              "          const element = document.querySelector('#df-e0e26fc7-0af5-4454-a1e4-511f610b2b00');\n",
              "          const dataTable =\n",
              "            await google.colab.kernel.invokeFunction('convertToInteractive',\n",
              "                                                     [key], {});\n",
              "          if (!dataTable) return;\n",
              "\n",
              "          const docLinkHtml = 'Like what you see? Visit the ' +\n",
              "            '<a target=\"_blank\" href=https://colab.research.google.com/notebooks/data_table.ipynb>data table notebook</a>'\n",
              "            + ' to learn more about interactive tables.';\n",
              "          element.innerHTML = '';\n",
              "          dataTable['output_type'] = 'display_data';\n",
              "          await google.colab.output.renderOutput(dataTable, element);\n",
              "          const docLink = document.createElement('div');\n",
              "          docLink.innerHTML = docLinkHtml;\n",
              "          element.appendChild(docLink);\n",
              "        }\n",
              "      </script>\n",
              "    </div>\n",
              "  </div>\n",
              "  "
            ]
          },
          "metadata": {},
          "execution_count": 4
        }
      ],
      "source": [
        "data_root = \"https://raw.githubusercontent.com/a-milenkin/Competitive_Data_Science/main/data/\"\n",
        "data = pd.read_csv(data_root + \"quickstart_train.csv\")\n",
        "\n",
        "### Заменим категориальные признаки на числовые значения\n",
        "cat_cols = [\"model\", \"car_type\", \"fuel_type\"]\n",
        "for col in cat_cols:\n",
        "    data[col] = data[col].replace(np.unique(data[col]), np.arange(data[col].nunique()))\n",
        "    data[col] = data[col].astype(\"category\")\n",
        "\n",
        "data.head()"
      ]
    },
    {
      "cell_type": "markdown",
      "id": "d2e605e3-647a-448b-aafc-222e72109d83",
      "metadata": {
        "id": "d2e605e3-647a-448b-aafc-222e72109d83"
      },
      "source": [
        "### Разделим выборку на валидационную и обучающую"
      ]
    },
    {
      "cell_type": "code",
      "execution_count": null,
      "id": "7c28629b-eabf-4eec-8e8f-445a5d29e7c0",
      "metadata": {
        "colab": {
          "base_uri": "https://localhost:8080/"
        },
        "id": "7c28629b-eabf-4eec-8e8f-445a5d29e7c0",
        "outputId": "fedc89dd-e536-4e9b-cd7a-2e7ff09cd9f3"
      },
      "outputs": [
        {
          "output_type": "stream",
          "name": "stdout",
          "text": [
            "(1752, 14) (585, 14)\n"
          ]
        }
      ],
      "source": [
        "cols2drop = [\"car_id\", \"target_reg\", \"target_class\"]\n",
        "\n",
        "X_train, X_val, y_train, y_val = train_test_split(\n",
        "    data.drop(cols2drop, axis=1),\n",
        "    data[\"target_reg\"],\n",
        "    test_size=0.25,\n",
        "    stratify=data[\"target_class\"],\n",
        "    random_state=42,\n",
        ")\n",
        "print(X_train.shape, X_val.shape)"
      ]
    },
    {
      "cell_type": "markdown",
      "id": "a56c3604-7f3b-44cd-ad93-4df592cae8f6",
      "metadata": {
        "id": "a56c3604-7f3b-44cd-ad93-4df592cae8f6"
      },
      "source": [
        "# <center> Обучим три модели для смешивания - блендинга"
      ]
    },
    {
      "cell_type": "markdown",
      "id": "c49d07b7-85e5-4b45-ace1-e327efe4bc73",
      "metadata": {
        "id": "c49d07b7-85e5-4b45-ace1-e327efe4bc73"
      },
      "source": [
        "## 😺🚀 Обучаем **`CatBoost`**"
      ]
    },
    {
      "cell_type": "code",
      "execution_count": null,
      "id": "f1ba8556-5706-4eb9-9aa2-768638e79ea8",
      "metadata": {
        "id": "f1ba8556-5706-4eb9-9aa2-768638e79ea8"
      },
      "outputs": [],
      "source": [
        "params_cat = {\n",
        "    \"n_estimators\": 1500,\n",
        "    \"learning_rate\": 0.03,\n",
        "    \"depth\": 3,\n",
        "    \"use_best_model\": True,\n",
        "    \"cat_features\": cat_cols,\n",
        "    \"text_features\": [],\n",
        "    # 'train_dir' : '/path/to/catboost/model',\n",
        "    \"border_count\": 64,\n",
        "    \"l2_leaf_reg\": 1,\n",
        "    \"bagging_temperature\": 2,\n",
        "    \"rsm\": 0.5,\n",
        "    \"loss_function\": \"RMSE\",  # Не определена для регресси\n",
        "    # 'auto_class_weights' : 'Balanced', # Не опредлен для регресси\n",
        "    \"random_state\": 42,\n",
        "    \"custom_metric\": [\"MAE\", \"MAPE\"],\n",
        "}\n",
        "\n",
        "cat_model = cb.CatBoostRegressor(**params_cat)"
      ]
    },
    {
      "cell_type": "code",
      "execution_count": null,
      "id": "dc04e22d-6c65-4522-b5c3-71959d3c5524",
      "metadata": {
        "colab": {
          "base_uri": "https://localhost:8080/"
        },
        "id": "dc04e22d-6c65-4522-b5c3-71959d3c5524",
        "outputId": "8b38181b-1c55-467d-ce13-cde074cceb46"
      },
      "outputs": [
        {
          "output_type": "stream",
          "name": "stdout",
          "text": [
            "0:\tlearn: 17.4391776\ttest: 17.9234161\tbest: 17.9234161 (0)\ttotal: 47.9ms\tremaining: 1m 11s\n",
            "100:\tlearn: 12.0171853\ttest: 12.3281023\tbest: 12.3281023 (100)\ttotal: 127ms\tremaining: 1.76s\n",
            "200:\tlearn: 11.4189213\ttest: 11.7777692\tbest: 11.7777692 (200)\ttotal: 211ms\tremaining: 1.36s\n",
            "300:\tlearn: 11.1134309\ttest: 11.6124163\tbest: 11.6124163 (300)\ttotal: 407ms\tremaining: 1.62s\n",
            "400:\tlearn: 10.8590320\ttest: 11.5378271\tbest: 11.5365214 (398)\ttotal: 519ms\tremaining: 1.42s\n",
            "500:\tlearn: 10.6685339\ttest: 11.5151383\tbest: 11.5129698 (494)\ttotal: 655ms\tremaining: 1.31s\n",
            "600:\tlearn: 10.5119473\ttest: 11.5108646\tbest: 11.4979901 (561)\ttotal: 740ms\tremaining: 1.11s\n",
            "700:\tlearn: 10.3486559\ttest: 11.5041313\tbest: 11.4913259 (636)\ttotal: 817ms\tremaining: 932ms\n",
            "Stopped by overfitting detector  (150 iterations wait)\n",
            "\n",
            "bestTest = 11.49132595\n",
            "bestIteration = 636\n",
            "\n",
            "Shrink model to first 637 iterations.\n"
          ]
        },
        {
          "output_type": "execute_result",
          "data": {
            "text/plain": [
              "<catboost.core.CatBoostRegressor at 0x7f96a85d1a20>"
            ]
          },
          "metadata": {},
          "execution_count": 7
        }
      ],
      "source": [
        "cat_model.fit(\n",
        "    X_train,\n",
        "    y_train,\n",
        "    verbose=100,\n",
        "    eval_set=(X_val, y_val),\n",
        "    early_stopping_rounds=150,\n",
        ")"
      ]
    },
    {
      "cell_type": "code",
      "execution_count": null,
      "id": "31bb9148-1abf-4502-968b-3eae1e943149",
      "metadata": {
        "colab": {
          "base_uri": "https://localhost:8080/"
        },
        "id": "31bb9148-1abf-4502-968b-3eae1e943149",
        "outputId": "2c781e0a-0560-4823-b195-0fee4a4f4bca"
      },
      "outputs": [
        {
          "output_type": "stream",
          "name": "stdout",
          "text": [
            "MSE (catboost) :  132.051\n"
          ]
        }
      ],
      "source": [
        "print('MSE (catboost) : ', mean_squared_error(cat_model.predict(X_val), y_val).round(3))"
      ]
    },
    {
      "cell_type": "code",
      "execution_count": null,
      "id": "a81e8b26-8d9b-4f2e-99f5-14e8441f8016",
      "metadata": {
        "colab": {
          "base_uri": "https://localhost:8080/"
        },
        "id": "a81e8b26-8d9b-4f2e-99f5-14e8441f8016",
        "outputId": "fac588c2-0f3f-4fd5-afa7-04710eed3d91"
      },
      "outputs": [
        {
          "output_type": "execute_result",
          "data": {
            "text/plain": [
              "323.939"
            ]
          },
          "metadata": {},
          "execution_count": 9
        }
      ],
      "source": [
        "# Сравним с бейзлайном в виде среднего значения\n",
        "mean_squared_error(np.ones(len(y_val)) * y_val.mean(), y_val).round(3)"
      ]
    },
    {
      "cell_type": "code",
      "execution_count": null,
      "id": "e1cd5231-106a-4cf0-8409-988ac723e135",
      "metadata": {
        "colab": {
          "base_uri": "https://localhost:8080/",
          "height": 204
        },
        "id": "e1cd5231-106a-4cf0-8409-988ac723e135",
        "outputId": "1c62131d-67da-4d9d-875d-2f39cc14b369"
      },
      "outputs": [
        {
          "output_type": "execute_result",
          "data": {
            "text/plain": [
              "      target\n",
              "0  32.987894\n",
              "1  47.608527\n",
              "2  35.089056\n",
              "3  61.962611\n",
              "4  71.456127"
            ],
            "text/html": [
              "\n",
              "  <div id=\"df-f3364454-c41d-48b1-990e-37595eddbaee\">\n",
              "    <div class=\"colab-df-container\">\n",
              "      <div>\n",
              "<style scoped>\n",
              "    .dataframe tbody tr th:only-of-type {\n",
              "        vertical-align: middle;\n",
              "    }\n",
              "\n",
              "    .dataframe tbody tr th {\n",
              "        vertical-align: top;\n",
              "    }\n",
              "\n",
              "    .dataframe thead th {\n",
              "        text-align: right;\n",
              "    }\n",
              "</style>\n",
              "<table border=\"1\" class=\"dataframe\">\n",
              "  <thead>\n",
              "    <tr style=\"text-align: right;\">\n",
              "      <th></th>\n",
              "      <th>target</th>\n",
              "    </tr>\n",
              "  </thead>\n",
              "  <tbody>\n",
              "    <tr>\n",
              "      <th>0</th>\n",
              "      <td>32.987894</td>\n",
              "    </tr>\n",
              "    <tr>\n",
              "      <th>1</th>\n",
              "      <td>47.608527</td>\n",
              "    </tr>\n",
              "    <tr>\n",
              "      <th>2</th>\n",
              "      <td>35.089056</td>\n",
              "    </tr>\n",
              "    <tr>\n",
              "      <th>3</th>\n",
              "      <td>61.962611</td>\n",
              "    </tr>\n",
              "    <tr>\n",
              "      <th>4</th>\n",
              "      <td>71.456127</td>\n",
              "    </tr>\n",
              "  </tbody>\n",
              "</table>\n",
              "</div>\n",
              "      <button class=\"colab-df-convert\" onclick=\"convertToInteractive('df-f3364454-c41d-48b1-990e-37595eddbaee')\"\n",
              "              title=\"Convert this dataframe to an interactive table.\"\n",
              "              style=\"display:none;\">\n",
              "        \n",
              "  <svg xmlns=\"http://www.w3.org/2000/svg\" height=\"24px\"viewBox=\"0 0 24 24\"\n",
              "       width=\"24px\">\n",
              "    <path d=\"M0 0h24v24H0V0z\" fill=\"none\"/>\n",
              "    <path d=\"M18.56 5.44l.94 2.06.94-2.06 2.06-.94-2.06-.94-.94-2.06-.94 2.06-2.06.94zm-11 1L8.5 8.5l.94-2.06 2.06-.94-2.06-.94L8.5 2.5l-.94 2.06-2.06.94zm10 10l.94 2.06.94-2.06 2.06-.94-2.06-.94-.94-2.06-.94 2.06-2.06.94z\"/><path d=\"M17.41 7.96l-1.37-1.37c-.4-.4-.92-.59-1.43-.59-.52 0-1.04.2-1.43.59L10.3 9.45l-7.72 7.72c-.78.78-.78 2.05 0 2.83L4 21.41c.39.39.9.59 1.41.59.51 0 1.02-.2 1.41-.59l7.78-7.78 2.81-2.81c.8-.78.8-2.07 0-2.86zM5.41 20L4 18.59l7.72-7.72 1.47 1.35L5.41 20z\"/>\n",
              "  </svg>\n",
              "      </button>\n",
              "      \n",
              "  <style>\n",
              "    .colab-df-container {\n",
              "      display:flex;\n",
              "      flex-wrap:wrap;\n",
              "      gap: 12px;\n",
              "    }\n",
              "\n",
              "    .colab-df-convert {\n",
              "      background-color: #E8F0FE;\n",
              "      border: none;\n",
              "      border-radius: 50%;\n",
              "      cursor: pointer;\n",
              "      display: none;\n",
              "      fill: #1967D2;\n",
              "      height: 32px;\n",
              "      padding: 0 0 0 0;\n",
              "      width: 32px;\n",
              "    }\n",
              "\n",
              "    .colab-df-convert:hover {\n",
              "      background-color: #E2EBFA;\n",
              "      box-shadow: 0px 1px 2px rgba(60, 64, 67, 0.3), 0px 1px 3px 1px rgba(60, 64, 67, 0.15);\n",
              "      fill: #174EA6;\n",
              "    }\n",
              "\n",
              "    [theme=dark] .colab-df-convert {\n",
              "      background-color: #3B4455;\n",
              "      fill: #D2E3FC;\n",
              "    }\n",
              "\n",
              "    [theme=dark] .colab-df-convert:hover {\n",
              "      background-color: #434B5C;\n",
              "      box-shadow: 0px 1px 3px 1px rgba(0, 0, 0, 0.15);\n",
              "      filter: drop-shadow(0px 1px 2px rgba(0, 0, 0, 0.3));\n",
              "      fill: #FFFFFF;\n",
              "    }\n",
              "  </style>\n",
              "\n",
              "      <script>\n",
              "        const buttonEl =\n",
              "          document.querySelector('#df-f3364454-c41d-48b1-990e-37595eddbaee button.colab-df-convert');\n",
              "        buttonEl.style.display =\n",
              "          google.colab.kernel.accessAllowed ? 'block' : 'none';\n",
              "\n",
              "        async function convertToInteractive(key) {\n",
              "          const element = document.querySelector('#df-f3364454-c41d-48b1-990e-37595eddbaee');\n",
              "          const dataTable =\n",
              "            await google.colab.kernel.invokeFunction('convertToInteractive',\n",
              "                                                     [key], {});\n",
              "          if (!dataTable) return;\n",
              "\n",
              "          const docLinkHtml = 'Like what you see? Visit the ' +\n",
              "            '<a target=\"_blank\" href=https://colab.research.google.com/notebooks/data_table.ipynb>data table notebook</a>'\n",
              "            + ' to learn more about interactive tables.';\n",
              "          element.innerHTML = '';\n",
              "          dataTable['output_type'] = 'display_data';\n",
              "          await google.colab.output.renderOutput(dataTable, element);\n",
              "          const docLink = document.createElement('div');\n",
              "          docLink.innerHTML = docLinkHtml;\n",
              "          element.appendChild(docLink);\n",
              "        }\n",
              "      </script>\n",
              "    </div>\n",
              "  </div>\n",
              "  "
            ]
          },
          "metadata": {},
          "execution_count": 10
        }
      ],
      "source": [
        "submit = pd.DataFrame({\"target\": cat_model.predict(X_val).reshape(-1)})\n",
        "#submit.to_csv(\"../tmp_data/catboost_preds.csv\", index=False)\n",
        "submit.to_csv(\"catboost_preds.csv\", index=False)\n",
        "submit.head()"
      ]
    },
    {
      "cell_type": "markdown",
      "id": "c76c86bb-50bf-4786-b311-0427e7561a85",
      "metadata": {
        "id": "c76c86bb-50bf-4786-b311-0427e7561a85"
      },
      "source": [
        "## 🦄🎳 Обучаем `LightGBM`"
      ]
    },
    {
      "cell_type": "code",
      "execution_count": null,
      "id": "8f46c558-efb6-44cf-9f5a-0b0bf8beab19",
      "metadata": {
        "id": "8f46c558-efb6-44cf-9f5a-0b0bf8beab19"
      },
      "outputs": [],
      "source": [
        "params_lgbm = {\n",
        "    \"num_leaves\": 200,\n",
        "    \"n_estimators\": 1500,\n",
        "    # \"max_depth\": 7,\n",
        "    \"min_child_samples\": 2073,\n",
        "    \"learning_rate\": 0.0051,\n",
        "    \"min_data_in_leaf\": 10,\n",
        "    \"feature_fraction\": 0.99,\n",
        "    \"categorical_feature\": cat_cols,\n",
        "    'reg_alpha' : 5.0,\n",
        "    'reg_lambda' : 5.0,\n",
        "}\n",
        "\n",
        "lgbm_model = lgbm.LGBMRegressor(**params_lgbm)"
      ]
    },
    {
      "cell_type": "code",
      "execution_count": null,
      "id": "c672b2e6-715c-4302-be13-84cc2bcde762",
      "metadata": {
        "colab": {
          "base_uri": "https://localhost:8080/",
          "height": 264
        },
        "id": "c672b2e6-715c-4302-be13-84cc2bcde762",
        "outputId": "34bf4942-b176-43b2-e7d2-793f2daa46ea"
      },
      "outputs": [
        {
          "output_type": "stream",
          "name": "stdout",
          "text": [
            "[LightGBM] [Warning] feature_fraction is set=0.99, colsample_bytree=1.0 will be ignored. Current value: feature_fraction=0.99\n",
            "[LightGBM] [Warning] min_data_in_leaf is set=10, min_child_samples=2073 will be ignored. Current value: min_data_in_leaf=10\n",
            "[150]\tvalid_0's l2: 189.37\n",
            "[300]\tvalid_0's l2: 157.653\n",
            "[450]\tvalid_0's l2: 144.558\n",
            "[600]\tvalid_0's l2: 139.638\n",
            "[750]\tvalid_0's l2: 139.828\n"
          ]
        },
        {
          "output_type": "execute_result",
          "data": {
            "text/plain": [
              "LGBMRegressor(categorical_feature=['model', 'car_type', 'fuel_type'],\n",
              "              feature_fraction=0.99, learning_rate=0.0051,\n",
              "              min_child_samples=2073, min_data_in_leaf=10, n_estimators=1500,\n",
              "              num_leaves=200, reg_alpha=5.0, reg_lambda=5.0)"
            ],
            "text/html": [
              "<style>#sk-container-id-1 {color: black;background-color: white;}#sk-container-id-1 pre{padding: 0;}#sk-container-id-1 div.sk-toggleable {background-color: white;}#sk-container-id-1 label.sk-toggleable__label {cursor: pointer;display: block;width: 100%;margin-bottom: 0;padding: 0.3em;box-sizing: border-box;text-align: center;}#sk-container-id-1 label.sk-toggleable__label-arrow:before {content: \"▸\";float: left;margin-right: 0.25em;color: #696969;}#sk-container-id-1 label.sk-toggleable__label-arrow:hover:before {color: black;}#sk-container-id-1 div.sk-estimator:hover label.sk-toggleable__label-arrow:before {color: black;}#sk-container-id-1 div.sk-toggleable__content {max-height: 0;max-width: 0;overflow: hidden;text-align: left;background-color: #f0f8ff;}#sk-container-id-1 div.sk-toggleable__content pre {margin: 0.2em;color: black;border-radius: 0.25em;background-color: #f0f8ff;}#sk-container-id-1 input.sk-toggleable__control:checked~div.sk-toggleable__content {max-height: 200px;max-width: 100%;overflow: auto;}#sk-container-id-1 input.sk-toggleable__control:checked~label.sk-toggleable__label-arrow:before {content: \"▾\";}#sk-container-id-1 div.sk-estimator input.sk-toggleable__control:checked~label.sk-toggleable__label {background-color: #d4ebff;}#sk-container-id-1 div.sk-label input.sk-toggleable__control:checked~label.sk-toggleable__label {background-color: #d4ebff;}#sk-container-id-1 input.sk-hidden--visually {border: 0;clip: rect(1px 1px 1px 1px);clip: rect(1px, 1px, 1px, 1px);height: 1px;margin: -1px;overflow: hidden;padding: 0;position: absolute;width: 1px;}#sk-container-id-1 div.sk-estimator {font-family: monospace;background-color: #f0f8ff;border: 1px dotted black;border-radius: 0.25em;box-sizing: border-box;margin-bottom: 0.5em;}#sk-container-id-1 div.sk-estimator:hover {background-color: #d4ebff;}#sk-container-id-1 div.sk-parallel-item::after {content: \"\";width: 100%;border-bottom: 1px solid gray;flex-grow: 1;}#sk-container-id-1 div.sk-label:hover label.sk-toggleable__label {background-color: #d4ebff;}#sk-container-id-1 div.sk-serial::before {content: \"\";position: absolute;border-left: 1px solid gray;box-sizing: border-box;top: 0;bottom: 0;left: 50%;z-index: 0;}#sk-container-id-1 div.sk-serial {display: flex;flex-direction: column;align-items: center;background-color: white;padding-right: 0.2em;padding-left: 0.2em;position: relative;}#sk-container-id-1 div.sk-item {position: relative;z-index: 1;}#sk-container-id-1 div.sk-parallel {display: flex;align-items: stretch;justify-content: center;background-color: white;position: relative;}#sk-container-id-1 div.sk-item::before, #sk-container-id-1 div.sk-parallel-item::before {content: \"\";position: absolute;border-left: 1px solid gray;box-sizing: border-box;top: 0;bottom: 0;left: 50%;z-index: -1;}#sk-container-id-1 div.sk-parallel-item {display: flex;flex-direction: column;z-index: 1;position: relative;background-color: white;}#sk-container-id-1 div.sk-parallel-item:first-child::after {align-self: flex-end;width: 50%;}#sk-container-id-1 div.sk-parallel-item:last-child::after {align-self: flex-start;width: 50%;}#sk-container-id-1 div.sk-parallel-item:only-child::after {width: 0;}#sk-container-id-1 div.sk-dashed-wrapped {border: 1px dashed gray;margin: 0 0.4em 0.5em 0.4em;box-sizing: border-box;padding-bottom: 0.4em;background-color: white;}#sk-container-id-1 div.sk-label label {font-family: monospace;font-weight: bold;display: inline-block;line-height: 1.2em;}#sk-container-id-1 div.sk-label-container {text-align: center;}#sk-container-id-1 div.sk-container {/* jupyter's `normalize.less` sets `[hidden] { display: none; }` but bootstrap.min.css set `[hidden] { display: none !important; }` so we also need the `!important` here to be able to override the default hidden behavior on the sphinx rendered scikit-learn.org. See: https://github.com/scikit-learn/scikit-learn/issues/21755 */display: inline-block !important;position: relative;}#sk-container-id-1 div.sk-text-repr-fallback {display: none;}</style><div id=\"sk-container-id-1\" class=\"sk-top-container\"><div class=\"sk-text-repr-fallback\"><pre>LGBMRegressor(categorical_feature=[&#x27;model&#x27;, &#x27;car_type&#x27;, &#x27;fuel_type&#x27;],\n",
              "              feature_fraction=0.99, learning_rate=0.0051,\n",
              "              min_child_samples=2073, min_data_in_leaf=10, n_estimators=1500,\n",
              "              num_leaves=200, reg_alpha=5.0, reg_lambda=5.0)</pre><b>In a Jupyter environment, please rerun this cell to show the HTML representation or trust the notebook. <br />On GitHub, the HTML representation is unable to render, please try loading this page with nbviewer.org.</b></div><div class=\"sk-container\" hidden><div class=\"sk-item\"><div class=\"sk-estimator sk-toggleable\"><input class=\"sk-toggleable__control sk-hidden--visually\" id=\"sk-estimator-id-1\" type=\"checkbox\" checked><label for=\"sk-estimator-id-1\" class=\"sk-toggleable__label sk-toggleable__label-arrow\">LGBMRegressor</label><div class=\"sk-toggleable__content\"><pre>LGBMRegressor(categorical_feature=[&#x27;model&#x27;, &#x27;car_type&#x27;, &#x27;fuel_type&#x27;],\n",
              "              feature_fraction=0.99, learning_rate=0.0051,\n",
              "              min_child_samples=2073, min_data_in_leaf=10, n_estimators=1500,\n",
              "              num_leaves=200, reg_alpha=5.0, reg_lambda=5.0)</pre></div></div></div></div></div>"
            ]
          },
          "metadata": {},
          "execution_count": 12
        }
      ],
      "source": [
        "lgbm_model.fit(\n",
        "    X_train,\n",
        "    y_train,\n",
        "    eval_set=(X_val, y_val),\n",
        "    early_stopping_rounds=100,\n",
        "    verbose=150,\n",
        ")"
      ]
    },
    {
      "cell_type": "code",
      "execution_count": null,
      "id": "6a6be5d5-0aca-49bc-84db-4d0b7544c820",
      "metadata": {
        "colab": {
          "base_uri": "https://localhost:8080/"
        },
        "id": "6a6be5d5-0aca-49bc-84db-4d0b7544c820",
        "outputId": "66c83aa8-5383-414d-a86d-919da3cd0b59"
      },
      "outputs": [
        {
          "output_type": "stream",
          "name": "stdout",
          "text": [
            "MSE (lgb) :  139.132\n"
          ]
        }
      ],
      "source": [
        "print('MSE (lgb) : ', mean_squared_error(lgbm_model.predict(X_val), y_val).round(3))"
      ]
    },
    {
      "cell_type": "code",
      "execution_count": null,
      "id": "e5248d82-4064-4a18-8dff-e547f2671815",
      "metadata": {
        "colab": {
          "base_uri": "https://localhost:8080/",
          "height": 204
        },
        "id": "e5248d82-4064-4a18-8dff-e547f2671815",
        "outputId": "99fa196b-45f1-444a-f598-5bb0395f02c7"
      },
      "outputs": [
        {
          "output_type": "execute_result",
          "data": {
            "text/plain": [
              "      target\n",
              "0  33.660865\n",
              "1  42.797476\n",
              "2  34.142549\n",
              "3  64.390769\n",
              "4  66.186459"
            ],
            "text/html": [
              "\n",
              "  <div id=\"df-4eb3cb23-1d67-4163-879a-ea491af7dd2e\">\n",
              "    <div class=\"colab-df-container\">\n",
              "      <div>\n",
              "<style scoped>\n",
              "    .dataframe tbody tr th:only-of-type {\n",
              "        vertical-align: middle;\n",
              "    }\n",
              "\n",
              "    .dataframe tbody tr th {\n",
              "        vertical-align: top;\n",
              "    }\n",
              "\n",
              "    .dataframe thead th {\n",
              "        text-align: right;\n",
              "    }\n",
              "</style>\n",
              "<table border=\"1\" class=\"dataframe\">\n",
              "  <thead>\n",
              "    <tr style=\"text-align: right;\">\n",
              "      <th></th>\n",
              "      <th>target</th>\n",
              "    </tr>\n",
              "  </thead>\n",
              "  <tbody>\n",
              "    <tr>\n",
              "      <th>0</th>\n",
              "      <td>33.660865</td>\n",
              "    </tr>\n",
              "    <tr>\n",
              "      <th>1</th>\n",
              "      <td>42.797476</td>\n",
              "    </tr>\n",
              "    <tr>\n",
              "      <th>2</th>\n",
              "      <td>34.142549</td>\n",
              "    </tr>\n",
              "    <tr>\n",
              "      <th>3</th>\n",
              "      <td>64.390769</td>\n",
              "    </tr>\n",
              "    <tr>\n",
              "      <th>4</th>\n",
              "      <td>66.186459</td>\n",
              "    </tr>\n",
              "  </tbody>\n",
              "</table>\n",
              "</div>\n",
              "      <button class=\"colab-df-convert\" onclick=\"convertToInteractive('df-4eb3cb23-1d67-4163-879a-ea491af7dd2e')\"\n",
              "              title=\"Convert this dataframe to an interactive table.\"\n",
              "              style=\"display:none;\">\n",
              "        \n",
              "  <svg xmlns=\"http://www.w3.org/2000/svg\" height=\"24px\"viewBox=\"0 0 24 24\"\n",
              "       width=\"24px\">\n",
              "    <path d=\"M0 0h24v24H0V0z\" fill=\"none\"/>\n",
              "    <path d=\"M18.56 5.44l.94 2.06.94-2.06 2.06-.94-2.06-.94-.94-2.06-.94 2.06-2.06.94zm-11 1L8.5 8.5l.94-2.06 2.06-.94-2.06-.94L8.5 2.5l-.94 2.06-2.06.94zm10 10l.94 2.06.94-2.06 2.06-.94-2.06-.94-.94-2.06-.94 2.06-2.06.94z\"/><path d=\"M17.41 7.96l-1.37-1.37c-.4-.4-.92-.59-1.43-.59-.52 0-1.04.2-1.43.59L10.3 9.45l-7.72 7.72c-.78.78-.78 2.05 0 2.83L4 21.41c.39.39.9.59 1.41.59.51 0 1.02-.2 1.41-.59l7.78-7.78 2.81-2.81c.8-.78.8-2.07 0-2.86zM5.41 20L4 18.59l7.72-7.72 1.47 1.35L5.41 20z\"/>\n",
              "  </svg>\n",
              "      </button>\n",
              "      \n",
              "  <style>\n",
              "    .colab-df-container {\n",
              "      display:flex;\n",
              "      flex-wrap:wrap;\n",
              "      gap: 12px;\n",
              "    }\n",
              "\n",
              "    .colab-df-convert {\n",
              "      background-color: #E8F0FE;\n",
              "      border: none;\n",
              "      border-radius: 50%;\n",
              "      cursor: pointer;\n",
              "      display: none;\n",
              "      fill: #1967D2;\n",
              "      height: 32px;\n",
              "      padding: 0 0 0 0;\n",
              "      width: 32px;\n",
              "    }\n",
              "\n",
              "    .colab-df-convert:hover {\n",
              "      background-color: #E2EBFA;\n",
              "      box-shadow: 0px 1px 2px rgba(60, 64, 67, 0.3), 0px 1px 3px 1px rgba(60, 64, 67, 0.15);\n",
              "      fill: #174EA6;\n",
              "    }\n",
              "\n",
              "    [theme=dark] .colab-df-convert {\n",
              "      background-color: #3B4455;\n",
              "      fill: #D2E3FC;\n",
              "    }\n",
              "\n",
              "    [theme=dark] .colab-df-convert:hover {\n",
              "      background-color: #434B5C;\n",
              "      box-shadow: 0px 1px 3px 1px rgba(0, 0, 0, 0.15);\n",
              "      filter: drop-shadow(0px 1px 2px rgba(0, 0, 0, 0.3));\n",
              "      fill: #FFFFFF;\n",
              "    }\n",
              "  </style>\n",
              "\n",
              "      <script>\n",
              "        const buttonEl =\n",
              "          document.querySelector('#df-4eb3cb23-1d67-4163-879a-ea491af7dd2e button.colab-df-convert');\n",
              "        buttonEl.style.display =\n",
              "          google.colab.kernel.accessAllowed ? 'block' : 'none';\n",
              "\n",
              "        async function convertToInteractive(key) {\n",
              "          const element = document.querySelector('#df-4eb3cb23-1d67-4163-879a-ea491af7dd2e');\n",
              "          const dataTable =\n",
              "            await google.colab.kernel.invokeFunction('convertToInteractive',\n",
              "                                                     [key], {});\n",
              "          if (!dataTable) return;\n",
              "\n",
              "          const docLinkHtml = 'Like what you see? Visit the ' +\n",
              "            '<a target=\"_blank\" href=https://colab.research.google.com/notebooks/data_table.ipynb>data table notebook</a>'\n",
              "            + ' to learn more about interactive tables.';\n",
              "          element.innerHTML = '';\n",
              "          dataTable['output_type'] = 'display_data';\n",
              "          await google.colab.output.renderOutput(dataTable, element);\n",
              "          const docLink = document.createElement('div');\n",
              "          docLink.innerHTML = docLinkHtml;\n",
              "          element.appendChild(docLink);\n",
              "        }\n",
              "      </script>\n",
              "    </div>\n",
              "  </div>\n",
              "  "
            ]
          },
          "metadata": {},
          "execution_count": 14
        }
      ],
      "source": [
        "submit = pd.DataFrame({\"target\": lgbm_model.predict(X_val).reshape(-1)})\n",
        "#submit.to_csv(\"../tmp_data/lgbm_preds.csv\", index=False)\n",
        "submit.to_csv(\"lgbm_preds.csv\", index=False)\n",
        "submit.head()"
      ]
    },
    {
      "cell_type": "markdown",
      "id": "6370fc7b-b5af-4256-81c3-f028a77f8497",
      "metadata": {
        "id": "6370fc7b-b5af-4256-81c3-f028a77f8497"
      },
      "source": [
        "## 👽🔱 Обучаем `XGBoost`"
      ]
    },
    {
      "cell_type": "code",
      "execution_count": null,
      "id": "6a7689d1-50cc-42a9-972e-f96349fa4319",
      "metadata": {
        "colab": {
          "base_uri": "https://localhost:8080/"
        },
        "id": "6a7689d1-50cc-42a9-972e-f96349fa4319",
        "outputId": "da0da47e-54b5-48ed-8b17-e44de8cd652f"
      },
      "outputs": [
        {
          "output_type": "execute_result",
          "data": {
            "text/plain": [
              "(1752, 43)"
            ]
          },
          "metadata": {},
          "execution_count": 15
        }
      ],
      "source": [
        "# xgboost не умеет работать с категориальными признаками, так что нужно сделать ohe\n",
        "X_train = pd.get_dummies(X_train, columns=[\"car_type\", \"fuel_type\", \"model\"])\n",
        "X_val = pd.get_dummies(X_val, columns=[\"car_type\", \"fuel_type\", \"model\"])\n",
        "X_train.shape"
      ]
    },
    {
      "cell_type": "code",
      "execution_count": null,
      "id": "d58ff124-12d2-4cc9-b699-c3c227d330fb",
      "metadata": {
        "id": "d58ff124-12d2-4cc9-b699-c3c227d330fb"
      },
      "outputs": [],
      "source": [
        "params_xgb = {\n",
        "    \"eta\": 0.05,\n",
        "    \"max_depth\": 5,\n",
        "    \"subsample\": 0.7,\n",
        "    \"colsample_bytree\": 0.7,\n",
        "    'gamma': .01,\n",
        "    'reg_lambda' : 0.1,\n",
        "    'reg_alpha' : 0.5,\n",
        "    \"objective\": \"reg:linear\",\n",
        "    \"eval_metric\": \"mae\",\n",
        "    'tree_method' : 'hist', # Supported tree methods for cat fs are `gpu_hist`, `approx`, and `hist`.\n",
        "    'enable_categorical' : True\n",
        "\n",
        "}\n",
        "\n",
        "xgb_model = xgb.XGBRegressor(**params_xgb)"
      ]
    },
    {
      "cell_type": "code",
      "execution_count": null,
      "id": "7fb8888f-0cf9-4414-8934-9c1974aad1c2",
      "metadata": {
        "colab": {
          "base_uri": "https://localhost:8080/"
        },
        "id": "7fb8888f-0cf9-4414-8934-9c1974aad1c2",
        "outputId": "a89189bc-cc5c-4d58-b4b2-f8b2e958e8ed"
      },
      "outputs": [
        {
          "output_type": "stream",
          "name": "stdout",
          "text": [
            "[22:10:01] WARNING: ../src/objective/regression_obj.cu:213: reg:linear is now deprecated in favor of reg:squarederror.\n",
            "[0]\tvalidation_0-mae:42.24252\tvalidation_1-mae:42.20440\n",
            "[25]\tvalidation_0-mae:12.70880\tvalidation_1-mae:12.98292\n",
            "[50]\tvalidation_0-mae:7.79993\tvalidation_1-mae:9.14011\n",
            "[75]\tvalidation_0-mae:6.97940\tvalidation_1-mae:8.76001\n",
            "[99]\tvalidation_0-mae:6.55026\tvalidation_1-mae:8.74984\n",
            "best_iteration 90\n"
          ]
        }
      ],
      "source": [
        "xgb_model.fit(\n",
        "    X_train,\n",
        "    y_train,\n",
        "    eval_set=[(X_train, y_train), (X_val, y_val)],\n",
        "    early_stopping_rounds=100,\n",
        "    verbose=25,\n",
        ")\n",
        "print('best_iteration', xgb_model.best_iteration)"
      ]
    },
    {
      "cell_type": "code",
      "execution_count": null,
      "id": "7c8b6afe-6f85-4e91-b627-cdf2aa69141e",
      "metadata": {
        "colab": {
          "base_uri": "https://localhost:8080/"
        },
        "id": "7c8b6afe-6f85-4e91-b627-cdf2aa69141e",
        "outputId": "8a4c36b9-5a70-4d5d-9b51-d4a2f2aedbf1"
      },
      "outputs": [
        {
          "output_type": "stream",
          "name": "stdout",
          "text": [
            "MSE (xgboost) :  137.036\n"
          ]
        }
      ],
      "source": [
        "print('MSE (xgboost) : ', mean_squared_error(xgb_model.predict(X_val), y_val).round(3))"
      ]
    },
    {
      "cell_type": "code",
      "execution_count": null,
      "id": "b7a09df2-85f2-40f8-97ff-883b902542e1",
      "metadata": {
        "colab": {
          "base_uri": "https://localhost:8080/",
          "height": 204
        },
        "id": "b7a09df2-85f2-40f8-97ff-883b902542e1",
        "outputId": "30afa2b7-1704-475c-b2b2-f80f4f87e2ee"
      },
      "outputs": [
        {
          "output_type": "execute_result",
          "data": {
            "text/plain": [
              "      target\n",
              "0  32.807278\n",
              "1  43.922146\n",
              "2  33.644127\n",
              "3  60.386654\n",
              "4  69.922684"
            ],
            "text/html": [
              "\n",
              "  <div id=\"df-f759251e-4cbe-4f9c-a74a-9b33f9f432f5\">\n",
              "    <div class=\"colab-df-container\">\n",
              "      <div>\n",
              "<style scoped>\n",
              "    .dataframe tbody tr th:only-of-type {\n",
              "        vertical-align: middle;\n",
              "    }\n",
              "\n",
              "    .dataframe tbody tr th {\n",
              "        vertical-align: top;\n",
              "    }\n",
              "\n",
              "    .dataframe thead th {\n",
              "        text-align: right;\n",
              "    }\n",
              "</style>\n",
              "<table border=\"1\" class=\"dataframe\">\n",
              "  <thead>\n",
              "    <tr style=\"text-align: right;\">\n",
              "      <th></th>\n",
              "      <th>target</th>\n",
              "    </tr>\n",
              "  </thead>\n",
              "  <tbody>\n",
              "    <tr>\n",
              "      <th>0</th>\n",
              "      <td>32.807278</td>\n",
              "    </tr>\n",
              "    <tr>\n",
              "      <th>1</th>\n",
              "      <td>43.922146</td>\n",
              "    </tr>\n",
              "    <tr>\n",
              "      <th>2</th>\n",
              "      <td>33.644127</td>\n",
              "    </tr>\n",
              "    <tr>\n",
              "      <th>3</th>\n",
              "      <td>60.386654</td>\n",
              "    </tr>\n",
              "    <tr>\n",
              "      <th>4</th>\n",
              "      <td>69.922684</td>\n",
              "    </tr>\n",
              "  </tbody>\n",
              "</table>\n",
              "</div>\n",
              "      <button class=\"colab-df-convert\" onclick=\"convertToInteractive('df-f759251e-4cbe-4f9c-a74a-9b33f9f432f5')\"\n",
              "              title=\"Convert this dataframe to an interactive table.\"\n",
              "              style=\"display:none;\">\n",
              "        \n",
              "  <svg xmlns=\"http://www.w3.org/2000/svg\" height=\"24px\"viewBox=\"0 0 24 24\"\n",
              "       width=\"24px\">\n",
              "    <path d=\"M0 0h24v24H0V0z\" fill=\"none\"/>\n",
              "    <path d=\"M18.56 5.44l.94 2.06.94-2.06 2.06-.94-2.06-.94-.94-2.06-.94 2.06-2.06.94zm-11 1L8.5 8.5l.94-2.06 2.06-.94-2.06-.94L8.5 2.5l-.94 2.06-2.06.94zm10 10l.94 2.06.94-2.06 2.06-.94-2.06-.94-.94-2.06-.94 2.06-2.06.94z\"/><path d=\"M17.41 7.96l-1.37-1.37c-.4-.4-.92-.59-1.43-.59-.52 0-1.04.2-1.43.59L10.3 9.45l-7.72 7.72c-.78.78-.78 2.05 0 2.83L4 21.41c.39.39.9.59 1.41.59.51 0 1.02-.2 1.41-.59l7.78-7.78 2.81-2.81c.8-.78.8-2.07 0-2.86zM5.41 20L4 18.59l7.72-7.72 1.47 1.35L5.41 20z\"/>\n",
              "  </svg>\n",
              "      </button>\n",
              "      \n",
              "  <style>\n",
              "    .colab-df-container {\n",
              "      display:flex;\n",
              "      flex-wrap:wrap;\n",
              "      gap: 12px;\n",
              "    }\n",
              "\n",
              "    .colab-df-convert {\n",
              "      background-color: #E8F0FE;\n",
              "      border: none;\n",
              "      border-radius: 50%;\n",
              "      cursor: pointer;\n",
              "      display: none;\n",
              "      fill: #1967D2;\n",
              "      height: 32px;\n",
              "      padding: 0 0 0 0;\n",
              "      width: 32px;\n",
              "    }\n",
              "\n",
              "    .colab-df-convert:hover {\n",
              "      background-color: #E2EBFA;\n",
              "      box-shadow: 0px 1px 2px rgba(60, 64, 67, 0.3), 0px 1px 3px 1px rgba(60, 64, 67, 0.15);\n",
              "      fill: #174EA6;\n",
              "    }\n",
              "\n",
              "    [theme=dark] .colab-df-convert {\n",
              "      background-color: #3B4455;\n",
              "      fill: #D2E3FC;\n",
              "    }\n",
              "\n",
              "    [theme=dark] .colab-df-convert:hover {\n",
              "      background-color: #434B5C;\n",
              "      box-shadow: 0px 1px 3px 1px rgba(0, 0, 0, 0.15);\n",
              "      filter: drop-shadow(0px 1px 2px rgba(0, 0, 0, 0.3));\n",
              "      fill: #FFFFFF;\n",
              "    }\n",
              "  </style>\n",
              "\n",
              "      <script>\n",
              "        const buttonEl =\n",
              "          document.querySelector('#df-f759251e-4cbe-4f9c-a74a-9b33f9f432f5 button.colab-df-convert');\n",
              "        buttonEl.style.display =\n",
              "          google.colab.kernel.accessAllowed ? 'block' : 'none';\n",
              "\n",
              "        async function convertToInteractive(key) {\n",
              "          const element = document.querySelector('#df-f759251e-4cbe-4f9c-a74a-9b33f9f432f5');\n",
              "          const dataTable =\n",
              "            await google.colab.kernel.invokeFunction('convertToInteractive',\n",
              "                                                     [key], {});\n",
              "          if (!dataTable) return;\n",
              "\n",
              "          const docLinkHtml = 'Like what you see? Visit the ' +\n",
              "            '<a target=\"_blank\" href=https://colab.research.google.com/notebooks/data_table.ipynb>data table notebook</a>'\n",
              "            + ' to learn more about interactive tables.';\n",
              "          element.innerHTML = '';\n",
              "          dataTable['output_type'] = 'display_data';\n",
              "          await google.colab.output.renderOutput(dataTable, element);\n",
              "          const docLink = document.createElement('div');\n",
              "          docLink.innerHTML = docLinkHtml;\n",
              "          element.appendChild(docLink);\n",
              "        }\n",
              "      </script>\n",
              "    </div>\n",
              "  </div>\n",
              "  "
            ]
          },
          "metadata": {},
          "execution_count": 19
        }
      ],
      "source": [
        "submit = pd.DataFrame({\"target\": xgb_model.predict(X_val).reshape(-1)})\n",
        "#submit.to_csv(\"../tmp_data/xgb_preds.csv\", index=False)\n",
        "submit.to_csv(\"xgb_preds.csv\", index=False)\n",
        "submit.head()"
      ]
    },
    {
      "cell_type": "markdown",
      "id": "eb6df72a-b992-4182-b029-910c07b7c0ea",
      "metadata": {
        "id": "eb6df72a-b992-4182-b029-910c07b7c0ea"
      },
      "source": [
        "# <center> 😈 А теперь блендим модели!"
      ]
    },
    {
      "cell_type": "markdown",
      "id": "1fe2b7e8-7e7f-49ca-a503-0a2d063c30d2",
      "metadata": {
        "id": "1fe2b7e8-7e7f-49ca-a503-0a2d063c30d2"
      },
      "source": [
        "* __Быстрый и простой способ сбледнить - это усреднить ответы!__ <br>\n",
        "* __Но мы сразу покажем смешивание с весами моделей - взвешивание__"
      ]
    },
    {
      "cell_type": "code",
      "execution_count": null,
      "id": "3232a845-19b1-427f-9d91-0dfa1d802d4c",
      "metadata": {
        "id": "3232a845-19b1-427f-9d91-0dfa1d802d4c"
      },
      "outputs": [],
      "source": [
        "#cb_model  = pd.read_csv(\"../tmp_data/catboost_preds.csv\")[\"target\"]  # 132.051 Лучшая (ставим ей больший вес)\n",
        "#xgb_model = pd.read_csv(\"../tmp_data/xgb_preds.csv\")[\"target\"]       # 137.844 Средняя\n",
        "#lgb_model = pd.read_csv(\"../tmp_data/lgbm_preds.csv\")[\"target\"]      # 139.132 Худшая (ставим ей меньший вес)\n",
        "cb_model  = pd.read_csv(\"catboost_preds.csv\")[\"target\"]  # 132.051 Лучшая (ставим ей больший вес)\n",
        "xgb_model = pd.read_csv(\"xgb_preds.csv\")[\"target\"]       # 137.844 Средняя\n",
        "lgb_model = pd.read_csv(\"lgbm_preds.csv\")[\"target\"]      # 139.132 Худшая (ставим ей меньший вес)"
      ]
    },
    {
      "cell_type": "code",
      "execution_count": null,
      "id": "db9ae7aa-60e9-4a1f-8bae-8fa4f01a77e5",
      "metadata": {
        "id": "db9ae7aa-60e9-4a1f-8bae-8fa4f01a77e5"
      },
      "outputs": [],
      "source": [
        "# score1 > score2 > score3 : w1 > w2 > w3\n",
        "ensemble = cb_model * 0.50 + xgb_model * 0.35 + lgb_model * 0.15"
      ]
    },
    {
      "cell_type": "code",
      "execution_count": null,
      "id": "aa805504-ad5b-4a08-8f29-264c702a215b",
      "metadata": {
        "colab": {
          "base_uri": "https://localhost:8080/"
        },
        "id": "aa805504-ad5b-4a08-8f29-264c702a215b",
        "outputId": "ac2e00ce-e0d9-4242-e086-73ce3a02207a"
      },
      "outputs": [
        {
          "output_type": "stream",
          "name": "stdout",
          "text": [
            "MSE (ensemble) : 131.85\n"
          ]
        }
      ],
      "source": [
        "print('MSE (ensemble) :', mean_squared_error(ensemble, y_val).round(3))"
      ]
    },
    {
      "cell_type": "code",
      "execution_count": null,
      "id": "20a88794-f8ba-4148-b153-c83bc1ffd5a4",
      "metadata": {
        "colab": {
          "base_uri": "https://localhost:8080/"
        },
        "id": "20a88794-f8ba-4148-b153-c83bc1ffd5a4",
        "outputId": "2dbabf5f-80b4-4c3f-e140-680bed4869ba"
      },
      "outputs": [
        {
          "output_type": "execute_result",
          "data": {
            "text/plain": [
              "0.7"
            ]
          },
          "metadata": {},
          "execution_count": 23
        }
      ],
      "source": [
        "round((100*(132.051 - 131.080)/132.051), 1)"
      ]
    },
    {
      "cell_type": "markdown",
      "id": "1f810dde-2e5b-480e-b30b-88e9fc35a015",
      "metadata": {
        "id": "1f810dde-2e5b-480e-b30b-88e9fc35a015"
      },
      "source": [
        "# <center> 🥳  Ура, скор улучшился!\n",
        "    \n",
        "<div class=\"alert alert-info\">\n",
        "    \n",
        "**Как подбирать веса?**\n",
        "- Опираясь на скоры на лидер-борде\n",
        "- По локальной валидации\n",
        "- Веса пропорциональны скору"
      ]
    },
    {
      "cell_type": "markdown",
      "id": "e2e04696-bd58-4150-b116-ff1bb352bd6e",
      "metadata": {
        "id": "e2e04696-bd58-4150-b116-ff1bb352bd6e"
      },
      "source": [
        "### Если хочется кодом, то вот более универсальный способ"
      ]
    },
    {
      "cell_type": "code",
      "execution_count": null,
      "id": "76f8aa3d-1902-454e-bb63-14cf67d6d078",
      "metadata": {
        "id": "76f8aa3d-1902-454e-bb63-14cf67d6d078"
      },
      "outputs": [],
      "source": [
        "weights = {\"catboost\": 0.5, \"lgbm\": 0.15, \"xgb\": 0.35}"
      ]
    },
    {
      "cell_type": "code",
      "execution_count": null,
      "id": "8fcbcc9d-3ae2-491b-9ad5-423f8b00cc50",
      "metadata": {
        "colab": {
          "base_uri": "https://localhost:8080/",
          "height": 204
        },
        "id": "8fcbcc9d-3ae2-491b-9ad5-423f8b00cc50",
        "outputId": "95514ed0-6521-4f4b-d458-e59b40ab7df2"
      },
      "outputs": [
        {
          "output_type": "execute_result",
          "data": {
            "text/plain": [
              "   index     target     model\n",
              "0      0  16.493947  catboost\n",
              "1      1  23.804264  catboost\n",
              "2      2  17.544528  catboost\n",
              "3      3  30.981306  catboost\n",
              "4      4  35.728063  catboost"
            ],
            "text/html": [
              "\n",
              "  <div id=\"df-20e1fa04-0d08-41c9-88bc-359046cf788f\">\n",
              "    <div class=\"colab-df-container\">\n",
              "      <div>\n",
              "<style scoped>\n",
              "    .dataframe tbody tr th:only-of-type {\n",
              "        vertical-align: middle;\n",
              "    }\n",
              "\n",
              "    .dataframe tbody tr th {\n",
              "        vertical-align: top;\n",
              "    }\n",
              "\n",
              "    .dataframe thead th {\n",
              "        text-align: right;\n",
              "    }\n",
              "</style>\n",
              "<table border=\"1\" class=\"dataframe\">\n",
              "  <thead>\n",
              "    <tr style=\"text-align: right;\">\n",
              "      <th></th>\n",
              "      <th>index</th>\n",
              "      <th>target</th>\n",
              "      <th>model</th>\n",
              "    </tr>\n",
              "  </thead>\n",
              "  <tbody>\n",
              "    <tr>\n",
              "      <th>0</th>\n",
              "      <td>0</td>\n",
              "      <td>16.493947</td>\n",
              "      <td>catboost</td>\n",
              "    </tr>\n",
              "    <tr>\n",
              "      <th>1</th>\n",
              "      <td>1</td>\n",
              "      <td>23.804264</td>\n",
              "      <td>catboost</td>\n",
              "    </tr>\n",
              "    <tr>\n",
              "      <th>2</th>\n",
              "      <td>2</td>\n",
              "      <td>17.544528</td>\n",
              "      <td>catboost</td>\n",
              "    </tr>\n",
              "    <tr>\n",
              "      <th>3</th>\n",
              "      <td>3</td>\n",
              "      <td>30.981306</td>\n",
              "      <td>catboost</td>\n",
              "    </tr>\n",
              "    <tr>\n",
              "      <th>4</th>\n",
              "      <td>4</td>\n",
              "      <td>35.728063</td>\n",
              "      <td>catboost</td>\n",
              "    </tr>\n",
              "  </tbody>\n",
              "</table>\n",
              "</div>\n",
              "      <button class=\"colab-df-convert\" onclick=\"convertToInteractive('df-20e1fa04-0d08-41c9-88bc-359046cf788f')\"\n",
              "              title=\"Convert this dataframe to an interactive table.\"\n",
              "              style=\"display:none;\">\n",
              "        \n",
              "  <svg xmlns=\"http://www.w3.org/2000/svg\" height=\"24px\"viewBox=\"0 0 24 24\"\n",
              "       width=\"24px\">\n",
              "    <path d=\"M0 0h24v24H0V0z\" fill=\"none\"/>\n",
              "    <path d=\"M18.56 5.44l.94 2.06.94-2.06 2.06-.94-2.06-.94-.94-2.06-.94 2.06-2.06.94zm-11 1L8.5 8.5l.94-2.06 2.06-.94-2.06-.94L8.5 2.5l-.94 2.06-2.06.94zm10 10l.94 2.06.94-2.06 2.06-.94-2.06-.94-.94-2.06-.94 2.06-2.06.94z\"/><path d=\"M17.41 7.96l-1.37-1.37c-.4-.4-.92-.59-1.43-.59-.52 0-1.04.2-1.43.59L10.3 9.45l-7.72 7.72c-.78.78-.78 2.05 0 2.83L4 21.41c.39.39.9.59 1.41.59.51 0 1.02-.2 1.41-.59l7.78-7.78 2.81-2.81c.8-.78.8-2.07 0-2.86zM5.41 20L4 18.59l7.72-7.72 1.47 1.35L5.41 20z\"/>\n",
              "  </svg>\n",
              "      </button>\n",
              "      \n",
              "  <style>\n",
              "    .colab-df-container {\n",
              "      display:flex;\n",
              "      flex-wrap:wrap;\n",
              "      gap: 12px;\n",
              "    }\n",
              "\n",
              "    .colab-df-convert {\n",
              "      background-color: #E8F0FE;\n",
              "      border: none;\n",
              "      border-radius: 50%;\n",
              "      cursor: pointer;\n",
              "      display: none;\n",
              "      fill: #1967D2;\n",
              "      height: 32px;\n",
              "      padding: 0 0 0 0;\n",
              "      width: 32px;\n",
              "    }\n",
              "\n",
              "    .colab-df-convert:hover {\n",
              "      background-color: #E2EBFA;\n",
              "      box-shadow: 0px 1px 2px rgba(60, 64, 67, 0.3), 0px 1px 3px 1px rgba(60, 64, 67, 0.15);\n",
              "      fill: #174EA6;\n",
              "    }\n",
              "\n",
              "    [theme=dark] .colab-df-convert {\n",
              "      background-color: #3B4455;\n",
              "      fill: #D2E3FC;\n",
              "    }\n",
              "\n",
              "    [theme=dark] .colab-df-convert:hover {\n",
              "      background-color: #434B5C;\n",
              "      box-shadow: 0px 1px 3px 1px rgba(0, 0, 0, 0.15);\n",
              "      filter: drop-shadow(0px 1px 2px rgba(0, 0, 0, 0.3));\n",
              "      fill: #FFFFFF;\n",
              "    }\n",
              "  </style>\n",
              "\n",
              "      <script>\n",
              "        const buttonEl =\n",
              "          document.querySelector('#df-20e1fa04-0d08-41c9-88bc-359046cf788f button.colab-df-convert');\n",
              "        buttonEl.style.display =\n",
              "          google.colab.kernel.accessAllowed ? 'block' : 'none';\n",
              "\n",
              "        async function convertToInteractive(key) {\n",
              "          const element = document.querySelector('#df-20e1fa04-0d08-41c9-88bc-359046cf788f');\n",
              "          const dataTable =\n",
              "            await google.colab.kernel.invokeFunction('convertToInteractive',\n",
              "                                                     [key], {});\n",
              "          if (!dataTable) return;\n",
              "\n",
              "          const docLinkHtml = 'Like what you see? Visit the ' +\n",
              "            '<a target=\"_blank\" href=https://colab.research.google.com/notebooks/data_table.ipynb>data table notebook</a>'\n",
              "            + ' to learn more about interactive tables.';\n",
              "          element.innerHTML = '';\n",
              "          dataTable['output_type'] = 'display_data';\n",
              "          await google.colab.output.renderOutput(dataTable, element);\n",
              "          const docLink = document.createElement('div');\n",
              "          docLink.innerHTML = docLinkHtml;\n",
              "          element.appendChild(docLink);\n",
              "        }\n",
              "      </script>\n",
              "    </div>\n",
              "  </div>\n",
              "  "
            ]
          },
          "metadata": {},
          "execution_count": 25
        }
      ],
      "source": [
        "import os\n",
        "\n",
        "preds = pd.DataFrame()\n",
        "\n",
        "# соберем единый датафрейм из наших предсказаний\n",
        "for model_name in [\"catboost\", \"lgbm\", \"xgb\"]:\n",
        "\n",
        "    #path = os.path.join(\"../tmp_data/\", f\"{model_name}_preds.csv\")\n",
        "    path = os.path.join(\"\", f\"{model_name}_preds.csv\")\n",
        "    now = pd.read_csv(path).reset_index()\n",
        "\n",
        "    now[\"model\"] = model_name\n",
        "    now[\"target\"] *= weights[model_name]\n",
        "    preds = pd.concat([preds, now])\n",
        "\n",
        "preds.head()"
      ]
    },
    {
      "cell_type": "code",
      "execution_count": null,
      "id": "22e60963-af72-49cd-8113-fc12ef0104f3",
      "metadata": {
        "colab": {
          "base_uri": "https://localhost:8080/"
        },
        "id": "22e60963-af72-49cd-8113-fc12ef0104f3",
        "outputId": "a1015738-f73a-43cb-8153-d5a9a6519646"
      },
      "outputs": [
        {
          "output_type": "execute_result",
          "data": {
            "text/plain": [
              "array(['catboost', 'lgbm', 'xgb'], dtype=object)"
            ]
          },
          "metadata": {},
          "execution_count": 26
        }
      ],
      "source": [
        "preds[\"model\"].unique()"
      ]
    },
    {
      "cell_type": "code",
      "execution_count": null,
      "id": "ea7fe925-ad4f-483e-91bf-208763e419ad",
      "metadata": {
        "colab": {
          "base_uri": "https://localhost:8080/"
        },
        "id": "ea7fe925-ad4f-483e-91bf-208763e419ad",
        "outputId": "c3fbd0c9-e529-4671-9516-730a3611a320"
      },
      "outputs": [
        {
          "output_type": "execute_result",
          "data": {
            "text/plain": [
              "131.84991442662573"
            ]
          },
          "metadata": {},
          "execution_count": 27
        }
      ],
      "source": [
        "ensemble = preds.groupby(\"index\")[\"target\"].agg(\"sum\")\n",
        "mean_squared_error(ensemble, y_val)"
      ]
    },
    {
      "cell_type": "markdown",
      "id": "712f4d2f-ec73-4816-b6c2-3e3fafc70c0d",
      "metadata": {
        "id": "712f4d2f-ec73-4816-b6c2-3e3fafc70c0d"
      },
      "source": [
        "# 🐲 Принципы блендинга (просто и логично)\n",
        "\n",
        "<div class=\"alert alert-info\">\n",
        "\n",
        "* 🦑 Не бленди пока не выжал максимум из моделей по отдельности\n",
        "* 🐳 Чем различнее и сильнее модели, тем эффективнее блендинг (⚠️ эффективность)\n",
        "* 🐙 При равной точности, ансабль побеждает соло-модель на привате (⚠️ стабильность)\n",
        "* 🦐 Чем раньше проверишь эффект от блендинга, тем эффективне будет стратегия\n",
        "* 🐠 Блендить можно с разными весами пропорционально скорам или разным фичам\n",
        "* 🐋 Блендинг по фолдам и чекпоинтам обучения - это тоже блендинг\n",
        "* 🐡 Блендинг по сидам - это стабилизирующий блендинг\n",
        "* 🐬 Против блендинга только больший блендинг"
      ]
    },
    {
      "cell_type": "markdown",
      "id": "3558ba85-391b-4b74-8697-d2bd41fe6134",
      "metadata": {
        "id": "3558ba85-391b-4b74-8697-d2bd41fe6134"
      },
      "source": [
        "<div class=\"alert alert-info\">\n",
        "    \n",
        "__забегая вперёд__\n",
        "    \n",
        "* 🦈 Стекинг сильнее блендинга, но капризнее\n",
        "* 🎣 Стекать можно с фичами\n",
        "* 🎏 Стекинг бывает разных уровней\n",
        "* 🐉 Не можешь больше стакать - блендись с решением сокомандников"
      ]
    },
    {
      "cell_type": "markdown",
      "id": "5d2151d1-c003-41ee-b670-5edc1f3af152",
      "metadata": {
        "id": "5d2151d1-c003-41ee-b670-5edc1f3af152"
      },
      "source": [
        "# 🧸 Выводы и заключения"
      ]
    },
    {
      "cell_type": "markdown",
      "id": "ad899471-e715-4557-b7fe-db553a048ea0",
      "metadata": {
        "tags": [],
        "id": "ad899471-e715-4557-b7fe-db553a048ea0"
      },
      "source": [
        "<div class=\"alert alert-info\">\n",
        "\n",
        "* Блендинг это сильный инструмент, который зачастую неплохо поднимаем качество моделей.\n",
        "* При этом само смешивание провести можно вообще в одну строчку, просто взяв среднее моделей и взвесив\n",
        "* `ensemble = model1 * w1 + model2 * w2 + model3 * w3 + ...`"
      ]
    }
  ],
  "metadata": {
    "kernelspec": {
      "display_name": "Python 3 (ipykernel)",
      "language": "python",
      "name": "python3"
    },
    "language_info": {
      "codemirror_mode": {
        "name": "ipython",
        "version": 3
      },
      "file_extension": ".py",
      "mimetype": "text/x-python",
      "name": "python",
      "nbconvert_exporter": "python",
      "pygments_lexer": "ipython3",
      "version": "3.9.15"
    },
    "colab": {
      "provenance": []
    }
  },
  "nbformat": 4,
  "nbformat_minor": 5
}