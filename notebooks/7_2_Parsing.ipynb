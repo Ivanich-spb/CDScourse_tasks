{
 "cells": [
  {
   "cell_type": "markdown",
   "id": "aca99da3",
   "metadata": {
    "id": "aca99da3"
   },
   "source": [
    "# [Парсинг внешних данных](https://stepik.org/lesson/866758/)\n",
    "\n",
    "Эта тетрадка поможет разобраться вам в основных моментах парсинга внешних данных на python, познакомиться с полезными функциями и трюками. Вместе с вами мы посмотрим на возможности основных библиотек и закрепим на примерах.\n",
    "\n",
    "### Оглавление ноутбука\n",
    "<img src=\"https://github.com/a-milenkin/Competitive_Data_Science/blob/main/images/bs_requests.png?raw=true\"/>\n",
    "<br>\n",
    "\n",
    "<p><font size=\"3\" face=\"Arial\" font-size=\"large\">\n",
    "<ul type=\"square\"><li><a href=\"#1\">Анализ URL запроса</a><ul><li><a href=\"#2\">Типы запросов и ответов</a></li></ul></li><li><a href=\"#3\">Парсинг HTML страничек</a><ul><li><a href=\"#5\">BeautifulSoup</a></li><li><a href=\"#6\">Парсим погоду</a></li><li><a href=\"#7\">Selenium</a></li></ul></li>"
   ]
  },
  {
   "cell_type": "markdown",
   "id": "5f05aa47",
   "metadata": {
    "id": "5f05aa47"
   },
   "source": [
    "##  Анализ URL запроса"
   ]
  },
  {
   "cell_type": "markdown",
   "id": "fd2918ed",
   "metadata": {
    "id": "fd2918ed"
   },
   "source": [
    "<p id=\"1\"></p>\n",
    "Рассмотрим для начала структуру URL адреса, это важно! URL адрес имеет определенную структуру, которая включает:\n",
    "\n",
    "- метод доступа к ресурсу, который также называется сетевым __протоколом__;\n",
    "- __авторизацию доступа__;\n",
    "- __хосты__ – DNS адрес, который указан как IP адрес;\n",
    "- __порт__ – еще одна обязательная деталь, которая включается в сочетание с IP адресом;\n",
    "- __трек__ – определяет информацию о методе получения доступа;\n",
    "- __параметр__ – внутренние данные ресурса о файле.\n",
    "\n",
    "\n",
    "<img src=\"https://sun9-65.userapi.com/impg/VNKZOAYMIumG8qJcm8R1GBUG5iRj1Y1HJ0OeqQ/hEk7cu3dhzI.jpg?size=2143x1126&quality=96&sign=5c59d6c509304ba62f218e21254ad525&type=album\"></img>"
   ]
  },
  {
   "cell_type": "code",
   "execution_count": null,
   "id": "b0653406",
   "metadata": {
    "colab": {
     "base_uri": "https://localhost:8080/"
    },
    "id": "b0653406",
    "outputId": "6cb0678e-05c2-4d0f-9284-1bf0897de51e"
   },
   "outputs": [
    {
     "data": {
      "text/plain": [
       "ParseResult(scheme='http', netloc='www.example.com:80', path='/path/to/myfile.html', params='', query='key1=value1&key2=value2', fragment='SomewhereInTheDocument')"
      ]
     },
     "execution_count": 1,
     "metadata": {},
     "output_type": "execute_result"
    }
   ],
   "source": [
    "from urllib.parse import urlparse, parse_qsl, parse_qs\n",
    "\n",
    "url = \"http://www.example.com:80/path/to/myfile.html?key1=value1&key2=value2#SomewhereInTheDocument\"\n",
    "url_parsed = urlparse(url)\n",
    "url_parsed"
   ]
  },
  {
   "cell_type": "code",
   "execution_count": null,
   "id": "82b3653e",
   "metadata": {
    "colab": {
     "base_uri": "https://localhost:8080/",
     "height": 35
    },
    "id": "82b3653e",
    "outputId": "afbd0674-c983-486b-81bc-f720c3aa3bdc"
   },
   "outputs": [
    {
     "data": {
      "application/vnd.google.colaboratory.intrinsic+json": {
       "type": "string"
      },
      "text/plain": [
       "'/path/to/myfile.html'"
      ]
     },
     "execution_count": 2,
     "metadata": {},
     "output_type": "execute_result"
    }
   ],
   "source": [
    "url_parsed.path"
   ]
  },
  {
   "cell_type": "code",
   "execution_count": null,
   "id": "dbfec6a4",
   "metadata": {
    "colab": {
     "base_uri": "https://localhost:8080/"
    },
    "id": "dbfec6a4",
    "outputId": "b8005bf0-7591-40d3-fdc7-9ac469617fc6"
   },
   "outputs": [
    {
     "data": {
      "text/plain": [
       "{'key1': 'value1', 'key2': 'value2'}"
      ]
     },
     "execution_count": 3,
     "metadata": {},
     "output_type": "execute_result"
    }
   ],
   "source": [
    "dict(parse_qsl(url_parsed.query))"
   ]
  },
  {
   "cell_type": "markdown",
   "id": "a64813c4",
   "metadata": {
    "id": "a64813c4"
   },
   "source": [
    "### Типы запросов и ответов"
   ]
  },
  {
   "cell_type": "markdown",
   "id": "c7dd5d59",
   "metadata": {
    "id": "c7dd5d59"
   },
   "source": [
    "<p id=\"2\"></p>\n",
    "C ссылками разобрались. Что же представляет из себя один из основных протоколов интернета? Тип HTTP-запроса (также называемый HTTP-метод) указывает серверу на то, какое действие мы хотим произвести с ресурсом. Изначально (в начале 90-х) предполагалось, что клиент может хотеть от ресурса только одно — получить его, однако сейчас по протоколу HTTP можно создавать посты, редактировать профиль, удалять сообщения и многое другое. И эти действия сложно объединить термином «получение».\n",
    "\n",
    "Для разграничения действий с ресурсами на уровне HTTP-методов и были придуманы следующие варианты:  <img src=\"https://sun9-23.userapi.com/impg/ieMiTgQNwhi-RnoMCI24CzNn0fC7dMi8HO7QSA/CBgxOLofBqc.jpg?size=509x252&quality=96&sign=08a9cc2b888fd21ebdb9852fb3e30868&type=album\" align=\"right\" padding=100px></img>\n",
    "<br>\n",
    "- GET — получение ресурса\n",
    "- POST — создание ресурса\n",
    "- PUT — обновление ресурса\n",
    "- DELETE — удаление ресурса"
   ]
  },
  {
   "cell_type": "code",
   "execution_count": null,
   "id": "5c127907",
   "metadata": {
    "id": "5c127907"
   },
   "outputs": [],
   "source": [
    "import requests"
   ]
  },
  {
   "cell_type": "markdown",
   "id": "4a6dde9e",
   "metadata": {
    "id": "4a6dde9e"
   },
   "source": [
    "Попробуем отправить и записать сообщение на сервисе [transfer.sh](https://www.transfer.sh). Сервис позволяет пользователям хранить, синхронизировать и обмениваться файлами в Интернете с другими пользователями прямо из терминала.\n"
   ]
  },
  {
   "cell_type": "code",
   "execution_count": null,
   "id": "5b60a68d",
   "metadata": {
    "colab": {
     "base_uri": "https://localhost:8080/"
    },
    "id": "5b60a68d",
    "outputId": "7cb162af-779e-4e0c-c8c8-05fc3ff87cc3"
   },
   "outputs": [
    {
     "data": {
      "text/plain": [
       "<Response [200]>"
      ]
     },
     "execution_count": 5,
     "metadata": {},
     "output_type": "execute_result"
    }
   ],
   "source": [
    "r_put = requests.put('https://transfer.sh/arg.txt', data='Bonjour le monde!')\n",
    "r_put"
   ]
  },
  {
   "cell_type": "code",
   "execution_count": null,
   "id": "9a81f923",
   "metadata": {
    "colab": {
     "base_uri": "https://localhost:8080/"
    },
    "id": "9a81f923",
    "outputId": "247878b8-49fa-4523-9e9a-6979cd1140d7"
   },
   "outputs": [
    {
     "data": {
      "text/plain": [
       "(True, 200)"
      ]
     },
     "execution_count": 6,
     "metadata": {},
     "output_type": "execute_result"
    }
   ],
   "source": [
    "r_put.ok, r_put.status_code"
   ]
  },
  {
   "cell_type": "code",
   "execution_count": null,
   "id": "413f8f1b",
   "metadata": {
    "colab": {
     "base_uri": "https://localhost:8080/"
    },
    "id": "413f8f1b",
    "outputId": "908e8f6a-4f95-4f5d-8d09-54fd953dc137"
   },
   "outputs": [
    {
     "name": "stdout",
     "output_type": "stream",
     "text": [
      "https://transfer.sh/HEORD0nI9v/arg.txt\n"
     ]
    }
   ],
   "source": [
    "print(r_put.text)"
   ]
  },
  {
   "cell_type": "markdown",
   "id": "d2a67060",
   "metadata": {
    "id": "d2a67060"
   },
   "source": [
    "Рассмотрим метод создание запроса POST. Также пытаемся отправить запрос на запись текста. Укажем URL интересующего нас ресурса и дополнительные параметры в виде словаря."
   ]
  },
  {
   "cell_type": "code",
   "execution_count": null,
   "id": "bd174d0a",
   "metadata": {
    "colab": {
     "base_uri": "https://localhost:8080/"
    },
    "id": "bd174d0a",
    "outputId": "2221576b-bad3-46da-9175-200d86330405"
   },
   "outputs": [
    {
     "data": {
      "text/plain": [
       "<Response [200]>"
      ]
     },
     "execution_count": 8,
     "metadata": {},
     "output_type": "execute_result"
    }
   ],
   "source": [
    "page = requests.post('https://controlc.com/index.php?act=submit', data={\n",
    "    'subdomain': '',\n",
    "    'antispam': 1,\n",
    "    'website': '',\n",
    "    'paste_title': 'Заметка',\n",
    "    'input_text': 'Привет!',\n",
    "    'timestamp': 'ba68753935524ba7096650590c86633b',\n",
    "    'paste_password': '',\n",
    "    'code': 0,\n",
    "}, headers={'accept-encoding': 'identity', 'referer': 'https://controlc.com/'})\n",
    "page"
   ]
  },
  {
   "cell_type": "markdown",
   "id": "2b1b0a1a",
   "metadata": {
    "id": "2b1b0a1a"
   },
   "source": [
    "## Парсинг HTML страничек"
   ]
  },
  {
   "cell_type": "markdown",
   "id": "01a0ae6a",
   "metadata": {
    "id": "01a0ae6a"
   },
   "source": [
    "<p id=\"3\"></p>\n",
    "Для понимания парсинга нужно знать структуру HTML. Как театр начинается с вешалки, так и любой HTML-документ начинается с базовой структуры. Она включает в себя теги, которые есть в любом HTML-файле. Эти теги и служебная информация нужны браузеру для корректного отображения информации.\n",
    "\n",
    "\n",
    "<img src=\"https://dev-gang.ru/static/storage/319901168311547457028755251266243086714.gif\"></img>"
   ]
  },
  {
   "cell_type": "markdown",
   "id": "f991015c",
   "metadata": {
    "id": "f991015c"
   },
   "source": [
    "<div class=\"alert alert-info\">\n",
    "    \n",
    "Тег `<html></html>` является основой основ. Именно внутри него располагается вся информация. Благодаря этому тегу браузер понимает, где начинается контент, который необходимо обработать как HTML. Тег `<head></head>` служит для хранения служебной информации. Здесь возможны самые разные сочетания тегов, которые подсказывают браузеру название страницы, описание, ключевые слова и так далее. Такая информация называется метаинформацией. После тега `<head>` в документе указывается парный тег `<body></body>`, который является «телом» всей страницы. Именно здесь размещается вся информация, которая будет выведена на странице.  \n",
    "</div>\n",
    "<img  align=\"right\" width='500px' src=\"https://github.com/a-milenkin/Competitive_Data_Science/blob/main/images/html_tags.png?raw=true\"></img>\n",
    "\n",
    "\n",
    "Внутри `<body></body>` находится вся структура документа состоящая из тегов, атрибутов и материалов. Рассмотрим единичную структуру - тег:\n",
    "<br>Весь текст, заключённый между начальным и конечным тегом, включая <br> и сами эти теги, называется элементом. Сам же текст между тегами — содержанием элемента. Содержание элемента может включать в себя любой текст, в том числе и другие элементы. У тега могут быть свойства, называемые атрибутами, дающие дополнительные возможности форматирования текста. Они записываются в виде сочетания: имя атрибута-значения, причём текстовые значения заключаются в кавычки."
   ]
  },
  {
   "cell_type": "markdown",
   "id": "2feba6e9",
   "metadata": {
    "id": "2feba6e9"
   },
   "source": [
    "<p id=\"4\"></p>\n",
    "Так как html (и xml) имеют древовидную структуру, до любого элемента всегда существет единственный путь, XPath."
   ]
  },
  {
   "cell_type": "code",
   "execution_count": null,
   "id": "3706f871",
   "metadata": {
    "id": "3706f871"
   },
   "outputs": [],
   "source": [
    "!pip install cssselect -q"
   ]
  },
  {
   "cell_type": "markdown",
   "id": "6faa86e2",
   "metadata": {
    "id": "6faa86e2"
   },
   "source": [
    "Попробуем поиграться со страницей фильма \"Стражи Галактики\". Допустим у нас соревнование по предсказанию жанра фильма и было принято решение о парсинге дополнительных данных. Приступим!"
   ]
  },
  {
   "cell_type": "code",
   "execution_count": null,
   "id": "e42d28d6",
   "metadata": {
    "id": "e42d28d6"
   },
   "outputs": [],
   "source": [
    "from lxml import etree, html as lhtml"
   ]
  },
  {
   "cell_type": "code",
   "execution_count": 1,
   "id": "2e2cafe0-2bb5-4c81-8537-009ebf50463d",
   "metadata": {},
   "outputs": [],
   "source": [
    "%%capture\n",
    "!wget https://github.com/a-milenkin/Competitive_Data_Science/raw/refs/heads/main/data/parsing_data/689066_2.html"
   ]
  },
  {
   "cell_type": "code",
   "execution_count": null,
   "id": "7cd84d49",
   "metadata": {
    "id": "7cd84d49"
   },
   "outputs": [],
   "source": [
    "tree = lhtml.fromstring(open('689066_2.html', 'r', encoding='utf-8').read())"
   ]
  },
  {
   "cell_type": "markdown",
   "id": "7140d61b",
   "metadata": {
    "id": "7140d61b"
   },
   "source": [
    "С помощью `xpath` узнаем информацию о фильме. Сначала указывается интересующий нас тег, допустим `//div`, а затем его атрибут. Настоятельно рекомендуем на этих пунктах открыть исходный код странички и самостоятельно убедиться что откуда берется. Это не сложно :)"
   ]
  },
  {
   "cell_type": "code",
   "execution_count": null,
   "id": "96810d8c",
   "metadata": {
    "id": "96810d8c",
    "outputId": "47b833f5-96ce-4ff5-df95-c72e677b1f8b"
   },
   "outputs": [
    {
     "data": {
      "text/plain": [
       "{'title': 'Стражи Галактики',\n",
       " 'title-original': 'Guardians of the Galaxy',\n",
       " 'rating': 7.763,\n",
       " 'desription': 'Отважному путешественнику Питеру Квиллу попадает в руки таинственный артефакт, принадлежащий могущественному и безжалостному злодею Ронану, строящему коварные планы по захвату Вселенной. Питер оказывается в центре межгалактической охоты, где жертва — он сам.\\nЕдинственный способ спасти свою жизнь — объединиться с четверкой нелюдимых изгоев: воинственным енотом по кличке Ракета, человекоподобным деревом Грутом, смертельно опасной Гаморой и одержимым жаждой мести Драксом, также известным как Разрушитель. Когда Квилл понимает, какой силой обладает украденный артефакт и какую опасность он представляет для вселенной, одиночка пойдет на все, чтобы сплотить случайных союзников для решающей битвы за судьбу галактики.'}"
      ]
     },
     "execution_count": 16,
     "metadata": {},
     "output_type": "execute_result"
    }
   ],
   "source": [
    "film_info = {\n",
    "    'title': tree.xpath('//h1[@itemprop=\"name\"]/span/text()')[0],\n",
    "    'title-original': tree.xpath('//span[starts-with(@class, \"styles_originalTitle__\")]')[0].text,\n",
    "    'rating': float(tree.cssselect('a.film-rating-value')[0].text),   # поддержка CSS-селекторов\n",
    "    'desription': '\\n'.join(tree.xpath('//div[starts-with(@class, \"styles_synopsisSection\")]//text()'))\n",
    "}\n",
    "\n",
    "film_info"
   ]
  },
  {
   "cell_type": "markdown",
   "id": "f2e0c512",
   "metadata": {
    "id": "f2e0c512"
   },
   "source": [
    "Далее найдем ссылку на просмотр. Ссылочки практически всегда находятся в тегах `<a href=\"your_link\"></a>`."
   ]
  },
  {
   "cell_type": "code",
   "execution_count": null,
   "id": "70df61ac",
   "metadata": {
    "id": "70df61ac",
    "outputId": "6603a119-fdbe-41a1-c2b8-f2cf2130e62f"
   },
   "outputs": [
    {
     "data": {
      "text/plain": [
       "{'title': 'Стражи Галактики',\n",
       " 'title-original': 'Guardians of the Galaxy',\n",
       " 'rating': 7.763,\n",
       " 'desription': 'Отважному путешественнику Питеру Квиллу попадает в руки таинственный артефакт, принадлежащий могущественному и безжалостному злодею Ронану, строящему коварные планы по захвату Вселенной. Питер оказывается в центре межгалактической охоты, где жертва — он сам.\\nЕдинственный способ спасти свою жизнь — объединиться с четверкой нелюдимых изгоев: воинственным енотом по кличке Ракета, человекоподобным деревом Грутом, смертельно опасной Гаморой и одержимым жаждой мести Драксом, также известным как Разрушитель. Когда Квилл понимает, какой силой обладает украденный артефакт и какую опасность он представляет для вселенной, одиночка пойдет на все, чтобы сплотить случайных союзников для решающей битвы за судьбу галактики.',\n",
       " 'watch': ['https://hd.kinopoisk.ru/film/4a297ba39cb704fa9a81855f76ab1d73?from=button_online&watch=']}"
      ]
     },
     "execution_count": 17,
     "metadata": {},
     "output_type": "execute_result"
    }
   ],
   "source": [
    "watch = tree.xpath('//a[contains(@class, \"kinopoisk-watch-online-button\")]/attribute::href')\n",
    "film_info['watch'] = watch\n",
    "film_info"
   ]
  },
  {
   "cell_type": "markdown",
   "id": "970c49be",
   "metadata": {
    "id": "970c49be"
   },
   "source": [
    "Найдем картинку аналогичным образом. Тег `<img>`."
   ]
  },
  {
   "cell_type": "code",
   "execution_count": null,
   "id": "26a14a51",
   "metadata": {
    "id": "26a14a51",
    "outputId": "5d9aac33-0a03-4960-8344-7cb53883f12e"
   },
   "outputs": [
    {
     "data": {
      "text/plain": [
       "['//avatars.mds.yandex.net/get-kinopoisk-image/1773646/2e6ab20b-7cf1-49e7-b465-bd5a71c13fa3/300x450 1x, //avatars.mds.yandex.net/get-kinopoisk-image/1773646/2e6ab20b-7cf1-49e7-b465-bd5a71c13fa3/600x900 2x']"
      ]
     },
     "execution_count": 18,
     "metadata": {},
     "output_type": "execute_result"
    }
   ],
   "source": [
    "image = tree.xpath('//img[contains(@class, \"film-poster\")]//attribute::srcset')\n",
    "image"
   ]
  },
  {
   "cell_type": "markdown",
   "id": "9fa405e9",
   "metadata": {
    "id": "9fa405e9"
   },
   "source": [
    "##  BeautifulSoup"
   ]
  },
  {
   "cell_type": "markdown",
   "id": "7dee27a2",
   "metadata": {
    "id": "7dee27a2"
   },
   "source": [
    "<p id=\"5\"></p>\n",
    "С базовыми понятиями разобрались, перейдем к обширной библиотеке <a href = \"https://www.crummy.com/software/BeautifulSoup/bs4/doc/\">Beautifulsoup</a>. Здесь есть множество полезных алгоритмов упрощающих вашу работу, оптимизирующих поиск множества информации и т.д. Давайте попробуем достать ту же информацию, что и в предыдущем пункте только с помощью BeautifulSoup . Напоминаем, что в ходе этой практики не лишним будет открыть исходный код странички и самостоятельно убедиться что откуда берется, это очень поможет быстро разобраться.\n",
    "\n",
    "<img src=\"https://sun9-58.userapi.com/impg/o_qPHMIWsPUG9VLR3vbjjs6fap-iX89MUHkdWw/oOMz3ZM20QY.jpg?size=751x335&quality=96&sign=5358d071a6a30677ff578a72c2a4fc2e&type=album\"></img>"
   ]
  },
  {
   "cell_type": "code",
   "execution_count": null,
   "id": "a0953d13",
   "metadata": {
    "id": "a0953d13"
   },
   "outputs": [],
   "source": [
    "from bs4 import BeautifulSoup\n",
    "import pandas as pd\n",
    "from tqdm import tqdm"
   ]
  },
  {
   "cell_type": "code",
   "execution_count": null,
   "id": "05ac38b5",
   "metadata": {
    "id": "05ac38b5"
   },
   "outputs": [],
   "source": [
    "soup = BeautifulSoup(open('689066_2.html', 'rb').read(), 'lxml')"
   ]
  },
  {
   "cell_type": "code",
   "execution_count": null,
   "id": "bd96a60f",
   "metadata": {
    "id": "bd96a60f"
   },
   "outputs": [],
   "source": [
    "from operator import attrgetter, itemgetter"
   ]
  },
  {
   "cell_type": "markdown",
   "id": "7198403f",
   "metadata": {
    "id": "7198403f"
   },
   "source": [
    "Берем основную информацию со странички. Запустив сессию `BeautifulSoup`, найдем теги, здесь это можно гораздо проще и приятнее для глаз - `.find(\"tag\", attribute=\"value\")`. Для того чтобы найти все встречающиеся варианты используем `.find_all(\"tag\")`"
   ]
  },
  {
   "cell_type": "code",
   "execution_count": null,
   "id": "3cfd7209",
   "metadata": {
    "id": "3cfd7209",
    "outputId": "6023c463-567f-4742-9f7d-c68f546aa3aa"
   },
   "outputs": [
    {
     "data": {
      "text/plain": [
       "{'title': 'Стражи Галактики',\n",
       " 'title-original': 'Guardians of the Galaxy',\n",
       " 'rating': 7.763,\n",
       " 'description': 'Отважному путешественнику Питеру Квиллу попадает в руки таинственный артефакт, принадлежащий могущественному и безжалостному злодею Ронану, строящему коварные планы по захвату Вселенной. Питер оказывается в центре межгалактической охоты, где жертва — он сам.\\nЕдинственный способ спасти свою жизнь — объединиться с четверкой нелюдимых изгоев: воинственным енотом по кличке Ракета, человекоподобным деревом Грутом, смертельно опасной Гаморой и одержимым жаждой мести Драксом, также известным как Разрушитель. Когда Квилл понимает, какой силой обладает украденный артефакт и какую опасность он представляет для вселенной, одиночка пойдет на все, чтобы сплотить случайных союзников для решающей битвы за судьбу галактики.'}"
      ]
     },
     "execution_count": 8,
     "metadata": {},
     "output_type": "execute_result"
    }
   ],
   "source": [
    "desc = soup.find('div', itemprop='description')\n",
    "desc = soup.find('div', class_=lambda s: s and s.startswith(\"styles_synopsisSection\")).find_all('p')\n",
    "\n",
    "film_info = {\n",
    "    'title': soup.find('h1', itemprop='name').find('span').text,\n",
    "    'title-original': soup.find('span', class_=lambda s: s and s.startswith('styles_originalTitle__')).text,\n",
    "    'rating': float(soup.find('a', {'class': 'film-rating-value'}).text),\n",
    "    'description': '\\n'.join(map(attrgetter('text'), desc))\n",
    "}\n",
    "film_info"
   ]
  },
  {
   "cell_type": "code",
   "execution_count": null,
   "id": "68f6dbf7-756f-42f9-8f5e-a03828419275",
   "metadata": {
    "id": "68f6dbf7-756f-42f9-8f5e-a03828419275",
    "outputId": "d2460731-6df6-4588-d0cb-bd5dafec85a5"
   },
   "outputs": [
    {
     "data": {
      "text/plain": [
       "<a class=\"film-rating-value styles_rootPositive__ac3xv styles_rootLink__1CSPc\" href=\"/film/689066/votes/\">7.763</a>"
      ]
     },
     "execution_count": 17,
     "metadata": {},
     "output_type": "execute_result"
    }
   ],
   "source": [
    "soup.find('a', {'class': 'film-rating-value'})"
   ]
  },
  {
   "cell_type": "code",
   "execution_count": null,
   "id": "048742d5",
   "metadata": {
    "id": "048742d5",
    "outputId": "08400434-4444-4e63-9d41-9b7679b932f0"
   },
   "outputs": [
    {
     "data": {
      "text/plain": [
       "23"
      ]
     },
     "execution_count": 5,
     "metadata": {},
     "output_type": "execute_result"
    }
   ],
   "source": [
    "header = soup.find('h3', class_=\"film-page-section-title\")\n",
    "table = header.next_sibling\n",
    "rows = table.find_all('div', recursive=False)\n",
    "\n",
    "len(rows)"
   ]
  },
  {
   "cell_type": "code",
   "execution_count": null,
   "id": "101fb058",
   "metadata": {
    "id": "101fb058",
    "outputId": "e49f5402-7062-4798-ce1f-a5bbfe2c848a"
   },
   "outputs": [
    {
     "data": {
      "text/html": [
       "<div>\n",
       "<style scoped>\n",
       "    .dataframe tbody tr th:only-of-type {\n",
       "        vertical-align: middle;\n",
       "    }\n",
       "\n",
       "    .dataframe tbody tr th {\n",
       "        vertical-align: top;\n",
       "    }\n",
       "\n",
       "    .dataframe thead th {\n",
       "        text-align: right;\n",
       "    }\n",
       "</style>\n",
       "<table border=\"1\" class=\"dataframe\">\n",
       "  <thead>\n",
       "    <tr style=\"text-align: right;\">\n",
       "      <th></th>\n",
       "      <th>0</th>\n",
       "      <th>1</th>\n",
       "      <th>2</th>\n",
       "    </tr>\n",
       "  </thead>\n",
       "  <tbody>\n",
       "    <tr>\n",
       "      <th>0</th>\n",
       "      <td>Год производства</td>\n",
       "      <td>2014</td>\n",
       "      <td>None</td>\n",
       "    </tr>\n",
       "    <tr>\n",
       "      <th>1</th>\n",
       "      <td>Страна</td>\n",
       "      <td>США</td>\n",
       "      <td>None</td>\n",
       "    </tr>\n",
       "    <tr>\n",
       "      <th>2</th>\n",
       "      <td>Жанр</td>\n",
       "      <td>фантастика, боевик, приключения, комедияслова</td>\n",
       "      <td>фантастика, боевик, приключения, комедия</td>\n",
       "    </tr>\n",
       "    <tr>\n",
       "      <th>3</th>\n",
       "      <td>Слоган</td>\n",
       "      <td>«Мстители спасают лишь Землю бренную, а эти ре...</td>\n",
       "      <td>«Мстители спасают лишь Землю бренную, а эти ре...</td>\n",
       "    </tr>\n",
       "    <tr>\n",
       "      <th>4</th>\n",
       "      <td>Режиссер</td>\n",
       "      <td>Джеймс Ганн</td>\n",
       "      <td>None</td>\n",
       "    </tr>\n",
       "  </tbody>\n",
       "</table>\n",
       "</div>"
      ],
      "text/plain": [
       "                  0                                                  1  \\\n",
       "0  Год производства                                               2014   \n",
       "1            Страна                                                США   \n",
       "2              Жанр      фантастика, боевик, приключения, комедияслова   \n",
       "3            Слоган  «Мстители спасают лишь Землю бренную, а эти ре...   \n",
       "4          Режиссер                                        Джеймс Ганн   \n",
       "\n",
       "                                                   2  \n",
       "0                                               None  \n",
       "1                                               None  \n",
       "2           фантастика, боевик, приключения, комедия  \n",
       "3  «Мстители спасают лишь Землю бренную, а эти ре...  \n",
       "4                                               None  "
      ]
     },
     "execution_count": 59,
     "metadata": {},
     "output_type": "execute_result"
    }
   ],
   "source": [
    "data = []\n",
    "\n",
    "for row in rows:\n",
    "    cols = map(lambda x: x.text, row.find_all('div'))\n",
    "    data.append(cols)\n",
    "\n",
    "data = pd.DataFrame(data)\n",
    "data.head()"
   ]
  },
  {
   "cell_type": "markdown",
   "id": "3089580d",
   "metadata": {
    "id": "3089580d"
   },
   "source": [
    "Найдем картинки. Как было сказано выше, в данном случае использовать удобнее `.find_all(\"tag\")`."
   ]
  },
  {
   "cell_type": "code",
   "execution_count": null,
   "id": "1ca7c937-45ca-40fb-a665-e090403b2730",
   "metadata": {},
   "outputs": [],
   "source": [
    "!wget https://github.com/a-milenkin/Competitive_Data_Science/raw/refs/heads/main/data/parsing_data/689066_stills_2.html"
   ]
  },
  {
   "cell_type": "code",
   "execution_count": null,
   "id": "854215b2",
   "metadata": {
    "id": "854215b2",
    "outputId": "9d966132-e8e0-488c-da40-77834c271bbf"
   },
   "outputs": [
    {
     "data": {
      "text/plain": [
       "['https://st.kp.yandex.net/images/kadr/sm_2802088.jpg',\n",
       " 'https://st.kp.yandex.net/images/kadr/sm_2802087.jpg',\n",
       " 'https://st.kp.yandex.net/images/kadr/sm_2802086.jpg',\n",
       " 'https://st.kp.yandex.net/images/kadr/sm_2802085.jpg',\n",
       " 'https://st.kp.yandex.net/images/kadr/sm_2802084.jpg',\n",
       " 'https://st.kp.yandex.net/images/kadr/sm_2802083.jpg',\n",
       " 'https://st.kp.yandex.net/images/kadr/sm_2802082.jpg',\n",
       " 'https://st.kp.yandex.net/images/kadr/sm_2802081.jpg',\n",
       " 'https://st.kp.yandex.net/images/kadr/sm_2751304.jpg',\n",
       " 'https://st.kp.yandex.net/images/kadr/sm_2485201.jpg']"
      ]
     },
     "execution_count": 25,
     "metadata": {},
     "output_type": "execute_result"
    }
   ],
   "source": [
    "soup = BeautifulSoup(open('689066_stills_2.html', 'rb').read(), 'html.parser')\n",
    "list(map(lambda s: s.attrs['src'], soup.find('table', class_='fotos').find_all(\"img\")))[:10]"
   ]
  },
  {
   "cell_type": "markdown",
   "id": "bbb719c6-1842-4254-b0bb-64afe82d062f",
   "metadata": {
    "id": "bbb719c6-1842-4254-b0bb-64afe82d062f"
   },
   "source": [
    "## Парсим погоду"
   ]
  },
  {
   "cell_type": "markdown",
   "id": "2d2d6b34-304d-492b-8c5f-861b56ff592c",
   "metadata": {
    "id": "2d2d6b34-304d-492b-8c5f-861b56ff592c"
   },
   "source": [
    "<p id=\"6\"></p>\n",
    "Периодически в соревнованиях, в которых есть информация о географическом расположение чего-то может быть полезно спарсить дополнительную информацию о погоде. Давай сделаем это!"
   ]
  },
  {
   "cell_type": "code",
   "execution_count": null,
   "id": "8d1e5803-9b91-4055-9662-6ce8341fce45",
   "metadata": {
    "id": "8d1e5803-9b91-4055-9662-6ce8341fce45"
   },
   "outputs": [],
   "source": [
    "url = 'http://weatherarchive.ru/Temperature/Moscow/{month}-{year}'\n",
    "months = ['January', 'February', 'March', 'April', 'May', 'June', 'July',\n",
    "          'August', 'September', 'October', 'November', 'December']\n",
    "\n",
    "years = [2020, 2021, 2022]"
   ]
  },
  {
   "cell_type": "code",
   "execution_count": null,
   "id": "49917657-4e52-433f-b8fa-1e8b6542733b",
   "metadata": {
    "id": "49917657-4e52-433f-b8fa-1e8b6542733b"
   },
   "outputs": [],
   "source": [
    "def parse_table(table):\n",
    "    res = {'temp': [],\n",
    "           'wet': [],\n",
    "           'p': [],\n",
    "           'wind': []}\n",
    "\n",
    "    tags = table.findAll('td')\n",
    "    k = 0\n",
    "    for tag in tags:\n",
    "        if tag.find('a') is not None:\n",
    "            continue\n",
    "\n",
    "        if k == 0:\n",
    "            k += 1\n",
    "            res['temp'].append(float(tag.text.replace('°C', '').replace('+','').replace('−','-')))\n",
    "        elif k == 1:\n",
    "            k += 1\n",
    "            res['wet'].append(float(tag.text.replace('%','')))\n",
    "        elif k == 2:\n",
    "            k += 1\n",
    "            res['p'].append(int(tag.text))\n",
    "        else:\n",
    "            k = 0\n",
    "            res['wind'].append(int(tag.text.replace(' м/с', '')))\n",
    "    return res"
   ]
  },
  {
   "cell_type": "code",
   "execution_count": null,
   "id": "63281cfc-daeb-44f5-b054-c533d3a03daf",
   "metadata": {
    "id": "63281cfc-daeb-44f5-b054-c533d3a03daf"
   },
   "outputs": [],
   "source": [
    "def parse_url(url):\n",
    "    page = requests.get(url)\n",
    "    soup = BeautifulSoup(page.text, \"html.parser\")\n",
    "\n",
    "    tables = soup.findAll('table', class_='smart')\n",
    "    for table in tables:\n",
    "        if 'Среднесуточная' in str(table):\n",
    "            return parse_table(table)"
   ]
  },
  {
   "cell_type": "code",
   "execution_count": null,
   "id": "6423421d-d132-4aec-a54f-5af5ac49cc2c",
   "metadata": {
    "id": "6423421d-d132-4aec-a54f-5af5ac49cc2c",
    "outputId": "6756438e-5374-460a-a63e-d23f0e645e54"
   },
   "outputs": [
    {
     "data": {
      "text/html": [
       "<div>\n",
       "<style scoped>\n",
       "    .dataframe tbody tr th:only-of-type {\n",
       "        vertical-align: middle;\n",
       "    }\n",
       "\n",
       "    .dataframe tbody tr th {\n",
       "        vertical-align: top;\n",
       "    }\n",
       "\n",
       "    .dataframe thead th {\n",
       "        text-align: right;\n",
       "    }\n",
       "</style>\n",
       "<table border=\"1\" class=\"dataframe\">\n",
       "  <thead>\n",
       "    <tr style=\"text-align: right;\">\n",
       "      <th></th>\n",
       "      <th>temp</th>\n",
       "      <th>wet</th>\n",
       "      <th>p</th>\n",
       "      <th>wind</th>\n",
       "    </tr>\n",
       "  </thead>\n",
       "  <tbody>\n",
       "    <tr>\n",
       "      <th>0</th>\n",
       "      <td>-2.25</td>\n",
       "      <td>82.86</td>\n",
       "      <td>741</td>\n",
       "      <td>5</td>\n",
       "    </tr>\n",
       "    <tr>\n",
       "      <th>1</th>\n",
       "      <td>-1.49</td>\n",
       "      <td>91.00</td>\n",
       "      <td>743</td>\n",
       "      <td>4</td>\n",
       "    </tr>\n",
       "    <tr>\n",
       "      <th>2</th>\n",
       "      <td>-0.27</td>\n",
       "      <td>90.00</td>\n",
       "      <td>743</td>\n",
       "      <td>4</td>\n",
       "    </tr>\n",
       "    <tr>\n",
       "      <th>3</th>\n",
       "      <td>-2.67</td>\n",
       "      <td>87.14</td>\n",
       "      <td>736</td>\n",
       "      <td>4</td>\n",
       "    </tr>\n",
       "    <tr>\n",
       "      <th>4</th>\n",
       "      <td>-1.52</td>\n",
       "      <td>83.57</td>\n",
       "      <td>744</td>\n",
       "      <td>3</td>\n",
       "    </tr>\n",
       "  </tbody>\n",
       "</table>\n",
       "</div>"
      ],
      "text/plain": [
       "   temp    wet    p  wind\n",
       "0 -2.25  82.86  741     5\n",
       "1 -1.49  91.00  743     4\n",
       "2 -0.27  90.00  743     4\n",
       "3 -2.67  87.14  736     4\n",
       "4 -1.52  83.57  744     3"
      ]
     },
     "execution_count": 53,
     "metadata": {},
     "output_type": "execute_result"
    }
   ],
   "source": [
    "pd.DataFrame(parse_url(url.format(month=months[0], year=years[0]))).head()"
   ]
  },
  {
   "cell_type": "code",
   "execution_count": null,
   "id": "0ab77729-649a-443e-958c-7e6624e78b29",
   "metadata": {
    "id": "0ab77729-649a-443e-958c-7e6624e78b29",
    "outputId": "478d6623-20c1-4ec1-c4ce-48361dfa7b62"
   },
   "outputs": [
    {
     "name": "stderr",
     "output_type": "stream",
     "text": [
      "100%|███████████████████████████████████████████| 12/12 [00:01<00:00,  8.11it/s]\n",
      "100%|███████████████████████████████████████████| 12/12 [00:01<00:00,  8.59it/s]\n",
      "100%|███████████████████████████████████████████| 12/12 [00:01<00:00,  6.93it/s]\n"
     ]
    }
   ],
   "source": [
    "stats = {}\n",
    "for year in years:\n",
    "    stats[year] = {}\n",
    "    for month in tqdm(months):\n",
    "        stats[year][month] = parse_url(url.format(month=month, year=year))"
   ]
  },
  {
   "cell_type": "markdown",
   "id": "e4a9aeda",
   "metadata": {
    "id": "e4a9aeda"
   },
   "source": [
    "##  Selenium"
   ]
  },
  {
   "cell_type": "markdown",
   "id": "9cf3f229",
   "metadata": {
    "id": "9cf3f229"
   },
   "source": [
    "<p id=\"7\">Selenium - это специальная утилита, которая позволяет симулировать работу браузера. Это позволяет получать данные с тех сайтов, где используются автоматическая генерация контекта при помощи js, нужно тыкать на кнопочки, есть какая-то авторизация или они просто не выдают вам html код страницу по обычному requests.get() запросу.</p>"
   ]
  },
  {
   "cell_type": "markdown",
   "id": "cdf1df55-8591-4f91-83b9-a54443a43780",
   "metadata": {
    "id": "cdf1df55-8591-4f91-83b9-a54443a43780"
   },
   "source": [
    "Для начале необходимо скачать chromedriver той версии хрома, которая сейчас у вас используется на компьютере, и положить его рядом с этим блокнотиков. Сделать это можно с [официального сайта](https://chromedriver.chromium.org/downloads). Обратите внимание, что в зависимости от операционной системы эти файлы могу варьироваться. Вот пример того, как выглядят версии драйвера для разных ОС:\n",
    "\n",
    "<img src = 'https://github.com/Ivanich-spb/CDScourse_tasks/blob/main/data/selenium.png?raw=true'>"
   ]
  },
  {
   "cell_type": "code",
   "execution_count": null,
   "id": "75532ea7",
   "metadata": {
    "id": "75532ea7"
   },
   "outputs": [],
   "source": [
    "from selenium import webdriver\n",
    "from selenium.webdriver.chrome.options import Options as ChromeOptions\n",
    "from selenium.webdriver.common.by import By\n",
    "import pandas as pd\n",
    "from tqdm import tqdm"
   ]
  },
  {
   "cell_type": "code",
   "execution_count": null,
   "id": "2a6615c8-29c5-4691-9191-066ee6c9a793",
   "metadata": {
    "id": "2a6615c8-29c5-4691-9191-066ee6c9a793"
   },
   "outputs": [],
   "source": [
    "chrome_options = ChromeOptions()\n",
    "#chrome_options.add_argument(\"--headless\")\n",
    "driver = webdriver.Chrome('chromedriver', options=chrome_options)"
   ]
  },
  {
   "cell_type": "code",
   "execution_count": null,
   "id": "3c1ee10f-4825-49f0-b54a-074e3f09e47a",
   "metadata": {
    "id": "3c1ee10f-4825-49f0-b54a-074e3f09e47a"
   },
   "outputs": [],
   "source": [
    "def translate_text(text):\n",
    "    time.sleep(0.2)\n",
    "    driver.get(f\"https://www.m-translate.ru/translator/text#text=test&direction=ru-en\")\n",
    "\n",
    "    driver.find_element(By.ID, \"text\").clear()\n",
    "    driver.find_element(By.ID, \"text\").send_keys(text)\n",
    "    driver.find_element(By.ID, \"go_btn\").click()\n",
    "    while driver.find_element(By.ID, \"text_out\").get_attribute(\"value\") == \"\":\n",
    "        time.sleep(0.2)\n",
    "    return driver.find_element(By.ID, \"text_out\").get_attribute(\"value\")"
   ]
  },
  {
   "cell_type": "code",
   "execution_count": null,
   "id": "b5270920-5477-46ef-9efc-c7564d87ff3d",
   "metadata": {
    "id": "b5270920-5477-46ef-9efc-c7564d87ff3d",
    "outputId": "d7b18fe3-06ce-44df-eb08-c0320b77ee3f"
   },
   "outputs": [
    {
     "data": {
      "text/plain": [
       "'Welcome to the competitive data analysis course!'"
      ]
     },
     "execution_count": 10,
     "metadata": {},
     "output_type": "execute_result"
    }
   ],
   "source": [
    "text = \"Рады приветствовать тебя на курсе по соревновательному анализу данных!\"\n",
    "translate_text(text)"
   ]
  },
  {
   "cell_type": "markdown",
   "id": "a13255b0-25f7-4014-ac83-381fea9d3eec",
   "metadata": {
    "id": "a13255b0-25f7-4014-ac83-381fea9d3eec"
   },
   "source": [
    "<div class=\"alert alert-info\">\n",
    "Парсинг данных это очень сильный инструмент, который дает вам большое конкурентное преимущество по сравнению с теми, кто его не освоил или не использует. Ведь данные в задачах Data Science играют ключевую роль."
   ]
  },
  {
   "cell_type": "code",
   "execution_count": null,
   "id": "3f89ed7e-a66c-4070-a090-2965cb6da066",
   "metadata": {
    "id": "3f89ed7e-a66c-4070-a090-2965cb6da066"
   },
   "outputs": [],
   "source": []
  }
 ],
 "metadata": {
  "colab": {
   "provenance": []
  },
  "kernelspec": {
   "display_name": "cv",
   "language": "python",
   "name": "python3"
  },
  "language_info": {
   "codemirror_mode": {
    "name": "ipython",
    "version": 3
   },
   "file_extension": ".py",
   "mimetype": "text/x-python",
   "name": "python",
   "nbconvert_exporter": "python",
   "pygments_lexer": "ipython3",
   "version": "3.10.12"
  }
 },
 "nbformat": 4,
 "nbformat_minor": 5
}
