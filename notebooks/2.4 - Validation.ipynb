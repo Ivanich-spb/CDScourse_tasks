{
 "cells": [
  {
   "cell_type": "markdown",
   "id": "98f05e46-06d5-4849-88cc-62e0a14908ca",
   "metadata": {
    "id": "98f05e46-06d5-4849-88cc-62e0a14908ca"
   },
   "source": [
    "# <center>🦾🤖 2.4 - Валидация - а зачем?</center>"
   ]
  },
  {
   "cell_type": "markdown",
   "id": "48e31c85-314e-4ace-ac27-c2041401c46d",
   "metadata": {
    "id": "48e31c85-314e-4ace-ac27-c2041401c46d"
   },
   "source": [
    "<center> <img src = 'https://scikit-learn.org/stable/_images/grid_search_workflow.png' width=600> </center>\n",
    "\n",
    "* Полезно пробежаться по валидации из Sci-kit Learn https://scikit-learn.org/stable/modules/cross_validation.html"
   ]
  },
  {
   "cell_type": "markdown",
   "id": "2b03e223-5d77-4ad3-aa25-3ba944aa7033",
   "metadata": {
    "id": "2b03e223-5d77-4ad3-aa25-3ba944aa7033"
   },
   "source": [
    "# ⚖️ Какие есть техники валидации?"
   ]
  },
  {
   "cell_type": "markdown",
   "id": "ee4efabd-c1e0-4356-907f-ee648dec6ccc",
   "metadata": {
    "id": "ee4efabd-c1e0-4356-907f-ee648dec6ccc"
   },
   "source": [
    "* `KFold` - кросс-итератор для K-фолдной валидации.\n",
    "* `StratifiedKFold` - он же, но еще и стратифицированный (сбалансированный).\n",
    "* `GroupKFold` - K-фрагментный вариант итератора с непересекающимися группами.\n",
    "* `RepeatedKFold` - K-фолдная валидация с повторениями."
   ]
  },
  {
   "cell_type": "markdown",
   "id": "b98cca23-f395-48a5-a18e-a94575592234",
   "metadata": {
    "id": "b98cca23-f395-48a5-a18e-a94575592234"
   },
   "source": [
    "<center> <img src = 'https://scikit-learn.ru/wp-content/uploads/2021/10/image-161.png' width=900> </center>"
   ]
  },
  {
   "cell_type": "markdown",
   "id": "dd3019c5-da35-4b04-8fc2-51af640339f8",
   "metadata": {
    "id": "dd3019c5-da35-4b04-8fc2-51af640339f8"
   },
   "source": [
    "## 🍭 Какие валидации полезно попробовать?"
   ]
  },
  {
   "cell_type": "markdown",
   "id": "f0207174-535e-4176-93c1-b8c90a9f91d6",
   "metadata": {
    "id": "f0207174-535e-4176-93c1-b8c90a9f91d6"
   },
   "source": [
    "* `StratifiedGroupKFold` - он же, но еще и стратифицированный (сбалансированный)\n",
    "* `RepeatedStratifiedKFold` - а тут стратифицированный, но еще дополнительно с повторениями\n",
    "* А где взять `RepeatedStratifiedGroupKFold`? :)"
   ]
  },
  {
   "cell_type": "markdown",
   "id": "18417a83-efdc-43a8-9122-1c442ea57053",
   "metadata": {
    "id": "18417a83-efdc-43a8-9122-1c442ea57053"
   },
   "source": [
    "## Еще несколько"
   ]
  },
  {
   "cell_type": "markdown",
   "id": "14dbdbbf-8704-412a-8be2-ef002ea561ab",
   "metadata": {
    "id": "14dbdbbf-8704-412a-8be2-ef002ea561ab"
   },
   "source": [
    "* `Shuffle Split` - сначала перемешивает все сэмплы, потом разделяет на заданное количество фолдов.\n",
    "* `Time Series Split` - используется, когда данные упорядочены по времени.<br>\n",
    "<br>\n",
    "* `Leave One Out (LOO)` - удаляет только 1 сэмпл данных из датасета для каждого фолда (создает все возможные наборы для обучения).\n",
    "* `Leave One Group Out` - тоже самое, но каждый раз удаляет 1 группу сэмплов.\n",
    "* `Leave P Out` - удаляет P сэмплов из датасета и создает все возможные наборы, значения в наборах могут повторяться."
   ]
  },
  {
   "cell_type": "markdown",
   "id": "b46f78a7-e91d-4b01-9844-140afa519f6d",
   "metadata": {
    "id": "b46f78a7-e91d-4b01-9844-140afa519f6d"
   },
   "source": [
    "<div class=\"alert alert-info\">\n",
    "    \n",
    "# 🍕 Когда какую выбрать?\n",
    "- Есть временная зависимость?  ➡️ `TimeSeriesSplit`\n",
    "- Мало данных и быстро учится?  ➡️ `LeaveOneOut`\n",
    "- Много данных, но быстро учится?  ➡️ `KFold`\n",
    "- Очень много данных и долго учится?  ➡️ старый добрый `train_test_split()`\n",
    "- Есть дисбаланс классов?  ➡️ Любой итератор с приставкой `Stratified`\n",
    "- Есть группы и нельзя допусть их одновременного присутствия в `train` и `test`?  ➡️ Любой итератор с приставкой `Group`"
   ]
  },
  {
   "cell_type": "markdown",
   "id": "33f4a443-9745-4647-994c-07e784133efc",
   "metadata": {
    "id": "33f4a443-9745-4647-994c-07e784133efc"
   },
   "source": [
    "# 📂 Импорт библиотек"
   ]
  },
  {
   "cell_type": "code",
   "execution_count": 25,
   "id": "M1q0V9CP8X4I",
   "metadata": {
    "executionInfo": {
     "elapsed": 516,
     "status": "ok",
     "timestamp": 1688666099411,
     "user": {
      "displayName": "Олег Мельник",
      "userId": "16980713083849236851"
     },
     "user_tz": -60
    },
    "id": "M1q0V9CP8X4I"
   },
   "outputs": [],
   "source": [
    "#!pip install --upgrade scikit-learn numpy -q"
   ]
  },
  {
   "cell_type": "code",
   "execution_count": 1,
   "id": "f14afcbc-4e63-47e8-bd87-9fae19bf6cfe",
   "metadata": {
    "executionInfo": {
     "elapsed": 10,
     "status": "ok",
     "timestamp": 1688666099412,
     "user": {
      "displayName": "Олег Мельник",
      "userId": "16980713083849236851"
     },
     "user_tz": -60
    },
    "id": "f14afcbc-4e63-47e8-bd87-9fae19bf6cfe",
    "tags": []
   },
   "outputs": [],
   "source": [
    "import numpy as np\n",
    "import pandas as pd\n",
    "from tqdm.notebook import tqdm"
   ]
  },
  {
   "cell_type": "markdown",
   "id": "e75362d0-b01b-4b2e-89ea-f71ee19a94d8",
   "metadata": {
    "id": "e75362d0-b01b-4b2e-89ea-f71ee19a94d8"
   },
   "source": [
    "# 💾 Импорт данных по машинам"
   ]
  },
  {
   "cell_type": "code",
   "execution_count": 2,
   "id": "1e403d32-b775-4fbb-ab04-9aa49e8c84d1",
   "metadata": {
    "colab": {
     "base_uri": "https://localhost:8080/",
     "height": 257
    },
    "executionInfo": {
     "elapsed": 1486,
     "status": "ok",
     "timestamp": 1688666100890,
     "user": {
      "displayName": "Олег Мельник",
      "userId": "16980713083849236851"
     },
     "user_tz": -60
    },
    "id": "1e403d32-b775-4fbb-ab04-9aa49e8c84d1",
    "outputId": "ccfe0b1f-c2b7-45d7-ec65-d8b3fa702989"
   },
   "outputs": [
    {
     "data": {
      "text/html": [
       "<div>\n",
       "<style scoped>\n",
       "    .dataframe tbody tr th:only-of-type {\n",
       "        vertical-align: middle;\n",
       "    }\n",
       "\n",
       "    .dataframe tbody tr th {\n",
       "        vertical-align: top;\n",
       "    }\n",
       "\n",
       "    .dataframe thead th {\n",
       "        text-align: right;\n",
       "    }\n",
       "</style>\n",
       "<table border=\"1\" class=\"dataframe\">\n",
       "  <thead>\n",
       "    <tr style=\"text-align: right;\">\n",
       "      <th></th>\n",
       "      <th>car_id</th>\n",
       "      <th>model</th>\n",
       "      <th>car_type</th>\n",
       "      <th>fuel_type</th>\n",
       "      <th>car_rating</th>\n",
       "      <th>year_to_start</th>\n",
       "      <th>riders</th>\n",
       "      <th>year_to_work</th>\n",
       "      <th>target_reg</th>\n",
       "      <th>target_class</th>\n",
       "    </tr>\n",
       "  </thead>\n",
       "  <tbody>\n",
       "    <tr>\n",
       "      <th>668</th>\n",
       "      <td>M49274481G</td>\n",
       "      <td>Renault Kaptur</td>\n",
       "      <td>standart</td>\n",
       "      <td>petrol</td>\n",
       "      <td>4.60</td>\n",
       "      <td>2014</td>\n",
       "      <td>67118</td>\n",
       "      <td>2020</td>\n",
       "      <td>59.18</td>\n",
       "      <td>engine_fuel</td>\n",
       "    </tr>\n",
       "    <tr>\n",
       "      <th>1777</th>\n",
       "      <td>D70169920n</td>\n",
       "      <td>Kia Rio X-line</td>\n",
       "      <td>economy</td>\n",
       "      <td>petrol</td>\n",
       "      <td>3.90</td>\n",
       "      <td>2014</td>\n",
       "      <td>63700</td>\n",
       "      <td>2016</td>\n",
       "      <td>26.88</td>\n",
       "      <td>engine_overheat</td>\n",
       "    </tr>\n",
       "    <tr>\n",
       "      <th>596</th>\n",
       "      <td>k-1284276t</td>\n",
       "      <td>Smart ForTwo</td>\n",
       "      <td>economy</td>\n",
       "      <td>petrol</td>\n",
       "      <td>4.48</td>\n",
       "      <td>2015</td>\n",
       "      <td>91189</td>\n",
       "      <td>2015</td>\n",
       "      <td>37.46</td>\n",
       "      <td>electro_bug</td>\n",
       "    </tr>\n",
       "  </tbody>\n",
       "</table>\n",
       "</div>"
      ],
      "text/plain": [
       "          car_id           model  car_type fuel_type  car_rating  \\\n",
       "668   M49274481G  Renault Kaptur  standart    petrol        4.60   \n",
       "1777  D70169920n  Kia Rio X-line   economy    petrol        3.90   \n",
       "596   k-1284276t    Smart ForTwo   economy    petrol        4.48   \n",
       "\n",
       "      year_to_start  riders  year_to_work  target_reg     target_class  \n",
       "668            2014   67118          2020       59.18      engine_fuel  \n",
       "1777           2014   63700          2016       26.88  engine_overheat  \n",
       "596            2015   91189          2015       37.46      electro_bug  "
      ]
     },
     "execution_count": 2,
     "metadata": {},
     "output_type": "execute_result"
    }
   ],
   "source": [
    "train = pd.read_csv(\"https://raw.githubusercontent.com/a-milenkin/Competitive_Data_Science/main/data/car_train.csv\")\n",
    "test = pd.read_csv(\"https://raw.githubusercontent.com/a-milenkin/Competitive_Data_Science/main/data/car_test.csv\")\n",
    "# train.hist(figsize=(25, 5), layout=(-1, 5))\n",
    "train.sample(3)"
   ]
  },
  {
   "cell_type": "markdown",
   "id": "f4e18958-a7fe-441d-9d39-fbd17e67400b",
   "metadata": {
    "id": "f4e18958-a7fe-441d-9d39-fbd17e67400b"
   },
   "source": [
    "# ⚙️ Базовый `Feature engineering` - генерируем и добавляем признаки"
   ]
  },
  {
   "cell_type": "code",
   "execution_count": 3,
   "id": "2e05bdd3-b213-4c31-b1c4-1a198790aa1b",
   "metadata": {
    "colab": {
     "base_uri": "https://localhost:8080/",
     "height": 206
    },
    "executionInfo": {
     "elapsed": 6923,
     "status": "ok",
     "timestamp": 1688666107810,
     "user": {
      "displayName": "Олег Мельник",
      "userId": "16980713083849236851"
     },
     "user_tz": -60
    },
    "id": "2e05bdd3-b213-4c31-b1c4-1a198790aa1b",
    "outputId": "9f0301d0-dd64-4953-d0fc-ccca0f23316b"
   },
   "outputs": [
    {
     "data": {
      "text/html": [
       "<div>\n",
       "<style scoped>\n",
       "    .dataframe tbody tr th:only-of-type {\n",
       "        vertical-align: middle;\n",
       "    }\n",
       "\n",
       "    .dataframe tbody tr th {\n",
       "        vertical-align: top;\n",
       "    }\n",
       "\n",
       "    .dataframe thead th {\n",
       "        text-align: right;\n",
       "    }\n",
       "</style>\n",
       "<table border=\"1\" class=\"dataframe\">\n",
       "  <thead>\n",
       "    <tr style=\"text-align: right;\">\n",
       "      <th></th>\n",
       "      <th>user_id</th>\n",
       "      <th>car_id</th>\n",
       "      <th>ride_id</th>\n",
       "      <th>ride_date</th>\n",
       "      <th>rating</th>\n",
       "      <th>ride_duration</th>\n",
       "      <th>ride_cost</th>\n",
       "      <th>speed_avg</th>\n",
       "      <th>speed_max</th>\n",
       "      <th>stop_times</th>\n",
       "      <th>distance</th>\n",
       "      <th>refueling</th>\n",
       "      <th>user_ride_quality</th>\n",
       "      <th>deviation_normal</th>\n",
       "    </tr>\n",
       "  </thead>\n",
       "  <tbody>\n",
       "    <tr>\n",
       "      <th>452067</th>\n",
       "      <td>c15003598U</td>\n",
       "      <td>f70384121H</td>\n",
       "      <td>s1T</td>\n",
       "      <td>2020-01-09</td>\n",
       "      <td>5.33</td>\n",
       "      <td>30</td>\n",
       "      <td>324</td>\n",
       "      <td>41</td>\n",
       "      <td>144.0</td>\n",
       "      <td>1</td>\n",
       "      <td>276.337383</td>\n",
       "      <td>0</td>\n",
       "      <td>-4.507412</td>\n",
       "      <td>-32.144</td>\n",
       "    </tr>\n",
       "    <tr>\n",
       "      <th>564234</th>\n",
       "      <td>A69537309s</td>\n",
       "      <td>n47427969O</td>\n",
       "      <td>x1Z</td>\n",
       "      <td>2020-03-08</td>\n",
       "      <td>7.32</td>\n",
       "      <td>64</td>\n",
       "      <td>891</td>\n",
       "      <td>38</td>\n",
       "      <td>63.0</td>\n",
       "      <td>1</td>\n",
       "      <td>634.633010</td>\n",
       "      <td>0</td>\n",
       "      <td>1.509346</td>\n",
       "      <td>35.428</td>\n",
       "    </tr>\n",
       "    <tr>\n",
       "      <th>40735</th>\n",
       "      <td>c11065431Z</td>\n",
       "      <td>C14874883N</td>\n",
       "      <td>c1v</td>\n",
       "      <td>2020-01-11</td>\n",
       "      <td>4.34</td>\n",
       "      <td>9</td>\n",
       "      <td>123</td>\n",
       "      <td>47</td>\n",
       "      <td>73.0</td>\n",
       "      <td>0</td>\n",
       "      <td>355.407567</td>\n",
       "      <td>0</td>\n",
       "      <td>1.845291</td>\n",
       "      <td>-5.709</td>\n",
       "    </tr>\n",
       "  </tbody>\n",
       "</table>\n",
       "</div>"
      ],
      "text/plain": [
       "           user_id      car_id ride_id   ride_date  rating  ride_duration  \\\n",
       "452067  c15003598U  f70384121H     s1T  2020-01-09    5.33             30   \n",
       "564234  A69537309s  n47427969O     x1Z  2020-03-08    7.32             64   \n",
       "40735   c11065431Z  C14874883N     c1v  2020-01-11    4.34              9   \n",
       "\n",
       "        ride_cost  speed_avg  speed_max  stop_times    distance  refueling  \\\n",
       "452067        324         41      144.0           1  276.337383          0   \n",
       "564234        891         38       63.0           1  634.633010          0   \n",
       "40735         123         47       73.0           0  355.407567          0   \n",
       "\n",
       "        user_ride_quality  deviation_normal  \n",
       "452067          -4.507412           -32.144  \n",
       "564234           1.509346            35.428  \n",
       "40735            1.845291            -5.709  "
      ]
     },
     "execution_count": 3,
     "metadata": {},
     "output_type": "execute_result"
    }
   ],
   "source": [
    "path = \"https://raw.githubusercontent.com/a-milenkin/Competitive_Data_Science/main/data/rides_info.csv\"\n",
    "rides = pd.read_csv(path)  # Данные по поездкам\n",
    "# rides.hist(figsize=(15, 5), layout=(-1, 3))\n",
    "rides.sample(3)"
   ]
  },
  {
   "cell_type": "code",
   "execution_count": 4,
   "id": "5c967047-9757-4abb-8115-e79e3dccabec",
   "metadata": {
    "colab": {
     "base_uri": "https://localhost:8080/",
     "height": 209
    },
    "executionInfo": {
     "elapsed": 503,
     "status": "ok",
     "timestamp": 1688666108309,
     "user": {
      "displayName": "Олег Мельник",
      "userId": "16980713083849236851"
     },
     "user_tz": -60
    },
    "id": "5c967047-9757-4abb-8115-e79e3dccabec",
    "outputId": "75652f04-eaa7-4009-e7ef-e7ba9a63bc00"
   },
   "outputs": [
    {
     "data": {
      "text/html": [
       "<div>\n",
       "<style scoped>\n",
       "    .dataframe tbody tr th:only-of-type {\n",
       "        vertical-align: middle;\n",
       "    }\n",
       "\n",
       "    .dataframe tbody tr th {\n",
       "        vertical-align: top;\n",
       "    }\n",
       "\n",
       "    .dataframe thead th {\n",
       "        text-align: right;\n",
       "    }\n",
       "</style>\n",
       "<table border=\"1\" class=\"dataframe\">\n",
       "  <thead>\n",
       "    <tr style=\"text-align: right;\">\n",
       "      <th></th>\n",
       "      <th>car_id</th>\n",
       "      <th>mean_rating</th>\n",
       "      <th>distance_sum</th>\n",
       "      <th>rating_min</th>\n",
       "      <th>speed_max</th>\n",
       "      <th>user_ride_quality_median</th>\n",
       "      <th>deviation_normal_count</th>\n",
       "      <th>user_uniq</th>\n",
       "    </tr>\n",
       "  </thead>\n",
       "  <tbody>\n",
       "    <tr>\n",
       "      <th>0</th>\n",
       "      <td>A-1049127W</td>\n",
       "      <td>4.255172</td>\n",
       "      <td>1.125753e+07</td>\n",
       "      <td>0.1</td>\n",
       "      <td>179.729652</td>\n",
       "      <td>-0.288229</td>\n",
       "      <td>174</td>\n",
       "      <td>172</td>\n",
       "    </tr>\n",
       "    <tr>\n",
       "      <th>1</th>\n",
       "      <td>A-1079539w</td>\n",
       "      <td>4.088046</td>\n",
       "      <td>1.912765e+07</td>\n",
       "      <td>0.1</td>\n",
       "      <td>184.505566</td>\n",
       "      <td>2.508746</td>\n",
       "      <td>174</td>\n",
       "      <td>173</td>\n",
       "    </tr>\n",
       "  </tbody>\n",
       "</table>\n",
       "</div>"
      ],
      "text/plain": [
       "       car_id  mean_rating  distance_sum  rating_min   speed_max  \\\n",
       "0  A-1049127W     4.255172  1.125753e+07         0.1  179.729652   \n",
       "1  A-1079539w     4.088046  1.912765e+07         0.1  184.505566   \n",
       "\n",
       "   user_ride_quality_median  deviation_normal_count  user_uniq  \n",
       "0                 -0.288229                     174        172  \n",
       "1                  2.508746                     174        173  "
      ]
     },
     "execution_count": 4,
     "metadata": {},
     "output_type": "execute_result"
    }
   ],
   "source": [
    "f = lambda x: x.nunique()\n",
    "rides_df_gr = rides.groupby(\"car_id\", as_index=False).agg(\n",
    "    mean_rating=(\"rating\", \"mean\"),\n",
    "    distance_sum=(\"distance\", \"sum\"),\n",
    "    rating_min=(\"rating\", \"min\"),\n",
    "    speed_max=(\"speed_max\", \"max\"),\n",
    "    user_ride_quality_median=(\"user_ride_quality\", \"median\"),\n",
    "    deviation_normal_count=(\"deviation_normal\", \"count\"),\n",
    "    user_uniq=(\"user_id\", f),\n",
    ")\n",
    "\n",
    "\n",
    "rides_df_gr.head(2)"
   ]
  },
  {
   "cell_type": "code",
   "execution_count": 5,
   "id": "bb5fa78e-fa0e-4765-80bc-6e0414a64e43",
   "metadata": {
    "executionInfo": {
     "elapsed": 21,
     "status": "ok",
     "timestamp": 1688666108309,
     "user": {
      "displayName": "Олег Мельник",
      "userId": "16980713083849236851"
     },
     "user_tz": -60
    },
    "id": "bb5fa78e-fa0e-4765-80bc-6e0414a64e43"
   },
   "outputs": [],
   "source": [
    "def add_featues(df):\n",
    "\n",
    "    if \"mean_rating\" not in df.columns:\n",
    "        return df.merge(rides_df_gr, on=\"car_id\", how=\"left\")\n",
    "\n",
    "    return df\n",
    "\n",
    "\n",
    "train = add_featues(train)\n",
    "test = add_featues(test)"
   ]
  },
  {
   "cell_type": "markdown",
   "id": "f9da23f0-116c-4050-a9ef-b478b12078a4",
   "metadata": {
    "id": "f9da23f0-116c-4050-a9ef-b478b12078a4"
   },
   "source": [
    "# Закодируем категориальные признаки (`o-h-e`)"
   ]
  },
  {
   "cell_type": "code",
   "execution_count": 6,
   "id": "5cdac8fb-64af-4e96-bc9b-abbb727831ac",
   "metadata": {
    "colab": {
     "base_uri": "https://localhost:8080/",
     "height": 283
    },
    "executionInfo": {
     "elapsed": 21,
     "status": "ok",
     "timestamp": 1688666108310,
     "user": {
      "displayName": "Олег Мельник",
      "userId": "16980713083849236851"
     },
     "user_tz": -60
    },
    "id": "5cdac8fb-64af-4e96-bc9b-abbb727831ac",
    "outputId": "66d296b0-44cd-426f-bd27-b9ec63f509c4"
   },
   "outputs": [
    {
     "data": {
      "text/html": [
       "<div>\n",
       "<style scoped>\n",
       "    .dataframe tbody tr th:only-of-type {\n",
       "        vertical-align: middle;\n",
       "    }\n",
       "\n",
       "    .dataframe tbody tr th {\n",
       "        vertical-align: top;\n",
       "    }\n",
       "\n",
       "    .dataframe thead th {\n",
       "        text-align: right;\n",
       "    }\n",
       "</style>\n",
       "<table border=\"1\" class=\"dataframe\">\n",
       "  <thead>\n",
       "    <tr style=\"text-align: right;\">\n",
       "      <th></th>\n",
       "      <th>car_id</th>\n",
       "      <th>car_rating</th>\n",
       "      <th>year_to_start</th>\n",
       "      <th>riders</th>\n",
       "      <th>year_to_work</th>\n",
       "      <th>target_reg</th>\n",
       "      <th>target_class</th>\n",
       "      <th>mean_rating</th>\n",
       "      <th>distance_sum</th>\n",
       "      <th>rating_min</th>\n",
       "      <th>...</th>\n",
       "      <th>model_Renault Sandero</th>\n",
       "      <th>model_Skoda Rapid</th>\n",
       "      <th>model_Smart Coupe</th>\n",
       "      <th>model_Smart ForFour</th>\n",
       "      <th>model_Smart ForTwo</th>\n",
       "      <th>model_Tesla Model 3</th>\n",
       "      <th>model_VW Polo</th>\n",
       "      <th>model_VW Polo VI</th>\n",
       "      <th>model_VW Tiguan</th>\n",
       "      <th>model_Volkswagen ID.4</th>\n",
       "    </tr>\n",
       "  </thead>\n",
       "  <tbody>\n",
       "    <tr>\n",
       "      <th>0</th>\n",
       "      <td>y13744087j</td>\n",
       "      <td>3.78</td>\n",
       "      <td>2015</td>\n",
       "      <td>76163</td>\n",
       "      <td>2021</td>\n",
       "      <td>108.53</td>\n",
       "      <td>another_bug</td>\n",
       "      <td>4.737759</td>\n",
       "      <td>1.214131e+07</td>\n",
       "      <td>0.1</td>\n",
       "      <td>...</td>\n",
       "      <td>False</td>\n",
       "      <td>False</td>\n",
       "      <td>False</td>\n",
       "      <td>False</td>\n",
       "      <td>False</td>\n",
       "      <td>False</td>\n",
       "      <td>False</td>\n",
       "      <td>False</td>\n",
       "      <td>False</td>\n",
       "      <td>False</td>\n",
       "    </tr>\n",
       "    <tr>\n",
       "      <th>1</th>\n",
       "      <td>O41613818T</td>\n",
       "      <td>3.90</td>\n",
       "      <td>2015</td>\n",
       "      <td>78218</td>\n",
       "      <td>2021</td>\n",
       "      <td>35.20</td>\n",
       "      <td>electro_bug</td>\n",
       "      <td>4.480517</td>\n",
       "      <td>1.803909e+07</td>\n",
       "      <td>0.0</td>\n",
       "      <td>...</td>\n",
       "      <td>False</td>\n",
       "      <td>False</td>\n",
       "      <td>False</td>\n",
       "      <td>False</td>\n",
       "      <td>False</td>\n",
       "      <td>False</td>\n",
       "      <td>False</td>\n",
       "      <td>True</td>\n",
       "      <td>False</td>\n",
       "      <td>False</td>\n",
       "    </tr>\n",
       "    <tr>\n",
       "      <th>2</th>\n",
       "      <td>d-2109686j</td>\n",
       "      <td>6.30</td>\n",
       "      <td>2012</td>\n",
       "      <td>23340</td>\n",
       "      <td>2017</td>\n",
       "      <td>38.62</td>\n",
       "      <td>gear_stick</td>\n",
       "      <td>4.768391</td>\n",
       "      <td>1.588366e+07</td>\n",
       "      <td>0.1</td>\n",
       "      <td>...</td>\n",
       "      <td>True</td>\n",
       "      <td>False</td>\n",
       "      <td>False</td>\n",
       "      <td>False</td>\n",
       "      <td>False</td>\n",
       "      <td>False</td>\n",
       "      <td>False</td>\n",
       "      <td>False</td>\n",
       "      <td>False</td>\n",
       "      <td>False</td>\n",
       "    </tr>\n",
       "    <tr>\n",
       "      <th>3</th>\n",
       "      <td>u29695600e</td>\n",
       "      <td>4.04</td>\n",
       "      <td>2011</td>\n",
       "      <td>1263</td>\n",
       "      <td>2020</td>\n",
       "      <td>30.34</td>\n",
       "      <td>engine_fuel</td>\n",
       "      <td>3.880920</td>\n",
       "      <td>1.651883e+07</td>\n",
       "      <td>0.1</td>\n",
       "      <td>...</td>\n",
       "      <td>False</td>\n",
       "      <td>False</td>\n",
       "      <td>False</td>\n",
       "      <td>False</td>\n",
       "      <td>False</td>\n",
       "      <td>False</td>\n",
       "      <td>False</td>\n",
       "      <td>False</td>\n",
       "      <td>False</td>\n",
       "      <td>False</td>\n",
       "    </tr>\n",
       "  </tbody>\n",
       "</table>\n",
       "<p>4 rows × 46 columns</p>\n",
       "</div>"
      ],
      "text/plain": [
       "       car_id  car_rating  year_to_start  riders  year_to_work  target_reg  \\\n",
       "0  y13744087j        3.78           2015   76163          2021      108.53   \n",
       "1  O41613818T        3.90           2015   78218          2021       35.20   \n",
       "2  d-2109686j        6.30           2012   23340          2017       38.62   \n",
       "3  u29695600e        4.04           2011    1263          2020       30.34   \n",
       "\n",
       "  target_class  mean_rating  distance_sum  rating_min  ...  \\\n",
       "0  another_bug     4.737759  1.214131e+07         0.1  ...   \n",
       "1  electro_bug     4.480517  1.803909e+07         0.0  ...   \n",
       "2   gear_stick     4.768391  1.588366e+07         0.1  ...   \n",
       "3  engine_fuel     3.880920  1.651883e+07         0.1  ...   \n",
       "\n",
       "   model_Renault Sandero  model_Skoda Rapid  model_Smart Coupe  \\\n",
       "0                  False              False              False   \n",
       "1                  False              False              False   \n",
       "2                   True              False              False   \n",
       "3                  False              False              False   \n",
       "\n",
       "   model_Smart ForFour  model_Smart ForTwo  model_Tesla Model 3  \\\n",
       "0                False               False                False   \n",
       "1                False               False                False   \n",
       "2                False               False                False   \n",
       "3                False               False                False   \n",
       "\n",
       "   model_VW Polo  model_VW Polo VI  model_VW Tiguan  model_Volkswagen ID.4   \n",
       "0          False             False            False                   False  \n",
       "1          False              True            False                   False  \n",
       "2          False             False            False                   False  \n",
       "3          False             False            False                   False  \n",
       "\n",
       "[4 rows x 46 columns]"
      ]
     },
     "execution_count": 6,
     "metadata": {},
     "output_type": "execute_result"
    }
   ],
   "source": [
    "cat_features = [\"car_type\", \"fuel_type\", \"model\"]\n",
    "train = pd.get_dummies(train, columns=cat_features)\n",
    "test = pd.get_dummies(test, columns=cat_features)\n",
    "\n",
    "train.head(4)"
   ]
  },
  {
   "cell_type": "markdown",
   "id": "c735f736-c658-49f6-8c5d-2526dab60b55",
   "metadata": {
    "id": "c735f736-c658-49f6-8c5d-2526dab60b55"
   },
   "source": [
    "# Классифицируем признаки"
   ]
  },
  {
   "cell_type": "code",
   "execution_count": 7,
   "id": "38c5447c-94ab-4006-9502-10ed8c68ae14",
   "metadata": {
    "colab": {
     "base_uri": "https://localhost:8080/"
    },
    "executionInfo": {
     "elapsed": 18,
     "status": "ok",
     "timestamp": 1688666108311,
     "user": {
      "displayName": "Олег Мельник",
      "userId": "16980713083849236851"
     },
     "user_tz": -60
    },
    "id": "38c5447c-94ab-4006-9502-10ed8c68ae14",
    "outputId": "b0aac484-9381-4546-f606-ce787b67e7e1"
   },
   "outputs": [
    {
     "name": "stdout",
     "output_type": "stream",
     "text": [
      "cat_features : 3 ['car_type', 'fuel_type', 'model']\n",
      "num_features : 43 ['car_rating', 'year_to_start', 'riders', 'year_to_work', 'mean_rating', 'distance_sum', 'rating_min', 'speed_max', 'user_ride_quality_median', 'deviation_normal_count', 'user_uniq', 'car_type_business', 'car_type_economy', 'car_type_premium', 'car_type_standart', 'fuel_type_electro', 'fuel_type_petrol', 'model_Audi A3', 'model_Audi A4', 'model_Audi Q3', 'model_BMW 320i', 'model_Fiat 500', 'model_Hyundai Solaris', 'model_Kia Rio', 'model_Kia Rio X', 'model_Kia Rio X-line', 'model_Kia Sportage', 'model_MINI CooperSE', 'model_Mercedes-Benz E200', 'model_Mercedes-Benz GLC', 'model_Mini Cooper', 'model_Nissan Qashqai', 'model_Renault Kaptur', 'model_Renault Sandero', 'model_Skoda Rapid', 'model_Smart Coupe', 'model_Smart ForFour', 'model_Smart ForTwo', 'model_Tesla Model 3', 'model_VW Polo', 'model_VW Polo VI', 'model_VW Tiguan', 'model_Volkswagen ID.4 ']\n",
      "targets ['target_class', 'target_reg']\n"
     ]
    }
   ],
   "source": [
    "features2drop = [\"car_id\", \"target_reg\"]  # То, что можно выбросить\n",
    "targets = [\"target_class\", \"target_reg\"]  # Таргеты\n",
    "cat_features = [\"car_type\", \"fuel_type\", \"model\"]\n",
    "\n",
    "filtered_features = [i for i in train.columns if (i not in targets and i not in features2drop)]\n",
    "num_features = [i for i in filtered_features if i not in cat_features]\n",
    "\n",
    "\n",
    "print(\"cat_features :\", len(cat_features), cat_features)\n",
    "print(\"num_features :\", len(num_features), num_features)\n",
    "print(\"targets\", targets)"
   ]
  },
  {
   "cell_type": "markdown",
   "id": "c3b84c09-1dd5-4ec2-9d47-e895ae108c28",
   "metadata": {
    "id": "c3b84c09-1dd5-4ec2-9d47-e895ae108c28"
   },
   "source": [
    "# 👩‍🏫 Учим `Random Forest` с `K-fold` валидацией"
   ]
  },
  {
   "cell_type": "code",
   "execution_count": 8,
   "id": "a81dd722-ffdf-4578-91f3-058f59c3a589",
   "metadata": {
    "executionInfo": {
     "elapsed": 12,
     "status": "ok",
     "timestamp": 1688666108312,
     "user": {
      "displayName": "Олег Мельник",
      "userId": "16980713083849236851"
     },
     "user_tz": -60
    },
    "id": "a81dd722-ffdf-4578-91f3-058f59c3a589"
   },
   "outputs": [],
   "source": [
    "from sklearn.ensemble import RandomForestClassifier\n",
    "from sklearn.model_selection import KFold, StratifiedKFold"
   ]
  },
  {
   "cell_type": "code",
   "execution_count": 10,
   "id": "24bb9a2c-70b3-4254-ba7e-1af7ced226e7",
   "metadata": {
    "colab": {
     "base_uri": "https://localhost:8080/"
    },
    "executionInfo": {
     "elapsed": 120608,
     "status": "ok",
     "timestamp": 1688666228909,
     "user": {
      "displayName": "Олег Мельник",
      "userId": "16980713083849236851"
     },
     "user_tz": -60
    },
    "id": "24bb9a2c-70b3-4254-ba7e-1af7ced226e7",
    "outputId": "e75e777e-27e5-4eb1-d9f4-6cac42e9050d"
   },
   "outputs": [
    {
     "name": "stdout",
     "output_type": "stream",
     "text": [
      "fold: 0 acc: 0.8076923076923077\n",
      "fold: 1 acc: 0.8034188034188035\n",
      "fold: 2 acc: 0.8034188034188035\n",
      "fold: 3 acc: 0.782051282051282\n",
      "fold: 4 acc: 0.8589743589743589\n",
      "fold: 5 acc: 0.8076923076923077\n",
      "fold: 6 acc: 0.7735042735042735\n",
      "fold: 7 acc: 0.7811158798283262\n",
      "fold: 8 acc: 0.8068669527896996\n",
      "fold: 9 acc: 0.7682403433476395\n",
      "mean accuracy score -- 0.7993 0.0246\n"
     ]
    }
   ],
   "source": [
    "X = train[filtered_features].drop(targets, axis=1, errors=\"ignore\")\n",
    "y = train[[\"target_class\"]]\n",
    "\n",
    "n_splits = 10\n",
    "clfs = []\n",
    "scores = []\n",
    "\n",
    "# параметры валидации, обучение будет идти на n_splits (фолдах)\n",
    "kf = KFold(n_splits=n_splits, shuffle=True, random_state=7575)\n",
    "for num, (train_index, test_index) in enumerate(kf.split(X)):\n",
    "\n",
    "    X_train, X_test = X.iloc[train_index], X.iloc[test_index]\n",
    "    y_train, y_test = y.iloc[train_index], y.iloc[test_index]\n",
    "\n",
    "    clf = RandomForestClassifier(\n",
    "        n_estimators=2_000,\n",
    "        min_samples_leaf=4,\n",
    "        n_jobs=-1,\n",
    "        max_features=0.60,\n",
    "        random_state=7575,\n",
    "        max_depth=6,\n",
    "    )\n",
    "\n",
    "    clfs.append(clf)  # Сохраняем модель для дальнейшего использования\n",
    "\n",
    "    clf.fit(X_train, y_train[\"target_class\"])\n",
    "\n",
    "    y_pred = clf.predict(X_test)\n",
    "    score = np.mean(np.array(y_pred == y_test[\"target_class\"]))\n",
    "    scores.append(score)\n",
    "    print(f\"fold: {num} acc: {score}\")\n",
    "\n",
    "assert len(clfs) == n_splits  # Проверка, что все ок\n",
    "\n",
    "# Считаем среднее и дисперсию по всем фолдам\n",
    "print(\"mean accuracy score --\", np.mean(scores, dtype=\"float16\"), np.std(scores).round(4))"
   ]
  },
  {
   "cell_type": "markdown",
   "id": "1ad45d63-b4e4-4b61-af09-ba94f03902cc",
   "metadata": {
    "id": "1ad45d63-b4e4-4b61-af09-ba94f03902cc"
   },
   "source": [
    "<div class=\"alert alert-info\">\n",
    "\n",
    "## TODO-лист хорошей валидации    \n",
    "    \n",
    "* Фиксируем все `random_state`!\n",
    "* Сохраняем модели всех фолдов, для инференса!\n",
    "* Считаем не только среднее, но и дисперсию [если дисперсия высокая (в зависимости от задачи), то имеет место оверфит или утечка данных (`dataleak`)]\n",
    "* Прикручиваем раннюю остановку `Early Stopping`\n",
    "* Считаем кастомную метрику соревнования (особенно, если она комплексная)"
   ]
  },
  {
   "cell_type": "markdown",
   "id": "c66e578d-263c-40ea-a5c4-bd1934a7d66a",
   "metadata": {
    "id": "c66e578d-263c-40ea-a5c4-bd1934a7d66a"
   },
   "source": [
    "# 👨‍🏫 Учим `Random Forest` со `Stratified K-fold` валидацией"
   ]
  },
  {
   "cell_type": "code",
   "execution_count": 11,
   "id": "ce25cb89-8d14-4157-8fef-5aea2a64ffa0",
   "metadata": {
    "colab": {
     "base_uri": "https://localhost:8080/"
    },
    "executionInfo": {
     "elapsed": 119906,
     "status": "ok",
     "timestamp": 1688666348807,
     "user": {
      "displayName": "Олег Мельник",
      "userId": "16980713083849236851"
     },
     "user_tz": -60
    },
    "id": "ce25cb89-8d14-4157-8fef-5aea2a64ffa0",
    "outputId": "2b10d541-fc36-41a5-ccde-be00eea82204"
   },
   "outputs": [
    {
     "name": "stdout",
     "output_type": "stream",
     "text": [
      "fold: acc: 0.782051282051282\n",
      "fold: acc: 0.7905982905982906\n",
      "fold: acc: 0.8247863247863247\n",
      "fold: acc: 0.8333333333333334\n",
      "fold: acc: 0.811965811965812\n",
      "fold: acc: 0.8076923076923077\n",
      "fold: acc: 0.7948717948717948\n",
      "fold: acc: 0.8025751072961373\n",
      "fold: acc: 0.7982832618025751\n",
      "fold: acc: 0.759656652360515\n",
      "mean accuracy score -- 0.801 0.02\n"
     ]
    }
   ],
   "source": [
    "clfs = []\n",
    "scores = []\n",
    "kf = StratifiedKFold(n_splits=n_splits, shuffle=True, random_state=7575)\n",
    "\n",
    "for train_index, test_index in kf.split(X=X, y=y[\"target_class\"]):\n",
    "\n",
    "    X_train, X_test = X.iloc[train_index], X.iloc[test_index]\n",
    "    y_train, y_test = y.iloc[train_index], y.iloc[test_index]\n",
    "\n",
    "    # print(X_train.shape, y_train.shape)\n",
    "    clf = RandomForestClassifier(\n",
    "        n_estimators=2_000,\n",
    "        min_samples_leaf=4,\n",
    "        n_jobs=-1,\n",
    "        max_features=0.60,\n",
    "        random_state=7575,\n",
    "        max_depth=6,\n",
    "    )\n",
    "    clfs.append(clf)\n",
    "\n",
    "    clf.fit(X_train, y_train[\"target_class\"])\n",
    "\n",
    "    y_pred = clf.predict(X_test)\n",
    "    score = np.mean(np.array(y_pred == y_test[\"target_class\"]))\n",
    "    scores.append(score)\n",
    "    print(f\"fold: acc: {score}\")\n",
    "\n",
    "assert len(clfs) == n_splits\n",
    "print(\n",
    "    \"mean accuracy score --\", np.mean(scores, dtype=\"float16\"), np.std(scores).round(4)\n",
    ")"
   ]
  },
  {
   "cell_type": "markdown",
   "id": "d644bada-a3e9-4b31-b5c1-ccb57e5355c5",
   "metadata": {
    "id": "d644bada-a3e9-4b31-b5c1-ccb57e5355c5"
   },
   "source": [
    "# 🍏 Полезная привычка\n",
    "\n",
    "записывай скоры валидации в ячейку и их лидер-борд значение"
   ]
  },
  {
   "cell_type": "code",
   "execution_count": 36,
   "id": "51bba41a-64e6-4943-8355-4097f0dedccc",
   "metadata": {
    "executionInfo": {
     "elapsed": 20,
     "status": "ok",
     "timestamp": 1688666348809,
     "user": {
      "displayName": "Олег Мельник",
      "userId": "16980713083849236851"
     },
     "user_tz": -60
    },
    "id": "51bba41a-64e6-4943-8355-4097f0dedccc"
   },
   "outputs": [],
   "source": [
    "# mean acc score -- 0.723 0.0179 --> LB 0.770\n",
    "# mean acc score -- 0.645 0.0351 --> LB 0.560\n",
    "# mean acc score -- 0.532 0.0232 --> LB 0.410\n",
    "# mean acc score -- 0.412 0.0513 --> LB 0.250\n",
    "# mean acc score -- 0.278 0.0287 --> LB 0.100"
   ]
  },
  {
   "cell_type": "markdown",
   "id": "69f444ee-b5b5-4241-83b1-937b5cbc8b14",
   "metadata": {
    "id": "69f444ee-b5b5-4241-83b1-937b5cbc8b14"
   },
   "source": [
    "# 💣 Делаем прогноз для теста (инференс)"
   ]
  },
  {
   "cell_type": "code",
   "execution_count": 12,
   "id": "d8187464-dfba-49e1-908e-fdce4f7d3773",
   "metadata": {
    "colab": {
     "base_uri": "https://localhost:8080/",
     "height": 1000
    },
    "executionInfo": {
     "elapsed": 20485,
     "status": "ok",
     "timestamp": 1688666369281,
     "user": {
      "displayName": "Олег Мельник",
      "userId": "16980713083849236851"
     },
     "user_tz": -60
    },
    "id": "d8187464-dfba-49e1-908e-fdce4f7d3773",
    "outputId": "63432bc0-910c-4bd5-a702-6d548abe5881"
   },
   "outputs": [
    {
     "name": "stderr",
     "output_type": "stream",
     "text": [
      "/var/tmp/ipykernel_22099/2123231302.py:2: FutureWarning: Series.__getitem__ treating keys as positions is deprecated. In a future version, integer keys will always be treated as labels (consistent with DataFrame behavior). To access a value by position, use `ser.iloc[pos]`\n",
      "  y_pred = np.zeros((test.shape[0], train[targets].nunique()[0]))\n"
     ]
    },
    {
     "data": {
      "text/html": [
       "<div>\n",
       "<style scoped>\n",
       "    .dataframe tbody tr th:only-of-type {\n",
       "        vertical-align: middle;\n",
       "    }\n",
       "\n",
       "    .dataframe tbody tr th {\n",
       "        vertical-align: top;\n",
       "    }\n",
       "\n",
       "    .dataframe thead th {\n",
       "        text-align: right;\n",
       "    }\n",
       "</style>\n",
       "<table border=\"1\" class=\"dataframe\">\n",
       "  <thead>\n",
       "    <tr style=\"text-align: right;\">\n",
       "      <th></th>\n",
       "      <th>car_id</th>\n",
       "      <th>target_class</th>\n",
       "    </tr>\n",
       "  </thead>\n",
       "  <tbody>\n",
       "    <tr>\n",
       "      <th>0</th>\n",
       "      <td>P17494612l</td>\n",
       "      <td>engine_overheat</td>\n",
       "    </tr>\n",
       "    <tr>\n",
       "      <th>1</th>\n",
       "      <td>N-1530212S</td>\n",
       "      <td>electro_bug</td>\n",
       "    </tr>\n",
       "    <tr>\n",
       "      <th>2</th>\n",
       "      <td>B-1154399t</td>\n",
       "      <td>break_bug</td>\n",
       "    </tr>\n",
       "    <tr>\n",
       "      <th>3</th>\n",
       "      <td>F12725233R</td>\n",
       "      <td>gear_stick</td>\n",
       "    </tr>\n",
       "    <tr>\n",
       "      <th>4</th>\n",
       "      <td>l-1139189J</td>\n",
       "      <td>electro_bug</td>\n",
       "    </tr>\n",
       "  </tbody>\n",
       "</table>\n",
       "</div>"
      ],
      "text/plain": [
       "       car_id     target_class\n",
       "0  P17494612l  engine_overheat\n",
       "1  N-1530212S      electro_bug\n",
       "2  B-1154399t        break_bug\n",
       "3  F12725233R       gear_stick\n",
       "4  l-1139189J      electro_bug"
      ]
     },
     "execution_count": 12,
     "metadata": {},
     "output_type": "execute_result"
    }
   ],
   "source": [
    "# массив для записи финального прогноза size*n_class\n",
    "y_pred = np.zeros((test.shape[0], train[targets].nunique()[0]))\n",
    "\n",
    "# Используем все модели из списка clfs для инференса\n",
    "for n, clf in enumerate(clfs):\n",
    "    y_pred += clf.predict_proba(test[filtered_features])\n",
    "\n",
    "f = lambda x: clf.classes_[x]\n",
    "test[\"target_class\"] = list(map(f, y_pred.argmax(axis=1)))\n",
    "\n",
    "test[[\"car_id\", \"target_class\"]].to_csv(\"rforest_kfold.csv\", index=False)\n",
    "test[[\"car_id\", \"target_class\"]].head()"
   ]
  },
  {
   "cell_type": "markdown",
   "id": "d0750897-699f-4c9c-8cb5-c658a817df27",
   "metadata": {
    "id": "d0750897-699f-4c9c-8cb5-c658a817df27"
   },
   "source": [
    "# 🤔 А на что опирается модель? -  `Feature Importance`"
   ]
  },
  {
   "cell_type": "code",
   "execution_count": 40,
   "id": "6b66882c-1f78-4557-a908-2ac58927d7d2",
   "metadata": {
    "executionInfo": {
     "elapsed": 14,
     "status": "ok",
     "timestamp": 1688666371185,
     "user": {
      "displayName": "Олег Мельник",
      "userId": "16980713083849236851"
     },
     "user_tz": -60
    },
    "id": "6b66882c-1f78-4557-a908-2ac58927d7d2"
   },
   "outputs": [],
   "source": [
    "import matplotlib.pyplot as plt\n",
    "import seaborn as sns\n",
    "\n",
    "sns.set_theme()"
   ]
  },
  {
   "cell_type": "code",
   "execution_count": 41,
   "id": "5d4fe782-5d36-480a-9f62-278ead0e6661",
   "metadata": {
    "colab": {
     "base_uri": "https://localhost:8080/",
     "height": 631
    },
    "executionInfo": {
     "elapsed": 5076,
     "status": "ok",
     "timestamp": 1688666376249,
     "user": {
      "displayName": "Олег Мельник",
      "userId": "16980713083849236851"
     },
     "user_tz": -60
    },
    "id": "5d4fe782-5d36-480a-9f62-278ead0e6661",
    "outputId": "62a22dca-1f75-4b06-bf07-b912357f0e16"
   },
   "outputs": [
    {
     "name": "stdout",
     "output_type": "stream",
     "text": [
      "Всего признаков 43 Усреднее по 10-ти моделям: \n",
      "На график нанесено топ-43 признаков\n"
     ]
    },
    {
     "data": {
      "image/png": "[encoded data removed]",
      "text/plain": [
       "<Figure size 1000x860 with 1 Axes>"
      ]
     },
     "metadata": {},
     "output_type": "display_data"
    }
   ],
   "source": [
    "def plot_importance(df, best_model, height, top_n=50):\n",
    "\n",
    "    top_n = min(top_n, df.shape[1])\n",
    "\n",
    "    # Извлекаем значения из модели\n",
    "    fi = pd.DataFrame(index=df.columns, columns=[])\n",
    "    for i, m in enumerate(best_model):\n",
    "        fi[f\"m_{i}\"] = m.feature_importances_\n",
    "\n",
    "    fi = fi.stack().reset_index().iloc[:, [0, 2]]\n",
    "    fi.columns = [\"feature\", \"importance\"]\n",
    "\n",
    "    # Определяем порядок признаков и отбираем только n признаков для отрисовки\n",
    "    cols_ord = (\n",
    "        fi.groupby(\"feature\")[\"importance\"]\n",
    "        .mean()\n",
    "        .sort_values(ascending=False)\n",
    "        .index.tolist()[:top_n]\n",
    "    )\n",
    "\n",
    "    fi = fi[fi[\"feature\"].isin(cols_ord)]  # Выравниваем порядок по убыванию важности\n",
    "    print( \"Всего признаков {} Усреднее по {}-ти моделям: \".format(len(cols_ord), len(best_model)))\n",
    "\n",
    "    # Отрисовываем боксплоты фичей\n",
    "    plt.figure(figsize=(10, len(cols_ord) * height))\n",
    "    b = sns.boxplot(data=fi, y=\"feature\", x=\"importance\", orient=\"h\", order=cols_ord)\n",
    "\n",
    "    print(\"На график нанесено топ-{} признаков\".format(top_n))\n",
    "    return (\n",
    "        fi.groupby(by=[\"feature\"], as_index=False)[\"importance\"]\n",
    "        .mean()\n",
    "        .sort_values(by=\"importance\", ascending=False)\n",
    "    )\n",
    "\n",
    "\n",
    "df_feats_imp = plot_importance(\n",
    "    train[filtered_features].drop(targets, axis=1, errors=\"ignore\"),\n",
    "    clfs,\n",
    "    0.20,\n",
    "    top_n=100,\n",
    ")"
   ]
  },
  {
   "cell_type": "markdown",
   "id": "c2166b64-d77a-4b5c-9ce7-1b29ce303d6b",
   "metadata": {
    "id": "c2166b64-d77a-4b5c-9ce7-1b29ce303d6b"
   },
   "source": [
    "<div class=\"alert alert-info\">\n",
    "    \n",
    "# 🍒 Немного мыслей по итогу\n",
    "\n",
    "* Разные валидации диверсифицируют модель\n",
    "* Валидация ускоряет проверку гипотез\n",
    "* К-fold'я валидация дает вам несмещенную оценку значения метрики\n",
    "* Если в постановке задачи или данных есть проблемы - вы об этом сразу узнаете\n",
    "* Не все виды валидации можно настроить для любого размера данных"
   ]
  }
 ],
 "metadata": {
  "colab": {
   "provenance": [
    {
     "file_id": "1UDwkZNbcakX071trTB3NkR2cLc4xeoV6",
     "timestamp": 1688661624044
    }
   ]
  },
  "kernelspec": {
   "display_name": "cv",
   "language": "python",
   "name": "python3"
  },
  "language_info": {
   "codemirror_mode": {
    "name": "ipython",
    "version": 3
   },
   "file_extension": ".py",
   "mimetype": "text/x-python",
   "name": "python",
   "nbconvert_exporter": "python",
   "pygments_lexer": "ipython3",
   "version": "3.10.12"
  }
 },
 "nbformat": 4,
 "nbformat_minor": 5
}
