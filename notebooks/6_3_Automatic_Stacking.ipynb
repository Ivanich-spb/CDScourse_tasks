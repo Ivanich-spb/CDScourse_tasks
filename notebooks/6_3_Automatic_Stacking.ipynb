{
  "cells": [
    {
      "cell_type": "markdown",
      "id": "2f9be3fc-9bbd-41c7-b03b-1131fcf5e02b",
      "metadata": {
        "id": "2f9be3fc-9bbd-41c7-b03b-1131fcf5e02b"
      },
      "source": [
        "# <center>[🦏 Автоматический стэкинг и блендинг](https://stepik.org/lesson/872530/)</center>"
      ]
    },
    {
      "cell_type": "markdown",
      "id": "635e38f8-8b70-4b24-b08d-4bd6aa452371",
      "metadata": {
        "id": "635e38f8-8b70-4b24-b08d-4bd6aa452371"
      },
      "source": [
        "### Оглавление ноутбука\n",
        "\n",
        "<img src='https://raw.githubusercontent.com/a-milenkin/Competitive_Data_Science/main/images/pipelines.jpg'/>\n",
        "<br>\n",
        "\n",
        "<p><font size=\"3\" face=\"Arial\" font-size=\"large\"><ul type=\"square\">\n",
        "    \n",
        "<li><a href=\"#c1\">☘️ Три модели для блендинга </a></li>\n",
        "<li><a href=\"#look1\">🔧 Построение пайплана</a>\n",
        "<li><a href=\"#check1\"> 🎓🐊 Обучим ансамбль</a>\n",
        "<li><a href=\"#6\">🧸 Выводы и заключения</a>\n",
        "\n",
        "</li></ul></font></p>\n"
      ]
    },
    {
      "cell_type": "markdown",
      "id": "99f73d6e-7877-482b-8ebe-4dcaf91f493e",
      "metadata": {
        "id": "99f73d6e-7877-482b-8ebe-4dcaf91f493e"
      },
      "source": [
        "<div class=\"alert alert-info\">\n",
        "\n",
        "* Как вы уже могли заметить, чем больше моделей вы `стэкаете`, тем больше у вас разрастается код, а кол-во беспорядка в нем растет по экспоненте.\n",
        "* Но есть специальные инструменты, которые позволяют сделать это элегантно и даже более эффективно. Да еще и меньшим числом строк кода!\n",
        "* Не без ограничений и недостатков, увы.\n",
        "    "
      ]
    },
    {
      "cell_type": "markdown",
      "id": "90d55492-7092-4f78-8a77-7620170fd3bc",
      "metadata": {
        "id": "90d55492-7092-4f78-8a77-7620170fd3bc"
      },
      "source": [
        "<div class=\"alert alert-info\">\n",
        "    \n",
        "Сегодня мы поговорим про `sklearn.Pipelines` - способ упаковать ваш процесс обучения и инференса от `Feature Engineering`а до стэкинга 10 моделей в один пайплайн."
      ]
    },
    {
      "cell_type": "markdown",
      "id": "4af7362f-d951-4dd9-8eef-ebe7caf3174e",
      "metadata": {
        "id": "4af7362f-d951-4dd9-8eef-ebe7caf3174e"
      },
      "source": [
        "## Импортируем библиотеки"
      ]
    },
    {
      "cell_type": "code",
      "source": [
        "!pip install catboost -q"
      ],
      "metadata": {
        "colab": {
          "base_uri": "https://localhost:8080/"
        },
        "id": "nNsNp4DOdeTX",
        "outputId": "dc579027-c998-4b81-a7f4-c8b8a1042e33"
      },
      "id": "nNsNp4DOdeTX",
      "execution_count": null,
      "outputs": [
        {
          "output_type": "stream",
          "name": "stdout",
          "text": [
            "\u001b[2K     \u001b[90m━━━━━━━━━━━━━━━━━━━━━━━━━━━━━━━━━━━━━━━━\u001b[0m \u001b[32m98.6/98.6 MB\u001b[0m \u001b[31m6.2 MB/s\u001b[0m eta \u001b[36m0:00:00\u001b[0m\n",
            "\u001b[?25h"
          ]
        }
      ]
    },
    {
      "cell_type": "code",
      "execution_count": null,
      "id": "56d5f730-6c7c-46e0-b035-6d9bc99727dc",
      "metadata": {
        "id": "56d5f730-6c7c-46e0-b035-6d9bc99727dc"
      },
      "outputs": [],
      "source": [
        "import numpy as np\n",
        "import pandas as pd\n",
        "\n",
        "from sklearn.model_selection import train_test_split\n",
        "from sklearn.metrics import accuracy_score\n",
        "\n",
        "import lightgbm as lgbm\n",
        "import xgboost as xgb\n",
        "import catboost as cb"
      ]
    },
    {
      "cell_type": "code",
      "execution_count": null,
      "id": "ab3f631d-798e-47fe-8a01-fedd61e9b473",
      "metadata": {
        "id": "ab3f631d-798e-47fe-8a01-fedd61e9b473"
      },
      "outputs": [],
      "source": [
        "# pip install xgboost -U -q"
      ]
    },
    {
      "cell_type": "code",
      "execution_count": null,
      "id": "0e230ddd-f5ff-4d17-8f67-a48bf4d6bd1a",
      "metadata": {
        "id": "0e230ddd-f5ff-4d17-8f67-a48bf4d6bd1a"
      },
      "outputs": [],
      "source": [
        "import warnings\n",
        "warnings.filterwarnings(\"ignore\")"
      ]
    },
    {
      "cell_type": "markdown",
      "id": "148738ed-3394-4afd-8290-abbcaaa48d35",
      "metadata": {
        "id": "148738ed-3394-4afd-8290-abbcaaa48d35"
      },
      "source": [
        "## Считываем данные"
      ]
    },
    {
      "cell_type": "code",
      "execution_count": null,
      "id": "badb38d4-fe4a-40bb-9557-3d58410e7284",
      "metadata": {
        "colab": {
          "base_uri": "https://localhost:8080/"
        },
        "id": "badb38d4-fe4a-40bb-9557-3d58410e7284",
        "outputId": "04ced74a-0b62-488f-d971-d0092bcbd343"
      },
      "outputs": [
        {
          "output_type": "stream",
          "name": "stdout",
          "text": [
            "<class 'pandas.core.frame.DataFrame'>\n",
            "RangeIndex: 2337 entries, 0 to 2336\n",
            "Data columns (total 17 columns):\n",
            " #   Column                    Non-Null Count  Dtype   \n",
            "---  ------                    --------------  -----   \n",
            " 0   car_id                    2337 non-null   object  \n",
            " 1   model                     2337 non-null   category\n",
            " 2   car_type                  2337 non-null   category\n",
            " 3   fuel_type                 2337 non-null   category\n",
            " 4   car_rating                2337 non-null   float64 \n",
            " 5   year_to_start             2337 non-null   int64   \n",
            " 6   riders                    2337 non-null   int64   \n",
            " 7   year_to_work              2337 non-null   int64   \n",
            " 8   target_reg                2337 non-null   float64 \n",
            " 9   target_class              2337 non-null   object  \n",
            " 10  mean_rating               2337 non-null   float64 \n",
            " 11  distance_sum              2337 non-null   float64 \n",
            " 12  rating_min                2337 non-null   float64 \n",
            " 13  speed_max                 2337 non-null   float64 \n",
            " 14  user_ride_quality_median  2337 non-null   float64 \n",
            " 15  deviation_normal_count    2337 non-null   int64   \n",
            " 16  user_uniq                 2337 non-null   int64   \n",
            "dtypes: category(3), float64(7), int64(5), object(2)\n",
            "memory usage: 264.2+ KB\n"
          ]
        }
      ],
      "source": [
        "from sklearn import preprocessing\n",
        "data_root = \"https://raw.githubusercontent.com/a-milenkin/Competitive_Data_Science/main/data/\"\n",
        "data = pd.read_csv(data_root + 'quickstart_train.csv')\n",
        "\n",
        "categorical_features = ['model', 'car_type', 'fuel_type']\n",
        "\n",
        "for cat in categorical_features:\n",
        "    lbl = preprocessing.LabelEncoder()\n",
        "    data[cat] = lbl.fit_transform(data[cat].astype(str))\n",
        "    data[cat] = data[cat].astype('category')\n",
        "\n",
        "data.info()"
      ]
    },
    {
      "cell_type": "markdown",
      "id": "48b6ad9e-6ce1-40b8-86b7-b3f5a78e8829",
      "metadata": {
        "id": "48b6ad9e-6ce1-40b8-86b7-b3f5a78e8829"
      },
      "source": [
        "### Разделим выборку на валидационную и обучающую"
      ]
    },
    {
      "cell_type": "code",
      "execution_count": null,
      "id": "e0c56c6f-7d89-422a-bb23-361e44a66ef2",
      "metadata": {
        "id": "e0c56c6f-7d89-422a-bb23-361e44a66ef2"
      },
      "outputs": [],
      "source": [
        "# значения таргета закодируем целыми числами\n",
        "class_names = np.unique(data['target_class'])\n",
        "data['target_class'] = data['target_class'].replace(class_names, np.arange(data['target_class'].nunique()))"
      ]
    },
    {
      "cell_type": "code",
      "execution_count": null,
      "id": "5ebe0263-46e8-461a-a765-379912842f58",
      "metadata": {
        "id": "5ebe0263-46e8-461a-a765-379912842f58"
      },
      "outputs": [],
      "source": [
        "cols2drop = ['car_id', 'target_reg', 'target_class']\n",
        "categorical_features = ['model', 'car_type', 'fuel_type']\n",
        "numerical_features = [c for c in data.columns if c not in categorical_features and c not in cols2drop]"
      ]
    },
    {
      "cell_type": "code",
      "execution_count": null,
      "id": "17be1469-9804-4ca0-88f5-ff887a6fbf55",
      "metadata": {
        "id": "17be1469-9804-4ca0-88f5-ff887a6fbf55",
        "colab": {
          "base_uri": "https://localhost:8080/"
        },
        "outputId": "5cb96513-ab9b-4009-d2bf-a3f0fb8ba36b"
      },
      "outputs": [
        {
          "output_type": "stream",
          "name": "stdout",
          "text": [
            "(1752, 14) (585, 14)\n"
          ]
        }
      ],
      "source": [
        "X_train, X_val, y_train, y_val = train_test_split(data.drop(cols2drop, axis=1),\n",
        "                                                    data['target_class'],\n",
        "                                                    test_size=.25,\n",
        "                                                    stratify=data['target_class'],\n",
        "                                                    random_state=42)\n",
        "print(X_train.shape, X_val.shape)"
      ]
    },
    {
      "cell_type": "markdown",
      "id": "19b10ebc-c0a4-4811-ab78-b636cfbf982f",
      "metadata": {
        "id": "19b10ebc-c0a4-4811-ab78-b636cfbf982f"
      },
      "source": [
        "# <center> ☘️ Объявим 3 модели"
      ]
    },
    {
      "cell_type": "markdown",
      "id": "43e5c617-ddaf-485e-a433-889dd40164b7",
      "metadata": {
        "id": "43e5c617-ddaf-485e-a433-889dd40164b7"
      },
      "source": [
        "#  😺🚀 Модель `CatBoost`"
      ]
    },
    {
      "cell_type": "code",
      "execution_count": null,
      "id": "230e9b67-b4ff-449a-bb3b-df63991b3980",
      "metadata": {
        "id": "230e9b67-b4ff-449a-bb3b-df63991b3980"
      },
      "outputs": [],
      "source": [
        "params_cat = {\n",
        "             'n_estimators' : 700,\n",
        "              # 'learning_rate': .03,\n",
        "              'depth' : 3,\n",
        "              'verbose': False,\n",
        "              'use_best_model': True,\n",
        "              'cat_features' : categorical_features,\n",
        "              'text_features': [],\n",
        "              # 'train_dir' : '/home/jovyan/work/catboost',\n",
        "              'border_count' : 64,\n",
        "              'l2_leaf_reg' : 1,\n",
        "              'bagging_temperature' : 2,\n",
        "              'rsm' : 0.51,\n",
        "              'loss_function': 'MultiClass',\n",
        "              'auto_class_weights' : 'Balanced', #try not balanced\n",
        "              'random_state': 42,\n",
        "              'use_best_model': False,\n",
        "              # 'custom_metric' : ['AUC', 'MAP'] # Не работает внутри Sklearn.Pipelines\n",
        "         }"
      ]
    },
    {
      "cell_type": "code",
      "execution_count": null,
      "id": "3df6e1c7-8970-42a9-90cb-7d050004b7f7",
      "metadata": {
        "id": "3df6e1c7-8970-42a9-90cb-7d050004b7f7"
      },
      "outputs": [],
      "source": [
        "cat_model = cb.CatBoostClassifier(**params_cat)"
      ]
    },
    {
      "cell_type": "markdown",
      "id": "611fd034-c5fe-4633-b3fd-44a39c35fd21",
      "metadata": {
        "id": "611fd034-c5fe-4633-b3fd-44a39c35fd21"
      },
      "source": [
        "# 🦄🎳 Модель `LightGBM`"
      ]
    },
    {
      "cell_type": "code",
      "execution_count": null,
      "id": "6c49c0d9-53b7-4c41-b3c5-f50cc7fa275b",
      "metadata": {
        "id": "6c49c0d9-53b7-4c41-b3c5-f50cc7fa275b"
      },
      "outputs": [],
      "source": [
        "categorical_features_index = [i for i in range(data.shape[1]) if data.columns[i] in categorical_features]\n",
        "params_lgbm = {\n",
        "    \"num_leaves\": 200,\n",
        "    \"n_estimators\": 1500,\n",
        "    # \"max_depth\": 7,\n",
        "    \"min_child_samples\": None,\n",
        "    \"learning_rate\": 0.001,\n",
        "    \"min_data_in_leaf\": 5,\n",
        "    \"feature_fraction\": 0.98,\n",
        "    # \"categorical_feature\": cat_cols,\n",
        "    'reg_alpha' : 3.0,\n",
        "    'reg_lambda' : 5.0,\n",
        "    'categorical_feature': categorical_features_index\n",
        "}"
      ]
    },
    {
      "cell_type": "code",
      "execution_count": null,
      "id": "484fccef-a7d1-4350-ae91-920b782373e5",
      "metadata": {
        "id": "484fccef-a7d1-4350-ae91-920b782373e5"
      },
      "outputs": [],
      "source": [
        "lgbm_model = lgbm.LGBMClassifier(**params_lgbm)"
      ]
    },
    {
      "cell_type": "markdown",
      "id": "8bcc52be-b1cd-4743-bcf3-c64cf652af0e",
      "metadata": {
        "id": "8bcc52be-b1cd-4743-bcf3-c64cf652af0e"
      },
      "source": [
        "# 👽🔱 Модель `XGBoost`"
      ]
    },
    {
      "cell_type": "code",
      "execution_count": null,
      "id": "cb6014f5-bd8a-46b0-9d81-7d36429b544a",
      "metadata": {
        "id": "cb6014f5-bd8a-46b0-9d81-7d36429b544a"
      },
      "outputs": [],
      "source": [
        "params_xgb = {\n",
        "    \"eta\": 0.05,\n",
        "    'n_estimators' : 1500,\n",
        "    \"max_depth\": 6,\n",
        "    \"subsample\": 0.7,\n",
        "    # \"colsample_bytree\": 0.95,\n",
        "    'min_child_weight' : 0.1,\n",
        "    'gamma': .01,\n",
        "    'reg_lambda' : 0.1,\n",
        "    'reg_alpha' : 0.5,\n",
        "    \"objective\": \"reg:linear\",\n",
        "    \"eval_metric\": \"mae\",\n",
        "    'tree_method' : 'hist', # Supported tree methods for cat fs are `gpu_hist`, `approx`, and `hist`.\n",
        "    'enable_categorical' : True\n",
        "\n",
        "}"
      ]
    },
    {
      "cell_type": "code",
      "execution_count": null,
      "id": "cbc64f71-ed56-4e26-8838-2ca1cb9ad633",
      "metadata": {
        "id": "cbc64f71-ed56-4e26-8838-2ca1cb9ad633"
      },
      "outputs": [],
      "source": [
        "xgb_model = xgb.XGBClassifier(**params_xgb)"
      ]
    },
    {
      "cell_type": "markdown",
      "id": "dd718a7f-85d0-4ed3-b430-30578ea03705",
      "metadata": {
        "id": "dd718a7f-85d0-4ed3-b430-30578ea03705"
      },
      "source": [
        "# <center> 🥤 Построим пайплан"
      ]
    },
    {
      "cell_type": "code",
      "execution_count": null,
      "id": "b763492d-59c7-4822-aa0b-c2e51a2a66aa",
      "metadata": {
        "id": "b763492d-59c7-4822-aa0b-c2e51a2a66aa"
      },
      "outputs": [],
      "source": [
        "!pip3 install -U scikit-learn -q"
      ]
    },
    {
      "cell_type": "code",
      "execution_count": null,
      "id": "e593c803-32e0-4a0c-94a7-4f43c43762cd",
      "metadata": {
        "id": "e593c803-32e0-4a0c-94a7-4f43c43762cd"
      },
      "outputs": [],
      "source": [
        "# Вспомогательные блоки организации для пайплайна\n",
        "from sklearn.pipeline import Pipeline, make_pipeline\n",
        "from sklearn.compose import ColumnTransformer, make_column_selector"
      ]
    },
    {
      "cell_type": "code",
      "execution_count": null,
      "id": "19537599-0ffb-408d-8036-973ef68d3a5e",
      "metadata": {
        "id": "19537599-0ffb-408d-8036-973ef68d3a5e"
      },
      "outputs": [],
      "source": [
        "# Вспомогательные элементы для наполнения пайплайна\n",
        "from sklearn.impute import SimpleImputer, KNNImputer\n",
        "from sklearn.feature_selection import SelectKBest, f_classif\n",
        "from sklearn.preprocessing import StandardScaler, RobustScaler, LabelEncoder, OneHotEncoder, MinMaxScaler"
      ]
    },
    {
      "cell_type": "code",
      "execution_count": null,
      "id": "0694234e-5b75-4b9f-ae0f-aaf0a7122a30",
      "metadata": {
        "id": "0694234e-5b75-4b9f-ae0f-aaf0a7122a30"
      },
      "outputs": [],
      "source": [
        "# Некоторые модели для построение ансамбля\n",
        "from sklearn.ensemble import ExtraTreesClassifier, RandomForestClassifier, StackingClassifier\n",
        "from sklearn.linear_model import LogisticRegression\n",
        "from sklearn.neural_network import MLPClassifier\n",
        "from sklearn.svm import LinearSVC"
      ]
    },
    {
      "cell_type": "code",
      "execution_count": null,
      "id": "9435953e-d5d7-457a-b4c9-2d0feb03f2bc",
      "metadata": {
        "id": "9435953e-d5d7-457a-b4c9-2d0feb03f2bc"
      },
      "outputs": [],
      "source": [
        "# Добавим визуализации\n",
        "import sklearn\n",
        "sklearn.set_config(display='diagram')\n",
        "\n",
        "from warnings import simplefilter\n",
        "# ignore all future warnings\n",
        "simplefilter(action='ignore', category=FutureWarning)"
      ]
    },
    {
      "cell_type": "markdown",
      "id": "03c8b2d2-479c-4077-94c9-22b4bfa4b8e7",
      "metadata": {
        "id": "03c8b2d2-479c-4077-94c9-22b4bfa4b8e7"
      },
      "source": [
        "### Предобработаем данные\n",
        "Под каждый тип данных заводим свой трансформер"
      ]
    },
    {
      "cell_type": "code",
      "execution_count": null,
      "id": "4cdc124c-9dfc-4fc3-b8e3-7c0c01506bc6",
      "metadata": {
        "id": "4cdc124c-9dfc-4fc3-b8e3-7c0c01506bc6"
      },
      "outputs": [],
      "source": [
        "# заменяет пропуски самым частым значением и делает ohe\n",
        "categorical_transformer = Pipeline(steps=[\n",
        "    (\"imputer\", SimpleImputer(strategy='most_frequent')),\n",
        "    (\"onehot\", OneHotEncoder(handle_unknown=\"ignore\"))])"
      ]
    },
    {
      "cell_type": "code",
      "execution_count": null,
      "id": "295c53bb-13aa-4bc5-a9e8-0654a501b75d",
      "metadata": {
        "id": "295c53bb-13aa-4bc5-a9e8-0654a501b75d"
      },
      "outputs": [],
      "source": [
        "# заменяет пропуски средним значением и делает номрализацию\n",
        "numerical_transformer = Pipeline(steps=[\n",
        "    (\"imputer\", SimpleImputer()),\n",
        "    (\"scaler\", StandardScaler())\n",
        "])"
      ]
    },
    {
      "cell_type": "code",
      "execution_count": null,
      "id": "c25f4116-5682-4b12-9200-d24a21d8af88",
      "metadata": {
        "id": "c25f4116-5682-4b12-9200-d24a21d8af88",
        "colab": {
          "base_uri": "https://localhost:8080/",
          "height": 149
        },
        "outputId": "2c1c9e24-79e8-4c32-a1d3-c594650e2baa"
      },
      "outputs": [
        {
          "output_type": "execute_result",
          "data": {
            "text/plain": [
              "ColumnTransformer(transformers=[('numerical',\n",
              "                                 Pipeline(steps=[('imputer', SimpleImputer()),\n",
              "                                                 ('scaler', StandardScaler())]),\n",
              "                                 ['car_rating', 'year_to_start', 'riders',\n",
              "                                  'year_to_work', 'mean_rating', 'distance_sum',\n",
              "                                  'rating_min', 'speed_max',\n",
              "                                  'user_ride_quality_median',\n",
              "                                  'deviation_normal_count', 'user_uniq']),\n",
              "                                ('categorical',\n",
              "                                 Pipeline(steps=[('imputer',\n",
              "                                                  SimpleImputer(strategy='most_frequent')),\n",
              "                                                 ('onehot',\n",
              "                                                  OneHotEncoder(handle_unknown='ignore'))]),\n",
              "                                 ['model', 'car_type', 'fuel_type'])])"
            ],
            "text/html": [
              "<style>#sk-container-id-1 {color: black;background-color: white;}#sk-container-id-1 pre{padding: 0;}#sk-container-id-1 div.sk-toggleable {background-color: white;}#sk-container-id-1 label.sk-toggleable__label {cursor: pointer;display: block;width: 100%;margin-bottom: 0;padding: 0.3em;box-sizing: border-box;text-align: center;}#sk-container-id-1 label.sk-toggleable__label-arrow:before {content: \"▸\";float: left;margin-right: 0.25em;color: #696969;}#sk-container-id-1 label.sk-toggleable__label-arrow:hover:before {color: black;}#sk-container-id-1 div.sk-estimator:hover label.sk-toggleable__label-arrow:before {color: black;}#sk-container-id-1 div.sk-toggleable__content {max-height: 0;max-width: 0;overflow: hidden;text-align: left;background-color: #f0f8ff;}#sk-container-id-1 div.sk-toggleable__content pre {margin: 0.2em;color: black;border-radius: 0.25em;background-color: #f0f8ff;}#sk-container-id-1 input.sk-toggleable__control:checked~div.sk-toggleable__content {max-height: 200px;max-width: 100%;overflow: auto;}#sk-container-id-1 input.sk-toggleable__control:checked~label.sk-toggleable__label-arrow:before {content: \"▾\";}#sk-container-id-1 div.sk-estimator input.sk-toggleable__control:checked~label.sk-toggleable__label {background-color: #d4ebff;}#sk-container-id-1 div.sk-label input.sk-toggleable__control:checked~label.sk-toggleable__label {background-color: #d4ebff;}#sk-container-id-1 input.sk-hidden--visually {border: 0;clip: rect(1px 1px 1px 1px);clip: rect(1px, 1px, 1px, 1px);height: 1px;margin: -1px;overflow: hidden;padding: 0;position: absolute;width: 1px;}#sk-container-id-1 div.sk-estimator {font-family: monospace;background-color: #f0f8ff;border: 1px dotted black;border-radius: 0.25em;box-sizing: border-box;margin-bottom: 0.5em;}#sk-container-id-1 div.sk-estimator:hover {background-color: #d4ebff;}#sk-container-id-1 div.sk-parallel-item::after {content: \"\";width: 100%;border-bottom: 1px solid gray;flex-grow: 1;}#sk-container-id-1 div.sk-label:hover label.sk-toggleable__label {background-color: #d4ebff;}#sk-container-id-1 div.sk-serial::before {content: \"\";position: absolute;border-left: 1px solid gray;box-sizing: border-box;top: 0;bottom: 0;left: 50%;z-index: 0;}#sk-container-id-1 div.sk-serial {display: flex;flex-direction: column;align-items: center;background-color: white;padding-right: 0.2em;padding-left: 0.2em;position: relative;}#sk-container-id-1 div.sk-item {position: relative;z-index: 1;}#sk-container-id-1 div.sk-parallel {display: flex;align-items: stretch;justify-content: center;background-color: white;position: relative;}#sk-container-id-1 div.sk-item::before, #sk-container-id-1 div.sk-parallel-item::before {content: \"\";position: absolute;border-left: 1px solid gray;box-sizing: border-box;top: 0;bottom: 0;left: 50%;z-index: -1;}#sk-container-id-1 div.sk-parallel-item {display: flex;flex-direction: column;z-index: 1;position: relative;background-color: white;}#sk-container-id-1 div.sk-parallel-item:first-child::after {align-self: flex-end;width: 50%;}#sk-container-id-1 div.sk-parallel-item:last-child::after {align-self: flex-start;width: 50%;}#sk-container-id-1 div.sk-parallel-item:only-child::after {width: 0;}#sk-container-id-1 div.sk-dashed-wrapped {border: 1px dashed gray;margin: 0 0.4em 0.5em 0.4em;box-sizing: border-box;padding-bottom: 0.4em;background-color: white;}#sk-container-id-1 div.sk-label label {font-family: monospace;font-weight: bold;display: inline-block;line-height: 1.2em;}#sk-container-id-1 div.sk-label-container {text-align: center;}#sk-container-id-1 div.sk-container {/* jupyter's `normalize.less` sets `[hidden] { display: none; }` but bootstrap.min.css set `[hidden] { display: none !important; }` so we also need the `!important` here to be able to override the default hidden behavior on the sphinx rendered scikit-learn.org. See: https://github.com/scikit-learn/scikit-learn/issues/21755 */display: inline-block !important;position: relative;}#sk-container-id-1 div.sk-text-repr-fallback {display: none;}</style><div id=\"sk-container-id-1\" class=\"sk-top-container\"><div class=\"sk-text-repr-fallback\"><pre>ColumnTransformer(transformers=[(&#x27;numerical&#x27;,\n",
              "                                 Pipeline(steps=[(&#x27;imputer&#x27;, SimpleImputer()),\n",
              "                                                 (&#x27;scaler&#x27;, StandardScaler())]),\n",
              "                                 [&#x27;car_rating&#x27;, &#x27;year_to_start&#x27;, &#x27;riders&#x27;,\n",
              "                                  &#x27;year_to_work&#x27;, &#x27;mean_rating&#x27;, &#x27;distance_sum&#x27;,\n",
              "                                  &#x27;rating_min&#x27;, &#x27;speed_max&#x27;,\n",
              "                                  &#x27;user_ride_quality_median&#x27;,\n",
              "                                  &#x27;deviation_normal_count&#x27;, &#x27;user_uniq&#x27;]),\n",
              "                                (&#x27;categorical&#x27;,\n",
              "                                 Pipeline(steps=[(&#x27;imputer&#x27;,\n",
              "                                                  SimpleImputer(strategy=&#x27;most_frequent&#x27;)),\n",
              "                                                 (&#x27;onehot&#x27;,\n",
              "                                                  OneHotEncoder(handle_unknown=&#x27;ignore&#x27;))]),\n",
              "                                 [&#x27;model&#x27;, &#x27;car_type&#x27;, &#x27;fuel_type&#x27;])])</pre><b>In a Jupyter environment, please rerun this cell to show the HTML representation or trust the notebook. <br />On GitHub, the HTML representation is unable to render, please try loading this page with nbviewer.org.</b></div><div class=\"sk-container\" hidden><div class=\"sk-item sk-dashed-wrapped\"><div class=\"sk-label-container\"><div class=\"sk-label sk-toggleable\"><input class=\"sk-toggleable__control sk-hidden--visually\" id=\"sk-estimator-id-1\" type=\"checkbox\" ><label for=\"sk-estimator-id-1\" class=\"sk-toggleable__label sk-toggleable__label-arrow\">ColumnTransformer</label><div class=\"sk-toggleable__content\"><pre>ColumnTransformer(transformers=[(&#x27;numerical&#x27;,\n",
              "                                 Pipeline(steps=[(&#x27;imputer&#x27;, SimpleImputer()),\n",
              "                                                 (&#x27;scaler&#x27;, StandardScaler())]),\n",
              "                                 [&#x27;car_rating&#x27;, &#x27;year_to_start&#x27;, &#x27;riders&#x27;,\n",
              "                                  &#x27;year_to_work&#x27;, &#x27;mean_rating&#x27;, &#x27;distance_sum&#x27;,\n",
              "                                  &#x27;rating_min&#x27;, &#x27;speed_max&#x27;,\n",
              "                                  &#x27;user_ride_quality_median&#x27;,\n",
              "                                  &#x27;deviation_normal_count&#x27;, &#x27;user_uniq&#x27;]),\n",
              "                                (&#x27;categorical&#x27;,\n",
              "                                 Pipeline(steps=[(&#x27;imputer&#x27;,\n",
              "                                                  SimpleImputer(strategy=&#x27;most_frequent&#x27;)),\n",
              "                                                 (&#x27;onehot&#x27;,\n",
              "                                                  OneHotEncoder(handle_unknown=&#x27;ignore&#x27;))]),\n",
              "                                 [&#x27;model&#x27;, &#x27;car_type&#x27;, &#x27;fuel_type&#x27;])])</pre></div></div></div><div class=\"sk-parallel\"><div class=\"sk-parallel-item\"><div class=\"sk-item\"><div class=\"sk-label-container\"><div class=\"sk-label sk-toggleable\"><input class=\"sk-toggleable__control sk-hidden--visually\" id=\"sk-estimator-id-2\" type=\"checkbox\" ><label for=\"sk-estimator-id-2\" class=\"sk-toggleable__label sk-toggleable__label-arrow\">numerical</label><div class=\"sk-toggleable__content\"><pre>[&#x27;car_rating&#x27;, &#x27;year_to_start&#x27;, &#x27;riders&#x27;, &#x27;year_to_work&#x27;, &#x27;mean_rating&#x27;, &#x27;distance_sum&#x27;, &#x27;rating_min&#x27;, &#x27;speed_max&#x27;, &#x27;user_ride_quality_median&#x27;, &#x27;deviation_normal_count&#x27;, &#x27;user_uniq&#x27;]</pre></div></div></div><div class=\"sk-serial\"><div class=\"sk-item\"><div class=\"sk-serial\"><div class=\"sk-item\"><div class=\"sk-estimator sk-toggleable\"><input class=\"sk-toggleable__control sk-hidden--visually\" id=\"sk-estimator-id-3\" type=\"checkbox\" ><label for=\"sk-estimator-id-3\" class=\"sk-toggleable__label sk-toggleable__label-arrow\">SimpleImputer</label><div class=\"sk-toggleable__content\"><pre>SimpleImputer()</pre></div></div></div><div class=\"sk-item\"><div class=\"sk-estimator sk-toggleable\"><input class=\"sk-toggleable__control sk-hidden--visually\" id=\"sk-estimator-id-4\" type=\"checkbox\" ><label for=\"sk-estimator-id-4\" class=\"sk-toggleable__label sk-toggleable__label-arrow\">StandardScaler</label><div class=\"sk-toggleable__content\"><pre>StandardScaler()</pre></div></div></div></div></div></div></div></div><div class=\"sk-parallel-item\"><div class=\"sk-item\"><div class=\"sk-label-container\"><div class=\"sk-label sk-toggleable\"><input class=\"sk-toggleable__control sk-hidden--visually\" id=\"sk-estimator-id-5\" type=\"checkbox\" ><label for=\"sk-estimator-id-5\" class=\"sk-toggleable__label sk-toggleable__label-arrow\">categorical</label><div class=\"sk-toggleable__content\"><pre>[&#x27;model&#x27;, &#x27;car_type&#x27;, &#x27;fuel_type&#x27;]</pre></div></div></div><div class=\"sk-serial\"><div class=\"sk-item\"><div class=\"sk-serial\"><div class=\"sk-item\"><div class=\"sk-estimator sk-toggleable\"><input class=\"sk-toggleable__control sk-hidden--visually\" id=\"sk-estimator-id-6\" type=\"checkbox\" ><label for=\"sk-estimator-id-6\" class=\"sk-toggleable__label sk-toggleable__label-arrow\">SimpleImputer</label><div class=\"sk-toggleable__content\"><pre>SimpleImputer(strategy=&#x27;most_frequent&#x27;)</pre></div></div></div><div class=\"sk-item\"><div class=\"sk-estimator sk-toggleable\"><input class=\"sk-toggleable__control sk-hidden--visually\" id=\"sk-estimator-id-7\" type=\"checkbox\" ><label for=\"sk-estimator-id-7\" class=\"sk-toggleable__label sk-toggleable__label-arrow\">OneHotEncoder</label><div class=\"sk-toggleable__content\"><pre>OneHotEncoder(handle_unknown=&#x27;ignore&#x27;)</pre></div></div></div></div></div></div></div></div></div></div></div></div>"
            ]
          },
          "metadata": {},
          "execution_count": 22
        }
      ],
      "source": [
        "# соединим два предыдущих трансформера в один\n",
        "preprocessor = ColumnTransformer(transformers=[\n",
        "    (\"numerical\", numerical_transformer, numerical_features),\n",
        "    (\"categorical\", categorical_transformer, categorical_features)])\n",
        "\n",
        "preprocessor"
      ]
    },
    {
      "cell_type": "code",
      "execution_count": null,
      "id": "2881c72c-c796-4def-8749-3a4adfa5f56c",
      "metadata": {
        "id": "2881c72c-c796-4def-8749-3a4adfa5f56c",
        "colab": {
          "base_uri": "https://localhost:8080/"
        },
        "outputId": "c058d99d-a41d-42f6-cc70-cffb670a6258"
      },
      "outputs": [
        {
          "output_type": "execute_result",
          "data": {
            "text/plain": [
              "('numerical',\n",
              " Pipeline(steps=[('imputer', SimpleImputer()), ('scaler', StandardScaler())]),\n",
              " ['car_rating',\n",
              "  'year_to_start',\n",
              "  'riders',\n",
              "  'year_to_work',\n",
              "  'mean_rating',\n",
              "  'distance_sum',\n",
              "  'rating_min',\n",
              "  'speed_max',\n",
              "  'user_ride_quality_median',\n",
              "  'deviation_normal_count',\n",
              "  'user_uniq'])"
            ]
          },
          "metadata": {},
          "execution_count": 23
        }
      ],
      "source": [
        "preprocessor.transformers[0]"
      ]
    },
    {
      "cell_type": "markdown",
      "id": "e77de579-4c28-4d90-b2a3-f1509c17c490",
      "metadata": {
        "id": "e77de579-4c28-4d90-b2a3-f1509c17c490"
      },
      "source": [
        "# <center> 🎓🐊 Обучим ансамбль"
      ]
    },
    {
      "cell_type": "code",
      "execution_count": null,
      "id": "3ff3fd13-7cac-4b1d-85e5-fd8d93aeae18",
      "metadata": {
        "id": "3ff3fd13-7cac-4b1d-85e5-fd8d93aeae18"
      },
      "outputs": [],
      "source": []
    },
    {
      "cell_type": "code",
      "execution_count": null,
      "id": "bd673c24-1c8f-4260-b883-9ff6a644dc8e",
      "metadata": {
        "id": "bd673c24-1c8f-4260-b883-9ff6a644dc8e",
        "colab": {
          "base_uri": "https://localhost:8080/",
          "height": 363
        },
        "outputId": "4ca67db4-b9e3-42c7-a7a8-b047b1736dd0"
      },
      "outputs": [
        {
          "output_type": "execute_result",
          "data": {
            "text/plain": [
              "StackingClassifier(estimators=[('ExtraTrees',\n",
              "                                Pipeline(steps=[('columntransformer',\n",
              "                                                 ColumnTransformer(transformers=[('numerical',\n",
              "                                                                                  Pipeline(steps=[('imputer',\n",
              "                                                                                                   SimpleImputer()),\n",
              "                                                                                                  ('scaler',\n",
              "                                                                                                   StandardScaler())]),\n",
              "                                                                                  ['car_rating',\n",
              "                                                                                   'year_to_start',\n",
              "                                                                                   'riders',\n",
              "                                                                                   'year_to_work',\n",
              "                                                                                   'mean_rating',\n",
              "                                                                                   'distance_sum',\n",
              "                                                                                   'rating_min',\n",
              "                                                                                   'speed_max',\n",
              "                                                                                   'user_ride_quality_median',\n",
              "                                                                                   'deviation_nor...\n",
              "                                                                                                   SimpleImputer(strategy='most_frequent')),\n",
              "                                                                                                  ('onehot',\n",
              "                                                                                                   OneHotEncoder(handle_unknown='ignore'))]),\n",
              "                                                                                  ['model',\n",
              "                                                                                   'car_type',\n",
              "                                                                                   'fuel_type'])])),\n",
              "                                                ('randomforestclassifier',\n",
              "                                                 RandomForestClassifier(max_depth=7,\n",
              "                                                                        min_samples_leaf=2,\n",
              "                                                                        n_estimators=15000,\n",
              "                                                                        n_jobs=-1,\n",
              "                                                                        random_state=75,\n",
              "                                                                        verbose=False,\n",
              "                                                                        warm_start=True))]))],\n",
              "                   final_estimator=LogisticRegression(verbose=False), n_jobs=-1,\n",
              "                   verbose=False)"
            ],
            "text/html": [
              "<style>#sk-container-id-2 {color: black;background-color: white;}#sk-container-id-2 pre{padding: 0;}#sk-container-id-2 div.sk-toggleable {background-color: white;}#sk-container-id-2 label.sk-toggleable__label {cursor: pointer;display: block;width: 100%;margin-bottom: 0;padding: 0.3em;box-sizing: border-box;text-align: center;}#sk-container-id-2 label.sk-toggleable__label-arrow:before {content: \"▸\";float: left;margin-right: 0.25em;color: #696969;}#sk-container-id-2 label.sk-toggleable__label-arrow:hover:before {color: black;}#sk-container-id-2 div.sk-estimator:hover label.sk-toggleable__label-arrow:before {color: black;}#sk-container-id-2 div.sk-toggleable__content {max-height: 0;max-width: 0;overflow: hidden;text-align: left;background-color: #f0f8ff;}#sk-container-id-2 div.sk-toggleable__content pre {margin: 0.2em;color: black;border-radius: 0.25em;background-color: #f0f8ff;}#sk-container-id-2 input.sk-toggleable__control:checked~div.sk-toggleable__content {max-height: 200px;max-width: 100%;overflow: auto;}#sk-container-id-2 input.sk-toggleable__control:checked~label.sk-toggleable__label-arrow:before {content: \"▾\";}#sk-container-id-2 div.sk-estimator input.sk-toggleable__control:checked~label.sk-toggleable__label {background-color: #d4ebff;}#sk-container-id-2 div.sk-label input.sk-toggleable__control:checked~label.sk-toggleable__label {background-color: #d4ebff;}#sk-container-id-2 input.sk-hidden--visually {border: 0;clip: rect(1px 1px 1px 1px);clip: rect(1px, 1px, 1px, 1px);height: 1px;margin: -1px;overflow: hidden;padding: 0;position: absolute;width: 1px;}#sk-container-id-2 div.sk-estimator {font-family: monospace;background-color: #f0f8ff;border: 1px dotted black;border-radius: 0.25em;box-sizing: border-box;margin-bottom: 0.5em;}#sk-container-id-2 div.sk-estimator:hover {background-color: #d4ebff;}#sk-container-id-2 div.sk-parallel-item::after {content: \"\";width: 100%;border-bottom: 1px solid gray;flex-grow: 1;}#sk-container-id-2 div.sk-label:hover label.sk-toggleable__label {background-color: #d4ebff;}#sk-container-id-2 div.sk-serial::before {content: \"\";position: absolute;border-left: 1px solid gray;box-sizing: border-box;top: 0;bottom: 0;left: 50%;z-index: 0;}#sk-container-id-2 div.sk-serial {display: flex;flex-direction: column;align-items: center;background-color: white;padding-right: 0.2em;padding-left: 0.2em;position: relative;}#sk-container-id-2 div.sk-item {position: relative;z-index: 1;}#sk-container-id-2 div.sk-parallel {display: flex;align-items: stretch;justify-content: center;background-color: white;position: relative;}#sk-container-id-2 div.sk-item::before, #sk-container-id-2 div.sk-parallel-item::before {content: \"\";position: absolute;border-left: 1px solid gray;box-sizing: border-box;top: 0;bottom: 0;left: 50%;z-index: -1;}#sk-container-id-2 div.sk-parallel-item {display: flex;flex-direction: column;z-index: 1;position: relative;background-color: white;}#sk-container-id-2 div.sk-parallel-item:first-child::after {align-self: flex-end;width: 50%;}#sk-container-id-2 div.sk-parallel-item:last-child::after {align-self: flex-start;width: 50%;}#sk-container-id-2 div.sk-parallel-item:only-child::after {width: 0;}#sk-container-id-2 div.sk-dashed-wrapped {border: 1px dashed gray;margin: 0 0.4em 0.5em 0.4em;box-sizing: border-box;padding-bottom: 0.4em;background-color: white;}#sk-container-id-2 div.sk-label label {font-family: monospace;font-weight: bold;display: inline-block;line-height: 1.2em;}#sk-container-id-2 div.sk-label-container {text-align: center;}#sk-container-id-2 div.sk-container {/* jupyter's `normalize.less` sets `[hidden] { display: none; }` but bootstrap.min.css set `[hidden] { display: none !important; }` so we also need the `!important` here to be able to override the default hidden behavior on the sphinx rendered scikit-learn.org. See: https://github.com/scikit-learn/scikit-learn/issues/21755 */display: inline-block !important;position: relative;}#sk-container-id-2 div.sk-text-repr-fallback {display: none;}</style><div id=\"sk-container-id-2\" class=\"sk-top-container\"><div class=\"sk-text-repr-fallback\"><pre>StackingClassifier(estimators=[(&#x27;ExtraTrees&#x27;,\n",
              "                                Pipeline(steps=[(&#x27;columntransformer&#x27;,\n",
              "                                                 ColumnTransformer(transformers=[(&#x27;numerical&#x27;,\n",
              "                                                                                  Pipeline(steps=[(&#x27;imputer&#x27;,\n",
              "                                                                                                   SimpleImputer()),\n",
              "                                                                                                  (&#x27;scaler&#x27;,\n",
              "                                                                                                   StandardScaler())]),\n",
              "                                                                                  [&#x27;car_rating&#x27;,\n",
              "                                                                                   &#x27;year_to_start&#x27;,\n",
              "                                                                                   &#x27;riders&#x27;,\n",
              "                                                                                   &#x27;year_to_work&#x27;,\n",
              "                                                                                   &#x27;mean_rating&#x27;,\n",
              "                                                                                   &#x27;distance_sum&#x27;,\n",
              "                                                                                   &#x27;rating_min&#x27;,\n",
              "                                                                                   &#x27;speed_max&#x27;,\n",
              "                                                                                   &#x27;user_ride_quality_median&#x27;,\n",
              "                                                                                   &#x27;deviation_nor...\n",
              "                                                                                                   SimpleImputer(strategy=&#x27;most_frequent&#x27;)),\n",
              "                                                                                                  (&#x27;onehot&#x27;,\n",
              "                                                                                                   OneHotEncoder(handle_unknown=&#x27;ignore&#x27;))]),\n",
              "                                                                                  [&#x27;model&#x27;,\n",
              "                                                                                   &#x27;car_type&#x27;,\n",
              "                                                                                   &#x27;fuel_type&#x27;])])),\n",
              "                                                (&#x27;randomforestclassifier&#x27;,\n",
              "                                                 RandomForestClassifier(max_depth=7,\n",
              "                                                                        min_samples_leaf=2,\n",
              "                                                                        n_estimators=15000,\n",
              "                                                                        n_jobs=-1,\n",
              "                                                                        random_state=75,\n",
              "                                                                        verbose=False,\n",
              "                                                                        warm_start=True))]))],\n",
              "                   final_estimator=LogisticRegression(verbose=False), n_jobs=-1,\n",
              "                   verbose=False)</pre><b>In a Jupyter environment, please rerun this cell to show the HTML representation or trust the notebook. <br />On GitHub, the HTML representation is unable to render, please try loading this page with nbviewer.org.</b></div><div class=\"sk-container\" hidden><div class=\"sk-item sk-dashed-wrapped\"><div class=\"sk-label-container\"><div class=\"sk-label sk-toggleable\"><input class=\"sk-toggleable__control sk-hidden--visually\" id=\"sk-estimator-id-8\" type=\"checkbox\" ><label for=\"sk-estimator-id-8\" class=\"sk-toggleable__label sk-toggleable__label-arrow\">StackingClassifier</label><div class=\"sk-toggleable__content\"><pre>StackingClassifier(estimators=[(&#x27;ExtraTrees&#x27;,\n",
              "                                Pipeline(steps=[(&#x27;columntransformer&#x27;,\n",
              "                                                 ColumnTransformer(transformers=[(&#x27;numerical&#x27;,\n",
              "                                                                                  Pipeline(steps=[(&#x27;imputer&#x27;,\n",
              "                                                                                                   SimpleImputer()),\n",
              "                                                                                                  (&#x27;scaler&#x27;,\n",
              "                                                                                                   StandardScaler())]),\n",
              "                                                                                  [&#x27;car_rating&#x27;,\n",
              "                                                                                   &#x27;year_to_start&#x27;,\n",
              "                                                                                   &#x27;riders&#x27;,\n",
              "                                                                                   &#x27;year_to_work&#x27;,\n",
              "                                                                                   &#x27;mean_rating&#x27;,\n",
              "                                                                                   &#x27;distance_sum&#x27;,\n",
              "                                                                                   &#x27;rating_min&#x27;,\n",
              "                                                                                   &#x27;speed_max&#x27;,\n",
              "                                                                                   &#x27;user_ride_quality_median&#x27;,\n",
              "                                                                                   &#x27;deviation_nor...\n",
              "                                                                                                   SimpleImputer(strategy=&#x27;most_frequent&#x27;)),\n",
              "                                                                                                  (&#x27;onehot&#x27;,\n",
              "                                                                                                   OneHotEncoder(handle_unknown=&#x27;ignore&#x27;))]),\n",
              "                                                                                  [&#x27;model&#x27;,\n",
              "                                                                                   &#x27;car_type&#x27;,\n",
              "                                                                                   &#x27;fuel_type&#x27;])])),\n",
              "                                                (&#x27;randomforestclassifier&#x27;,\n",
              "                                                 RandomForestClassifier(max_depth=7,\n",
              "                                                                        min_samples_leaf=2,\n",
              "                                                                        n_estimators=15000,\n",
              "                                                                        n_jobs=-1,\n",
              "                                                                        random_state=75,\n",
              "                                                                        verbose=False,\n",
              "                                                                        warm_start=True))]))],\n",
              "                   final_estimator=LogisticRegression(verbose=False), n_jobs=-1,\n",
              "                   verbose=False)</pre></div></div></div><div class=\"sk-serial\"><div class=\"sk-item\"><div class=\"sk-parallel\"><div class=\"sk-parallel-item\"><div class=\"sk-item\"><div class=\"sk-label-container\"><div class=\"sk-label sk-toggleable\"><label>ExtraTrees</label></div></div><div class=\"sk-serial\"><div class=\"sk-item\"><div class=\"sk-serial\"><div class=\"sk-item sk-dashed-wrapped\"><div class=\"sk-label-container\"><div class=\"sk-label sk-toggleable\"><input class=\"sk-toggleable__control sk-hidden--visually\" id=\"sk-estimator-id-9\" type=\"checkbox\" ><label for=\"sk-estimator-id-9\" class=\"sk-toggleable__label sk-toggleable__label-arrow\">columntransformer: ColumnTransformer</label><div class=\"sk-toggleable__content\"><pre>ColumnTransformer(transformers=[(&#x27;numerical&#x27;,\n",
              "                                 Pipeline(steps=[(&#x27;imputer&#x27;, SimpleImputer()),\n",
              "                                                 (&#x27;scaler&#x27;, StandardScaler())]),\n",
              "                                 [&#x27;car_rating&#x27;, &#x27;year_to_start&#x27;, &#x27;riders&#x27;,\n",
              "                                  &#x27;year_to_work&#x27;, &#x27;mean_rating&#x27;, &#x27;distance_sum&#x27;,\n",
              "                                  &#x27;rating_min&#x27;, &#x27;speed_max&#x27;,\n",
              "                                  &#x27;user_ride_quality_median&#x27;,\n",
              "                                  &#x27;deviation_normal_count&#x27;, &#x27;user_uniq&#x27;]),\n",
              "                                (&#x27;categorical&#x27;,\n",
              "                                 Pipeline(steps=[(&#x27;imputer&#x27;,\n",
              "                                                  SimpleImputer(strategy=&#x27;most_frequent&#x27;)),\n",
              "                                                 (&#x27;onehot&#x27;,\n",
              "                                                  OneHotEncoder(handle_unknown=&#x27;ignore&#x27;))]),\n",
              "                                 [&#x27;model&#x27;, &#x27;car_type&#x27;, &#x27;fuel_type&#x27;])])</pre></div></div></div><div class=\"sk-parallel\"><div class=\"sk-parallel-item\"><div class=\"sk-item\"><div class=\"sk-label-container\"><div class=\"sk-label sk-toggleable\"><input class=\"sk-toggleable__control sk-hidden--visually\" id=\"sk-estimator-id-10\" type=\"checkbox\" ><label for=\"sk-estimator-id-10\" class=\"sk-toggleable__label sk-toggleable__label-arrow\">numerical</label><div class=\"sk-toggleable__content\"><pre>[&#x27;car_rating&#x27;, &#x27;year_to_start&#x27;, &#x27;riders&#x27;, &#x27;year_to_work&#x27;, &#x27;mean_rating&#x27;, &#x27;distance_sum&#x27;, &#x27;rating_min&#x27;, &#x27;speed_max&#x27;, &#x27;user_ride_quality_median&#x27;, &#x27;deviation_normal_count&#x27;, &#x27;user_uniq&#x27;]</pre></div></div></div><div class=\"sk-serial\"><div class=\"sk-item\"><div class=\"sk-serial\"><div class=\"sk-item\"><div class=\"sk-estimator sk-toggleable\"><input class=\"sk-toggleable__control sk-hidden--visually\" id=\"sk-estimator-id-11\" type=\"checkbox\" ><label for=\"sk-estimator-id-11\" class=\"sk-toggleable__label sk-toggleable__label-arrow\">SimpleImputer</label><div class=\"sk-toggleable__content\"><pre>SimpleImputer()</pre></div></div></div><div class=\"sk-item\"><div class=\"sk-estimator sk-toggleable\"><input class=\"sk-toggleable__control sk-hidden--visually\" id=\"sk-estimator-id-12\" type=\"checkbox\" ><label for=\"sk-estimator-id-12\" class=\"sk-toggleable__label sk-toggleable__label-arrow\">StandardScaler</label><div class=\"sk-toggleable__content\"><pre>StandardScaler()</pre></div></div></div></div></div></div></div></div><div class=\"sk-parallel-item\"><div class=\"sk-item\"><div class=\"sk-label-container\"><div class=\"sk-label sk-toggleable\"><input class=\"sk-toggleable__control sk-hidden--visually\" id=\"sk-estimator-id-13\" type=\"checkbox\" ><label for=\"sk-estimator-id-13\" class=\"sk-toggleable__label sk-toggleable__label-arrow\">categorical</label><div class=\"sk-toggleable__content\"><pre>[&#x27;model&#x27;, &#x27;car_type&#x27;, &#x27;fuel_type&#x27;]</pre></div></div></div><div class=\"sk-serial\"><div class=\"sk-item\"><div class=\"sk-serial\"><div class=\"sk-item\"><div class=\"sk-estimator sk-toggleable\"><input class=\"sk-toggleable__control sk-hidden--visually\" id=\"sk-estimator-id-14\" type=\"checkbox\" ><label for=\"sk-estimator-id-14\" class=\"sk-toggleable__label sk-toggleable__label-arrow\">SimpleImputer</label><div class=\"sk-toggleable__content\"><pre>SimpleImputer(strategy=&#x27;most_frequent&#x27;)</pre></div></div></div><div class=\"sk-item\"><div class=\"sk-estimator sk-toggleable\"><input class=\"sk-toggleable__control sk-hidden--visually\" id=\"sk-estimator-id-15\" type=\"checkbox\" ><label for=\"sk-estimator-id-15\" class=\"sk-toggleable__label sk-toggleable__label-arrow\">OneHotEncoder</label><div class=\"sk-toggleable__content\"><pre>OneHotEncoder(handle_unknown=&#x27;ignore&#x27;)</pre></div></div></div></div></div></div></div></div></div></div><div class=\"sk-item\"><div class=\"sk-estimator sk-toggleable\"><input class=\"sk-toggleable__control sk-hidden--visually\" id=\"sk-estimator-id-16\" type=\"checkbox\" ><label for=\"sk-estimator-id-16\" class=\"sk-toggleable__label sk-toggleable__label-arrow\">ExtraTreesClassifier</label><div class=\"sk-toggleable__content\"><pre>ExtraTreesClassifier(bootstrap=True, class_weight=&#x27;balanced&#x27;, max_depth=6,\n",
              "                     min_samples_leaf=2, n_estimators=10000, n_jobs=-1,\n",
              "                     random_state=75, verbose=False)</pre></div></div></div></div></div></div></div></div><div class=\"sk-parallel-item\"><div class=\"sk-item\"><div class=\"sk-label-container\"><div class=\"sk-label sk-toggleable\"><label>XGBoost</label></div></div><div class=\"sk-serial\"><div class=\"sk-item\"><div class=\"sk-estimator sk-toggleable\"><input class=\"sk-toggleable__control sk-hidden--visually\" id=\"sk-estimator-id-17\" type=\"checkbox\" ><label for=\"sk-estimator-id-17\" class=\"sk-toggleable__label sk-toggleable__label-arrow\">XGBClassifier</label><div class=\"sk-toggleable__content\"><pre>XGBClassifier(base_score=None, booster=None, callbacks=None,\n",
              "              colsample_bylevel=None, colsample_bynode=None,\n",
              "              colsample_bytree=None, early_stopping_rounds=None,\n",
              "              enable_categorical=True, eta=0.05, eval_metric=&#x27;mae&#x27;,\n",
              "              feature_types=None, gamma=0.01, gpu_id=None, grow_policy=None,\n",
              "              importance_type=None, interaction_constraints=None,\n",
              "              learning_rate=None, max_bin=None, max_cat_threshold=None,\n",
              "              max_cat_to_onehot=None, max_delta_step=None, max_depth=6,\n",
              "              max_leaves=None, min_child_weight=0.1, missing=nan,\n",
              "              monotone_constraints=None, n_estimators=1500, n_jobs=None,\n",
              "              num_parallel_tree=None, objective=&#x27;reg:linear&#x27;, ...)</pre></div></div></div></div></div></div><div class=\"sk-parallel-item\"><div class=\"sk-item\"><div class=\"sk-label-container\"><div class=\"sk-label sk-toggleable\"><label>LightGBM</label></div></div><div class=\"sk-serial\"><div class=\"sk-item\"><div class=\"sk-estimator sk-toggleable\"><input class=\"sk-toggleable__control sk-hidden--visually\" id=\"sk-estimator-id-18\" type=\"checkbox\" ><label for=\"sk-estimator-id-18\" class=\"sk-toggleable__label sk-toggleable__label-arrow\">LGBMClassifier</label><div class=\"sk-toggleable__content\"><pre>LGBMClassifier(categorical_feature=[1, 2, 3], feature_fraction=0.98,\n",
              "               learning_rate=0.001, min_child_samples=None, min_data_in_leaf=5,\n",
              "               n_estimators=1500, num_leaves=200, reg_alpha=3.0,\n",
              "               reg_lambda=5.0)</pre></div></div></div></div></div></div><div class=\"sk-parallel-item\"><div class=\"sk-item\"><div class=\"sk-label-container\"><div class=\"sk-label sk-toggleable\"><label>CatBoost</label></div></div><div class=\"sk-serial\"><div class=\"sk-item\"><div class=\"sk-estimator sk-toggleable\"><input class=\"sk-toggleable__control sk-hidden--visually\" id=\"sk-estimator-id-19\" type=\"checkbox\" ><label for=\"sk-estimator-id-19\" class=\"sk-toggleable__label sk-toggleable__label-arrow\">CatBoostClassifier</label><div class=\"sk-toggleable__content\"><pre>&lt;catboost.core.CatBoostClassifier object at 0x7f0b1a34b550&gt;</pre></div></div></div></div></div></div><div class=\"sk-parallel-item\"><div class=\"sk-item\"><div class=\"sk-label-container\"><div class=\"sk-label sk-toggleable\"><label>Random_forest</label></div></div><div class=\"sk-serial\"><div class=\"sk-item\"><div class=\"sk-serial\"><div class=\"sk-item sk-dashed-wrapped\"><div class=\"sk-label-container\"><div class=\"sk-label sk-toggleable\"><input class=\"sk-toggleable__control sk-hidden--visually\" id=\"sk-estimator-id-20\" type=\"checkbox\" ><label for=\"sk-estimator-id-20\" class=\"sk-toggleable__label sk-toggleable__label-arrow\">columntransformer: ColumnTransformer</label><div class=\"sk-toggleable__content\"><pre>ColumnTransformer(transformers=[(&#x27;numerical&#x27;,\n",
              "                                 Pipeline(steps=[(&#x27;imputer&#x27;, SimpleImputer()),\n",
              "                                                 (&#x27;scaler&#x27;, StandardScaler())]),\n",
              "                                 [&#x27;car_rating&#x27;, &#x27;year_to_start&#x27;, &#x27;riders&#x27;,\n",
              "                                  &#x27;year_to_work&#x27;, &#x27;mean_rating&#x27;, &#x27;distance_sum&#x27;,\n",
              "                                  &#x27;rating_min&#x27;, &#x27;speed_max&#x27;,\n",
              "                                  &#x27;user_ride_quality_median&#x27;,\n",
              "                                  &#x27;deviation_normal_count&#x27;, &#x27;user_uniq&#x27;]),\n",
              "                                (&#x27;categorical&#x27;,\n",
              "                                 Pipeline(steps=[(&#x27;imputer&#x27;,\n",
              "                                                  SimpleImputer(strategy=&#x27;most_frequent&#x27;)),\n",
              "                                                 (&#x27;onehot&#x27;,\n",
              "                                                  OneHotEncoder(handle_unknown=&#x27;ignore&#x27;))]),\n",
              "                                 [&#x27;model&#x27;, &#x27;car_type&#x27;, &#x27;fuel_type&#x27;])])</pre></div></div></div><div class=\"sk-parallel\"><div class=\"sk-parallel-item\"><div class=\"sk-item\"><div class=\"sk-label-container\"><div class=\"sk-label sk-toggleable\"><input class=\"sk-toggleable__control sk-hidden--visually\" id=\"sk-estimator-id-21\" type=\"checkbox\" ><label for=\"sk-estimator-id-21\" class=\"sk-toggleable__label sk-toggleable__label-arrow\">numerical</label><div class=\"sk-toggleable__content\"><pre>[&#x27;car_rating&#x27;, &#x27;year_to_start&#x27;, &#x27;riders&#x27;, &#x27;year_to_work&#x27;, &#x27;mean_rating&#x27;, &#x27;distance_sum&#x27;, &#x27;rating_min&#x27;, &#x27;speed_max&#x27;, &#x27;user_ride_quality_median&#x27;, &#x27;deviation_normal_count&#x27;, &#x27;user_uniq&#x27;]</pre></div></div></div><div class=\"sk-serial\"><div class=\"sk-item\"><div class=\"sk-serial\"><div class=\"sk-item\"><div class=\"sk-estimator sk-toggleable\"><input class=\"sk-toggleable__control sk-hidden--visually\" id=\"sk-estimator-id-22\" type=\"checkbox\" ><label for=\"sk-estimator-id-22\" class=\"sk-toggleable__label sk-toggleable__label-arrow\">SimpleImputer</label><div class=\"sk-toggleable__content\"><pre>SimpleImputer()</pre></div></div></div><div class=\"sk-item\"><div class=\"sk-estimator sk-toggleable\"><input class=\"sk-toggleable__control sk-hidden--visually\" id=\"sk-estimator-id-23\" type=\"checkbox\" ><label for=\"sk-estimator-id-23\" class=\"sk-toggleable__label sk-toggleable__label-arrow\">StandardScaler</label><div class=\"sk-toggleable__content\"><pre>StandardScaler()</pre></div></div></div></div></div></div></div></div><div class=\"sk-parallel-item\"><div class=\"sk-item\"><div class=\"sk-label-container\"><div class=\"sk-label sk-toggleable\"><input class=\"sk-toggleable__control sk-hidden--visually\" id=\"sk-estimator-id-24\" type=\"checkbox\" ><label for=\"sk-estimator-id-24\" class=\"sk-toggleable__label sk-toggleable__label-arrow\">categorical</label><div class=\"sk-toggleable__content\"><pre>[&#x27;model&#x27;, &#x27;car_type&#x27;, &#x27;fuel_type&#x27;]</pre></div></div></div><div class=\"sk-serial\"><div class=\"sk-item\"><div class=\"sk-serial\"><div class=\"sk-item\"><div class=\"sk-estimator sk-toggleable\"><input class=\"sk-toggleable__control sk-hidden--visually\" id=\"sk-estimator-id-25\" type=\"checkbox\" ><label for=\"sk-estimator-id-25\" class=\"sk-toggleable__label sk-toggleable__label-arrow\">SimpleImputer</label><div class=\"sk-toggleable__content\"><pre>SimpleImputer(strategy=&#x27;most_frequent&#x27;)</pre></div></div></div><div class=\"sk-item\"><div class=\"sk-estimator sk-toggleable\"><input class=\"sk-toggleable__control sk-hidden--visually\" id=\"sk-estimator-id-26\" type=\"checkbox\" ><label for=\"sk-estimator-id-26\" class=\"sk-toggleable__label sk-toggleable__label-arrow\">OneHotEncoder</label><div class=\"sk-toggleable__content\"><pre>OneHotEncoder(handle_unknown=&#x27;ignore&#x27;)</pre></div></div></div></div></div></div></div></div></div></div><div class=\"sk-item\"><div class=\"sk-estimator sk-toggleable\"><input class=\"sk-toggleable__control sk-hidden--visually\" id=\"sk-estimator-id-27\" type=\"checkbox\" ><label for=\"sk-estimator-id-27\" class=\"sk-toggleable__label sk-toggleable__label-arrow\">RandomForestClassifier</label><div class=\"sk-toggleable__content\"><pre>RandomForestClassifier(max_depth=7, min_samples_leaf=2, n_estimators=15000,\n",
              "                       n_jobs=-1, random_state=75, verbose=False,\n",
              "                       warm_start=True)</pre></div></div></div></div></div></div></div></div></div></div><div class=\"sk-item\"><div class=\"sk-parallel\"><div class=\"sk-parallel-item\"><div class=\"sk-item\"><div class=\"sk-label-container\"><div class=\"sk-label sk-toggleable\"><label>final_estimator</label></div></div><div class=\"sk-serial\"><div class=\"sk-item\"><div class=\"sk-estimator sk-toggleable\"><input class=\"sk-toggleable__control sk-hidden--visually\" id=\"sk-estimator-id-28\" type=\"checkbox\" ><label for=\"sk-estimator-id-28\" class=\"sk-toggleable__label sk-toggleable__label-arrow\">LogisticRegression</label><div class=\"sk-toggleable__content\"><pre>LogisticRegression(verbose=False)</pre></div></div></div></div></div></div></div></div></div></div></div></div>"
            ]
          },
          "metadata": {},
          "execution_count": 24
        }
      ],
      "source": [
        "# список базовых моделей\n",
        "estimators = [\n",
        "\n",
        "\n",
        "    (\"ExtraTrees\",  make_pipeline(preprocessor, ExtraTreesClassifier(n_estimators = 10_000, max_depth = 6, min_samples_leaf = 2,\n",
        "                                                              bootstrap = True, class_weight = 'balanced', # ccp_alpha = 0.001,\n",
        "                                                              random_state = 75, verbose=False, n_jobs=-1,))),\n",
        "\n",
        "\n",
        "    (\"XGBoost\", xgb_model),\n",
        "    (\"LightGBM\", lgbm_model),\n",
        "    (\"CatBoost\", cat_model),\n",
        "\n",
        "    # То, что не дало прироста в ансамбле\n",
        "    # (\"SVM\", make_pipeline(preprocessor, LinearSVC(verbose=False))),\n",
        "    # (\"MLP\", make_pipeline(preprocessor, MLPClassifier(verbose=False, hidden_layer_sizes=(100, 30, ), alpha=0.001,random_state=75, max_iter = 1300, ))),\n",
        "    (\"Random_forest\",  make_pipeline(preprocessor, RandomForestClassifier(n_estimators = 15_000, max_depth = 7,\n",
        "                                                              min_samples_leaf = 2,\n",
        "                                                              warm_start = True, n_jobs=-1,\n",
        "                                                              random_state = 75, verbose=False))),\n",
        "\n",
        "\n",
        "\n",
        "]\n",
        "\n",
        "# в качестве мета-модели будем использовать LogisticRegression\n",
        "meta_model = StackingClassifier(\n",
        "    estimators=estimators,\n",
        "    final_estimator=LogisticRegression(verbose=False),\n",
        "    # final_estimator=RandomForestClassifier(n_estimators = 10_000,\n",
        "                                           # max_depth = 5,\n",
        "                                           # verbose=False),\n",
        "    n_jobs=-1,\n",
        "    verbose=False,\n",
        ")\n",
        "\n",
        "stacking_classifier = meta_model\n",
        "stacking_classifier"
      ]
    },
    {
      "cell_type": "code",
      "execution_count": null,
      "id": "70aa214e-d6c6-4032-bc27-d3e53e3e2442",
      "metadata": {
        "id": "70aa214e-d6c6-4032-bc27-d3e53e3e2442",
        "colab": {
          "base_uri": "https://localhost:8080/",
          "height": 363
        },
        "outputId": "26a2f6ff-6c07-401f-bb90-59436d063d53"
      },
      "outputs": [
        {
          "output_type": "execute_result",
          "data": {
            "text/plain": [
              "StackingClassifier(estimators=[('ExtraTrees',\n",
              "                                Pipeline(steps=[('columntransformer',\n",
              "                                                 ColumnTransformer(transformers=[('numerical',\n",
              "                                                                                  Pipeline(steps=[('imputer',\n",
              "                                                                                                   SimpleImputer()),\n",
              "                                                                                                  ('scaler',\n",
              "                                                                                                   StandardScaler())]),\n",
              "                                                                                  ['car_rating',\n",
              "                                                                                   'year_to_start',\n",
              "                                                                                   'riders',\n",
              "                                                                                   'year_to_work',\n",
              "                                                                                   'mean_rating',\n",
              "                                                                                   'distance_sum',\n",
              "                                                                                   'rating_min',\n",
              "                                                                                   'speed_max',\n",
              "                                                                                   'user_ride_quality_median',\n",
              "                                                                                   'deviation_nor...\n",
              "                                                                                                   SimpleImputer(strategy='most_frequent')),\n",
              "                                                                                                  ('onehot',\n",
              "                                                                                                   OneHotEncoder(handle_unknown='ignore'))]),\n",
              "                                                                                  ['model',\n",
              "                                                                                   'car_type',\n",
              "                                                                                   'fuel_type'])])),\n",
              "                                                ('randomforestclassifier',\n",
              "                                                 RandomForestClassifier(max_depth=7,\n",
              "                                                                        min_samples_leaf=2,\n",
              "                                                                        n_estimators=15000,\n",
              "                                                                        n_jobs=-1,\n",
              "                                                                        random_state=75,\n",
              "                                                                        verbose=False,\n",
              "                                                                        warm_start=True))]))],\n",
              "                   final_estimator=LogisticRegression(verbose=False), n_jobs=-1,\n",
              "                   verbose=False)"
            ],
            "text/html": [
              "<style>#sk-container-id-3 {color: black;background-color: white;}#sk-container-id-3 pre{padding: 0;}#sk-container-id-3 div.sk-toggleable {background-color: white;}#sk-container-id-3 label.sk-toggleable__label {cursor: pointer;display: block;width: 100%;margin-bottom: 0;padding: 0.3em;box-sizing: border-box;text-align: center;}#sk-container-id-3 label.sk-toggleable__label-arrow:before {content: \"▸\";float: left;margin-right: 0.25em;color: #696969;}#sk-container-id-3 label.sk-toggleable__label-arrow:hover:before {color: black;}#sk-container-id-3 div.sk-estimator:hover label.sk-toggleable__label-arrow:before {color: black;}#sk-container-id-3 div.sk-toggleable__content {max-height: 0;max-width: 0;overflow: hidden;text-align: left;background-color: #f0f8ff;}#sk-container-id-3 div.sk-toggleable__content pre {margin: 0.2em;color: black;border-radius: 0.25em;background-color: #f0f8ff;}#sk-container-id-3 input.sk-toggleable__control:checked~div.sk-toggleable__content {max-height: 200px;max-width: 100%;overflow: auto;}#sk-container-id-3 input.sk-toggleable__control:checked~label.sk-toggleable__label-arrow:before {content: \"▾\";}#sk-container-id-3 div.sk-estimator input.sk-toggleable__control:checked~label.sk-toggleable__label {background-color: #d4ebff;}#sk-container-id-3 div.sk-label input.sk-toggleable__control:checked~label.sk-toggleable__label {background-color: #d4ebff;}#sk-container-id-3 input.sk-hidden--visually {border: 0;clip: rect(1px 1px 1px 1px);clip: rect(1px, 1px, 1px, 1px);height: 1px;margin: -1px;overflow: hidden;padding: 0;position: absolute;width: 1px;}#sk-container-id-3 div.sk-estimator {font-family: monospace;background-color: #f0f8ff;border: 1px dotted black;border-radius: 0.25em;box-sizing: border-box;margin-bottom: 0.5em;}#sk-container-id-3 div.sk-estimator:hover {background-color: #d4ebff;}#sk-container-id-3 div.sk-parallel-item::after {content: \"\";width: 100%;border-bottom: 1px solid gray;flex-grow: 1;}#sk-container-id-3 div.sk-label:hover label.sk-toggleable__label {background-color: #d4ebff;}#sk-container-id-3 div.sk-serial::before {content: \"\";position: absolute;border-left: 1px solid gray;box-sizing: border-box;top: 0;bottom: 0;left: 50%;z-index: 0;}#sk-container-id-3 div.sk-serial {display: flex;flex-direction: column;align-items: center;background-color: white;padding-right: 0.2em;padding-left: 0.2em;position: relative;}#sk-container-id-3 div.sk-item {position: relative;z-index: 1;}#sk-container-id-3 div.sk-parallel {display: flex;align-items: stretch;justify-content: center;background-color: white;position: relative;}#sk-container-id-3 div.sk-item::before, #sk-container-id-3 div.sk-parallel-item::before {content: \"\";position: absolute;border-left: 1px solid gray;box-sizing: border-box;top: 0;bottom: 0;left: 50%;z-index: -1;}#sk-container-id-3 div.sk-parallel-item {display: flex;flex-direction: column;z-index: 1;position: relative;background-color: white;}#sk-container-id-3 div.sk-parallel-item:first-child::after {align-self: flex-end;width: 50%;}#sk-container-id-3 div.sk-parallel-item:last-child::after {align-self: flex-start;width: 50%;}#sk-container-id-3 div.sk-parallel-item:only-child::after {width: 0;}#sk-container-id-3 div.sk-dashed-wrapped {border: 1px dashed gray;margin: 0 0.4em 0.5em 0.4em;box-sizing: border-box;padding-bottom: 0.4em;background-color: white;}#sk-container-id-3 div.sk-label label {font-family: monospace;font-weight: bold;display: inline-block;line-height: 1.2em;}#sk-container-id-3 div.sk-label-container {text-align: center;}#sk-container-id-3 div.sk-container {/* jupyter's `normalize.less` sets `[hidden] { display: none; }` but bootstrap.min.css set `[hidden] { display: none !important; }` so we also need the `!important` here to be able to override the default hidden behavior on the sphinx rendered scikit-learn.org. See: https://github.com/scikit-learn/scikit-learn/issues/21755 */display: inline-block !important;position: relative;}#sk-container-id-3 div.sk-text-repr-fallback {display: none;}</style><div id=\"sk-container-id-3\" class=\"sk-top-container\"><div class=\"sk-text-repr-fallback\"><pre>StackingClassifier(estimators=[(&#x27;ExtraTrees&#x27;,\n",
              "                                Pipeline(steps=[(&#x27;columntransformer&#x27;,\n",
              "                                                 ColumnTransformer(transformers=[(&#x27;numerical&#x27;,\n",
              "                                                                                  Pipeline(steps=[(&#x27;imputer&#x27;,\n",
              "                                                                                                   SimpleImputer()),\n",
              "                                                                                                  (&#x27;scaler&#x27;,\n",
              "                                                                                                   StandardScaler())]),\n",
              "                                                                                  [&#x27;car_rating&#x27;,\n",
              "                                                                                   &#x27;year_to_start&#x27;,\n",
              "                                                                                   &#x27;riders&#x27;,\n",
              "                                                                                   &#x27;year_to_work&#x27;,\n",
              "                                                                                   &#x27;mean_rating&#x27;,\n",
              "                                                                                   &#x27;distance_sum&#x27;,\n",
              "                                                                                   &#x27;rating_min&#x27;,\n",
              "                                                                                   &#x27;speed_max&#x27;,\n",
              "                                                                                   &#x27;user_ride_quality_median&#x27;,\n",
              "                                                                                   &#x27;deviation_nor...\n",
              "                                                                                                   SimpleImputer(strategy=&#x27;most_frequent&#x27;)),\n",
              "                                                                                                  (&#x27;onehot&#x27;,\n",
              "                                                                                                   OneHotEncoder(handle_unknown=&#x27;ignore&#x27;))]),\n",
              "                                                                                  [&#x27;model&#x27;,\n",
              "                                                                                   &#x27;car_type&#x27;,\n",
              "                                                                                   &#x27;fuel_type&#x27;])])),\n",
              "                                                (&#x27;randomforestclassifier&#x27;,\n",
              "                                                 RandomForestClassifier(max_depth=7,\n",
              "                                                                        min_samples_leaf=2,\n",
              "                                                                        n_estimators=15000,\n",
              "                                                                        n_jobs=-1,\n",
              "                                                                        random_state=75,\n",
              "                                                                        verbose=False,\n",
              "                                                                        warm_start=True))]))],\n",
              "                   final_estimator=LogisticRegression(verbose=False), n_jobs=-1,\n",
              "                   verbose=False)</pre><b>In a Jupyter environment, please rerun this cell to show the HTML representation or trust the notebook. <br />On GitHub, the HTML representation is unable to render, please try loading this page with nbviewer.org.</b></div><div class=\"sk-container\" hidden><div class=\"sk-item sk-dashed-wrapped\"><div class=\"sk-label-container\"><div class=\"sk-label sk-toggleable\"><input class=\"sk-toggleable__control sk-hidden--visually\" id=\"sk-estimator-id-29\" type=\"checkbox\" ><label for=\"sk-estimator-id-29\" class=\"sk-toggleable__label sk-toggleable__label-arrow\">StackingClassifier</label><div class=\"sk-toggleable__content\"><pre>StackingClassifier(estimators=[(&#x27;ExtraTrees&#x27;,\n",
              "                                Pipeline(steps=[(&#x27;columntransformer&#x27;,\n",
              "                                                 ColumnTransformer(transformers=[(&#x27;numerical&#x27;,\n",
              "                                                                                  Pipeline(steps=[(&#x27;imputer&#x27;,\n",
              "                                                                                                   SimpleImputer()),\n",
              "                                                                                                  (&#x27;scaler&#x27;,\n",
              "                                                                                                   StandardScaler())]),\n",
              "                                                                                  [&#x27;car_rating&#x27;,\n",
              "                                                                                   &#x27;year_to_start&#x27;,\n",
              "                                                                                   &#x27;riders&#x27;,\n",
              "                                                                                   &#x27;year_to_work&#x27;,\n",
              "                                                                                   &#x27;mean_rating&#x27;,\n",
              "                                                                                   &#x27;distance_sum&#x27;,\n",
              "                                                                                   &#x27;rating_min&#x27;,\n",
              "                                                                                   &#x27;speed_max&#x27;,\n",
              "                                                                                   &#x27;user_ride_quality_median&#x27;,\n",
              "                                                                                   &#x27;deviation_nor...\n",
              "                                                                                                   SimpleImputer(strategy=&#x27;most_frequent&#x27;)),\n",
              "                                                                                                  (&#x27;onehot&#x27;,\n",
              "                                                                                                   OneHotEncoder(handle_unknown=&#x27;ignore&#x27;))]),\n",
              "                                                                                  [&#x27;model&#x27;,\n",
              "                                                                                   &#x27;car_type&#x27;,\n",
              "                                                                                   &#x27;fuel_type&#x27;])])),\n",
              "                                                (&#x27;randomforestclassifier&#x27;,\n",
              "                                                 RandomForestClassifier(max_depth=7,\n",
              "                                                                        min_samples_leaf=2,\n",
              "                                                                        n_estimators=15000,\n",
              "                                                                        n_jobs=-1,\n",
              "                                                                        random_state=75,\n",
              "                                                                        verbose=False,\n",
              "                                                                        warm_start=True))]))],\n",
              "                   final_estimator=LogisticRegression(verbose=False), n_jobs=-1,\n",
              "                   verbose=False)</pre></div></div></div><div class=\"sk-serial\"><div class=\"sk-item\"><div class=\"sk-parallel\"><div class=\"sk-parallel-item\"><div class=\"sk-item\"><div class=\"sk-label-container\"><div class=\"sk-label sk-toggleable\"><label>ExtraTrees</label></div></div><div class=\"sk-serial\"><div class=\"sk-item\"><div class=\"sk-serial\"><div class=\"sk-item sk-dashed-wrapped\"><div class=\"sk-label-container\"><div class=\"sk-label sk-toggleable\"><input class=\"sk-toggleable__control sk-hidden--visually\" id=\"sk-estimator-id-30\" type=\"checkbox\" ><label for=\"sk-estimator-id-30\" class=\"sk-toggleable__label sk-toggleable__label-arrow\">columntransformer: ColumnTransformer</label><div class=\"sk-toggleable__content\"><pre>ColumnTransformer(transformers=[(&#x27;numerical&#x27;,\n",
              "                                 Pipeline(steps=[(&#x27;imputer&#x27;, SimpleImputer()),\n",
              "                                                 (&#x27;scaler&#x27;, StandardScaler())]),\n",
              "                                 [&#x27;car_rating&#x27;, &#x27;year_to_start&#x27;, &#x27;riders&#x27;,\n",
              "                                  &#x27;year_to_work&#x27;, &#x27;mean_rating&#x27;, &#x27;distance_sum&#x27;,\n",
              "                                  &#x27;rating_min&#x27;, &#x27;speed_max&#x27;,\n",
              "                                  &#x27;user_ride_quality_median&#x27;,\n",
              "                                  &#x27;deviation_normal_count&#x27;, &#x27;user_uniq&#x27;]),\n",
              "                                (&#x27;categorical&#x27;,\n",
              "                                 Pipeline(steps=[(&#x27;imputer&#x27;,\n",
              "                                                  SimpleImputer(strategy=&#x27;most_frequent&#x27;)),\n",
              "                                                 (&#x27;onehot&#x27;,\n",
              "                                                  OneHotEncoder(handle_unknown=&#x27;ignore&#x27;))]),\n",
              "                                 [&#x27;model&#x27;, &#x27;car_type&#x27;, &#x27;fuel_type&#x27;])])</pre></div></div></div><div class=\"sk-parallel\"><div class=\"sk-parallel-item\"><div class=\"sk-item\"><div class=\"sk-label-container\"><div class=\"sk-label sk-toggleable\"><input class=\"sk-toggleable__control sk-hidden--visually\" id=\"sk-estimator-id-31\" type=\"checkbox\" ><label for=\"sk-estimator-id-31\" class=\"sk-toggleable__label sk-toggleable__label-arrow\">numerical</label><div class=\"sk-toggleable__content\"><pre>[&#x27;car_rating&#x27;, &#x27;year_to_start&#x27;, &#x27;riders&#x27;, &#x27;year_to_work&#x27;, &#x27;mean_rating&#x27;, &#x27;distance_sum&#x27;, &#x27;rating_min&#x27;, &#x27;speed_max&#x27;, &#x27;user_ride_quality_median&#x27;, &#x27;deviation_normal_count&#x27;, &#x27;user_uniq&#x27;]</pre></div></div></div><div class=\"sk-serial\"><div class=\"sk-item\"><div class=\"sk-serial\"><div class=\"sk-item\"><div class=\"sk-estimator sk-toggleable\"><input class=\"sk-toggleable__control sk-hidden--visually\" id=\"sk-estimator-id-32\" type=\"checkbox\" ><label for=\"sk-estimator-id-32\" class=\"sk-toggleable__label sk-toggleable__label-arrow\">SimpleImputer</label><div class=\"sk-toggleable__content\"><pre>SimpleImputer()</pre></div></div></div><div class=\"sk-item\"><div class=\"sk-estimator sk-toggleable\"><input class=\"sk-toggleable__control sk-hidden--visually\" id=\"sk-estimator-id-33\" type=\"checkbox\" ><label for=\"sk-estimator-id-33\" class=\"sk-toggleable__label sk-toggleable__label-arrow\">StandardScaler</label><div class=\"sk-toggleable__content\"><pre>StandardScaler()</pre></div></div></div></div></div></div></div></div><div class=\"sk-parallel-item\"><div class=\"sk-item\"><div class=\"sk-label-container\"><div class=\"sk-label sk-toggleable\"><input class=\"sk-toggleable__control sk-hidden--visually\" id=\"sk-estimator-id-34\" type=\"checkbox\" ><label for=\"sk-estimator-id-34\" class=\"sk-toggleable__label sk-toggleable__label-arrow\">categorical</label><div class=\"sk-toggleable__content\"><pre>[&#x27;model&#x27;, &#x27;car_type&#x27;, &#x27;fuel_type&#x27;]</pre></div></div></div><div class=\"sk-serial\"><div class=\"sk-item\"><div class=\"sk-serial\"><div class=\"sk-item\"><div class=\"sk-estimator sk-toggleable\"><input class=\"sk-toggleable__control sk-hidden--visually\" id=\"sk-estimator-id-35\" type=\"checkbox\" ><label for=\"sk-estimator-id-35\" class=\"sk-toggleable__label sk-toggleable__label-arrow\">SimpleImputer</label><div class=\"sk-toggleable__content\"><pre>SimpleImputer(strategy=&#x27;most_frequent&#x27;)</pre></div></div></div><div class=\"sk-item\"><div class=\"sk-estimator sk-toggleable\"><input class=\"sk-toggleable__control sk-hidden--visually\" id=\"sk-estimator-id-36\" type=\"checkbox\" ><label for=\"sk-estimator-id-36\" class=\"sk-toggleable__label sk-toggleable__label-arrow\">OneHotEncoder</label><div class=\"sk-toggleable__content\"><pre>OneHotEncoder(handle_unknown=&#x27;ignore&#x27;)</pre></div></div></div></div></div></div></div></div></div></div><div class=\"sk-item\"><div class=\"sk-estimator sk-toggleable\"><input class=\"sk-toggleable__control sk-hidden--visually\" id=\"sk-estimator-id-37\" type=\"checkbox\" ><label for=\"sk-estimator-id-37\" class=\"sk-toggleable__label sk-toggleable__label-arrow\">ExtraTreesClassifier</label><div class=\"sk-toggleable__content\"><pre>ExtraTreesClassifier(bootstrap=True, class_weight=&#x27;balanced&#x27;, max_depth=6,\n",
              "                     min_samples_leaf=2, n_estimators=10000, n_jobs=-1,\n",
              "                     random_state=75, verbose=False)</pre></div></div></div></div></div></div></div></div><div class=\"sk-parallel-item\"><div class=\"sk-item\"><div class=\"sk-label-container\"><div class=\"sk-label sk-toggleable\"><label>XGBoost</label></div></div><div class=\"sk-serial\"><div class=\"sk-item\"><div class=\"sk-estimator sk-toggleable\"><input class=\"sk-toggleable__control sk-hidden--visually\" id=\"sk-estimator-id-38\" type=\"checkbox\" ><label for=\"sk-estimator-id-38\" class=\"sk-toggleable__label sk-toggleable__label-arrow\">XGBClassifier</label><div class=\"sk-toggleable__content\"><pre>XGBClassifier(base_score=None, booster=None, callbacks=None,\n",
              "              colsample_bylevel=None, colsample_bynode=None,\n",
              "              colsample_bytree=None, early_stopping_rounds=None,\n",
              "              enable_categorical=True, eta=0.05, eval_metric=&#x27;mae&#x27;,\n",
              "              feature_types=None, gamma=0.01, gpu_id=None, grow_policy=None,\n",
              "              importance_type=None, interaction_constraints=None,\n",
              "              learning_rate=None, max_bin=None, max_cat_threshold=None,\n",
              "              max_cat_to_onehot=None, max_delta_step=None, max_depth=6,\n",
              "              max_leaves=None, min_child_weight=0.1, missing=nan,\n",
              "              monotone_constraints=None, n_estimators=1500, n_jobs=None,\n",
              "              num_parallel_tree=None, objective=&#x27;reg:linear&#x27;, ...)</pre></div></div></div></div></div></div><div class=\"sk-parallel-item\"><div class=\"sk-item\"><div class=\"sk-label-container\"><div class=\"sk-label sk-toggleable\"><label>LightGBM</label></div></div><div class=\"sk-serial\"><div class=\"sk-item\"><div class=\"sk-estimator sk-toggleable\"><input class=\"sk-toggleable__control sk-hidden--visually\" id=\"sk-estimator-id-39\" type=\"checkbox\" ><label for=\"sk-estimator-id-39\" class=\"sk-toggleable__label sk-toggleable__label-arrow\">LGBMClassifier</label><div class=\"sk-toggleable__content\"><pre>LGBMClassifier(categorical_feature=[1, 2, 3], feature_fraction=0.98,\n",
              "               learning_rate=0.001, min_child_samples=None, min_data_in_leaf=5,\n",
              "               n_estimators=1500, num_leaves=200, reg_alpha=3.0,\n",
              "               reg_lambda=5.0)</pre></div></div></div></div></div></div><div class=\"sk-parallel-item\"><div class=\"sk-item\"><div class=\"sk-label-container\"><div class=\"sk-label sk-toggleable\"><label>CatBoost</label></div></div><div class=\"sk-serial\"><div class=\"sk-item\"><div class=\"sk-estimator sk-toggleable\"><input class=\"sk-toggleable__control sk-hidden--visually\" id=\"sk-estimator-id-40\" type=\"checkbox\" ><label for=\"sk-estimator-id-40\" class=\"sk-toggleable__label sk-toggleable__label-arrow\">CatBoostClassifier</label><div class=\"sk-toggleable__content\"><pre>&lt;catboost.core.CatBoostClassifier object at 0x7f0b1a34b550&gt;</pre></div></div></div></div></div></div><div class=\"sk-parallel-item\"><div class=\"sk-item\"><div class=\"sk-label-container\"><div class=\"sk-label sk-toggleable\"><label>Random_forest</label></div></div><div class=\"sk-serial\"><div class=\"sk-item\"><div class=\"sk-serial\"><div class=\"sk-item sk-dashed-wrapped\"><div class=\"sk-label-container\"><div class=\"sk-label sk-toggleable\"><input class=\"sk-toggleable__control sk-hidden--visually\" id=\"sk-estimator-id-41\" type=\"checkbox\" ><label for=\"sk-estimator-id-41\" class=\"sk-toggleable__label sk-toggleable__label-arrow\">columntransformer: ColumnTransformer</label><div class=\"sk-toggleable__content\"><pre>ColumnTransformer(transformers=[(&#x27;numerical&#x27;,\n",
              "                                 Pipeline(steps=[(&#x27;imputer&#x27;, SimpleImputer()),\n",
              "                                                 (&#x27;scaler&#x27;, StandardScaler())]),\n",
              "                                 [&#x27;car_rating&#x27;, &#x27;year_to_start&#x27;, &#x27;riders&#x27;,\n",
              "                                  &#x27;year_to_work&#x27;, &#x27;mean_rating&#x27;, &#x27;distance_sum&#x27;,\n",
              "                                  &#x27;rating_min&#x27;, &#x27;speed_max&#x27;,\n",
              "                                  &#x27;user_ride_quality_median&#x27;,\n",
              "                                  &#x27;deviation_normal_count&#x27;, &#x27;user_uniq&#x27;]),\n",
              "                                (&#x27;categorical&#x27;,\n",
              "                                 Pipeline(steps=[(&#x27;imputer&#x27;,\n",
              "                                                  SimpleImputer(strategy=&#x27;most_frequent&#x27;)),\n",
              "                                                 (&#x27;onehot&#x27;,\n",
              "                                                  OneHotEncoder(handle_unknown=&#x27;ignore&#x27;))]),\n",
              "                                 [&#x27;model&#x27;, &#x27;car_type&#x27;, &#x27;fuel_type&#x27;])])</pre></div></div></div><div class=\"sk-parallel\"><div class=\"sk-parallel-item\"><div class=\"sk-item\"><div class=\"sk-label-container\"><div class=\"sk-label sk-toggleable\"><input class=\"sk-toggleable__control sk-hidden--visually\" id=\"sk-estimator-id-42\" type=\"checkbox\" ><label for=\"sk-estimator-id-42\" class=\"sk-toggleable__label sk-toggleable__label-arrow\">numerical</label><div class=\"sk-toggleable__content\"><pre>[&#x27;car_rating&#x27;, &#x27;year_to_start&#x27;, &#x27;riders&#x27;, &#x27;year_to_work&#x27;, &#x27;mean_rating&#x27;, &#x27;distance_sum&#x27;, &#x27;rating_min&#x27;, &#x27;speed_max&#x27;, &#x27;user_ride_quality_median&#x27;, &#x27;deviation_normal_count&#x27;, &#x27;user_uniq&#x27;]</pre></div></div></div><div class=\"sk-serial\"><div class=\"sk-item\"><div class=\"sk-serial\"><div class=\"sk-item\"><div class=\"sk-estimator sk-toggleable\"><input class=\"sk-toggleable__control sk-hidden--visually\" id=\"sk-estimator-id-43\" type=\"checkbox\" ><label for=\"sk-estimator-id-43\" class=\"sk-toggleable__label sk-toggleable__label-arrow\">SimpleImputer</label><div class=\"sk-toggleable__content\"><pre>SimpleImputer()</pre></div></div></div><div class=\"sk-item\"><div class=\"sk-estimator sk-toggleable\"><input class=\"sk-toggleable__control sk-hidden--visually\" id=\"sk-estimator-id-44\" type=\"checkbox\" ><label for=\"sk-estimator-id-44\" class=\"sk-toggleable__label sk-toggleable__label-arrow\">StandardScaler</label><div class=\"sk-toggleable__content\"><pre>StandardScaler()</pre></div></div></div></div></div></div></div></div><div class=\"sk-parallel-item\"><div class=\"sk-item\"><div class=\"sk-label-container\"><div class=\"sk-label sk-toggleable\"><input class=\"sk-toggleable__control sk-hidden--visually\" id=\"sk-estimator-id-45\" type=\"checkbox\" ><label for=\"sk-estimator-id-45\" class=\"sk-toggleable__label sk-toggleable__label-arrow\">categorical</label><div class=\"sk-toggleable__content\"><pre>[&#x27;model&#x27;, &#x27;car_type&#x27;, &#x27;fuel_type&#x27;]</pre></div></div></div><div class=\"sk-serial\"><div class=\"sk-item\"><div class=\"sk-serial\"><div class=\"sk-item\"><div class=\"sk-estimator sk-toggleable\"><input class=\"sk-toggleable__control sk-hidden--visually\" id=\"sk-estimator-id-46\" type=\"checkbox\" ><label for=\"sk-estimator-id-46\" class=\"sk-toggleable__label sk-toggleable__label-arrow\">SimpleImputer</label><div class=\"sk-toggleable__content\"><pre>SimpleImputer(strategy=&#x27;most_frequent&#x27;)</pre></div></div></div><div class=\"sk-item\"><div class=\"sk-estimator sk-toggleable\"><input class=\"sk-toggleable__control sk-hidden--visually\" id=\"sk-estimator-id-47\" type=\"checkbox\" ><label for=\"sk-estimator-id-47\" class=\"sk-toggleable__label sk-toggleable__label-arrow\">OneHotEncoder</label><div class=\"sk-toggleable__content\"><pre>OneHotEncoder(handle_unknown=&#x27;ignore&#x27;)</pre></div></div></div></div></div></div></div></div></div></div><div class=\"sk-item\"><div class=\"sk-estimator sk-toggleable\"><input class=\"sk-toggleable__control sk-hidden--visually\" id=\"sk-estimator-id-48\" type=\"checkbox\" ><label for=\"sk-estimator-id-48\" class=\"sk-toggleable__label sk-toggleable__label-arrow\">RandomForestClassifier</label><div class=\"sk-toggleable__content\"><pre>RandomForestClassifier(max_depth=7, min_samples_leaf=2, n_estimators=15000,\n",
              "                       n_jobs=-1, random_state=75, verbose=False,\n",
              "                       warm_start=True)</pre></div></div></div></div></div></div></div></div></div></div><div class=\"sk-item\"><div class=\"sk-parallel\"><div class=\"sk-parallel-item\"><div class=\"sk-item\"><div class=\"sk-label-container\"><div class=\"sk-label sk-toggleable\"><label>final_estimator</label></div></div><div class=\"sk-serial\"><div class=\"sk-item\"><div class=\"sk-estimator sk-toggleable\"><input class=\"sk-toggleable__control sk-hidden--visually\" id=\"sk-estimator-id-49\" type=\"checkbox\" ><label for=\"sk-estimator-id-49\" class=\"sk-toggleable__label sk-toggleable__label-arrow\">LogisticRegression</label><div class=\"sk-toggleable__content\"><pre>LogisticRegression(verbose=False)</pre></div></div></div></div></div></div></div></div></div></div></div></div>"
            ]
          },
          "metadata": {},
          "execution_count": 25
        }
      ],
      "source": [
        "stacking_classifier.fit(X_train, y_train)"
      ]
    },
    {
      "cell_type": "code",
      "execution_count": null,
      "id": "59a98387-5485-434f-8463-fc3a21bdabb6",
      "metadata": {
        "id": "59a98387-5485-434f-8463-fc3a21bdabb6"
      },
      "outputs": [],
      "source": [
        "# for i in stacking_classifier.estimators:\n",
        "#     print(i[0])"
      ]
    },
    {
      "cell_type": "code",
      "execution_count": null,
      "id": "b4d36607-bb9d-4dd7-bdda-841c11bb4203",
      "metadata": {
        "id": "b4d36607-bb9d-4dd7-bdda-841c11bb4203"
      },
      "outputs": [],
      "source": [
        "# dir(stacking_classifier)"
      ]
    },
    {
      "cell_type": "code",
      "execution_count": null,
      "id": "cf3cfb54-c3a2-49d8-b83b-2a529a2fe84c",
      "metadata": {
        "id": "cf3cfb54-c3a2-49d8-b83b-2a529a2fe84c",
        "colab": {
          "base_uri": "https://localhost:8080/"
        },
        "outputId": "e147c27b-bcd7-427c-edab-f825c73d01b6"
      },
      "outputs": [
        {
          "output_type": "stream",
          "name": "stdout",
          "text": [
            "ExtraTrees accuracy:  0.7368\n",
            "XGBoost accuracy:  0.7949\n",
            "LightGBM accuracy:  0.8085\n",
            "CatBoost accuracy:  0.8034\n",
            "Random_forest accuracy:  0.7487\n"
          ]
        }
      ],
      "source": [
        "corr_df = pd.DataFrame()\n",
        "\n",
        "for model, (name, _) in zip(stacking_classifier.estimators_, stacking_classifier.estimators):\n",
        "    preprocessed = stacking_classifier.estimators[0][1].steps[0][1].fit(X_train, y_train).transform(X_val)\n",
        "    print(name, 'accuracy: ', round(accuracy_score(model.predict(X_val), y_val), 4))\n",
        "\n",
        "    corr_df[name] = model.predict(X_val)\n"
      ]
    },
    {
      "cell_type": "code",
      "execution_count": null,
      "id": "c2cf63af-64ef-4fe7-b5b7-46c42dff997c",
      "metadata": {
        "id": "c2cf63af-64ef-4fe7-b5b7-46c42dff997c",
        "colab": {
          "base_uri": "https://localhost:8080/",
          "height": 204
        },
        "outputId": "39750f6b-6e9a-4671-8904-482a8a9643a6"
      },
      "outputs": [
        {
          "output_type": "execute_result",
          "data": {
            "text/plain": [
              "<pandas.io.formats.style.Styler at 0x7f0b197b9d80>"
            ],
            "text/html": [
              "<style type=\"text/css\">\n",
              "#T_df9ad_row0_col0, #T_df9ad_row1_col1, #T_df9ad_row2_col2, #T_df9ad_row3_col3, #T_df9ad_row4_col4 {\n",
              "  background-color: #006837;\n",
              "  color: #f1f1f1;\n",
              "}\n",
              "#T_df9ad_row0_col1, #T_df9ad_row0_col2, #T_df9ad_row0_col3, #T_df9ad_row0_col4, #T_df9ad_row4_col0 {\n",
              "  background-color: #a50026;\n",
              "  color: #f1f1f1;\n",
              "}\n",
              "#T_df9ad_row1_col0 {\n",
              "  background-color: #d42d27;\n",
              "  color: #f1f1f1;\n",
              "}\n",
              "#T_df9ad_row1_col2 {\n",
              "  background-color: #45ad5b;\n",
              "  color: #f1f1f1;\n",
              "}\n",
              "#T_df9ad_row1_col3 {\n",
              "  background-color: #afdd70;\n",
              "  color: #000000;\n",
              "}\n",
              "#T_df9ad_row1_col4 {\n",
              "  background-color: #b7e075;\n",
              "  color: #000000;\n",
              "}\n",
              "#T_df9ad_row2_col0 {\n",
              "  background-color: #c41e27;\n",
              "  color: #f1f1f1;\n",
              "}\n",
              "#T_df9ad_row2_col1 {\n",
              "  background-color: #48ae5c;\n",
              "  color: #f1f1f1;\n",
              "}\n",
              "#T_df9ad_row2_col3 {\n",
              "  background-color: #6ec064;\n",
              "  color: #000000;\n",
              "}\n",
              "#T_df9ad_row2_col4 {\n",
              "  background-color: #a2d76a;\n",
              "  color: #000000;\n",
              "}\n",
              "#T_df9ad_row3_col0 {\n",
              "  background-color: #d02927;\n",
              "  color: #f1f1f1;\n",
              "}\n",
              "#T_df9ad_row3_col1, #T_df9ad_row3_col4 {\n",
              "  background-color: #b1de71;\n",
              "  color: #000000;\n",
              "}\n",
              "#T_df9ad_row3_col2 {\n",
              "  background-color: #6bbf64;\n",
              "  color: #000000;\n",
              "}\n",
              "#T_df9ad_row4_col1 {\n",
              "  background-color: #c9e881;\n",
              "  color: #000000;\n",
              "}\n",
              "#T_df9ad_row4_col2 {\n",
              "  background-color: #addc6f;\n",
              "  color: #000000;\n",
              "}\n",
              "#T_df9ad_row4_col3 {\n",
              "  background-color: #c1e57b;\n",
              "  color: #000000;\n",
              "}\n",
              "</style>\n",
              "<table id=\"T_df9ad\" class=\"dataframe\">\n",
              "  <thead>\n",
              "    <tr>\n",
              "      <th class=\"blank level0\" >&nbsp;</th>\n",
              "      <th id=\"T_df9ad_level0_col0\" class=\"col_heading level0 col0\" >ExtraTrees</th>\n",
              "      <th id=\"T_df9ad_level0_col1\" class=\"col_heading level0 col1\" >XGBoost</th>\n",
              "      <th id=\"T_df9ad_level0_col2\" class=\"col_heading level0 col2\" >LightGBM</th>\n",
              "      <th id=\"T_df9ad_level0_col3\" class=\"col_heading level0 col3\" >CatBoost</th>\n",
              "      <th id=\"T_df9ad_level0_col4\" class=\"col_heading level0 col4\" >Random_forest</th>\n",
              "    </tr>\n",
              "  </thead>\n",
              "  <tbody>\n",
              "    <tr>\n",
              "      <th id=\"T_df9ad_level0_row0\" class=\"row_heading level0 row0\" >ExtraTrees</th>\n",
              "      <td id=\"T_df9ad_row0_col0\" class=\"data row0 col0\" >1.000000</td>\n",
              "      <td id=\"T_df9ad_row0_col1\" class=\"data row0 col1\" >0.856435</td>\n",
              "      <td id=\"T_df9ad_row0_col2\" class=\"data row0 col2\" >0.851740</td>\n",
              "      <td id=\"T_df9ad_row0_col3\" class=\"data row0 col3\" >0.855011</td>\n",
              "      <td id=\"T_df9ad_row0_col4\" class=\"data row0 col4\" >0.841299</td>\n",
              "    </tr>\n",
              "    <tr>\n",
              "      <th id=\"T_df9ad_level0_row1\" class=\"row_heading level0 row1\" >XGBoost</th>\n",
              "      <td id=\"T_df9ad_row1_col0\" class=\"data row1 col0\" >0.856435</td>\n",
              "      <td id=\"T_df9ad_row1_col1\" class=\"data row1 col1\" >1.000000</td>\n",
              "      <td id=\"T_df9ad_row1_col2\" class=\"data row1 col2\" >0.976487</td>\n",
              "      <td id=\"T_df9ad_row1_col3\" class=\"data row1 col3\" >0.953732</td>\n",
              "      <td id=\"T_df9ad_row1_col4\" class=\"data row1 col4\" >0.946774</td>\n",
              "    </tr>\n",
              "    <tr>\n",
              "      <th id=\"T_df9ad_level0_row2\" class=\"row_heading level0 row2\" >LightGBM</th>\n",
              "      <td id=\"T_df9ad_row2_col0\" class=\"data row2 col0\" >0.851740</td>\n",
              "      <td id=\"T_df9ad_row2_col1\" class=\"data row2 col1\" >0.976487</td>\n",
              "      <td id=\"T_df9ad_row2_col2\" class=\"data row2 col2\" >1.000000</td>\n",
              "      <td id=\"T_df9ad_row2_col3\" class=\"data row2 col3\" >0.969285</td>\n",
              "      <td id=\"T_df9ad_row2_col4\" class=\"data row2 col4\" >0.953330</td>\n",
              "    </tr>\n",
              "    <tr>\n",
              "      <th id=\"T_df9ad_level0_row3\" class=\"row_heading level0 row3\" >CatBoost</th>\n",
              "      <td id=\"T_df9ad_row3_col0\" class=\"data row3 col0\" >0.855011</td>\n",
              "      <td id=\"T_df9ad_row3_col1\" class=\"data row3 col1\" >0.953732</td>\n",
              "      <td id=\"T_df9ad_row3_col2\" class=\"data row3 col2\" >0.969285</td>\n",
              "      <td id=\"T_df9ad_row3_col3\" class=\"data row3 col3\" >1.000000</td>\n",
              "      <td id=\"T_df9ad_row3_col4\" class=\"data row3 col4\" >0.948848</td>\n",
              "    </tr>\n",
              "    <tr>\n",
              "      <th id=\"T_df9ad_level0_row4\" class=\"row_heading level0 row4\" >Random_forest</th>\n",
              "      <td id=\"T_df9ad_row4_col0\" class=\"data row4 col0\" >0.841299</td>\n",
              "      <td id=\"T_df9ad_row4_col1\" class=\"data row4 col1\" >0.946774</td>\n",
              "      <td id=\"T_df9ad_row4_col2\" class=\"data row4 col2\" >0.953330</td>\n",
              "      <td id=\"T_df9ad_row4_col3\" class=\"data row4 col3\" >0.948848</td>\n",
              "      <td id=\"T_df9ad_row4_col4\" class=\"data row4 col4\" >1.000000</td>\n",
              "    </tr>\n",
              "  </tbody>\n",
              "</table>\n"
            ]
          },
          "metadata": {},
          "execution_count": 29
        }
      ],
      "source": [
        "corr_df.corr().style.background_gradient(cmap=\"RdYlGn\")"
      ]
    },
    {
      "cell_type": "code",
      "execution_count": null,
      "id": "f91223b7-e4c6-427b-9e71-cd38992f8d15",
      "metadata": {
        "id": "f91223b7-e4c6-427b-9e71-cd38992f8d15"
      },
      "outputs": [],
      "source": [
        "# Random_forest сильно коррелирует с другими моделями,\n",
        "# поэтому он снижает качество ансамбля.\n",
        "# Попробуйте его убрать"
      ]
    },
    {
      "cell_type": "code",
      "execution_count": null,
      "id": "b2683c31-d7f0-4f16-ad9f-67ece32f5d70",
      "metadata": {
        "id": "b2683c31-d7f0-4f16-ad9f-67ece32f5d70",
        "colab": {
          "base_uri": "https://localhost:8080/"
        },
        "outputId": "e3970074-1990-4139-af3d-61b0c1d6c0e6"
      },
      "outputs": [
        {
          "output_type": "stream",
          "name": "stdout",
          "text": [
            "ensemble score: 0.8051\n"
          ]
        }
      ],
      "source": [
        "print('ensemble score:', round(accuracy_score(stacking_classifier.predict(X_val), y_val), 4))\n",
        "# как вы можете заметить ансамбль довольно заметно улучшил качество решения"
      ]
    },
    {
      "cell_type": "markdown",
      "id": "d25287b1-385c-4d27-b25a-c03833cb72a2",
      "metadata": {
        "id": "d25287b1-385c-4d27-b25a-c03833cb72a2"
      },
      "source": [
        "# Комментарии\n",
        "\n",
        "* 📈 Да, скор ансамбля вырос, но есть много **\"но\"** у этой реализации\n",
        "* ⚠️ Тут в качестве мета-модели использовалась `LogisticRegression`, что по сути является обычным блендингом, но с кросс-валидацией.\n",
        "* 🧩 Слабые или похожие модели мешают ансамблю поднять скор (Если убрать `RandomForest` скор поднимется)\n",
        "* 🍏 Стекинг можно усложнить, подавая мета-модели еще признаки при этом используя более сложную meta-модедь.\n",
        "* 🤔 Тогда в зависимости от свойств объекта, мета модели, такие как `RandomForestClassifier` могут принимать решение оптимальнее.\n",
        "* ☹️ В рамках `pipeline` в `Sklearn` это сделать сложнее. Надо взять что-то другое."
      ]
    },
    {
      "cell_type": "markdown",
      "id": "105f7916-ac2a-4baa-9d91-ebdecd23808f",
      "metadata": {
        "id": "105f7916-ac2a-4baa-9d91-ebdecd23808f"
      },
      "source": [
        "* Не всем можно запухнуть в `pipeline`. Например `eval_set` для `early-stopping`а или класс `train` от `LightGBM`\n",
        "* Что есть еще? Об этом позже"
      ]
    },
    {
      "cell_type": "markdown",
      "id": "cc6a60fb-a77b-4f71-9ed6-413638b842d5",
      "metadata": {
        "id": "cc6a60fb-a77b-4f71-9ed6-413638b842d5"
      },
      "source": [
        "# <center> 📚 Дополнительная литература\n",
        "- [Статья Александра Дьяконова про Стекинг и Блендинг](https://alexanderdyakonov.wordpress.com/2017/03/10/c%D1%82%D0%B5%D0%BA%D0%B8%D0%BD%D0%B3-stacking-%D0%B8-%D0%B1%D0%BB%D0%B5%D0%BD%D0%B4%D0%B8%D0%BD%D0%B3-blending/)\n",
        "- [Пример решения, где  `LigthGBM` в качестве мета модели](https://www.youtube.com/watch?v=aMlpeDOjib8)"
      ]
    },
    {
      "cell_type": "markdown",
      "id": "f7dcf43b-5396-425c-a6ef-2398a5c73552",
      "metadata": {
        "id": "f7dcf43b-5396-425c-a6ef-2398a5c73552"
      },
      "source": [
        "# <center> 🧸 Выводы и заключения"
      ]
    },
    {
      "cell_type": "markdown",
      "id": "36e25b11-bada-455e-83bf-4391d6432a6e",
      "metadata": {
        "id": "36e25b11-bada-455e-83bf-4391d6432a6e"
      },
      "source": [
        "<div class=\"alert alert-info\">\n",
        "\n",
        "* `sklearn.Pipelines` это очень сильный инструмент, позволяющий упаковать весь процесс обучения модели в один механизм\n",
        "* Легко добавлять новые модели и который легко применять на инференсе.\n",
        "* Это один из тех инструментов, который часто используется не только на соревнованиях, но и в обычной работе засчет своей элегантности и простоты."
      ]
    },
    {
      "cell_type": "code",
      "execution_count": null,
      "id": "7c81cc06-1418-4f2e-9e76-56773d7a62a4",
      "metadata": {
        "id": "7c81cc06-1418-4f2e-9e76-56773d7a62a4"
      },
      "outputs": [],
      "source": []
    },
    {
      "cell_type": "code",
      "execution_count": null,
      "id": "8ea5a200-a930-467b-8794-bf238db57da0",
      "metadata": {
        "id": "8ea5a200-a930-467b-8794-bf238db57da0"
      },
      "outputs": [],
      "source": []
    },
    {
      "cell_type": "code",
      "execution_count": null,
      "id": "a62421d4-8d3d-4e80-83cd-51e4bc2bbad1",
      "metadata": {
        "id": "a62421d4-8d3d-4e80-83cd-51e4bc2bbad1"
      },
      "outputs": [],
      "source": []
    },
    {
      "cell_type": "code",
      "execution_count": null,
      "id": "48f5d5d6-27fc-476e-ba6f-61fe126df74e",
      "metadata": {
        "id": "48f5d5d6-27fc-476e-ba6f-61fe126df74e"
      },
      "outputs": [],
      "source": []
    }
  ],
  "metadata": {
    "kernelspec": {
      "display_name": "Python 3 (ipykernel)",
      "language": "python",
      "name": "python3"
    },
    "language_info": {
      "codemirror_mode": {
        "name": "ipython",
        "version": 3
      },
      "file_extension": ".py",
      "mimetype": "text/x-python",
      "name": "python",
      "nbconvert_exporter": "python",
      "pygments_lexer": "ipython3",
      "version": "3.9.15"
    },
    "colab": {
      "provenance": []
    }
  },
  "nbformat": 4,
  "nbformat_minor": 5
}