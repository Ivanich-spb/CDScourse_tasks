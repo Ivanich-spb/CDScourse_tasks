{
 "cells": [
  {
   "cell_type": "markdown",
   "id": "819166a6-2da7-4370-b471-5a8cf38adcb8",
   "metadata": {
    "id": "819166a6-2da7-4370-b471-5a8cf38adcb8"
   },
   "source": [
    "# <center>[⏱ Оптимизация памяти и ускорение вычислений](https://stepik.org/lesson/825508/)</center>"
   ]
  },
  {
   "cell_type": "markdown",
   "id": "8076ac87-62a0-4fb1-9176-211665c6d183",
   "metadata": {
    "id": "8076ac87-62a0-4fb1-9176-211665c6d183"
   },
   "source": [
    "### Оглавление ноутбука\n",
    "\n",
    "<img src='https://raw.githubusercontent.com/a-milenkin/Competitive_Data_Science/main/images/speed_up.png'/>\n",
    "<br>\n",
    "\n",
    "<p><font size=\"3\" face=\"Arial\" font-size=\"large\"><ul type=\"square\">\n",
    "    \n",
    "<li><a href=\"#c1\">👁 Считывание и сохранение больших датафреймов</a></li>\n",
    "<li><a href=\"#c2\">🗜 Оптимизация памяти</a></li>\n",
    "<li><a href=\"#c3\">🥌 Ускорение при помощи `Numpy`</a></li>\n",
    "<li><a href=\"#c4\">🍢 Векторизация в `pandas`</a></li>\n",
    "<li><a href=\"#c5\">⚡️ `Numba Jit`</a></li>\n",
    "<li><a href=\"#c6\">🧵 Multiprocessing</a></li>\n",
    "<li><a href=\"#c7\">👻 Выводы</a>\n",
    "\n",
    "</li></ul></font></p>\n",
    "\n",
    "    "
   ]
  },
  {
   "cell_type": "markdown",
   "id": "14516664-8f9f-439a-aa66-3d427a6b47ad",
   "metadata": {
    "id": "14516664-8f9f-439a-aa66-3d427a6b47ad"
   },
   "source": [
    "<div class=\"alert alert-info\">\n",
    "Когда речь заходит о работе с действительно большими данными скорость работы программы и кол-во памяти, которое ей требуется могут стать одним из главных боттлнеков в вашей программе. Особенно если вы ограничены в ресурсах (как например часто бывает на Kaggle) и вам нужно, чтобы ваше решение отработало не только четко, но еще и быстро. В этом уроке мы рассмотрим подходы и методы с помощью которых можно сэкономить память и ускорить ваши вычисления."
   ]
  },
  {
   "cell_type": "markdown",
   "id": "4b875f96-8161-47fd-8a9b-fb8b53d1c4de",
   "metadata": {
    "id": "4b875f96-8161-47fd-8a9b-fb8b53d1c4de"
   },
   "source": [
    "## Импортируем библиотеки"
   ]
  },
  {
   "cell_type": "code",
   "execution_count": null,
   "id": "f1f7d85a",
   "metadata": {
    "id": "f1f7d85a"
   },
   "outputs": [],
   "source": [
    "import pandas as pd\n",
    "import numpy as np\n",
    "import matplotlib.pyplot as plt"
   ]
  },
  {
   "cell_type": "markdown",
   "id": "96e5a0b7-076a-4bc8-912e-19271aa0a0de",
   "metadata": {
    "id": "96e5a0b7-076a-4bc8-912e-19271aa0a0de",
    "tags": []
   },
   "source": [
    "# <center> 👁 Считывание и сохранение больших датафреймов </center>\n",
    "\n",
    "<p id=\"c1\"></p>   "
   ]
  },
  {
   "cell_type": "markdown",
   "id": "312188a4-53f8-44ab-8cb3-45e5d36ede58",
   "metadata": {
    "id": "312188a4-53f8-44ab-8cb3-45e5d36ede58",
    "tags": []
   },
   "source": [
    "### Работа с `pickle`"
   ]
  },
  {
   "cell_type": "markdown",
   "id": "2a9dcb00-0cd5-46ae-875d-3e8af85ca489",
   "metadata": {
    "id": "2a9dcb00-0cd5-46ae-875d-3e8af85ca489"
   },
   "source": [
    "<div class=\"alert alert-info\">\n",
    "\n",
    "`Pickle` это отличная альтернатива привычным нам `.csv` файлам при работе с большими файлами. Мало того, что он считывает и сохраняет все в разы быстрее, так еще и место на диске такой файл занимает меньше. Также при использование `to_pickle()` сохраняются индексы и все типы колонок, так что при его последующем считывании датафрейм будет точно таким же, и его не нужно будет повторно оптимизировать при каждом открытии, как при использовании CSV формата."
   ]
  },
  {
   "cell_type": "code",
   "execution_count": null,
   "id": "a1fddb2f-ea96-4357-8b9a-8b261c74b87a",
   "metadata": {
    "colab": {
     "base_uri": "https://localhost:8080/"
    },
    "id": "a1fddb2f-ea96-4357-8b9a-8b261c74b87a",
    "outputId": "89ae8e0c-12d9-4bbb-8577-652c5ab6bb09"
   },
   "outputs": [
    {
     "name": "stdout",
     "output_type": "stream",
     "text": [
      "/usr/local/lib/python3.10/dist-packages/gdown/cli.py:121: FutureWarning: Option `--id` was deprecated in version 4.3.1 and will be removed in 5.0. You don't need to pass it anymore to use a file ID.\n",
      "  warnings.warn(\n",
      "Downloading...\n",
      "From: https://drive.google.com/uc?id=1Sjb6EYfz23ZuqBGYZfkmhWnBbHQBf6Ke\n",
      "To: /content/text_classification_train.csv\n",
      "100% 235M/235M [00:01<00:00, 131MB/s]\n",
      "CPU times: user 26.3 ms, sys: 11.7 ms, total: 38 ms\n",
      "Wall time: 2.63 s\n"
     ]
    }
   ],
   "source": [
    "!gdown 1Sjb6EYfz23ZuqBGYZfkmhWnBbHQBf6Ke"
   ]
  },
  {
   "cell_type": "code",
   "execution_count": null,
   "id": "OVC8gXr22ec2",
   "metadata": {
    "id": "OVC8gXr22ec2"
   },
   "outputs": [],
   "source": [
    "data = pd.read_csv('text_classification_train.csv')"
   ]
  },
  {
   "cell_type": "code",
   "execution_count": null,
   "id": "d8351a2a-ee31-4bcc-bc99-06358011364f",
   "metadata": {
    "colab": {
     "base_uri": "https://localhost:8080/"
    },
    "id": "d8351a2a-ee31-4bcc-bc99-06358011364f",
    "outputId": "0891a918-364d-4db5-c3bc-b8f283ea7e21"
   },
   "outputs": [
    {
     "data": {
      "text/plain": [
       "(7500, 2622)"
      ]
     },
     "execution_count": 4,
     "metadata": {},
     "output_type": "execute_result"
    }
   ],
   "source": [
    "data.shape"
   ]
  },
  {
   "cell_type": "code",
   "execution_count": null,
   "id": "119088ac-d4bc-4eee-aa27-c1f44501bdcb",
   "metadata": {
    "colab": {
     "base_uri": "https://localhost:8080/"
    },
    "id": "119088ac-d4bc-4eee-aa27-c1f44501bdcb",
    "outputId": "0c8a2558-d785-4aba-b19e-563d77a68cf2"
   },
   "outputs": [
    {
     "name": "stdout",
     "output_type": "stream",
     "text": [
      "CPU times: user 17.7 s, sys: 325 ms, total: 18 s\n",
      "Wall time: 24.4 s\n"
     ]
    }
   ],
   "source": [
    "%%time\n",
    "\n",
    "#data.to_csv('../data/blending/text_classification_train.csv')\n",
    "data.to_csv('text_classification_train.csv')"
   ]
  },
  {
   "cell_type": "code",
   "execution_count": null,
   "id": "4a416d50-1add-4197-ac5e-ce494c8c9a5d",
   "metadata": {
    "colab": {
     "base_uri": "https://localhost:8080/"
    },
    "id": "4a416d50-1add-4197-ac5e-ce494c8c9a5d",
    "outputId": "002aa2a3-865b-4104-9f10-16a81af7cc33"
   },
   "outputs": [
    {
     "name": "stdout",
     "output_type": "stream",
     "text": [
      "CPU times: user 20.9 ms, sys: 121 ms, total: 142 ms\n",
      "Wall time: 208 ms\n"
     ]
    }
   ],
   "source": [
    "%%time\n",
    "\n",
    "#pd.to_pickle(data, '../data/blending/text_classification_train.pickle')\n",
    "pd.to_pickle(data, 'text_classification_train.pickle')"
   ]
  },
  {
   "cell_type": "code",
   "execution_count": null,
   "id": "e7a99dac-5fdf-4c2e-8952-8aa12f91d109",
   "metadata": {
    "colab": {
     "base_uri": "https://localhost:8080/"
    },
    "id": "e7a99dac-5fdf-4c2e-8952-8aa12f91d109",
    "outputId": "3e174a11-565e-4f65-af6e-e55a98aecef8"
   },
   "outputs": [
    {
     "name": "stdout",
     "output_type": "stream",
     "text": [
      "CPU times: user 21.6 ms, sys: 68.6 ms, total: 90.2 ms\n",
      "Wall time: 96.4 ms\n"
     ]
    }
   ],
   "source": [
    "%%time\n",
    "\n",
    "#data = pd.read_pickle('../data/blending/text_classification_train.pickle')\n",
    "data = pd.read_pickle('text_classification_train.pickle')"
   ]
  },
  {
   "cell_type": "code",
   "execution_count": null,
   "id": "2038f301-ef7d-4538-80ac-d083dcccf130",
   "metadata": {
    "colab": {
     "base_uri": "https://localhost:8080/"
    },
    "id": "2038f301-ef7d-4538-80ac-d083dcccf130",
    "outputId": "40aa4b58-42b7-44e3-e4a3-401754e0cc7c"
   },
   "outputs": [
    {
     "name": "stdout",
     "output_type": "stream",
     "text": [
      "<class 'pandas.core.frame.DataFrame'>\n",
      "RangeIndex: 7500 entries, 0 to 7499\n",
      "Columns: 2622 entries, Unnamed: 0.3 to labse_text_feature_767\n",
      "dtypes: float64(2616), int64(4), object(2)\n",
      "memory usage: 150.0+ MB\n"
     ]
    }
   ],
   "source": [
    "data.info()"
   ]
  },
  {
   "cell_type": "markdown",
   "id": "0ee11181-1394-4672-bb56-b8de49d398ae",
   "metadata": {
    "id": "0ee11181-1394-4672-bb56-b8de49d398ae",
    "tags": []
   },
   "source": [
    "### Считывание по батчам"
   ]
  },
  {
   "cell_type": "markdown",
   "id": "b3514e08-945c-4bd2-8954-f19173d79657",
   "metadata": {
    "id": "b3514e08-945c-4bd2-8954-f19173d79657"
   },
   "source": [
    "<div class=\"alert alert-info\">\n",
    "\n",
    "Если ваш датасет не умещается в память без оптимизации типов или он не нужен вам целиком, то можно считывать по батчам и сразу указывать необхоимые типы, индексы и тд. В параметр `chunksize` - передается число сэмплов, которое будет считываться за 1 итерацию."
   ]
  },
  {
   "cell_type": "code",
   "execution_count": null,
   "id": "529fee35-8548-4a24-9b13-fec8ba55802c",
   "metadata": {
    "colab": {
     "base_uri": "https://localhost:8080/",
     "height": 235
    },
    "id": "529fee35-8548-4a24-9b13-fec8ba55802c",
    "outputId": "cb3a82ee-b065-4550-fa88-ed2c10e92ac8"
   },
   "outputs": [
    {
     "data": {
      "text/html": [
       "\n",
       "  <div id=\"df-d900e954-18f5-4d91-a0f8-9e44b7884e45\">\n",
       "    <div class=\"colab-df-container\">\n",
       "      <div>\n",
       "<style scoped>\n",
       "    .dataframe tbody tr th:only-of-type {\n",
       "        vertical-align: middle;\n",
       "    }\n",
       "\n",
       "    .dataframe tbody tr th {\n",
       "        vertical-align: top;\n",
       "    }\n",
       "\n",
       "    .dataframe thead th {\n",
       "        text-align: right;\n",
       "    }\n",
       "</style>\n",
       "<table border=\"1\" class=\"dataframe\">\n",
       "  <thead>\n",
       "    <tr style=\"text-align: right;\">\n",
       "      <th></th>\n",
       "      <th>model</th>\n",
       "      <th>car_type</th>\n",
       "      <th>fuel_type</th>\n",
       "      <th>car_rating</th>\n",
       "      <th>year_to_start</th>\n",
       "      <th>riders</th>\n",
       "      <th>year_to_work</th>\n",
       "      <th>target_reg</th>\n",
       "      <th>target_class</th>\n",
       "    </tr>\n",
       "    <tr>\n",
       "      <th>car_id</th>\n",
       "      <th></th>\n",
       "      <th></th>\n",
       "      <th></th>\n",
       "      <th></th>\n",
       "      <th></th>\n",
       "      <th></th>\n",
       "      <th></th>\n",
       "      <th></th>\n",
       "      <th></th>\n",
       "    </tr>\n",
       "  </thead>\n",
       "  <tbody>\n",
       "    <tr>\n",
       "      <th>y13744087j</th>\n",
       "      <td>Kia Rio X-line</td>\n",
       "      <td>economy</td>\n",
       "      <td>petrol</td>\n",
       "      <td>3.78</td>\n",
       "      <td>2015</td>\n",
       "      <td>76163</td>\n",
       "      <td>2021</td>\n",
       "      <td>108.53</td>\n",
       "      <td>another_bug</td>\n",
       "    </tr>\n",
       "    <tr>\n",
       "      <th>O41613818T</th>\n",
       "      <td>VW Polo VI</td>\n",
       "      <td>economy</td>\n",
       "      <td>petrol</td>\n",
       "      <td>3.90</td>\n",
       "      <td>2015</td>\n",
       "      <td>78218</td>\n",
       "      <td>2021</td>\n",
       "      <td>35.20</td>\n",
       "      <td>electro_bug</td>\n",
       "    </tr>\n",
       "    <tr>\n",
       "      <th>d-2109686j</th>\n",
       "      <td>Renault Sandero</td>\n",
       "      <td>standart</td>\n",
       "      <td>petrol</td>\n",
       "      <td>6.30</td>\n",
       "      <td>2012</td>\n",
       "      <td>23340</td>\n",
       "      <td>2017</td>\n",
       "      <td>38.62</td>\n",
       "      <td>gear_stick</td>\n",
       "    </tr>\n",
       "    <tr>\n",
       "      <th>u29695600e</th>\n",
       "      <td>Mercedes-Benz GLC</td>\n",
       "      <td>business</td>\n",
       "      <td>petrol</td>\n",
       "      <td>4.04</td>\n",
       "      <td>2011</td>\n",
       "      <td>1263</td>\n",
       "      <td>2020</td>\n",
       "      <td>30.34</td>\n",
       "      <td>engine_fuel</td>\n",
       "    </tr>\n",
       "    <tr>\n",
       "      <th>N-8915870N</th>\n",
       "      <td>Renault Sandero</td>\n",
       "      <td>standart</td>\n",
       "      <td>petrol</td>\n",
       "      <td>4.70</td>\n",
       "      <td>2012</td>\n",
       "      <td>26428</td>\n",
       "      <td>2017</td>\n",
       "      <td>30.45</td>\n",
       "      <td>engine_fuel</td>\n",
       "    </tr>\n",
       "  </tbody>\n",
       "</table>\n",
       "</div>\n",
       "      <button class=\"colab-df-convert\" onclick=\"convertToInteractive('df-d900e954-18f5-4d91-a0f8-9e44b7884e45')\"\n",
       "              title=\"Convert this dataframe to an interactive table.\"\n",
       "              style=\"display:none;\">\n",
       "        \n",
       "  <svg xmlns=\"http://www.w3.org/2000/svg\" height=\"24px\"viewBox=\"0 0 24 24\"\n",
       "       width=\"24px\">\n",
       "    <path d=\"M0 0h24v24H0V0z\" fill=\"none\"/>\n",
       "    <path d=\"M18.56 5.44l.94 2.06.94-2.06 2.06-.94-2.06-.94-.94-2.06-.94 2.06-2.06.94zm-11 1L8.5 8.5l.94-2.06 2.06-.94-2.06-.94L8.5 2.5l-.94 2.06-2.06.94zm10 10l.94 2.06.94-2.06 2.06-.94-2.06-.94-.94-2.06-.94 2.06-2.06.94z\"/><path d=\"M17.41 7.96l-1.37-1.37c-.4-.4-.92-.59-1.43-.59-.52 0-1.04.2-1.43.59L10.3 9.45l-7.72 7.72c-.78.78-.78 2.05 0 2.83L4 21.41c.39.39.9.59 1.41.59.51 0 1.02-.2 1.41-.59l7.78-7.78 2.81-2.81c.8-.78.8-2.07 0-2.86zM5.41 20L4 18.59l7.72-7.72 1.47 1.35L5.41 20z\"/>\n",
       "  </svg>\n",
       "      </button>\n",
       "      \n",
       "  <style>\n",
       "    .colab-df-container {\n",
       "      display:flex;\n",
       "      flex-wrap:wrap;\n",
       "      gap: 12px;\n",
       "    }\n",
       "\n",
       "    .colab-df-convert {\n",
       "      background-color: #E8F0FE;\n",
       "      border: none;\n",
       "      border-radius: 50%;\n",
       "      cursor: pointer;\n",
       "      display: none;\n",
       "      fill: #1967D2;\n",
       "      height: 32px;\n",
       "      padding: 0 0 0 0;\n",
       "      width: 32px;\n",
       "    }\n",
       "\n",
       "    .colab-df-convert:hover {\n",
       "      background-color: #E2EBFA;\n",
       "      box-shadow: 0px 1px 2px rgba(60, 64, 67, 0.3), 0px 1px 3px 1px rgba(60, 64, 67, 0.15);\n",
       "      fill: #174EA6;\n",
       "    }\n",
       "\n",
       "    [theme=dark] .colab-df-convert {\n",
       "      background-color: #3B4455;\n",
       "      fill: #D2E3FC;\n",
       "    }\n",
       "\n",
       "    [theme=dark] .colab-df-convert:hover {\n",
       "      background-color: #434B5C;\n",
       "      box-shadow: 0px 1px 3px 1px rgba(0, 0, 0, 0.15);\n",
       "      filter: drop-shadow(0px 1px 2px rgba(0, 0, 0, 0.3));\n",
       "      fill: #FFFFFF;\n",
       "    }\n",
       "  </style>\n",
       "\n",
       "      <script>\n",
       "        const buttonEl =\n",
       "          document.querySelector('#df-d900e954-18f5-4d91-a0f8-9e44b7884e45 button.colab-df-convert');\n",
       "        buttonEl.style.display =\n",
       "          google.colab.kernel.accessAllowed ? 'block' : 'none';\n",
       "\n",
       "        async function convertToInteractive(key) {\n",
       "          const element = document.querySelector('#df-d900e954-18f5-4d91-a0f8-9e44b7884e45');\n",
       "          const dataTable =\n",
       "            await google.colab.kernel.invokeFunction('convertToInteractive',\n",
       "                                                     [key], {});\n",
       "          if (!dataTable) return;\n",
       "\n",
       "          const docLinkHtml = 'Like what you see? Visit the ' +\n",
       "            '<a target=\"_blank\" href=https://colab.research.google.com/notebooks/data_table.ipynb>data table notebook</a>'\n",
       "            + ' to learn more about interactive tables.';\n",
       "          element.innerHTML = '';\n",
       "          dataTable['output_type'] = 'display_data';\n",
       "          await google.colab.output.renderOutput(dataTable, element);\n",
       "          const docLink = document.createElement('div');\n",
       "          docLink.innerHTML = docLinkHtml;\n",
       "          element.appendChild(docLink);\n",
       "        }\n",
       "      </script>\n",
       "    </div>\n",
       "  </div>\n",
       "  "
      ],
      "text/plain": [
       "                        model  car_type fuel_type  car_rating  year_to_start  \\\n",
       "car_id                                                                         \n",
       "y13744087j     Kia Rio X-line   economy    petrol        3.78           2015   \n",
       "O41613818T         VW Polo VI   economy    petrol        3.90           2015   \n",
       "d-2109686j    Renault Sandero  standart    petrol        6.30           2012   \n",
       "u29695600e  Mercedes-Benz GLC  business    petrol        4.04           2011   \n",
       "N-8915870N    Renault Sandero  standart    petrol        4.70           2012   \n",
       "\n",
       "            riders  year_to_work  target_reg target_class  \n",
       "car_id                                                     \n",
       "y13744087j   76163          2021      108.53  another_bug  \n",
       "O41613818T   78218          2021       35.20  electro_bug  \n",
       "d-2109686j   23340          2017       38.62   gear_stick  \n",
       "u29695600e    1263          2020       30.34  engine_fuel  \n",
       "N-8915870N   26428          2017       30.45  engine_fuel  "
      ]
     },
     "execution_count": 10,
     "metadata": {},
     "output_type": "execute_result"
    }
   ],
   "source": [
    "import gc\n",
    "\n",
    "data_root = \"https://raw.githubusercontent.com/a-milenkin/Competitive_Data_Science/main/data/\"\n",
    "\n",
    "chunksize = 1000\n",
    "tmp_lst = []\n",
    "with pd.read_csv(data_root + 'car_train.csv',\n",
    "                 index_col='car_id',\n",
    "                 dtype={'model': 'category',\n",
    "                        'car_type': 'category',\n",
    "                        'fuel_type': 'category',\n",
    "                        'target_class': 'category'}, chunksize=chunksize) as reader:\n",
    "    for chunk in reader:\n",
    "        tmp_lst.append(chunk)\n",
    "\n",
    "data = pd.concat(tmp_lst)\n",
    "\n",
    "del tmp_lst\n",
    "gc.collect()\n",
    "\n",
    "data.head()"
   ]
  },
  {
   "cell_type": "markdown",
   "id": "dfef92b6-4847-4663-9886-7cee0f0332ef",
   "metadata": {
    "id": "dfef92b6-4847-4663-9886-7cee0f0332ef"
   },
   "source": [
    "***Важно:*** Пока на какой-то объект в памяти есть ссылки, которые явно не удалили или не переназначили - этот объект будет занимать оперативную память, хотя он может больше не использоваться. Поэтому все временные объекты, которые больше не будут использоваться, лучше явно удалять, используя `del` и после этого запускать сборщик мусора gc - `garbage collector`,как в примере выше.\n",
    "```python\n",
    "import gc\n",
    "gc.collect()\n",
    "```"
   ]
  },
  {
   "cell_type": "markdown",
   "id": "2ef30edd-0204-449a-ac34-40ead2241ae6",
   "metadata": {
    "id": "2ef30edd-0204-449a-ac34-40ead2241ae6",
    "tags": []
   },
   "source": [
    "### Используем генератор"
   ]
  },
  {
   "cell_type": "markdown",
   "id": "0601941a-9756-4bdc-b166-a4823b290684",
   "metadata": {
    "id": "0601941a-9756-4bdc-b166-a4823b290684"
   },
   "source": [
    "<div class=\"alert alert-info\">\n",
    "Это особенно актуально, когда мы работаем с картинками - чтобы не хранить их всех в оперативной памяти, они считываются только перед тем как модель хочет посчитать по ним ошибку и скорректировать веса. Однако при работе с большими текстами тоже бывает полезно."
   ]
  },
  {
   "cell_type": "code",
   "execution_count": null,
   "id": "c342c156-f566-4830-992c-bb4672963efa",
   "metadata": {
    "id": "c342c156-f566-4830-992c-bb4672963efa"
   },
   "outputs": [],
   "source": [
    "def read_file(filename):\n",
    "    with open(filename, 'r') as f:\n",
    "        for line in f:\n",
    "            yield line.strip()"
   ]
  },
  {
   "cell_type": "code",
   "execution_count": null,
   "id": "h457DsqS-swc",
   "metadata": {
    "id": "h457DsqS-swc"
   },
   "outputs": [],
   "source": [
    "# fist download 'car_info.csv'\n",
    "car_info = pd.read_csv(data_root + 'car_info.csv')\n",
    "car_info.to_csv('car_info.csv')"
   ]
  },
  {
   "cell_type": "code",
   "execution_count": null,
   "id": "df28facc-3cd7-4e0d-be40-cf15b373b603",
   "metadata": {
    "colab": {
     "base_uri": "https://localhost:8080/",
     "height": 35
    },
    "id": "df28facc-3cd7-4e0d-be40-cf15b373b603",
    "outputId": "d14b8f61-2f72-4905-ff3c-af710e1994d4"
   },
   "outputs": [
    {
     "data": {
      "application/vnd.google.colaboratory.intrinsic+json": {
       "type": "string"
      },
      "text/plain": [
       "',car_type,fuel_type,car_rating,year_to_start,riders,car_id,model,target_class,year_to_work,target_reg'"
      ]
     },
     "execution_count": 13,
     "metadata": {},
     "output_type": "execute_result"
    }
   ],
   "source": [
    "it = read_file('car_info.csv')\n",
    "next(it)"
   ]
  },
  {
   "cell_type": "markdown",
   "id": "8dd1ce94-b62c-46c3-90d2-6b8db52228cc",
   "metadata": {
    "id": "8dd1ce94-b62c-46c3-90d2-6b8db52228cc",
    "tags": []
   },
   "source": [
    "# <center> 🗜 Оптимизация памяти </center>\n",
    "\n",
    "<p id=\"c2\"></p>   "
   ]
  },
  {
   "cell_type": "markdown",
   "id": "177af09b-3b79-4955-8875-4f07ca3e7e2b",
   "metadata": {
    "id": "177af09b-3b79-4955-8875-4f07ca3e7e2b"
   },
   "source": [
    "<div class=\"alert alert-info\">\n",
    "\n",
    "Самый эффективный способ оптимизации памяти, если вы не хотите удалять часть данных, это установка правильных типов. Если колонка имеет тип `int`, то не нужно ставить ей тип `float`, а если в ней всего несколько уникальных значений, то не нужно делать ее типом `string`. .Например, если в нашем датасете есть бинарная колонка в которой хранятся только 0 и 1, `pandas` хранит её как максимально возможный тип для целых чисел `int64`, хотя достаточно будет `int8`. При правильной постановке типов размер нового датасета обычно в несколько раз меньше (а то и на порядок), чем без них. Так же можно вынести какую-то колонку как индекс, чтобы не хранить лишний индекс, но это уже косметика."
   ]
  },
  {
   "cell_type": "markdown",
   "id": "aa2beb3b-0598-4510-9b00-5a43ef446e6e",
   "metadata": {
    "id": "aa2beb3b-0598-4510-9b00-5a43ef446e6e",
    "tags": []
   },
   "source": [
    "### Оптимизируем числовые типы"
   ]
  },
  {
   "cell_type": "code",
   "execution_count": null,
   "id": "b56ada90-2656-4e44-a555-6a5b285321bc",
   "metadata": {
    "id": "b56ada90-2656-4e44-a555-6a5b285321bc"
   },
   "outputs": [],
   "source": [
    "def reduce_mem_usage(df):\n",
    "    \"\"\" iterate through all the columns of a dataframe and modify the data type\n",
    "        to reduce memory usage.\n",
    "    \"\"\"\n",
    "    start_mem = df.memory_usage().sum() / 1024**2\n",
    "    print('Memory usage of dataframe is {:.2f} MB'.format(start_mem))\n",
    "\n",
    "    for col in df.columns:\n",
    "        col_type = df[col].dtype.name\n",
    "\n",
    "        if col_type not in ['object', 'category', 'datetime64[ns, UTC]']:\n",
    "            c_min = df[col].min()\n",
    "            c_max = df[col].max()\n",
    "            if str(col_type)[:3] == 'int':\n",
    "                if c_min > np.iinfo(np.int8).min and c_max < np.iinfo(np.int8).max:\n",
    "                    df[col] = df[col].astype(np.int8)\n",
    "                elif c_min > np.iinfo(np.int16).min and c_max < np.iinfo(np.int16).max:\n",
    "                    df[col] = df[col].astype(np.int16)\n",
    "                elif c_min > np.iinfo(np.int32).min and c_max < np.iinfo(np.int32).max:\n",
    "                    df[col] = df[col].astype(np.int32)\n",
    "                elif c_min > np.iinfo(np.int64).min and c_max < np.iinfo(np.int64).max:\n",
    "                    df[col] = df[col].astype(np.int64)\n",
    "            else:\n",
    "                if c_min > np.finfo(np.float16).min and c_max < np.finfo(np.float16).max:\n",
    "                    df[col] = df[col].astype(np.float16)\n",
    "                elif c_min > np.finfo(np.float32).min and c_max < np.finfo(np.float32).max:\n",
    "                    df[col] = df[col].astype(np.float32)\n",
    "                else:\n",
    "                    df[col] = df[col].astype(np.float64)\n",
    "\n",
    "    end_mem = df.memory_usage().sum() / 1024**2\n",
    "    print('Memory usage after optimization is: {:.2f} MB'.format(end_mem))\n",
    "    print('Decreased by {:.1f}%'.format(100 * (start_mem - end_mem) / start_mem))\n",
    "\n",
    "    return df"
   ]
  },
  {
   "cell_type": "code",
   "execution_count": null,
   "id": "e01d22cb-bcde-465a-b47c-3da85a3b2eff",
   "metadata": {
    "colab": {
     "base_uri": "https://localhost:8080/",
     "height": 204
    },
    "id": "e01d22cb-bcde-465a-b47c-3da85a3b2eff",
    "outputId": "f5c1d073-229b-4c7d-e66f-7d499e0067da"
   },
   "outputs": [
    {
     "data": {
      "text/html": [
       "\n",
       "  <div id=\"df-656d980f-02bf-42d6-b307-8e643f88cba9\">\n",
       "    <div class=\"colab-df-container\">\n",
       "      <div>\n",
       "<style scoped>\n",
       "    .dataframe tbody tr th:only-of-type {\n",
       "        vertical-align: middle;\n",
       "    }\n",
       "\n",
       "    .dataframe tbody tr th {\n",
       "        vertical-align: top;\n",
       "    }\n",
       "\n",
       "    .dataframe thead th {\n",
       "        text-align: right;\n",
       "    }\n",
       "</style>\n",
       "<table border=\"1\" class=\"dataframe\">\n",
       "  <thead>\n",
       "    <tr style=\"text-align: right;\">\n",
       "      <th></th>\n",
       "      <th>car_id</th>\n",
       "      <th>model</th>\n",
       "      <th>car_type</th>\n",
       "      <th>fuel_type</th>\n",
       "      <th>car_rating</th>\n",
       "      <th>year_to_start</th>\n",
       "      <th>riders</th>\n",
       "      <th>year_to_work</th>\n",
       "      <th>target_reg</th>\n",
       "      <th>target_class</th>\n",
       "    </tr>\n",
       "  </thead>\n",
       "  <tbody>\n",
       "    <tr>\n",
       "      <th>0</th>\n",
       "      <td>y13744087j</td>\n",
       "      <td>Kia Rio X-line</td>\n",
       "      <td>economy</td>\n",
       "      <td>petrol</td>\n",
       "      <td>3.78</td>\n",
       "      <td>2015</td>\n",
       "      <td>76163</td>\n",
       "      <td>2021</td>\n",
       "      <td>108.53</td>\n",
       "      <td>another_bug</td>\n",
       "    </tr>\n",
       "    <tr>\n",
       "      <th>1</th>\n",
       "      <td>O41613818T</td>\n",
       "      <td>VW Polo VI</td>\n",
       "      <td>economy</td>\n",
       "      <td>petrol</td>\n",
       "      <td>3.90</td>\n",
       "      <td>2015</td>\n",
       "      <td>78218</td>\n",
       "      <td>2021</td>\n",
       "      <td>35.20</td>\n",
       "      <td>electro_bug</td>\n",
       "    </tr>\n",
       "    <tr>\n",
       "      <th>2</th>\n",
       "      <td>d-2109686j</td>\n",
       "      <td>Renault Sandero</td>\n",
       "      <td>standart</td>\n",
       "      <td>petrol</td>\n",
       "      <td>6.30</td>\n",
       "      <td>2012</td>\n",
       "      <td>23340</td>\n",
       "      <td>2017</td>\n",
       "      <td>38.62</td>\n",
       "      <td>gear_stick</td>\n",
       "    </tr>\n",
       "    <tr>\n",
       "      <th>3</th>\n",
       "      <td>u29695600e</td>\n",
       "      <td>Mercedes-Benz GLC</td>\n",
       "      <td>business</td>\n",
       "      <td>petrol</td>\n",
       "      <td>4.04</td>\n",
       "      <td>2011</td>\n",
       "      <td>1263</td>\n",
       "      <td>2020</td>\n",
       "      <td>30.34</td>\n",
       "      <td>engine_fuel</td>\n",
       "    </tr>\n",
       "    <tr>\n",
       "      <th>4</th>\n",
       "      <td>N-8915870N</td>\n",
       "      <td>Renault Sandero</td>\n",
       "      <td>standart</td>\n",
       "      <td>petrol</td>\n",
       "      <td>4.70</td>\n",
       "      <td>2012</td>\n",
       "      <td>26428</td>\n",
       "      <td>2017</td>\n",
       "      <td>30.45</td>\n",
       "      <td>engine_fuel</td>\n",
       "    </tr>\n",
       "  </tbody>\n",
       "</table>\n",
       "</div>\n",
       "      <button class=\"colab-df-convert\" onclick=\"convertToInteractive('df-656d980f-02bf-42d6-b307-8e643f88cba9')\"\n",
       "              title=\"Convert this dataframe to an interactive table.\"\n",
       "              style=\"display:none;\">\n",
       "        \n",
       "  <svg xmlns=\"http://www.w3.org/2000/svg\" height=\"24px\"viewBox=\"0 0 24 24\"\n",
       "       width=\"24px\">\n",
       "    <path d=\"M0 0h24v24H0V0z\" fill=\"none\"/>\n",
       "    <path d=\"M18.56 5.44l.94 2.06.94-2.06 2.06-.94-2.06-.94-.94-2.06-.94 2.06-2.06.94zm-11 1L8.5 8.5l.94-2.06 2.06-.94-2.06-.94L8.5 2.5l-.94 2.06-2.06.94zm10 10l.94 2.06.94-2.06 2.06-.94-2.06-.94-.94-2.06-.94 2.06-2.06.94z\"/><path d=\"M17.41 7.96l-1.37-1.37c-.4-.4-.92-.59-1.43-.59-.52 0-1.04.2-1.43.59L10.3 9.45l-7.72 7.72c-.78.78-.78 2.05 0 2.83L4 21.41c.39.39.9.59 1.41.59.51 0 1.02-.2 1.41-.59l7.78-7.78 2.81-2.81c.8-.78.8-2.07 0-2.86zM5.41 20L4 18.59l7.72-7.72 1.47 1.35L5.41 20z\"/>\n",
       "  </svg>\n",
       "      </button>\n",
       "      \n",
       "  <style>\n",
       "    .colab-df-container {\n",
       "      display:flex;\n",
       "      flex-wrap:wrap;\n",
       "      gap: 12px;\n",
       "    }\n",
       "\n",
       "    .colab-df-convert {\n",
       "      background-color: #E8F0FE;\n",
       "      border: none;\n",
       "      border-radius: 50%;\n",
       "      cursor: pointer;\n",
       "      display: none;\n",
       "      fill: #1967D2;\n",
       "      height: 32px;\n",
       "      padding: 0 0 0 0;\n",
       "      width: 32px;\n",
       "    }\n",
       "\n",
       "    .colab-df-convert:hover {\n",
       "      background-color: #E2EBFA;\n",
       "      box-shadow: 0px 1px 2px rgba(60, 64, 67, 0.3), 0px 1px 3px 1px rgba(60, 64, 67, 0.15);\n",
       "      fill: #174EA6;\n",
       "    }\n",
       "\n",
       "    [theme=dark] .colab-df-convert {\n",
       "      background-color: #3B4455;\n",
       "      fill: #D2E3FC;\n",
       "    }\n",
       "\n",
       "    [theme=dark] .colab-df-convert:hover {\n",
       "      background-color: #434B5C;\n",
       "      box-shadow: 0px 1px 3px 1px rgba(0, 0, 0, 0.15);\n",
       "      filter: drop-shadow(0px 1px 2px rgba(0, 0, 0, 0.3));\n",
       "      fill: #FFFFFF;\n",
       "    }\n",
       "  </style>\n",
       "\n",
       "      <script>\n",
       "        const buttonEl =\n",
       "          document.querySelector('#df-656d980f-02bf-42d6-b307-8e643f88cba9 button.colab-df-convert');\n",
       "        buttonEl.style.display =\n",
       "          google.colab.kernel.accessAllowed ? 'block' : 'none';\n",
       "\n",
       "        async function convertToInteractive(key) {\n",
       "          const element = document.querySelector('#df-656d980f-02bf-42d6-b307-8e643f88cba9');\n",
       "          const dataTable =\n",
       "            await google.colab.kernel.invokeFunction('convertToInteractive',\n",
       "                                                     [key], {});\n",
       "          if (!dataTable) return;\n",
       "\n",
       "          const docLinkHtml = 'Like what you see? Visit the ' +\n",
       "            '<a target=\"_blank\" href=https://colab.research.google.com/notebooks/data_table.ipynb>data table notebook</a>'\n",
       "            + ' to learn more about interactive tables.';\n",
       "          element.innerHTML = '';\n",
       "          dataTable['output_type'] = 'display_data';\n",
       "          await google.colab.output.renderOutput(dataTable, element);\n",
       "          const docLink = document.createElement('div');\n",
       "          docLink.innerHTML = docLinkHtml;\n",
       "          element.appendChild(docLink);\n",
       "        }\n",
       "      </script>\n",
       "    </div>\n",
       "  </div>\n",
       "  "
      ],
      "text/plain": [
       "       car_id              model  car_type fuel_type  car_rating  \\\n",
       "0  y13744087j     Kia Rio X-line   economy    petrol        3.78   \n",
       "1  O41613818T         VW Polo VI   economy    petrol        3.90   \n",
       "2  d-2109686j    Renault Sandero  standart    petrol        6.30   \n",
       "3  u29695600e  Mercedes-Benz GLC  business    petrol        4.04   \n",
       "4  N-8915870N    Renault Sandero  standart    petrol        4.70   \n",
       "\n",
       "   year_to_start  riders  year_to_work  target_reg target_class  \n",
       "0           2015   76163          2021      108.53  another_bug  \n",
       "1           2015   78218          2021       35.20  electro_bug  \n",
       "2           2012   23340          2017       38.62   gear_stick  \n",
       "3           2011    1263          2020       30.34  engine_fuel  \n",
       "4           2012   26428          2017       30.45  engine_fuel  "
      ]
     },
     "execution_count": 15,
     "metadata": {},
     "output_type": "execute_result"
    }
   ],
   "source": [
    "df_cars = pd.read_csv(data_root + 'car_train.csv')\n",
    "df_cars.head()"
   ]
  },
  {
   "cell_type": "code",
   "execution_count": null,
   "id": "4fa604a5-6eb0-4f2f-883e-07215c938008",
   "metadata": {
    "colab": {
     "base_uri": "https://localhost:8080/"
    },
    "id": "4fa604a5-6eb0-4f2f-883e-07215c938008",
    "outputId": "d498b913-2ce6-4ef0-f6c6-6e276830693d"
   },
   "outputs": [
    {
     "name": "stdout",
     "output_type": "stream",
     "text": [
      "<class 'pandas.core.frame.DataFrame'>\n",
      "RangeIndex: 2337 entries, 0 to 2336\n",
      "Data columns (total 10 columns):\n",
      " #   Column         Non-Null Count  Dtype  \n",
      "---  ------         --------------  -----  \n",
      " 0   car_id         2337 non-null   object \n",
      " 1   model          2337 non-null   object \n",
      " 2   car_type       2337 non-null   object \n",
      " 3   fuel_type      2337 non-null   object \n",
      " 4   car_rating     2337 non-null   float64\n",
      " 5   year_to_start  2337 non-null   int64  \n",
      " 6   riders         2337 non-null   int64  \n",
      " 7   year_to_work   2337 non-null   int64  \n",
      " 8   target_reg     2337 non-null   float64\n",
      " 9   target_class   2337 non-null   object \n",
      "dtypes: float64(2), int64(3), object(5)\n",
      "memory usage: 182.7+ KB\n"
     ]
    }
   ],
   "source": [
    "df_cars.info()"
   ]
  },
  {
   "cell_type": "code",
   "execution_count": null,
   "id": "b92488a8-74d6-4721-a77c-df52f17b82c6",
   "metadata": {
    "colab": {
     "base_uri": "https://localhost:8080/"
    },
    "id": "b92488a8-74d6-4721-a77c-df52f17b82c6",
    "outputId": "1a03b865-1928-41a5-8820-f85febe6ea4c"
   },
   "outputs": [
    {
     "name": "stdout",
     "output_type": "stream",
     "text": [
      "Memory usage of dataframe is 0.18 MB\n",
      "Memory usage after optimization is: 0.12 MB\n",
      "Decreased by 35.0%\n",
      "<class 'pandas.core.frame.DataFrame'>\n",
      "RangeIndex: 2337 entries, 0 to 2336\n",
      "Data columns (total 10 columns):\n",
      " #   Column         Non-Null Count  Dtype  \n",
      "---  ------         --------------  -----  \n",
      " 0   car_id         2337 non-null   object \n",
      " 1   model          2337 non-null   object \n",
      " 2   car_type       2337 non-null   object \n",
      " 3   fuel_type      2337 non-null   object \n",
      " 4   car_rating     2337 non-null   float16\n",
      " 5   year_to_start  2337 non-null   int16  \n",
      " 6   riders         2337 non-null   int32  \n",
      " 7   year_to_work   2337 non-null   int16  \n",
      " 8   target_reg     2337 non-null   float16\n",
      " 9   target_class   2337 non-null   object \n",
      "dtypes: float16(2), int16(2), int32(1), object(5)\n",
      "memory usage: 118.8+ KB\n"
     ]
    }
   ],
   "source": [
    "df_cars = reduce_mem_usage(df_cars)\n",
    "df_cars.info()"
   ]
  },
  {
   "cell_type": "markdown",
   "id": "f9638224-e0c0-4cbb-9c5b-efdea1ce1e32",
   "metadata": {
    "id": "f9638224-e0c0-4cbb-9c5b-efdea1ce1e32",
    "tags": []
   },
   "source": [
    "### Оптимизируем категориальные фичи"
   ]
  },
  {
   "cell_type": "code",
   "execution_count": null,
   "id": "80f2bffc-e290-4031-a464-cd5073ea451e",
   "metadata": {
    "id": "80f2bffc-e290-4031-a464-cd5073ea451e"
   },
   "outputs": [],
   "source": [
    "def convert_columns_to_catg(df, column_list):\n",
    "    for col in column_list:\n",
    "        print(\"converting\", col.ljust(30), \"size: \", round(df[col].memory_usage(deep=True)*1e-6,2), end=\"\\t\")\n",
    "        df[col] = df[col].astype(\"category\")\n",
    "        print(\"->\\t\", round(df[col].memory_usage(deep=True)*1e-6,2))"
   ]
  },
  {
   "cell_type": "code",
   "execution_count": null,
   "id": "7b07fecd-8180-420b-9296-d4149bc491ed",
   "metadata": {
    "colab": {
     "base_uri": "https://localhost:8080/"
    },
    "id": "7b07fecd-8180-420b-9296-d4149bc491ed",
    "outputId": "4bc2e518-15d8-4cb5-b068-7ccc45588d15"
   },
   "outputs": [
    {
     "name": "stdout",
     "output_type": "stream",
     "text": [
      "475 µs ± 6.75 µs per loop (mean ± std. dev. of 7 runs, 1000 loops each)\n"
     ]
    }
   ],
   "source": [
    "%%timeit\n",
    "df_cars.groupby('model')['car_type'].count()"
   ]
  },
  {
   "cell_type": "code",
   "execution_count": null,
   "id": "10c9fc58-7f9b-4260-b230-bc83e9675599",
   "metadata": {
    "colab": {
     "base_uri": "https://localhost:8080/"
    },
    "id": "10c9fc58-7f9b-4260-b230-bc83e9675599",
    "outputId": "bf692b26-a890-4c46-8e63-d53824c9d528"
   },
   "outputs": [
    {
     "name": "stdout",
     "output_type": "stream",
     "text": [
      "converting model                          size:  0.16\t->\t 0.01\n",
      "converting car_type                       size:  0.15\t->\t 0.0\n",
      "converting fuel_type                      size:  0.15\t->\t 0.0\n",
      "converting target_class                   size:  0.16\t->\t 0.0\n"
     ]
    }
   ],
   "source": [
    "convert_columns_to_catg(df_cars, ['model', 'car_type', 'fuel_type', 'target_class'])"
   ]
  },
  {
   "cell_type": "code",
   "execution_count": null,
   "id": "06b77267-5b21-41da-802f-5b12b5a1ca8b",
   "metadata": {
    "colab": {
     "base_uri": "https://localhost:8080/"
    },
    "id": "06b77267-5b21-41da-802f-5b12b5a1ca8b",
    "outputId": "adbc9527-4cc3-424e-8b42-c441db6ce390"
   },
   "outputs": [
    {
     "name": "stdout",
     "output_type": "stream",
     "text": [
      "223 µs ± 8.03 µs per loop (mean ± std. dev. of 7 runs, 1000 loops each)\n"
     ]
    }
   ],
   "source": [
    "%%timeit\n",
    "df_cars.groupby('model')['car_type'].count()\n",
    "# При правильной типизации не только уменьшается память, но и возрастает скорость"
   ]
  },
  {
   "cell_type": "code",
   "execution_count": null,
   "id": "70f8e424-426e-4e16-86c1-e7d04646e241",
   "metadata": {
    "colab": {
     "base_uri": "https://localhost:8080/"
    },
    "id": "70f8e424-426e-4e16-86c1-e7d04646e241",
    "outputId": "e2e1b535-f417-467e-983e-fa1c3de6bec8"
   },
   "outputs": [
    {
     "name": "stdout",
     "output_type": "stream",
     "text": [
      "<class 'pandas.core.frame.DataFrame'>\n",
      "RangeIndex: 2337 entries, 0 to 2336\n",
      "Data columns (total 10 columns):\n",
      " #   Column         Non-Null Count  Dtype   \n",
      "---  ------         --------------  -----   \n",
      " 0   car_id         2337 non-null   object  \n",
      " 1   model          2337 non-null   category\n",
      " 2   car_type       2337 non-null   category\n",
      " 3   fuel_type      2337 non-null   category\n",
      " 4   car_rating     2337 non-null   float16 \n",
      " 5   year_to_start  2337 non-null   int16   \n",
      " 6   riders         2337 non-null   int32   \n",
      " 7   year_to_work   2337 non-null   int16   \n",
      " 8   target_reg     2337 non-null   float16 \n",
      " 9   target_class   2337 non-null   category\n",
      "dtypes: category(4), float16(2), int16(2), int32(1), object(1)\n",
      "memory usage: 56.8+ KB\n"
     ]
    }
   ],
   "source": [
    "df_cars.info()"
   ]
  },
  {
   "cell_type": "code",
   "execution_count": null,
   "id": "c68403ef-05a9-4ace-b208-e73bcf6e9564",
   "metadata": {
    "colab": {
     "base_uri": "https://localhost:8080/"
    },
    "id": "c68403ef-05a9-4ace-b208-e73bcf6e9564",
    "outputId": "821468b4-3fc6-4da1-ddcb-bb9cc1b802be"
   },
   "outputs": [
    {
     "data": {
      "text/plain": [
       "56.83203125"
      ]
     },
     "execution_count": 23,
     "metadata": {},
     "output_type": "execute_result"
    }
   ],
   "source": [
    "df_cars.memory_usage().sum() / 1024"
   ]
  },
  {
   "cell_type": "code",
   "execution_count": null,
   "id": "f6482b93-acc2-4ae7-8df2-a5e807d57f09",
   "metadata": {
    "colab": {
     "base_uri": "https://localhost:8080/"
    },
    "id": "f6482b93-acc2-4ae7-8df2-a5e807d57f09",
    "outputId": "9dfb1935-a009-4b9b-bf43-ce6ff1e4add2"
   },
   "outputs": [
    {
     "name": "stdout",
     "output_type": "stream",
     "text": [
      "converting car_id                         size:  0.16\t->\t 0.23\n"
     ]
    }
   ],
   "source": [
    "convert_columns_to_catg(df_cars, ['car_id'])"
   ]
  },
  {
   "cell_type": "code",
   "execution_count": null,
   "id": "879fc8c5-3de8-4d47-8a4c-305dea5f16e6",
   "metadata": {
    "colab": {
     "base_uri": "https://localhost:8080/"
    },
    "id": "879fc8c5-3de8-4d47-8a4c-305dea5f16e6",
    "outputId": "9fadc6ef-8e37-4b8e-fd1d-2bc85cb6a894"
   },
   "outputs": [
    {
     "name": "stdout",
     "output_type": "stream",
     "text": [
      "<class 'pandas.core.frame.DataFrame'>\n",
      "RangeIndex: 2337 entries, 0 to 2336\n",
      "Data columns (total 10 columns):\n",
      " #   Column         Non-Null Count  Dtype   \n",
      "---  ------         --------------  -----   \n",
      " 0   car_id         2337 non-null   category\n",
      " 1   model          2337 non-null   category\n",
      " 2   car_type       2337 non-null   category\n",
      " 3   fuel_type      2337 non-null   category\n",
      " 4   car_rating     2337 non-null   float16 \n",
      " 5   year_to_start  2337 non-null   int16   \n",
      " 6   riders         2337 non-null   int32   \n",
      " 7   year_to_work   2337 non-null   int16   \n",
      " 8   target_reg     2337 non-null   float16 \n",
      " 9   target_class   2337 non-null   category\n",
      "dtypes: category(5), float16(2), int16(2), int32(1)\n",
      "memory usage: 125.9 KB\n"
     ]
    }
   ],
   "source": [
    "df_cars.info()"
   ]
  },
  {
   "cell_type": "markdown",
   "id": "98a38bad",
   "metadata": {
    "id": "98a38bad",
    "tags": []
   },
   "source": [
    "## <center>🥌 Ускорение при помощи `Numpy`</center>\n",
    "\n",
    "<p id=\"c3\"></p>   "
   ]
  },
  {
   "cell_type": "markdown",
   "id": "07491f4d-ff65-4e28-9758-3669c2326281",
   "metadata": {
    "id": "07491f4d-ff65-4e28-9758-3669c2326281"
   },
   "source": [
    "<div class=\"alert alert-info\">\n",
    "\n",
    "Первое правило быстрого кода - используйте `numpy` везде, где можно. Он исполняется на чисто C, так что в работает в сотни раз быстрее обычных циклов и list-ов. В общем, если можете написать код при помощи `numpy` - пишите."
   ]
  },
  {
   "cell_type": "markdown",
   "id": "6d41963f-898b-4167-9ca4-e50b9a1830ef",
   "metadata": {
    "id": "6d41963f-898b-4167-9ca4-e50b9a1830ef",
    "tags": []
   },
   "source": [
    "### Инициализация"
   ]
  },
  {
   "cell_type": "markdown",
   "id": "13f14764-bb3b-4c44-b9f9-712f2d344232",
   "metadata": {
    "id": "13f14764-bb3b-4c44-b9f9-712f2d344232"
   },
   "source": [
    "<div class=\"alert alert-info\">\n",
    "\n",
    "Демонстрация скорости работы `numpy` на примере инициализации."
   ]
  },
  {
   "cell_type": "code",
   "execution_count": null,
   "id": "32fbd0b4",
   "metadata": {
    "colab": {
     "base_uri": "https://localhost:8080/"
    },
    "id": "32fbd0b4",
    "outputId": "f943a712-29f6-4522-eb6d-dfc3f8d17fc8"
   },
   "outputs": [
    {
     "name": "stdout",
     "output_type": "stream",
     "text": [
      "13.2 ms ± 1.98 ms per loop (mean ± std. dev. of 7 runs, 100 loops each)\n"
     ]
    }
   ],
   "source": [
    "%%timeit\n",
    "\n",
    "a = list(range(1_000_000))"
   ]
  },
  {
   "cell_type": "code",
   "execution_count": null,
   "id": "441fbfa5",
   "metadata": {
    "colab": {
     "base_uri": "https://localhost:8080/"
    },
    "id": "441fbfa5",
    "outputId": "833fff4d-44c6-4829-df8f-c44a32921699"
   },
   "outputs": [
    {
     "name": "stdout",
     "output_type": "stream",
     "text": [
      "381 µs ± 17.1 µs per loop (mean ± std. dev. of 7 runs, 1000 loops each)\n"
     ]
    }
   ],
   "source": [
    "%%timeit\n",
    "\n",
    "b = np.arange(1_000_000)"
   ]
  },
  {
   "cell_type": "code",
   "execution_count": null,
   "id": "d2b78508-3710-4c81-bf4f-abfc6a076ca7",
   "metadata": {},
   "outputs": [],
   "source": [
    "a = list(range(1_000_000))\n",
    "b = np.arange(1_000_000)"
   ]
  },
  {
   "cell_type": "code",
   "execution_count": null,
   "id": "9c2a30b8-ab92-47c6-a12d-275d7222d7cf",
   "metadata": {
    "colab": {
     "base_uri": "https://localhost:8080/"
    },
    "id": "9c2a30b8-ab92-47c6-a12d-275d7222d7cf",
    "outputId": "b9335ac8-81a5-468d-ffde-f3fc18c75318"
   },
   "outputs": [
    {
     "name": "stdout",
     "output_type": "stream",
     "text": [
      "672 µs ± 211 µs per loop (mean ± std. dev. of 7 runs, 1000 loops each)\n"
     ]
    }
   ],
   "source": [
    "%%timeit\n",
    "100000 in a"
   ]
  },
  {
   "cell_type": "code",
   "execution_count": null,
   "id": "39e4ff13-56c0-4a85-8593-7fd70a664eb8",
   "metadata": {
    "colab": {
     "base_uri": "https://localhost:8080/"
    },
    "id": "39e4ff13-56c0-4a85-8593-7fd70a664eb8",
    "outputId": "2b175972-936b-42e3-cc72-62d86d429fda"
   },
   "outputs": [
    {
     "name": "stdout",
     "output_type": "stream",
     "text": [
      "338 µs ± 6.68 µs per loop (mean ± std. dev. of 7 runs, 1000 loops each)\n"
     ]
    }
   ],
   "source": [
    "%%timeit\n",
    "100000 in b"
   ]
  },
  {
   "cell_type": "markdown",
   "id": "62c7f0d4-e6e6-439d-84f2-ccf109e40b40",
   "metadata": {
    "id": "62c7f0d4-e6e6-439d-84f2-ccf109e40b40",
    "tags": []
   },
   "source": [
    "### Поэлементные функции"
   ]
  },
  {
   "cell_type": "markdown",
   "id": "9e37c71e-aa92-4757-b254-330b1feb2cca",
   "metadata": {
    "id": "9e37c71e-aa92-4757-b254-330b1feb2cca"
   },
   "source": [
    "<div class=\"alert alert-info\">\n",
    "\n",
    "Просто еще раз напомним, что `numpy` сильно быстрее поэлементных функций"
   ]
  },
  {
   "cell_type": "code",
   "execution_count": null,
   "id": "8087e44e-8250-4257-a4fa-8e39585eedf4",
   "metadata": {
    "colab": {
     "base_uri": "https://localhost:8080/"
    },
    "id": "8087e44e-8250-4257-a4fa-8e39585eedf4",
    "outputId": "e40fe22d-46df-47bf-f7b5-bbdd1511d4f6"
   },
   "outputs": [
    {
     "name": "stdout",
     "output_type": "stream",
     "text": [
      "47.6 ms ± 847 µs per loop (mean ± std. dev. of 7 runs, 10 loops each)\n"
     ]
    }
   ],
   "source": [
    "%%timeit\n",
    "[el * el for el in a]"
   ]
  },
  {
   "cell_type": "code",
   "execution_count": null,
   "id": "af30b4f2-e8ed-4170-b29a-cb8e279ac16f",
   "metadata": {
    "colab": {
     "base_uri": "https://localhost:8080/"
    },
    "id": "af30b4f2-e8ed-4170-b29a-cb8e279ac16f",
    "outputId": "f3120c96-407f-4ce4-842b-c1dc1a87b1d5"
   },
   "outputs": [
    {
     "name": "stdout",
     "output_type": "stream",
     "text": [
      "48.5 ms ± 9.9 ms per loop (mean ± std. dev. of 7 runs, 10 loops each)\n"
     ]
    }
   ],
   "source": [
    "%%timeit\n",
    "[el + 10 for el in a]"
   ]
  },
  {
   "cell_type": "code",
   "execution_count": null,
   "id": "b29d58c4-5940-4e2b-a350-123c27724fd1",
   "metadata": {
    "colab": {
     "base_uri": "https://localhost:8080/"
    },
    "id": "b29d58c4-5940-4e2b-a350-123c27724fd1",
    "outputId": "31e9b1dc-11d0-412e-f8da-9e4dae3b665d"
   },
   "outputs": [
    {
     "name": "stdout",
     "output_type": "stream",
     "text": [
      "417 µs ± 14.5 µs per loop (mean ± std. dev. of 7 runs, 1000 loops each)\n"
     ]
    }
   ],
   "source": [
    "%%timeit\n",
    "b * b"
   ]
  },
  {
   "cell_type": "code",
   "execution_count": null,
   "id": "6a2b279d-13b7-414d-af57-f4ae756ec18f",
   "metadata": {
    "colab": {
     "base_uri": "https://localhost:8080/"
    },
    "id": "6a2b279d-13b7-414d-af57-f4ae756ec18f",
    "outputId": "e09a35bc-5af8-46d9-cef4-8de60c4ea5ed"
   },
   "outputs": [
    {
     "name": "stdout",
     "output_type": "stream",
     "text": [
      "304 µs ± 28.6 µs per loop (mean ± std. dev. of 7 runs, 1000 loops each)\n"
     ]
    }
   ],
   "source": [
    "%%timeit\n",
    "b + 10"
   ]
  },
  {
   "cell_type": "markdown",
   "id": "bfbf7665",
   "metadata": {
    "id": "bfbf7665",
    "tags": []
   },
   "source": [
    "### Aггрегирующие функции"
   ]
  },
  {
   "cell_type": "markdown",
   "id": "cb318c96-29b9-4739-8d7c-3e683fb26cd3",
   "metadata": {
    "id": "cb318c96-29b9-4739-8d7c-3e683fb26cd3"
   },
   "source": [
    "<div class=\"alert alert-info\">\n",
    "\n",
    "Методы и функции `numpy` работают быстрее, чем их обычные аналоги в питоне."
   ]
  },
  {
   "cell_type": "code",
   "execution_count": null,
   "id": "13ff08cc",
   "metadata": {
    "colab": {
     "base_uri": "https://localhost:8080/"
    },
    "id": "13ff08cc",
    "outputId": "5bdf567b-39c1-44cd-c8a6-63fbae314182"
   },
   "outputs": [
    {
     "name": "stdout",
     "output_type": "stream",
     "text": [
      "45.9 ms ± 738 µs per loop (mean ± std. dev. of 7 runs, 10 loops each)\n"
     ]
    }
   ],
   "source": [
    "%%timeit\n",
    "\n",
    "max(b)"
   ]
  },
  {
   "cell_type": "code",
   "execution_count": null,
   "id": "d4e3484e",
   "metadata": {
    "colab": {
     "base_uri": "https://localhost:8080/"
    },
    "id": "d4e3484e",
    "outputId": "098c131e-cce5-46e0-d653-25913f9f7059"
   },
   "outputs": [
    {
     "name": "stdout",
     "output_type": "stream",
     "text": [
      "767 µs ± 229 µs per loop (mean ± std. dev. of 7 runs, 1000 loops each)\n"
     ]
    }
   ],
   "source": [
    "%%timeit\n",
    "\n",
    "b.max()"
   ]
  },
  {
   "cell_type": "markdown",
   "id": "fe346a38",
   "metadata": {
    "id": "fe346a38",
    "tags": []
   },
   "source": [
    "### Когда использовать `list`?"
   ]
  },
  {
   "cell_type": "markdown",
   "id": "487f77ac-0b15-42af-a5ad-3cca9d545ac6",
   "metadata": {
    "id": "487f77ac-0b15-42af-a5ad-3cca9d545ac6"
   },
   "source": [
    "<div class=\"alert alert-info\">\n",
    "\n",
    "На самом деле в одном случае `list` все-таки может быть быстрее. Если вы хотите добавлять много новых элементов, то добавление одного элемента в `list` происходит за O(1) и суммарно на все тратится O(n) времени, а при добавление в `numpy` массив нам нужно его заново весь проинициализировать, даже если добавили всего один элемент, так что суммарное время работы будет O(n^2)."
   ]
  },
  {
   "cell_type": "code",
   "execution_count": null,
   "id": "8bd5a950-6d97-4b0e-9826-4d3aa7d51b2d",
   "metadata": {
    "colab": {
     "base_uri": "https://localhost:8080/"
    },
    "id": "8bd5a950-6d97-4b0e-9826-4d3aa7d51b2d",
    "outputId": "8f3216bb-26bc-46ee-faa6-93216567b291"
   },
   "outputs": [
    {
     "name": "stdout",
     "output_type": "stream",
     "text": [
      "156 ms ± 5.59 ms per loop (mean ± std. dev. of 7 runs, 10 loops each)\n"
     ]
    }
   ],
   "source": [
    "%%timeit\n",
    "\n",
    "a = np.zeros(0)\n",
    "for el in range(1000):\n",
    "    b = np.zeros(1000)\n",
    "    a = np.append(a, b)"
   ]
  },
  {
   "cell_type": "code",
   "execution_count": null,
   "id": "4918c87a-d157-4ee0-86e3-f7db455ef425",
   "metadata": {
    "colab": {
     "base_uri": "https://localhost:8080/"
    },
    "id": "4918c87a-d157-4ee0-86e3-f7db455ef425",
    "outputId": "387b83bc-3a24-4e08-df7c-7a3791ee5463"
   },
   "outputs": [
    {
     "name": "stdout",
     "output_type": "stream",
     "text": [
      "28.5 ms ± 721 µs per loop (mean ± std. dev. of 7 runs, 10 loops each)\n"
     ]
    }
   ],
   "source": [
    "%%timeit\n",
    "\n",
    "a = []\n",
    "for el in range(1000):\n",
    "    b = [0 for i in range(1000)]\n",
    "    a += b"
   ]
  },
  {
   "cell_type": "markdown",
   "id": "22300bea-9b65-487a-8fc1-f8968e01f578",
   "metadata": {
    "id": "22300bea-9b65-487a-8fc1-f8968e01f578",
    "tags": []
   },
   "source": [
    "### Используем `set()`"
   ]
  },
  {
   "cell_type": "markdown",
   "id": "a933cb4b-9b1a-4d79-a5df-1199be42c47b",
   "metadata": {
    "id": "a933cb4b-9b1a-4d79-a5df-1199be42c47b"
   },
   "source": [
    "<div class=\"alert alert-info\">\n",
    "\n",
    "Если нужно проверить наличие элементов в другом массиве и тот \"другой\" достаточно большой, то лучше использовать `set()`, так в нем поиск элемента осуществляется за O(log(n)), а в `np.isin()` за O(n). Так что даже несмотря на то, что `numpy` оптимизрован `set()` выигрывает его по времени."
   ]
  },
  {
   "cell_type": "code",
   "execution_count": null,
   "id": "f86689a7-c8bf-410c-aa1f-ffdef3f46955",
   "metadata": {
    "id": "f86689a7-c8bf-410c-aa1f-ffdef3f46955"
   },
   "outputs": [],
   "source": [
    "a = np.arange(1000)\n",
    "b = np.arange(1000000) * -1"
   ]
  },
  {
   "cell_type": "code",
   "execution_count": null,
   "id": "9c79ecb9-4b42-40e3-97f0-b39a645e90f1",
   "metadata": {
    "colab": {
     "base_uri": "https://localhost:8080/"
    },
    "id": "9c79ecb9-4b42-40e3-97f0-b39a645e90f1",
    "outputId": "4c185d47-14f8-43b9-8fbb-75faf4bd7cc6"
   },
   "outputs": [
    {
     "name": "stdout",
     "output_type": "stream",
     "text": [
      "23.9 ms ± 849 µs per loop (mean ± std. dev. of 7 runs, 10 loops each)\n"
     ]
    }
   ],
   "source": [
    "%%timeit\n",
    "np.isin(a, b)"
   ]
  },
  {
   "cell_type": "code",
   "execution_count": null,
   "id": "909bfb53-cbbd-4a56-aac7-3c94eef5c497",
   "metadata": {
    "id": "909bfb53-cbbd-4a56-aac7-3c94eef5c497"
   },
   "outputs": [],
   "source": [
    "st = set(b)"
   ]
  },
  {
   "cell_type": "code",
   "execution_count": null,
   "id": "0eaa7f71-fde8-483e-b830-9b94d9ad6593",
   "metadata": {
    "colab": {
     "base_uri": "https://localhost:8080/"
    },
    "id": "0eaa7f71-fde8-483e-b830-9b94d9ad6593",
    "outputId": "c129e838-c478-4885-caee-440a6c3f95a0"
   },
   "outputs": [
    {
     "name": "stdout",
     "output_type": "stream",
     "text": [
      "93.3 µs ± 21.8 µs per loop (mean ± std. dev. of 7 runs, 10000 loops each)\n"
     ]
    }
   ],
   "source": [
    "%%timeit\n",
    "[el in st for el in a]"
   ]
  },
  {
   "cell_type": "markdown",
   "id": "f1f64977",
   "metadata": {
    "id": "f1f64977",
    "tags": []
   },
   "source": [
    "## <center> 🍢 Векторизация в `pandas` </center>\n",
    "\n",
    "<p id=\"c4\"></p>   "
   ]
  },
  {
   "cell_type": "markdown",
   "id": "71c00fbe-165c-4130-a4de-d7b7a31a059c",
   "metadata": {
    "id": "71c00fbe-165c-4130-a4de-d7b7a31a059c"
   },
   "source": [
    "<div class=\"alert alert-info\">\n",
    "Векторизация - это процесс, когда мы заменяем обычные поэлементные функции на операции сразу со всем вектором значений, что позволяет значительно прибавить в скорости."
   ]
  },
  {
   "cell_type": "code",
   "execution_count": null,
   "id": "762c8d1a-ec1f-47c1-9868-c045aa209d3c",
   "metadata": {
    "colab": {
     "base_uri": "https://localhost:8080/",
     "height": 204
    },
    "id": "762c8d1a-ec1f-47c1-9868-c045aa209d3c",
    "outputId": "75263ca8-9497-4001-8269-959bafd06978"
   },
   "outputs": [
    {
     "data": {
      "text/html": [
       "\n",
       "  <div id=\"df-2136cfcf-a3d2-491f-bb2a-706b827009ba\">\n",
       "    <div class=\"colab-df-container\">\n",
       "      <div>\n",
       "<style scoped>\n",
       "    .dataframe tbody tr th:only-of-type {\n",
       "        vertical-align: middle;\n",
       "    }\n",
       "\n",
       "    .dataframe tbody tr th {\n",
       "        vertical-align: top;\n",
       "    }\n",
       "\n",
       "    .dataframe thead th {\n",
       "        text-align: right;\n",
       "    }\n",
       "</style>\n",
       "<table border=\"1\" class=\"dataframe\">\n",
       "  <thead>\n",
       "    <tr style=\"text-align: right;\">\n",
       "      <th></th>\n",
       "      <th>car_id</th>\n",
       "      <th>model</th>\n",
       "      <th>car_type</th>\n",
       "      <th>fuel_type</th>\n",
       "      <th>car_rating</th>\n",
       "      <th>year_to_start</th>\n",
       "      <th>riders</th>\n",
       "      <th>year_to_work</th>\n",
       "      <th>target_reg</th>\n",
       "      <th>target_class</th>\n",
       "    </tr>\n",
       "  </thead>\n",
       "  <tbody>\n",
       "    <tr>\n",
       "      <th>0</th>\n",
       "      <td>y13744087j</td>\n",
       "      <td>Kia Rio X-line</td>\n",
       "      <td>economy</td>\n",
       "      <td>petrol</td>\n",
       "      <td>3.779297</td>\n",
       "      <td>2015</td>\n",
       "      <td>76163</td>\n",
       "      <td>2021</td>\n",
       "      <td>108.500000</td>\n",
       "      <td>another_bug</td>\n",
       "    </tr>\n",
       "    <tr>\n",
       "      <th>1</th>\n",
       "      <td>O41613818T</td>\n",
       "      <td>VW Polo VI</td>\n",
       "      <td>economy</td>\n",
       "      <td>petrol</td>\n",
       "      <td>3.900391</td>\n",
       "      <td>2015</td>\n",
       "      <td>78218</td>\n",
       "      <td>2021</td>\n",
       "      <td>35.187500</td>\n",
       "      <td>electro_bug</td>\n",
       "    </tr>\n",
       "    <tr>\n",
       "      <th>2</th>\n",
       "      <td>d-2109686j</td>\n",
       "      <td>Renault Sandero</td>\n",
       "      <td>standart</td>\n",
       "      <td>petrol</td>\n",
       "      <td>6.300781</td>\n",
       "      <td>2012</td>\n",
       "      <td>23340</td>\n",
       "      <td>2017</td>\n",
       "      <td>38.625000</td>\n",
       "      <td>gear_stick</td>\n",
       "    </tr>\n",
       "    <tr>\n",
       "      <th>3</th>\n",
       "      <td>u29695600e</td>\n",
       "      <td>Mercedes-Benz GLC</td>\n",
       "      <td>business</td>\n",
       "      <td>petrol</td>\n",
       "      <td>4.039062</td>\n",
       "      <td>2011</td>\n",
       "      <td>1263</td>\n",
       "      <td>2020</td>\n",
       "      <td>30.343750</td>\n",
       "      <td>engine_fuel</td>\n",
       "    </tr>\n",
       "    <tr>\n",
       "      <th>4</th>\n",
       "      <td>N-8915870N</td>\n",
       "      <td>Renault Sandero</td>\n",
       "      <td>standart</td>\n",
       "      <td>petrol</td>\n",
       "      <td>4.699219</td>\n",
       "      <td>2012</td>\n",
       "      <td>26428</td>\n",
       "      <td>2017</td>\n",
       "      <td>30.453125</td>\n",
       "      <td>engine_fuel</td>\n",
       "    </tr>\n",
       "  </tbody>\n",
       "</table>\n",
       "</div>\n",
       "      <button class=\"colab-df-convert\" onclick=\"convertToInteractive('df-2136cfcf-a3d2-491f-bb2a-706b827009ba')\"\n",
       "              title=\"Convert this dataframe to an interactive table.\"\n",
       "              style=\"display:none;\">\n",
       "        \n",
       "  <svg xmlns=\"http://www.w3.org/2000/svg\" height=\"24px\"viewBox=\"0 0 24 24\"\n",
       "       width=\"24px\">\n",
       "    <path d=\"M0 0h24v24H0V0z\" fill=\"none\"/>\n",
       "    <path d=\"M18.56 5.44l.94 2.06.94-2.06 2.06-.94-2.06-.94-.94-2.06-.94 2.06-2.06.94zm-11 1L8.5 8.5l.94-2.06 2.06-.94-2.06-.94L8.5 2.5l-.94 2.06-2.06.94zm10 10l.94 2.06.94-2.06 2.06-.94-2.06-.94-.94-2.06-.94 2.06-2.06.94z\"/><path d=\"M17.41 7.96l-1.37-1.37c-.4-.4-.92-.59-1.43-.59-.52 0-1.04.2-1.43.59L10.3 9.45l-7.72 7.72c-.78.78-.78 2.05 0 2.83L4 21.41c.39.39.9.59 1.41.59.51 0 1.02-.2 1.41-.59l7.78-7.78 2.81-2.81c.8-.78.8-2.07 0-2.86zM5.41 20L4 18.59l7.72-7.72 1.47 1.35L5.41 20z\"/>\n",
       "  </svg>\n",
       "      </button>\n",
       "      \n",
       "  <style>\n",
       "    .colab-df-container {\n",
       "      display:flex;\n",
       "      flex-wrap:wrap;\n",
       "      gap: 12px;\n",
       "    }\n",
       "\n",
       "    .colab-df-convert {\n",
       "      background-color: #E8F0FE;\n",
       "      border: none;\n",
       "      border-radius: 50%;\n",
       "      cursor: pointer;\n",
       "      display: none;\n",
       "      fill: #1967D2;\n",
       "      height: 32px;\n",
       "      padding: 0 0 0 0;\n",
       "      width: 32px;\n",
       "    }\n",
       "\n",
       "    .colab-df-convert:hover {\n",
       "      background-color: #E2EBFA;\n",
       "      box-shadow: 0px 1px 2px rgba(60, 64, 67, 0.3), 0px 1px 3px 1px rgba(60, 64, 67, 0.15);\n",
       "      fill: #174EA6;\n",
       "    }\n",
       "\n",
       "    [theme=dark] .colab-df-convert {\n",
       "      background-color: #3B4455;\n",
       "      fill: #D2E3FC;\n",
       "    }\n",
       "\n",
       "    [theme=dark] .colab-df-convert:hover {\n",
       "      background-color: #434B5C;\n",
       "      box-shadow: 0px 1px 3px 1px rgba(0, 0, 0, 0.15);\n",
       "      filter: drop-shadow(0px 1px 2px rgba(0, 0, 0, 0.3));\n",
       "      fill: #FFFFFF;\n",
       "    }\n",
       "  </style>\n",
       "\n",
       "      <script>\n",
       "        const buttonEl =\n",
       "          document.querySelector('#df-2136cfcf-a3d2-491f-bb2a-706b827009ba button.colab-df-convert');\n",
       "        buttonEl.style.display =\n",
       "          google.colab.kernel.accessAllowed ? 'block' : 'none';\n",
       "\n",
       "        async function convertToInteractive(key) {\n",
       "          const element = document.querySelector('#df-2136cfcf-a3d2-491f-bb2a-706b827009ba');\n",
       "          const dataTable =\n",
       "            await google.colab.kernel.invokeFunction('convertToInteractive',\n",
       "                                                     [key], {});\n",
       "          if (!dataTable) return;\n",
       "\n",
       "          const docLinkHtml = 'Like what you see? Visit the ' +\n",
       "            '<a target=\"_blank\" href=https://colab.research.google.com/notebooks/data_table.ipynb>data table notebook</a>'\n",
       "            + ' to learn more about interactive tables.';\n",
       "          element.innerHTML = '';\n",
       "          dataTable['output_type'] = 'display_data';\n",
       "          await google.colab.output.renderOutput(dataTable, element);\n",
       "          const docLink = document.createElement('div');\n",
       "          docLink.innerHTML = docLinkHtml;\n",
       "          element.appendChild(docLink);\n",
       "        }\n",
       "      </script>\n",
       "    </div>\n",
       "  </div>\n",
       "  "
      ],
      "text/plain": [
       "       car_id              model  car_type fuel_type  car_rating  \\\n",
       "0  y13744087j     Kia Rio X-line   economy    petrol    3.779297   \n",
       "1  O41613818T         VW Polo VI   economy    petrol    3.900391   \n",
       "2  d-2109686j    Renault Sandero  standart    petrol    6.300781   \n",
       "3  u29695600e  Mercedes-Benz GLC  business    petrol    4.039062   \n",
       "4  N-8915870N    Renault Sandero  standart    petrol    4.699219   \n",
       "\n",
       "   year_to_start  riders  year_to_work  target_reg target_class  \n",
       "0           2015   76163          2021  108.500000  another_bug  \n",
       "1           2015   78218          2021   35.187500  electro_bug  \n",
       "2           2012   23340          2017   38.625000   gear_stick  \n",
       "3           2011    1263          2020   30.343750  engine_fuel  \n",
       "4           2012   26428          2017   30.453125  engine_fuel  "
      ]
     },
     "execution_count": 44,
     "metadata": {},
     "output_type": "execute_result"
    }
   ],
   "source": [
    "df_cars.head()"
   ]
  },
  {
   "cell_type": "code",
   "execution_count": null,
   "id": "17f7503f-5ed5-462d-9c4b-384e7c5e76e7",
   "metadata": {
    "colab": {
     "base_uri": "https://localhost:8080/"
    },
    "id": "17f7503f-5ed5-462d-9c4b-384e7c5e76e7",
    "outputId": "03498e10-8c20-4b6f-ac29-33b4fba60a79"
   },
   "outputs": [
    {
     "data": {
      "text/plain": [
       "['economy', 'standart', 'business', 'premium']\n",
       "Categories (4, object): ['business', 'economy', 'premium', 'standart']"
      ]
     },
     "execution_count": 45,
     "metadata": {},
     "output_type": "execute_result"
    }
   ],
   "source": [
    "df_cars['car_type'].unique()"
   ]
  },
  {
   "cell_type": "markdown",
   "id": "c8a24c38-7ef8-4ff1-bc45-e90a7f7a5c42",
   "metadata": {
    "id": "c8a24c38-7ef8-4ff1-bc45-e90a7f7a5c42"
   },
   "source": [
    "### `Numpy.where()`"
   ]
  },
  {
   "cell_type": "markdown",
   "id": "7b72c675-d742-4ada-a31a-42be3ad97adc",
   "metadata": {
    "id": "7b72c675-d742-4ada-a31a-42be3ad97adc"
   },
   "source": [
    "<div class=\"alert alert-info\">\n",
    "\n",
    "Позволяет проверить какое-то условие и в зависимости от его результатов вернуть то или иное значение. Векторный аналог `if-else`."
   ]
  },
  {
   "cell_type": "code",
   "execution_count": null,
   "id": "aecc1b6d-3ca2-4f42-93fe-244ed3786a23",
   "metadata": {
    "id": "aecc1b6d-3ca2-4f42-93fe-244ed3786a23"
   },
   "outputs": [],
   "source": [
    "def simple_if(x):\n",
    "    if x['car_rating'] < 3.78:\n",
    "        return x['car_type']\n",
    "    else:\n",
    "        return x['fuel_type']"
   ]
  },
  {
   "cell_type": "code",
   "execution_count": null,
   "id": "9bea8102-c677-4100-8100-e59a9ca15275",
   "metadata": {
    "colab": {
     "base_uri": "https://localhost:8080/"
    },
    "id": "9bea8102-c677-4100-8100-e59a9ca15275",
    "outputId": "7970cd94-4528-4cc4-81c6-f91f2e3e3b9e"
   },
   "outputs": [
    {
     "name": "stdout",
     "output_type": "stream",
     "text": [
      "15.2 ms ± 1.46 ms per loop (mean ± std. dev. of 7 runs, 100 loops each)\n"
     ]
    }
   ],
   "source": [
    "%%timeit\n",
    "df_cars.apply(simple_if, axis=1)"
   ]
  },
  {
   "cell_type": "code",
   "execution_count": null,
   "id": "925af0c8-b509-4614-a693-8f36a2f9df59",
   "metadata": {
    "colab": {
     "base_uri": "https://localhost:8080/"
    },
    "id": "925af0c8-b509-4614-a693-8f36a2f9df59",
    "outputId": "c59728dc-dba5-41fc-f003-c35ba4bb7e8c"
   },
   "outputs": [
    {
     "name": "stdout",
     "output_type": "stream",
     "text": [
      "95.2 µs ± 13 µs per loop (mean ± std. dev. of 7 runs, 10000 loops each)\n"
     ]
    }
   ],
   "source": [
    "%%timeit\n",
    "# первое значение это условие, второе - что возвращать, если выполнены и третье, что возвращать, если не выполнено\n",
    "np.where(df_cars['car_rating'].values < 3.78, df_cars['car_type'].values, df_cars['fuel_type'].values)"
   ]
  },
  {
   "cell_type": "markdown",
   "id": "2c7887c1-f306-4bfc-8249-6acf97410bd3",
   "metadata": {
    "id": "2c7887c1-f306-4bfc-8249-6acf97410bd3"
   },
   "source": [
    "### `Numpy.vectorize()`"
   ]
  },
  {
   "cell_type": "markdown",
   "id": "565eca07-8554-4068-9776-98f85d410c2e",
   "metadata": {
    "id": "565eca07-8554-4068-9776-98f85d410c2e"
   },
   "source": [
    "<div class=\"alert alert-info\">\n",
    "Часть функции можно оставить поэлементными и просто засчет их векторизации получить значительный прирост скорости. Однако работает это все равно медленне, чем операции с векторами чисел."
   ]
  },
  {
   "cell_type": "code",
   "execution_count": null,
   "id": "0a855e75-3d13-47bb-a5ea-7fd54cd3422e",
   "metadata": {
    "id": "0a855e75-3d13-47bb-a5ea-7fd54cd3422e"
   },
   "outputs": [],
   "source": [
    "def simple_if2(car_rating, car_type, fuel_type):\n",
    "    if car_rating < 3.78:\n",
    "        return car_type\n",
    "    else:\n",
    "        return fuel_type"
   ]
  },
  {
   "cell_type": "code",
   "execution_count": null,
   "id": "a1802c91-4712-4c91-be3f-929a620f8d4d",
   "metadata": {
    "id": "a1802c91-4712-4c91-be3f-929a620f8d4d"
   },
   "outputs": [],
   "source": [
    "vectfunc = np.vectorize(simple_if2)"
   ]
  },
  {
   "cell_type": "code",
   "execution_count": null,
   "id": "501363c4-6441-4c38-aa25-616b9bc5d8fc",
   "metadata": {
    "colab": {
     "base_uri": "https://localhost:8080/"
    },
    "id": "501363c4-6441-4c38-aa25-616b9bc5d8fc",
    "outputId": "bdcaa486-a287-47df-f40a-b739408d2ddf"
   },
   "outputs": [
    {
     "name": "stdout",
     "output_type": "stream",
     "text": [
      "629 µs ± 11.2 µs per loop (mean ± std. dev. of 7 runs, 1000 loops each)\n"
     ]
    }
   ],
   "source": [
    "%%timeit\n",
    "vectfunc(df_cars['car_rating'], df_cars['car_type'], df_cars['fuel_type'])"
   ]
  },
  {
   "cell_type": "markdown",
   "id": "a6b022e5-294d-4f0c-9408-227ab3818dce",
   "metadata": {
    "id": "a6b022e5-294d-4f0c-9408-227ab3818dce"
   },
   "source": [
    "### `Numpy.select()`"
   ]
  },
  {
   "cell_type": "markdown",
   "id": "3e132465-68bf-4356-a222-1c3b6787cf8b",
   "metadata": {
    "id": "3e132465-68bf-4356-a222-1c3b6787cf8b"
   },
   "source": [
    "<div class=\"alert alert-info\">\n",
    "\n",
    "Как `np.where()`, только для нескольких условий."
   ]
  },
  {
   "cell_type": "code",
   "execution_count": null,
   "id": "9fe7de07-339b-44a6-a95b-2926ce80b0a4",
   "metadata": {
    "id": "9fe7de07-339b-44a6-a95b-2926ce80b0a4"
   },
   "outputs": [],
   "source": [
    "import re\n",
    "\n",
    "def hard_if(x):\n",
    "    if x['car_rating'] < 3:\n",
    "        if 'Audi' == x['model']:\n",
    "            return 0\n",
    "        else:\n",
    "            return 1\n",
    "    elif x['car_rating'] in [3, 4, 5]:\n",
    "        return 2\n",
    "    else:\n",
    "        return 3"
   ]
  },
  {
   "cell_type": "code",
   "execution_count": null,
   "id": "0d86cd76-849c-492c-8179-f876dd7981ee",
   "metadata": {
    "colab": {
     "base_uri": "https://localhost:8080/"
    },
    "id": "0d86cd76-849c-492c-8179-f876dd7981ee",
    "outputId": "9525abae-014e-456d-bf98-e86fc64e04e3"
   },
   "outputs": [
    {
     "name": "stdout",
     "output_type": "stream",
     "text": [
      "15.2 ms ± 1.48 ms per loop (mean ± std. dev. of 7 runs, 100 loops each)\n"
     ]
    }
   ],
   "source": [
    "%%timeit\n",
    "df_cars.apply(simple_if, axis=1)"
   ]
  },
  {
   "cell_type": "code",
   "execution_count": null,
   "id": "dcd211bb-49c7-4fdb-bcae-2b3efa9eaf50",
   "metadata": {
    "colab": {
     "base_uri": "https://localhost:8080/"
    },
    "id": "dcd211bb-49c7-4fdb-bcae-2b3efa9eaf50",
    "outputId": "952fd036-37eb-4512-e2cf-cd92b57b82fd"
   },
   "outputs": [
    {
     "name": "stdout",
     "output_type": "stream",
     "text": [
      "809 µs ± 123 µs per loop (mean ± std. dev. of 7 runs, 1000 loops each)\n"
     ]
    }
   ],
   "source": [
    "%%timeit\n",
    "conditions = [\n",
    "    (df_cars['car_rating'] < 3) & (df_cars['model'] == 'Audi'),\n",
    "    (df_cars['car_rating'] < 3),\n",
    "    df_cars['car_rating'].isin([3, 4, 5])\n",
    "]\n",
    "\n",
    "choices = [0, 1, 2]\n",
    "np.select(conditions, choices, default=3)"
   ]
  },
  {
   "cell_type": "markdown",
   "id": "08f7d12c-4370-4e96-8920-3f33e2755e5c",
   "metadata": {
    "id": "08f7d12c-4370-4e96-8920-3f33e2755e5c"
   },
   "source": [
    "### Переписываем словари"
   ]
  },
  {
   "cell_type": "markdown",
   "id": "dfb406e2-8801-47df-bd65-32497b4b3123",
   "metadata": {
    "id": "dfb406e2-8801-47df-bd65-32497b4b3123"
   },
   "source": [
    "<div class=\"alert alert-info\">\n",
    "На самом деле, обращаться к значению из словаря тоже можно быстро."
   ]
  },
  {
   "cell_type": "code",
   "execution_count": null,
   "id": "7acd13c1-cac3-4d61-8230-f4b1dbdd459a",
   "metadata": {
    "id": "7acd13c1-cac3-4d61-8230-f4b1dbdd459a"
   },
   "outputs": [],
   "source": [
    "mydict = {'economy': 0,\n",
    "          'standart': 1,\n",
    "          'business': 2,\n",
    "          'premium': 3}\n",
    "def f(x):\n",
    "    if x['car_rating'] > 5:\n",
    "        return mydict[x['car_type']]\n",
    "    else:\n",
    "        return np.nan"
   ]
  },
  {
   "cell_type": "code",
   "execution_count": null,
   "id": "5c5fb6c5-229c-4905-86b7-3d086f70f8ed",
   "metadata": {
    "colab": {
     "base_uri": "https://localhost:8080/"
    },
    "id": "5c5fb6c5-229c-4905-86b7-3d086f70f8ed",
    "outputId": "107b25e5-83d3-4e9d-c481-16021300e205"
   },
   "outputs": [
    {
     "name": "stdout",
     "output_type": "stream",
     "text": [
      "15.1 ms ± 2.35 ms per loop (mean ± std. dev. of 7 runs, 100 loops each)\n"
     ]
    }
   ],
   "source": [
    "%%timeit\n",
    "df_cars.apply(simple_if, axis=1)"
   ]
  },
  {
   "cell_type": "code",
   "execution_count": null,
   "id": "3c7e3720-bba7-4301-9d31-e0096bbe30c9",
   "metadata": {
    "colab": {
     "base_uri": "https://localhost:8080/"
    },
    "id": "3c7e3720-bba7-4301-9d31-e0096bbe30c9",
    "outputId": "1121cf2b-46b0-41b7-f93f-c11730594144"
   },
   "outputs": [
    {
     "name": "stdout",
     "output_type": "stream",
     "text": [
      "677 µs ± 10.9 µs per loop (mean ± std. dev. of 7 runs, 1000 loops each)\n"
     ]
    }
   ],
   "source": [
    "%%timeit\n",
    "np.where(df_cars['car_rating'] > 5, df_cars['car_type'].map(mydict), np.nan)"
   ]
  },
  {
   "cell_type": "markdown",
   "id": "c03fbe3c-7934-4892-9489-8adda002eb4d",
   "metadata": {
    "id": "c03fbe3c-7934-4892-9489-8adda002eb4d"
   },
   "source": [
    "### Пишем `groupby` на `numpy`"
   ]
  },
  {
   "cell_type": "markdown",
   "id": "95def73a-fb20-4933-bbbb-6f2d6d7b5066",
   "metadata": {
    "id": "95def73a-fb20-4933-bbbb-6f2d6d7b5066"
   },
   "source": [
    "<div class=\"alert alert-info\">\n",
    "\n",
    "`pd.groupby()` - одна из самых часто используемых и полезных функций в пандасе, которую можно ускорить до 30 раз при помощи `numpy`!"
   ]
  },
  {
   "cell_type": "code",
   "execution_count": null,
   "id": "de9ce54b-8612-4259-9cf5-53e274a2a512",
   "metadata": {
    "colab": {
     "base_uri": "https://localhost:8080/",
     "height": 204
    },
    "id": "de9ce54b-8612-4259-9cf5-53e274a2a512",
    "outputId": "fe195d4a-3ebf-437f-b954-2eb086900023"
   },
   "outputs": [
    {
     "data": {
      "text/html": [
       "\n",
       "  <div id=\"df-2144628e-6967-41ef-8a2a-5cdbaf6598e7\">\n",
       "    <div class=\"colab-df-container\">\n",
       "      <div>\n",
       "<style scoped>\n",
       "    .dataframe tbody tr th:only-of-type {\n",
       "        vertical-align: middle;\n",
       "    }\n",
       "\n",
       "    .dataframe tbody tr th {\n",
       "        vertical-align: top;\n",
       "    }\n",
       "\n",
       "    .dataframe thead th {\n",
       "        text-align: right;\n",
       "    }\n",
       "</style>\n",
       "<table border=\"1\" class=\"dataframe\">\n",
       "  <thead>\n",
       "    <tr style=\"text-align: right;\">\n",
       "      <th></th>\n",
       "      <th>car_id</th>\n",
       "      <th>model</th>\n",
       "      <th>car_type</th>\n",
       "      <th>fuel_type</th>\n",
       "      <th>car_rating</th>\n",
       "      <th>year_to_start</th>\n",
       "      <th>riders</th>\n",
       "      <th>year_to_work</th>\n",
       "      <th>target_reg</th>\n",
       "      <th>target_class</th>\n",
       "    </tr>\n",
       "  </thead>\n",
       "  <tbody>\n",
       "    <tr>\n",
       "      <th>0</th>\n",
       "      <td>y13744087j</td>\n",
       "      <td>Kia Rio X-line</td>\n",
       "      <td>economy</td>\n",
       "      <td>petrol</td>\n",
       "      <td>3.78</td>\n",
       "      <td>2015</td>\n",
       "      <td>76163</td>\n",
       "      <td>2021</td>\n",
       "      <td>108.53</td>\n",
       "      <td>another_bug</td>\n",
       "    </tr>\n",
       "    <tr>\n",
       "      <th>1</th>\n",
       "      <td>O41613818T</td>\n",
       "      <td>VW Polo VI</td>\n",
       "      <td>economy</td>\n",
       "      <td>petrol</td>\n",
       "      <td>3.90</td>\n",
       "      <td>2015</td>\n",
       "      <td>78218</td>\n",
       "      <td>2021</td>\n",
       "      <td>35.20</td>\n",
       "      <td>electro_bug</td>\n",
       "    </tr>\n",
       "    <tr>\n",
       "      <th>2</th>\n",
       "      <td>d-2109686j</td>\n",
       "      <td>Renault Sandero</td>\n",
       "      <td>standart</td>\n",
       "      <td>petrol</td>\n",
       "      <td>6.30</td>\n",
       "      <td>2012</td>\n",
       "      <td>23340</td>\n",
       "      <td>2017</td>\n",
       "      <td>38.62</td>\n",
       "      <td>gear_stick</td>\n",
       "    </tr>\n",
       "    <tr>\n",
       "      <th>3</th>\n",
       "      <td>u29695600e</td>\n",
       "      <td>Mercedes-Benz GLC</td>\n",
       "      <td>business</td>\n",
       "      <td>petrol</td>\n",
       "      <td>4.04</td>\n",
       "      <td>2011</td>\n",
       "      <td>1263</td>\n",
       "      <td>2020</td>\n",
       "      <td>30.34</td>\n",
       "      <td>engine_fuel</td>\n",
       "    </tr>\n",
       "    <tr>\n",
       "      <th>4</th>\n",
       "      <td>N-8915870N</td>\n",
       "      <td>Renault Sandero</td>\n",
       "      <td>standart</td>\n",
       "      <td>petrol</td>\n",
       "      <td>4.70</td>\n",
       "      <td>2012</td>\n",
       "      <td>26428</td>\n",
       "      <td>2017</td>\n",
       "      <td>30.45</td>\n",
       "      <td>engine_fuel</td>\n",
       "    </tr>\n",
       "  </tbody>\n",
       "</table>\n",
       "</div>\n",
       "      <button class=\"colab-df-convert\" onclick=\"convertToInteractive('df-2144628e-6967-41ef-8a2a-5cdbaf6598e7')\"\n",
       "              title=\"Convert this dataframe to an interactive table.\"\n",
       "              style=\"display:none;\">\n",
       "        \n",
       "  <svg xmlns=\"http://www.w3.org/2000/svg\" height=\"24px\"viewBox=\"0 0 24 24\"\n",
       "       width=\"24px\">\n",
       "    <path d=\"M0 0h24v24H0V0z\" fill=\"none\"/>\n",
       "    <path d=\"M18.56 5.44l.94 2.06.94-2.06 2.06-.94-2.06-.94-.94-2.06-.94 2.06-2.06.94zm-11 1L8.5 8.5l.94-2.06 2.06-.94-2.06-.94L8.5 2.5l-.94 2.06-2.06.94zm10 10l.94 2.06.94-2.06 2.06-.94-2.06-.94-.94-2.06-.94 2.06-2.06.94z\"/><path d=\"M17.41 7.96l-1.37-1.37c-.4-.4-.92-.59-1.43-.59-.52 0-1.04.2-1.43.59L10.3 9.45l-7.72 7.72c-.78.78-.78 2.05 0 2.83L4 21.41c.39.39.9.59 1.41.59.51 0 1.02-.2 1.41-.59l7.78-7.78 2.81-2.81c.8-.78.8-2.07 0-2.86zM5.41 20L4 18.59l7.72-7.72 1.47 1.35L5.41 20z\"/>\n",
       "  </svg>\n",
       "      </button>\n",
       "      \n",
       "  <style>\n",
       "    .colab-df-container {\n",
       "      display:flex;\n",
       "      flex-wrap:wrap;\n",
       "      gap: 12px;\n",
       "    }\n",
       "\n",
       "    .colab-df-convert {\n",
       "      background-color: #E8F0FE;\n",
       "      border: none;\n",
       "      border-radius: 50%;\n",
       "      cursor: pointer;\n",
       "      display: none;\n",
       "      fill: #1967D2;\n",
       "      height: 32px;\n",
       "      padding: 0 0 0 0;\n",
       "      width: 32px;\n",
       "    }\n",
       "\n",
       "    .colab-df-convert:hover {\n",
       "      background-color: #E2EBFA;\n",
       "      box-shadow: 0px 1px 2px rgba(60, 64, 67, 0.3), 0px 1px 3px 1px rgba(60, 64, 67, 0.15);\n",
       "      fill: #174EA6;\n",
       "    }\n",
       "\n",
       "    [theme=dark] .colab-df-convert {\n",
       "      background-color: #3B4455;\n",
       "      fill: #D2E3FC;\n",
       "    }\n",
       "\n",
       "    [theme=dark] .colab-df-convert:hover {\n",
       "      background-color: #434B5C;\n",
       "      box-shadow: 0px 1px 3px 1px rgba(0, 0, 0, 0.15);\n",
       "      filter: drop-shadow(0px 1px 2px rgba(0, 0, 0, 0.3));\n",
       "      fill: #FFFFFF;\n",
       "    }\n",
       "  </style>\n",
       "\n",
       "      <script>\n",
       "        const buttonEl =\n",
       "          document.querySelector('#df-2144628e-6967-41ef-8a2a-5cdbaf6598e7 button.colab-df-convert');\n",
       "        buttonEl.style.display =\n",
       "          google.colab.kernel.accessAllowed ? 'block' : 'none';\n",
       "\n",
       "        async function convertToInteractive(key) {\n",
       "          const element = document.querySelector('#df-2144628e-6967-41ef-8a2a-5cdbaf6598e7');\n",
       "          const dataTable =\n",
       "            await google.colab.kernel.invokeFunction('convertToInteractive',\n",
       "                                                     [key], {});\n",
       "          if (!dataTable) return;\n",
       "\n",
       "          const docLinkHtml = 'Like what you see? Visit the ' +\n",
       "            '<a target=\"_blank\" href=https://colab.research.google.com/notebooks/data_table.ipynb>data table notebook</a>'\n",
       "            + ' to learn more about interactive tables.';\n",
       "          element.innerHTML = '';\n",
       "          dataTable['output_type'] = 'display_data';\n",
       "          await google.colab.output.renderOutput(dataTable, element);\n",
       "          const docLink = document.createElement('div');\n",
       "          docLink.innerHTML = docLinkHtml;\n",
       "          element.appendChild(docLink);\n",
       "        }\n",
       "      </script>\n",
       "    </div>\n",
       "  </div>\n",
       "  "
      ],
      "text/plain": [
       "       car_id              model  car_type fuel_type  car_rating  \\\n",
       "0  y13744087j     Kia Rio X-line   economy    petrol        3.78   \n",
       "1  O41613818T         VW Polo VI   economy    petrol        3.90   \n",
       "2  d-2109686j    Renault Sandero  standart    petrol        6.30   \n",
       "3  u29695600e  Mercedes-Benz GLC  business    petrol        4.04   \n",
       "4  N-8915870N    Renault Sandero  standart    petrol        4.70   \n",
       "\n",
       "   year_to_start  riders  year_to_work  target_reg target_class  \n",
       "0           2015   76163          2021      108.53  another_bug  \n",
       "1           2015   78218          2021       35.20  electro_bug  \n",
       "2           2012   23340          2017       38.62   gear_stick  \n",
       "3           2011    1263          2020       30.34  engine_fuel  \n",
       "4           2012   26428          2017       30.45  engine_fuel  "
      ]
     },
     "execution_count": 58,
     "metadata": {},
     "output_type": "execute_result"
    }
   ],
   "source": [
    "df_cars = pd.read_csv(data_root+'car_train.csv')\n",
    "df_cars.head()"
   ]
  },
  {
   "cell_type": "markdown",
   "id": "dd8e5b6b-a53a-4e98-83eb-b76f584a9bcc",
   "metadata": {
    "id": "dd8e5b6b-a53a-4e98-83eb-b76f584a9bcc"
   },
   "source": [
    "### Считаем кол-во значений в группе"
   ]
  },
  {
   "cell_type": "markdown",
   "id": "1448eeb7-514e-406d-8aa1-d000afa95217",
   "metadata": {
    "id": "1448eeb7-514e-406d-8aa1-d000afa95217"
   },
   "source": [
    "<div class=\"alert alert-info\">\n",
    "\n",
    "Для того, чтобы посчитать кол-во значений в каждой группе мы можем воспользоваться функцией `np.bincount()`"
   ]
  },
  {
   "cell_type": "code",
   "execution_count": null,
   "id": "374f13bd-a55c-4635-90a2-28f523d105ad",
   "metadata": {
    "colab": {
     "base_uri": "https://localhost:8080/"
    },
    "id": "374f13bd-a55c-4635-90a2-28f523d105ad",
    "outputId": "c230b536-462f-432e-e19d-11fbe74303b6"
   },
   "outputs": [
    {
     "name": "stdout",
     "output_type": "stream",
     "text": [
      "827 µs ± 90.6 µs per loop (mean ± std. dev. of 7 runs, 1000 loops each)\n"
     ]
    }
   ],
   "source": [
    "%%timeit\n",
    "df_cars.groupby(['model', 'fuel_type'])['target_reg'].count()"
   ]
  },
  {
   "cell_type": "code",
   "execution_count": null,
   "id": "1d999427-2248-46fb-a896-7fad142452ff",
   "metadata": {
    "id": "1d999427-2248-46fb-a896-7fad142452ff"
   },
   "outputs": [],
   "source": [
    "from sklearn import preprocessing\n",
    "lbl = preprocessing.LabelEncoder()\n",
    "df_cars['int_model'] = lbl.fit_transform((df_cars['model'] + df_cars['fuel_type']).astype(str))"
   ]
  },
  {
   "cell_type": "code",
   "execution_count": null,
   "id": "576598d2-4f73-419c-b84f-a1612508012d",
   "metadata": {
    "colab": {
     "base_uri": "https://localhost:8080/"
    },
    "id": "576598d2-4f73-419c-b84f-a1612508012d",
    "outputId": "f75a862f-0688-40bc-af8d-0ab5402944cb"
   },
   "outputs": [
    {
     "name": "stdout",
     "output_type": "stream",
     "text": [
      "8.72 µs ± 122 ns per loop (mean ± std. dev. of 7 runs, 100000 loops each)\n"
     ]
    }
   ],
   "source": [
    "%%timeit\n",
    "np.bincount(df_cars['int_model'])"
   ]
  },
  {
   "cell_type": "code",
   "execution_count": null,
   "id": "38b99cd2-6dca-472a-bf6a-23488a6d84c8",
   "metadata": {
    "colab": {
     "base_uri": "https://localhost:8080/"
    },
    "id": "38b99cd2-6dca-472a-bf6a-23488a6d84c8",
    "outputId": "31b08264-71c8-4271-dd2e-c2ed6d059b5c"
   },
   "outputs": [
    {
     "data": {
      "text/plain": [
       "True"
      ]
     },
     "execution_count": 62,
     "metadata": {},
     "output_type": "execute_result"
    }
   ],
   "source": [
    "gb_values = df_cars.groupby(['int_model'])['target_reg'].count()\n",
    "np_values = np.bincount(df_cars['int_model'])\n",
    "\n",
    "(gb_values == np_values).all()"
   ]
  },
  {
   "cell_type": "markdown",
   "id": "c7d3b512-7e98-4250-8462-ff91d8e143c6",
   "metadata": {
    "id": "c7d3b512-7e98-4250-8462-ff91d8e143c6",
    "tags": []
   },
   "source": [
    "Пример работы `np.bincount`:\n",
    "\n",
    "<center> <img src = 'https://raw.githubusercontent.com/a-milenkin/Competitive_Data_Science/main/images/numpy-bincount.png' width=550>\n",
    "<!-- ![image.png](attachment:4034fb01-3672-485b-b44c-e57537aa033b.png) -->"
   ]
  },
  {
   "cell_type": "markdown",
   "id": "a01e91e1-e8a2-40a1-9438-1cdd7ef20d91",
   "metadata": {
    "id": "a01e91e1-e8a2-40a1-9438-1cdd7ef20d91"
   },
   "source": [
    "### Считаем сумму/среднее"
   ]
  },
  {
   "cell_type": "markdown",
   "id": "a539c3df-af51-4121-a2c8-4bdf720a7560",
   "metadata": {
    "id": "a539c3df-af51-4121-a2c8-4bdf720a7560"
   },
   "source": [
    "<div class=\"alert alert-info\">\n",
    "\n",
    "Для того, чтобы посчитать сумму значений в каждой группе мы можем воспользоваться `np.bincount(weights=your_weights)`"
   ]
  },
  {
   "cell_type": "code",
   "execution_count": null,
   "id": "3c8ab6a1-0fba-48a1-b035-c50fce5960ea",
   "metadata": {
    "colab": {
     "base_uri": "https://localhost:8080/"
    },
    "id": "3c8ab6a1-0fba-48a1-b035-c50fce5960ea",
    "outputId": "a616e633-7289-4a43-a447-5e484d2c8a97"
   },
   "outputs": [
    {
     "name": "stdout",
     "output_type": "stream",
     "text": [
      "846 µs ± 78.5 µs per loop (mean ± std. dev. of 7 runs, 1000 loops each)\n"
     ]
    }
   ],
   "source": [
    "%%timeit\n",
    "df_cars.groupby(['model', 'fuel_type'])['target_reg'].sum()"
   ]
  },
  {
   "cell_type": "code",
   "execution_count": null,
   "id": "f58ce01f-54f5-47e9-9301-d7832e63b48a",
   "metadata": {
    "colab": {
     "base_uri": "https://localhost:8080/"
    },
    "id": "f58ce01f-54f5-47e9-9301-d7832e63b48a",
    "outputId": "e7adbec4-0993-4578-d3f2-835683fa4b43"
   },
   "outputs": [
    {
     "name": "stdout",
     "output_type": "stream",
     "text": [
      "15.1 µs ± 1.83 µs per loop (mean ± std. dev. of 7 runs, 100000 loops each)\n"
     ]
    }
   ],
   "source": [
    "%%timeit\n",
    "np.bincount(df_cars['int_model'], weights=df_cars['target_reg'])"
   ]
  },
  {
   "cell_type": "code",
   "execution_count": null,
   "id": "f17df618-fb43-4877-9343-013f81be577f",
   "metadata": {
    "colab": {
     "base_uri": "https://localhost:8080/"
    },
    "id": "f17df618-fb43-4877-9343-013f81be577f",
    "outputId": "b8257017-737b-4bce-a931-d0f1b4f75a56"
   },
   "outputs": [
    {
     "data": {
      "text/plain": [
       "True"
      ]
     },
     "execution_count": 65,
     "metadata": {},
     "output_type": "execute_result"
    }
   ],
   "source": [
    "gb_values = df_cars.groupby(['int_model'])['target_reg'].sum()\n",
    "np_values = np.bincount(df_cars['int_model'], weights=df_cars['target_reg'])\n",
    "\n",
    "(gb_values.round(10) == np_values.round(10)).all()"
   ]
  },
  {
   "cell_type": "markdown",
   "id": "065bf7f0-fcdb-402d-821c-68a3116ad1bd",
   "metadata": {
    "id": "065bf7f0-fcdb-402d-821c-68a3116ad1bd"
   },
   "source": [
    "### Считаем минимум/максимум"
   ]
  },
  {
   "cell_type": "markdown",
   "id": "1ee48069-a1f7-4d46-a639-3fd66ac3e86b",
   "metadata": {
    "id": "1ee48069-a1f7-4d46-a639-3fd66ac3e86b"
   },
   "source": [
    "<div class=\"alert alert-info\">\n",
    "\n",
    "Для того, чтобы посчитать такие функцие как максимум, минимум, произведение и тд нам потребуется `np.ufunc.reduceat()`"
   ]
  },
  {
   "cell_type": "code",
   "execution_count": null,
   "id": "4bca6ddf-6a60-414b-b8f7-193a7d7ab818",
   "metadata": {
    "colab": {
     "base_uri": "https://localhost:8080/"
    },
    "id": "4bca6ddf-6a60-414b-b8f7-193a7d7ab818",
    "outputId": "d4b53180-da8e-43f6-9e21-c2d1367a20b6"
   },
   "outputs": [
    {
     "name": "stdout",
     "output_type": "stream",
     "text": [
      "551 µs ± 11.4 µs per loop (mean ± std. dev. of 7 runs, 1000 loops each)\n"
     ]
    }
   ],
   "source": [
    "%%timeit\n",
    "df_cars.groupby(['int_model'])['target_reg'].agg(['max'])"
   ]
  },
  {
   "cell_type": "code",
   "execution_count": null,
   "id": "e5826bff-0d43-401e-8700-4b1b17aaee36",
   "metadata": {
    "colab": {
     "base_uri": "https://localhost:8080/"
    },
    "id": "e5826bff-0d43-401e-8700-4b1b17aaee36",
    "outputId": "f6201cc2-1b4f-4b89-9565-a0bb3f064825",
    "tags": []
   },
   "outputs": [
    {
     "name": "stdout",
     "output_type": "stream",
     "text": [
      "131 µs ± 2.09 µs per loop (mean ± std. dev. of 7 runs, 10000 loops each)\n"
     ]
    }
   ],
   "source": [
    "%%timeit\n",
    "indices = df_cars['int_model']\n",
    "max_values = np.maximum.reduceat(df_cars['target_reg'].values[np.argsort(indices)],\n",
    "                                 np.concatenate(([0], np.cumsum(np.bincount(indices))))[:-1])\n",
    "max_values"
   ]
  },
  {
   "cell_type": "code",
   "execution_count": null,
   "id": "164b4fbc-fa08-4517-a26c-8dbfa7657255",
   "metadata": {
    "colab": {
     "base_uri": "https://localhost:8080/"
    },
    "id": "164b4fbc-fa08-4517-a26c-8dbfa7657255",
    "outputId": "4e152aae-8d28-4172-e1a4-f1de52d403da"
   },
   "outputs": [
    {
     "data": {
      "text/plain": [
       "True"
      ]
     },
     "execution_count": 68,
     "metadata": {},
     "output_type": "execute_result"
    }
   ],
   "source": [
    "indices = df_cars['int_model']\n",
    "np_values = np.maximum.reduceat(df_cars['target_reg'].values[np.argsort(indices)],\n",
    "                                 np.concatenate(([0], np.cumsum(np.bincount(indices))))[:-1])\n",
    "\n",
    "gb_values = df_cars.groupby(['int_model'])['target_reg'].agg('max')\n",
    "(gb_values.round(10) == np_values.round(10)).all()"
   ]
  },
  {
   "cell_type": "code",
   "execution_count": null,
   "id": "9de4b34b-7610-4491-8011-44362b5f2c45",
   "metadata": {
    "colab": {
     "base_uri": "https://localhost:8080/"
    },
    "id": "9de4b34b-7610-4491-8011-44362b5f2c45",
    "outputId": "0cda81c8-2e6e-44bf-cdec-7fcf82467c4e"
   },
   "outputs": [
    {
     "data": {
      "text/plain": [
       "(array([1168,  645,  189, ..., 1209, 1123, 1659]),\n",
       " array([ 0,  0,  0, ..., 25, 25, 25]))"
      ]
     },
     "execution_count": 69,
     "metadata": {},
     "output_type": "execute_result"
    }
   ],
   "source": [
    "# возвращает перестановку чисел от 0 до n - 1, в которой элементы отсортированы по возрастанию\n",
    "np.argsort(indices).values, df_cars['int_model'].values[np.argsort(indices)]"
   ]
  },
  {
   "cell_type": "code",
   "execution_count": null,
   "id": "712b21eb-4cd6-4a96-bcd4-47c444a429e1",
   "metadata": {
    "colab": {
     "base_uri": "https://localhost:8080/"
    },
    "id": "712b21eb-4cd6-4a96-bcd4-47c444a429e1",
    "outputId": "9840ab94-7244-4547-d7b6-1649f9ea06d8"
   },
   "outputs": [
    {
     "data": {
      "text/plain": [
       "(array([ 17,  20,  21,  16,  18, 161, 140, 143, 111, 147,  21,  23,  17,\n",
       "         22, 146, 154, 152, 147, 118, 158, 130,  14, 152, 141, 135,  13]),\n",
       " array([  17,   37,   58,   74,   92,  253,  393,  536,  647,  794,  815,\n",
       "         838,  855,  877, 1023, 1177, 1329, 1476, 1594, 1752, 1882, 1896,\n",
       "        2048, 2189, 2324, 2337]))"
      ]
     },
     "execution_count": 70,
     "metadata": {},
     "output_type": "execute_result"
    }
   ],
   "source": [
    "# i-ый элемент хранит в себе сумму элементов первых i значений\n",
    "np.bincount(indices), np.cumsum(np.bincount(indices))"
   ]
  },
  {
   "cell_type": "code",
   "execution_count": null,
   "id": "6ad2a098-d362-4de6-9f6c-b192ab4a63ea",
   "metadata": {
    "colab": {
     "base_uri": "https://localhost:8080/"
    },
    "id": "6ad2a098-d362-4de6-9f6c-b192ab4a63ea",
    "outputId": "b14d03ea-66d6-4336-95fe-c5110a8a60ed"
   },
   "outputs": [
    {
     "data": {
      "text/plain": [
       "array([   0,   17,   37,   58,   74,   92,  253,  393,  536,  647,  794,\n",
       "        815,  838,  855,  877, 1023, 1177, 1329, 1476, 1594, 1752, 1882,\n",
       "       1896, 2048, 2189, 2324])"
      ]
     },
     "execution_count": 71,
     "metadata": {},
     "output_type": "execute_result"
    }
   ],
   "source": [
    "# сдвигаем так, чтобы значения массива означали позиции начала групп\n",
    "np.concatenate(([0], np.cumsum(np.bincount(indices))))[:-1]"
   ]
  },
  {
   "cell_type": "markdown",
   "id": "f58bcad5-bb3f-46ba-8aec-154e5957b879",
   "metadata": {
    "id": "f58bcad5-bb3f-46ba-8aec-154e5957b879",
    "tags": []
   },
   "source": [
    "## <center> ⚡️ `Numba Jit` </center>\n",
    "\n",
    "<p id=\"c5\"></p>   "
   ]
  },
  {
   "cell_type": "markdown",
   "id": "e4e5b623-9f2d-496a-a078-41dfa64aefee",
   "metadata": {
    "id": "e4e5b623-9f2d-496a-a078-41dfa64aefee"
   },
   "source": [
    "<div class=\"alert alert-info\">\n",
    "\n",
    "Если нужно что-то кастномное, что нельзя переписать на `numpy`, но нужно чтобы работало быстро, `numba.jit` вам в помощь. Он конвертирует написанный вами на питоне код в С и засчет этого работает на порядок (а иногда и на несколько) быстрее, чем обычный питон. Однако, поддерживает он не весь питоновский функционал и внутри него нельзя использовать разные библиотечные функции, так что в основном используется для низкоуровневой оптимизации."
   ]
  },
  {
   "cell_type": "code",
   "execution_count": null,
   "id": "be3ae831-71af-4e90-bf41-ebe78613f68c",
   "metadata": {
    "id": "be3ae831-71af-4e90-bf41-ebe78613f68c"
   },
   "outputs": [],
   "source": [
    "from numba import jit\n",
    "\n",
    "@jit(nopython=True)\n",
    "def f(n):\n",
    "    s = 0.\n",
    "    for i in range(n):\n",
    "        s += i ** 0.5\n",
    "    return s"
   ]
  },
  {
   "cell_type": "code",
   "execution_count": null,
   "id": "6ab49165-d46a-4a1f-bcf0-19a8a2e4a26a",
   "metadata": {
    "colab": {
     "base_uri": "https://localhost:8080/"
    },
    "id": "6ab49165-d46a-4a1f-bcf0-19a8a2e4a26a",
    "outputId": "3860aee3-fa23-4699-aa45-9c6c316422b9"
   },
   "outputs": [
    {
     "name": "stdout",
     "output_type": "stream",
     "text": [
      "29.3 µs ± 2.71 µs per loop (mean ± std. dev. of 7 runs, 1 loop each)\n"
     ]
    }
   ],
   "source": [
    "%%timeit\n",
    "f(10000)"
   ]
  },
  {
   "cell_type": "code",
   "execution_count": null,
   "id": "c20830fb-e137-471f-8875-eae95cd6414a",
   "metadata": {
    "colab": {
     "base_uri": "https://localhost:8080/"
    },
    "id": "c20830fb-e137-471f-8875-eae95cd6414a",
    "outputId": "f7fd2ce4-5faf-4caf-d7f8-e0acc26542b0"
   },
   "outputs": [
    {
     "name": "stdout",
     "output_type": "stream",
     "text": [
      "29.1 µs ± 690 ns per loop (mean ± std. dev. of 7 runs, 10000 loops each)\n"
     ]
    }
   ],
   "source": [
    "%%timeit\n",
    "f(10000)"
   ]
  },
  {
   "cell_type": "code",
   "execution_count": null,
   "id": "5cbe34d3-cf13-4b1d-9a19-fc6d91a4cd63",
   "metadata": {
    "id": "5cbe34d3-cf13-4b1d-9a19-fc6d91a4cd63"
   },
   "outputs": [],
   "source": [
    "@jit(nopython=True)\n",
    "def monotonically_increasing(a):\n",
    "    max_value = 0\n",
    "    for i in range(len(a)):\n",
    "        if a[i] > max_value:\n",
    "            max_value = a[i]\n",
    "        a[i] = max_value\n",
    "    return a"
   ]
  },
  {
   "cell_type": "code",
   "execution_count": null,
   "id": "92aa7818-d7fc-4db6-9261-8063dac42a16",
   "metadata": {
    "colab": {
     "base_uri": "https://localhost:8080/"
    },
    "id": "92aa7818-d7fc-4db6-9261-8063dac42a16",
    "outputId": "10f64e36-55e0-4e25-f635-b8035cd1dd93"
   },
   "outputs": [
    {
     "name": "stdout",
     "output_type": "stream",
     "text": [
      "3.58 µs ± 46.4 ns per loop (mean ± std. dev. of 7 runs, 100000 loops each)\n"
     ]
    }
   ],
   "source": [
    "%%timeit\n",
    "monotonically_increasing(df_cars['target_reg'].values)"
   ]
  },
  {
   "cell_type": "code",
   "execution_count": null,
   "id": "fd20cc78-3a5b-40aa-aeba-33c885857c37",
   "metadata": {
    "colab": {
     "base_uri": "https://localhost:8080/"
    },
    "id": "fd20cc78-3a5b-40aa-aeba-33c885857c37",
    "outputId": "a1af0e9f-82ef-4074-b925-88eb9643ba3e"
   },
   "outputs": [
    {
     "name": "stdout",
     "output_type": "stream",
     "text": [
      "3.56 µs ± 64.2 ns per loop (mean ± std. dev. of 7 runs, 100000 loops each)\n"
     ]
    }
   ],
   "source": [
    "%%timeit\n",
    "monotonically_increasing(df_cars['target_reg'].values)"
   ]
  },
  {
   "cell_type": "markdown",
   "id": "0d2318c8-bcf0-4b2d-9b5f-c9d24e624561",
   "metadata": {
    "id": "0d2318c8-bcf0-4b2d-9b5f-c9d24e624561"
   },
   "source": [
    "## <center> 🧵 Multiprocessing </center>\n",
    "<p id=\"c6\"></p>   "
   ]
  },
  {
   "cell_type": "markdown",
   "id": "6d73b697-c95f-4d00-8657-f92845e27d76",
   "metadata": {
    "id": "6d73b697-c95f-4d00-8657-f92845e27d76"
   },
   "source": [
    "<div class=\"alert alert-info\">\n",
    "\n",
    "С помощью `multiprocessing` можно ускорить вообще практически все. Он позвлоляет использовать не одно ядро вашего компьютера, а сразу несколько и соответственно ускорить вычисления (уже не только io-bound, но еще и cpu-bound) в кол-во раз пропорциональное кол-ву доступных ядер."
   ]
  },
  {
   "cell_type": "code",
   "execution_count": null,
   "id": "ZCDsTGnxXS8v",
   "metadata": {
    "colab": {
     "base_uri": "https://localhost:8080/"
    },
    "id": "ZCDsTGnxXS8v",
    "outputId": "75d306f0-bde0-4ba6-e9e6-08dcd730e26a"
   },
   "outputs": [
    {
     "name": "stdout",
     "output_type": "stream",
     "text": [
      "Collecting pymorphy2\n",
      "  Downloading pymorphy2-0.9.1-py3-none-any.whl (55 kB)\n",
      "\u001b[?25l     \u001b[90m━━━━━━━━━━━━━━━━━━━━━━━━━━━━━━━━━━━━━━━━\u001b[0m \u001b[32m0.0/55.5 kB\u001b[0m \u001b[31m?\u001b[0m eta \u001b[36m-:--:--\u001b[0m\r",
      "\u001b[2K     \u001b[90m━━━━━━━━━━━━━━━━━━━━━━━━━━━━━━━━━━━━━━━━\u001b[0m \u001b[32m55.5/55.5 kB\u001b[0m \u001b[31m2.8 MB/s\u001b[0m eta \u001b[36m0:00:00\u001b[0m\n",
      "\u001b[?25hCollecting dawg-python>=0.7.1 (from pymorphy2)\n",
      "  Downloading DAWG_Python-0.7.2-py2.py3-none-any.whl (11 kB)\n",
      "Collecting pymorphy2-dicts-ru<3.0,>=2.4 (from pymorphy2)\n",
      "  Downloading pymorphy2_dicts_ru-2.4.417127.4579844-py2.py3-none-any.whl (8.2 MB)\n",
      "\u001b[2K     \u001b[90m━━━━━━━━━━━━━━━━━━━━━━━━━━━━━━━━━━━━━━━━\u001b[0m \u001b[32m8.2/8.2 MB\u001b[0m \u001b[31m76.6 MB/s\u001b[0m eta \u001b[36m0:00:00\u001b[0m\n",
      "\u001b[?25hCollecting docopt>=0.6 (from pymorphy2)\n",
      "  Downloading docopt-0.6.2.tar.gz (25 kB)\n",
      "  Preparing metadata (setup.py) ... \u001b[?25l\u001b[?25hdone\n",
      "Building wheels for collected packages: docopt\n",
      "  Building wheel for docopt (setup.py) ... \u001b[?25l\u001b[?25hdone\n",
      "  Created wheel for docopt: filename=docopt-0.6.2-py2.py3-none-any.whl size=13707 sha256=7cd0c19e9293eba4ee86500cf0139f288a7d54790f293b7590e3b3c0ab757350\n",
      "  Stored in directory: /root/.cache/pip/wheels/fc/ab/d4/5da2067ac95b36618c629a5f93f809425700506f72c9732fac\n",
      "Successfully built docopt\n",
      "Installing collected packages: pymorphy2-dicts-ru, docopt, dawg-python, pymorphy2\n",
      "Successfully installed dawg-python-0.7.2 docopt-0.6.2 pymorphy2-0.9.1 pymorphy2-dicts-ru-2.4.417127.4579844\n"
     ]
    }
   ],
   "source": [
    "! pip install pymorphy2 -q"
   ]
  },
  {
   "cell_type": "code",
   "execution_count": null,
   "id": "xTtDhyZLXKCY",
   "metadata": {
    "colab": {
     "base_uri": "https://localhost:8080/"
    },
    "id": "xTtDhyZLXKCY",
    "outputId": "761c4dde-3910-40a8-c6bb-cd49d542a491"
   },
   "outputs": [
    {
     "name": "stderr",
     "output_type": "stream",
     "text": [
      "[nltk_data] Downloading package stopwords to /root/nltk_data...\n",
      "[nltk_data]   Unzipping corpora/stopwords.zip.\n"
     ]
    }
   ],
   "source": [
    "import nltk\n",
    "from nltk.corpus import stopwords\n",
    "from nltk.tokenize import word_tokenize\n",
    "import pymorphy2\n",
    "\n",
    "nltk.download('stopwords')\n",
    "stop_words = set(stopwords.words('russian'))\n",
    "\n",
    "def text_prepare(text):\n",
    "    lemmatizer = pymorphy2.MorphAnalyzer()\n",
    "    word_tokens = word_tokenize(text)\n",
    "    word_tokens = [w for w in word_tokens if not w in stop_words]\n",
    "    word_tokens = [lemmatizer.parse(w)[0].normal_form for w in word_tokens]\n",
    "    filtered_text = ' '.join(word_tokens)\n",
    "    return filtered_text"
   ]
  },
  {
   "cell_type": "code",
   "execution_count": null,
   "id": "2614ae4c-eca5-4f42-9d62-0caf2a3f61de",
   "metadata": {
    "id": "2614ae4c-eca5-4f42-9d62-0caf2a3f61de"
   },
   "outputs": [],
   "source": [
    "df = pd.read_pickle('https://github.com/a-milenkin/Competitive_Data_Science/raw/refs/heads/main/data/blending/text_classification_train.pickle')\n",
    "df.head()"
   ]
  },
  {
   "cell_type": "code",
   "execution_count": null,
   "id": "a464704d-48af-48c1-baf5-166f3d09e0de",
   "metadata": {
    "id": "a464704d-48af-48c1-baf5-166f3d09e0de"
   },
   "outputs": [],
   "source": [
    "%%time\n",
    "\n",
    "tmp = df['text'].apply(text_prepare)"
   ]
  },
  {
   "cell_type": "code",
   "execution_count": null,
   "id": "aea269f7-f374-4935-a6c1-abf07cb8929b",
   "metadata": {
    "id": "aea269f7-f374-4935-a6c1-abf07cb8929b"
   },
   "outputs": [],
   "source": [
    "from multiprocessing import Pool"
   ]
  },
  {
   "cell_type": "code",
   "execution_count": null,
   "id": "5fc23736-1fc9-48ee-aa3e-e983e45ce8da",
   "metadata": {
    "id": "5fc23736-1fc9-48ee-aa3e-e983e45ce8da"
   },
   "outputs": [],
   "source": [
    "def parallelize_dataframe(df, func, n_cores=4):\n",
    "    df_split = np.array_split(df, n_cores)\n",
    "    pool = Pool(n_cores)\n",
    "    df = np.concatenate(pool.map(func, df_split))\n",
    "    pool.close()\n",
    "    pool.join()\n",
    "    return df\n",
    "\n",
    "def many_row_prepare(df, text_col='text'):\n",
    "    res = []\n",
    "    for text in df[text_col]:\n",
    "        res.append(text_prepare(text))\n",
    "    return res"
   ]
  },
  {
   "cell_type": "code",
   "execution_count": null,
   "id": "8725a0cc-775a-4b0d-94a2-30ccf50e664a",
   "metadata": {
    "id": "8725a0cc-775a-4b0d-94a2-30ccf50e664a"
   },
   "outputs": [],
   "source": [
    "%%time\n",
    "tmp = parallelize_dataframe(df, many_row_prepare)"
   ]
  },
  {
   "cell_type": "markdown",
   "id": "5c86892e-d888-4dc3-a633-22f74fa7a656",
   "metadata": {
    "id": "5c86892e-d888-4dc3-a633-22f74fa7a656"
   },
   "source": [
    "## <center> 👻 Выводы </center>\n",
    "\n",
    "<p id=\"c7\"></p>   "
   ]
  },
  {
   "cell_type": "markdown",
   "id": "35a849f7-2f76-4dd5-90e9-9c415ea52d77",
   "metadata": {
    "id": "35a849f7-2f76-4dd5-90e9-9c415ea52d77"
   },
   "source": [
    "<div class=\"alert alert-info\">\n",
    "    \n",
    "Ускорение вычеслений и оптимизация памяти это важные задачи, с которыми периодически можно сталкнутся во время написания соревнований или просто при работе с большим кол-вом данных. В данном уроке мы рассмотрели основные способы решения этих задач и как их применять на практике.\n",
    "    \n",
    "Если тебе нужно ускорить твой код, то:\n",
    "* Замени все, что можно на `numpy`\n",
    "* Оставшееся перепиши на `numba.jit`\n",
    "* Если предыдущх двух пунктов не хватило, то используй `multiprocessing`\n",
    "\n",
    "Если нужно соптимизировать память, то:\n",
    "* Хранения/считывание при помощи `pickle`\n",
    "* Правильное выставление типов\n",
    "* Если тебе не нужен весь датасет за раз, то можно считывать его по частям"
   ]
  },
  {
   "cell_type": "code",
   "execution_count": null,
   "id": "8c8d05b1-48b7-4ab7-a6bc-a56cec444441",
   "metadata": {
    "id": "8c8d05b1-48b7-4ab7-a6bc-a56cec444441"
   },
   "outputs": [],
   "source": []
  }
 ],
 "metadata": {
  "colab": {
   "provenance": []
  },
  "kernelspec": {
   "display_name": "cv",
   "language": "python",
   "name": "python3"
  },
  "language_info": {
   "codemirror_mode": {
    "name": "ipython",
    "version": 3
   },
   "file_extension": ".py",
   "mimetype": "text/x-python",
   "name": "python",
   "nbconvert_exporter": "python",
   "pygments_lexer": "ipython3",
   "version": "3.10.12"
  }
 },
 "nbformat": 4,
 "nbformat_minor": 5
}
