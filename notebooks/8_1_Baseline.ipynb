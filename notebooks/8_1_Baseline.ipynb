{
  "cells": [
    {
      "cell_type": "markdown",
      "metadata": {
        "id": "riXq8bHKx7T6"
      },
      "source": [
        "# <center>⚡️🏁 Quick start - тестируем простое решение</center>"
      ]
    },
    {
      "cell_type": "code",
      "execution_count": null,
      "metadata": {
        "id": "gkLLbpJHx7T-"
      },
      "outputs": [],
      "source": [
        "!pip install numpy pandas catboost -q\n",
        "#!ls ../data/ # проверяем наличие данных"
      ]
    },
    {
      "cell_type": "code",
      "execution_count": null,
      "metadata": {
        "ExecuteTime": {
          "end_time": "2022-09-23T12:30:27.726118Z",
          "start_time": "2022-09-23T12:30:24.605676Z"
        },
        "tags": [],
        "id": "XzgaGwNtx7UC"
      },
      "outputs": [],
      "source": [
        "import numpy as np\n",
        "import pandas as pd"
      ]
    },
    {
      "cell_type": "markdown",
      "metadata": {
        "id": "7EYBQA_Wx7UD"
      },
      "source": [
        "## Анализируем данные о машинах car_info\n",
        "\n",
        "🚗 Главное описание машин с информацией о поломках для обучения / прогноза - `car_train.csv` / `car_test.csv`.\n",
        "\n",
        "**Пояснение столбцов:**\n",
        "- `car_id` - идентификатор машины\n",
        "- `model` / `car_type` / `fuel_type`- марка, класс и тип топлива машины\n",
        "- `car_rating` / `riders` - общий рейтинг  и общее число поездок к концу 2021-го кода.\n",
        "- `year_to_start` / `year_to_work` - года выпуска машины и начала работы в автопарке\n",
        "- `main_city` - город пребывания машины. (Москва или Питер)\n",
        "- `target_reg` - количество дней до поломки.\n",
        "- `target_class` - класс поломки (всего 9 видов)"
      ]
    },
    {
      "cell_type": "code",
      "execution_count": null,
      "metadata": {
        "ExecuteTime": {
          "end_time": "2022-09-23T12:30:31.614036Z",
          "start_time": "2022-09-23T12:30:27.758714Z"
        },
        "tags": [],
        "colab": {
          "base_uri": "https://localhost:8080/",
          "height": 456
        },
        "id": "ySJoAIq0x7UG",
        "outputId": "8b00024c-9cae-40e6-856d-54e634c91598"
      },
      "outputs": [
        {
          "output_type": "stream",
          "name": "stdout",
          "text": [
            "(2337, 10)\n"
          ]
        },
        {
          "output_type": "execute_result",
          "data": {
            "text/plain": [
              "          car_id            model  car_type fuel_type  car_rating  \\\n",
              "177   V15348382y  Renault Sandero  standart    petrol        4.12   \n",
              "946   Z-7340686v  Renault Sandero  standart    petrol        5.66   \n",
              "1204  i-1870741R        Kia Rio X   economy    petrol        5.58   \n",
              "\n",
              "      year_to_start  riders  year_to_work  target_reg     target_class  \n",
              "177            2015   73441          2018       40.92  engine_overheat  \n",
              "946            2014   63799          2019       34.19       gear_stick  \n",
              "1204           2013   42608          2020       45.50     engine_check  "
            ],
            "text/html": [
              "\n",
              "  <div id=\"df-a19b9f32-7ea4-4613-9249-34eb8d7fc3c9\">\n",
              "    <div class=\"colab-df-container\">\n",
              "      <div>\n",
              "<style scoped>\n",
              "    .dataframe tbody tr th:only-of-type {\n",
              "        vertical-align: middle;\n",
              "    }\n",
              "\n",
              "    .dataframe tbody tr th {\n",
              "        vertical-align: top;\n",
              "    }\n",
              "\n",
              "    .dataframe thead th {\n",
              "        text-align: right;\n",
              "    }\n",
              "</style>\n",
              "<table border=\"1\" class=\"dataframe\">\n",
              "  <thead>\n",
              "    <tr style=\"text-align: right;\">\n",
              "      <th></th>\n",
              "      <th>car_id</th>\n",
              "      <th>model</th>\n",
              "      <th>car_type</th>\n",
              "      <th>fuel_type</th>\n",
              "      <th>car_rating</th>\n",
              "      <th>year_to_start</th>\n",
              "      <th>riders</th>\n",
              "      <th>year_to_work</th>\n",
              "      <th>target_reg</th>\n",
              "      <th>target_class</th>\n",
              "    </tr>\n",
              "  </thead>\n",
              "  <tbody>\n",
              "    <tr>\n",
              "      <th>177</th>\n",
              "      <td>V15348382y</td>\n",
              "      <td>Renault Sandero</td>\n",
              "      <td>standart</td>\n",
              "      <td>petrol</td>\n",
              "      <td>4.12</td>\n",
              "      <td>2015</td>\n",
              "      <td>73441</td>\n",
              "      <td>2018</td>\n",
              "      <td>40.92</td>\n",
              "      <td>engine_overheat</td>\n",
              "    </tr>\n",
              "    <tr>\n",
              "      <th>946</th>\n",
              "      <td>Z-7340686v</td>\n",
              "      <td>Renault Sandero</td>\n",
              "      <td>standart</td>\n",
              "      <td>petrol</td>\n",
              "      <td>5.66</td>\n",
              "      <td>2014</td>\n",
              "      <td>63799</td>\n",
              "      <td>2019</td>\n",
              "      <td>34.19</td>\n",
              "      <td>gear_stick</td>\n",
              "    </tr>\n",
              "    <tr>\n",
              "      <th>1204</th>\n",
              "      <td>i-1870741R</td>\n",
              "      <td>Kia Rio X</td>\n",
              "      <td>economy</td>\n",
              "      <td>petrol</td>\n",
              "      <td>5.58</td>\n",
              "      <td>2013</td>\n",
              "      <td>42608</td>\n",
              "      <td>2020</td>\n",
              "      <td>45.50</td>\n",
              "      <td>engine_check</td>\n",
              "    </tr>\n",
              "  </tbody>\n",
              "</table>\n",
              "</div>\n",
              "      <button class=\"colab-df-convert\" onclick=\"convertToInteractive('df-a19b9f32-7ea4-4613-9249-34eb8d7fc3c9')\"\n",
              "              title=\"Convert this dataframe to an interactive table.\"\n",
              "              style=\"display:none;\">\n",
              "        \n",
              "  <svg xmlns=\"http://www.w3.org/2000/svg\" height=\"24px\"viewBox=\"0 0 24 24\"\n",
              "       width=\"24px\">\n",
              "    <path d=\"M0 0h24v24H0V0z\" fill=\"none\"/>\n",
              "    <path d=\"M18.56 5.44l.94 2.06.94-2.06 2.06-.94-2.06-.94-.94-2.06-.94 2.06-2.06.94zm-11 1L8.5 8.5l.94-2.06 2.06-.94-2.06-.94L8.5 2.5l-.94 2.06-2.06.94zm10 10l.94 2.06.94-2.06 2.06-.94-2.06-.94-.94-2.06-.94 2.06-2.06.94z\"/><path d=\"M17.41 7.96l-1.37-1.37c-.4-.4-.92-.59-1.43-.59-.52 0-1.04.2-1.43.59L10.3 9.45l-7.72 7.72c-.78.78-.78 2.05 0 2.83L4 21.41c.39.39.9.59 1.41.59.51 0 1.02-.2 1.41-.59l7.78-7.78 2.81-2.81c.8-.78.8-2.07 0-2.86zM5.41 20L4 18.59l7.72-7.72 1.47 1.35L5.41 20z\"/>\n",
              "  </svg>\n",
              "      </button>\n",
              "      \n",
              "  <style>\n",
              "    .colab-df-container {\n",
              "      display:flex;\n",
              "      flex-wrap:wrap;\n",
              "      gap: 12px;\n",
              "    }\n",
              "\n",
              "    .colab-df-convert {\n",
              "      background-color: #E8F0FE;\n",
              "      border: none;\n",
              "      border-radius: 50%;\n",
              "      cursor: pointer;\n",
              "      display: none;\n",
              "      fill: #1967D2;\n",
              "      height: 32px;\n",
              "      padding: 0 0 0 0;\n",
              "      width: 32px;\n",
              "    }\n",
              "\n",
              "    .colab-df-convert:hover {\n",
              "      background-color: #E2EBFA;\n",
              "      box-shadow: 0px 1px 2px rgba(60, 64, 67, 0.3), 0px 1px 3px 1px rgba(60, 64, 67, 0.15);\n",
              "      fill: #174EA6;\n",
              "    }\n",
              "\n",
              "    [theme=dark] .colab-df-convert {\n",
              "      background-color: #3B4455;\n",
              "      fill: #D2E3FC;\n",
              "    }\n",
              "\n",
              "    [theme=dark] .colab-df-convert:hover {\n",
              "      background-color: #434B5C;\n",
              "      box-shadow: 0px 1px 3px 1px rgba(0, 0, 0, 0.15);\n",
              "      filter: drop-shadow(0px 1px 2px rgba(0, 0, 0, 0.3));\n",
              "      fill: #FFFFFF;\n",
              "    }\n",
              "  </style>\n",
              "\n",
              "      <script>\n",
              "        const buttonEl =\n",
              "          document.querySelector('#df-a19b9f32-7ea4-4613-9249-34eb8d7fc3c9 button.colab-df-convert');\n",
              "        buttonEl.style.display =\n",
              "          google.colab.kernel.accessAllowed ? 'block' : 'none';\n",
              "\n",
              "        async function convertToInteractive(key) {\n",
              "          const element = document.querySelector('#df-a19b9f32-7ea4-4613-9249-34eb8d7fc3c9');\n",
              "          const dataTable =\n",
              "            await google.colab.kernel.invokeFunction('convertToInteractive',\n",
              "                                                     [key], {});\n",
              "          if (!dataTable) return;\n",
              "\n",
              "          const docLinkHtml = 'Like what you see? Visit the ' +\n",
              "            '<a target=\"_blank\" href=https://colab.research.google.com/notebooks/data_table.ipynb>data table notebook</a>'\n",
              "            + ' to learn more about interactive tables.';\n",
              "          element.innerHTML = '';\n",
              "          dataTable['output_type'] = 'display_data';\n",
              "          await google.colab.output.renderOutput(dataTable, element);\n",
              "          const docLink = document.createElement('div');\n",
              "          docLink.innerHTML = docLinkHtml;\n",
              "          element.appendChild(docLink);\n",
              "        }\n",
              "      </script>\n",
              "    </div>\n",
              "  </div>\n",
              "  "
            ]
          },
          "metadata": {},
          "execution_count": 4
        },
        {
          "output_type": "display_data",
          "data": {
            "text/plain": [
              "<Figure size 2000x500 with 5 Axes>"
            ],
            "image/png": "[encoded data removed]"
          },
          "metadata": {}
        }
      ],
      "source": [
        "data_root = \"https://raw.githubusercontent.com/a-milenkin/Competitive_Data_Science/main/data/\"\n",
        "path = data_root + 'car_train.csv'\n",
        "train = pd.read_csv(path)\n",
        "print(train.shape)\n",
        "train.hist(figsize=(20, 5), layout = (-1, 5))\n",
        "train.sample(3)"
      ]
    },
    {
      "cell_type": "code",
      "execution_count": null,
      "metadata": {
        "colab": {
          "base_uri": "https://localhost:8080/",
          "height": 297
        },
        "id": "AP9Q4uZ2x7UH",
        "outputId": "cf6dd9bc-5c3c-44eb-b492-d22ff8b842b3"
      },
      "outputs": [
        {
          "output_type": "execute_result",
          "data": {
            "text/plain": [
              "        car_rating  year_to_start         riders  year_to_work   target_reg\n",
              "count  2337.000000    2337.000000    2337.000000   2337.000000  2337.000000\n",
              "mean      4.354292    2014.040650   63711.443731   2018.069748    44.946735\n",
              "std       0.996954       1.685852   33755.012096      2.159484    17.579568\n",
              "min       0.980000    2011.000000      23.000000   2014.000000    18.920000\n",
              "25%       3.740000    2013.000000   41053.000000   2016.000000    31.670000\n",
              "50%       4.360000    2014.000000   64415.000000   2018.000000    40.170000\n",
              "75%       5.000000    2015.000000   86515.000000   2020.000000    54.790000\n",
              "max       8.900000    2017.000000  142862.000000   2022.000000   141.630000"
            ],
            "text/html": [
              "\n",
              "  <div id=\"df-d27e9d12-c7c8-420c-b9bb-a5eb6d5e0140\">\n",
              "    <div class=\"colab-df-container\">\n",
              "      <div>\n",
              "<style scoped>\n",
              "    .dataframe tbody tr th:only-of-type {\n",
              "        vertical-align: middle;\n",
              "    }\n",
              "\n",
              "    .dataframe tbody tr th {\n",
              "        vertical-align: top;\n",
              "    }\n",
              "\n",
              "    .dataframe thead th {\n",
              "        text-align: right;\n",
              "    }\n",
              "</style>\n",
              "<table border=\"1\" class=\"dataframe\">\n",
              "  <thead>\n",
              "    <tr style=\"text-align: right;\">\n",
              "      <th></th>\n",
              "      <th>car_rating</th>\n",
              "      <th>year_to_start</th>\n",
              "      <th>riders</th>\n",
              "      <th>year_to_work</th>\n",
              "      <th>target_reg</th>\n",
              "    </tr>\n",
              "  </thead>\n",
              "  <tbody>\n",
              "    <tr>\n",
              "      <th>count</th>\n",
              "      <td>2337.000000</td>\n",
              "      <td>2337.000000</td>\n",
              "      <td>2337.000000</td>\n",
              "      <td>2337.000000</td>\n",
              "      <td>2337.000000</td>\n",
              "    </tr>\n",
              "    <tr>\n",
              "      <th>mean</th>\n",
              "      <td>4.354292</td>\n",
              "      <td>2014.040650</td>\n",
              "      <td>63711.443731</td>\n",
              "      <td>2018.069748</td>\n",
              "      <td>44.946735</td>\n",
              "    </tr>\n",
              "    <tr>\n",
              "      <th>std</th>\n",
              "      <td>0.996954</td>\n",
              "      <td>1.685852</td>\n",
              "      <td>33755.012096</td>\n",
              "      <td>2.159484</td>\n",
              "      <td>17.579568</td>\n",
              "    </tr>\n",
              "    <tr>\n",
              "      <th>min</th>\n",
              "      <td>0.980000</td>\n",
              "      <td>2011.000000</td>\n",
              "      <td>23.000000</td>\n",
              "      <td>2014.000000</td>\n",
              "      <td>18.920000</td>\n",
              "    </tr>\n",
              "    <tr>\n",
              "      <th>25%</th>\n",
              "      <td>3.740000</td>\n",
              "      <td>2013.000000</td>\n",
              "      <td>41053.000000</td>\n",
              "      <td>2016.000000</td>\n",
              "      <td>31.670000</td>\n",
              "    </tr>\n",
              "    <tr>\n",
              "      <th>50%</th>\n",
              "      <td>4.360000</td>\n",
              "      <td>2014.000000</td>\n",
              "      <td>64415.000000</td>\n",
              "      <td>2018.000000</td>\n",
              "      <td>40.170000</td>\n",
              "    </tr>\n",
              "    <tr>\n",
              "      <th>75%</th>\n",
              "      <td>5.000000</td>\n",
              "      <td>2015.000000</td>\n",
              "      <td>86515.000000</td>\n",
              "      <td>2020.000000</td>\n",
              "      <td>54.790000</td>\n",
              "    </tr>\n",
              "    <tr>\n",
              "      <th>max</th>\n",
              "      <td>8.900000</td>\n",
              "      <td>2017.000000</td>\n",
              "      <td>142862.000000</td>\n",
              "      <td>2022.000000</td>\n",
              "      <td>141.630000</td>\n",
              "    </tr>\n",
              "  </tbody>\n",
              "</table>\n",
              "</div>\n",
              "      <button class=\"colab-df-convert\" onclick=\"convertToInteractive('df-d27e9d12-c7c8-420c-b9bb-a5eb6d5e0140')\"\n",
              "              title=\"Convert this dataframe to an interactive table.\"\n",
              "              style=\"display:none;\">\n",
              "        \n",
              "  <svg xmlns=\"http://www.w3.org/2000/svg\" height=\"24px\"viewBox=\"0 0 24 24\"\n",
              "       width=\"24px\">\n",
              "    <path d=\"M0 0h24v24H0V0z\" fill=\"none\"/>\n",
              "    <path d=\"M18.56 5.44l.94 2.06.94-2.06 2.06-.94-2.06-.94-.94-2.06-.94 2.06-2.06.94zm-11 1L8.5 8.5l.94-2.06 2.06-.94-2.06-.94L8.5 2.5l-.94 2.06-2.06.94zm10 10l.94 2.06.94-2.06 2.06-.94-2.06-.94-.94-2.06-.94 2.06-2.06.94z\"/><path d=\"M17.41 7.96l-1.37-1.37c-.4-.4-.92-.59-1.43-.59-.52 0-1.04.2-1.43.59L10.3 9.45l-7.72 7.72c-.78.78-.78 2.05 0 2.83L4 21.41c.39.39.9.59 1.41.59.51 0 1.02-.2 1.41-.59l7.78-7.78 2.81-2.81c.8-.78.8-2.07 0-2.86zM5.41 20L4 18.59l7.72-7.72 1.47 1.35L5.41 20z\"/>\n",
              "  </svg>\n",
              "      </button>\n",
              "      \n",
              "  <style>\n",
              "    .colab-df-container {\n",
              "      display:flex;\n",
              "      flex-wrap:wrap;\n",
              "      gap: 12px;\n",
              "    }\n",
              "\n",
              "    .colab-df-convert {\n",
              "      background-color: #E8F0FE;\n",
              "      border: none;\n",
              "      border-radius: 50%;\n",
              "      cursor: pointer;\n",
              "      display: none;\n",
              "      fill: #1967D2;\n",
              "      height: 32px;\n",
              "      padding: 0 0 0 0;\n",
              "      width: 32px;\n",
              "    }\n",
              "\n",
              "    .colab-df-convert:hover {\n",
              "      background-color: #E2EBFA;\n",
              "      box-shadow: 0px 1px 2px rgba(60, 64, 67, 0.3), 0px 1px 3px 1px rgba(60, 64, 67, 0.15);\n",
              "      fill: #174EA6;\n",
              "    }\n",
              "\n",
              "    [theme=dark] .colab-df-convert {\n",
              "      background-color: #3B4455;\n",
              "      fill: #D2E3FC;\n",
              "    }\n",
              "\n",
              "    [theme=dark] .colab-df-convert:hover {\n",
              "      background-color: #434B5C;\n",
              "      box-shadow: 0px 1px 3px 1px rgba(0, 0, 0, 0.15);\n",
              "      filter: drop-shadow(0px 1px 2px rgba(0, 0, 0, 0.3));\n",
              "      fill: #FFFFFF;\n",
              "    }\n",
              "  </style>\n",
              "\n",
              "      <script>\n",
              "        const buttonEl =\n",
              "          document.querySelector('#df-d27e9d12-c7c8-420c-b9bb-a5eb6d5e0140 button.colab-df-convert');\n",
              "        buttonEl.style.display =\n",
              "          google.colab.kernel.accessAllowed ? 'block' : 'none';\n",
              "\n",
              "        async function convertToInteractive(key) {\n",
              "          const element = document.querySelector('#df-d27e9d12-c7c8-420c-b9bb-a5eb6d5e0140');\n",
              "          const dataTable =\n",
              "            await google.colab.kernel.invokeFunction('convertToInteractive',\n",
              "                                                     [key], {});\n",
              "          if (!dataTable) return;\n",
              "\n",
              "          const docLinkHtml = 'Like what you see? Visit the ' +\n",
              "            '<a target=\"_blank\" href=https://colab.research.google.com/notebooks/data_table.ipynb>data table notebook</a>'\n",
              "            + ' to learn more about interactive tables.';\n",
              "          element.innerHTML = '';\n",
              "          dataTable['output_type'] = 'display_data';\n",
              "          await google.colab.output.renderOutput(dataTable, element);\n",
              "          const docLink = document.createElement('div');\n",
              "          docLink.innerHTML = docLinkHtml;\n",
              "          element.appendChild(docLink);\n",
              "        }\n",
              "      </script>\n",
              "    </div>\n",
              "  </div>\n",
              "  "
            ]
          },
          "metadata": {},
          "execution_count": 5
        }
      ],
      "source": [
        "train.describe()"
      ]
    },
    {
      "cell_type": "code",
      "execution_count": null,
      "metadata": {
        "tags": [],
        "colab": {
          "base_uri": "https://localhost:8080/",
          "height": 274
        },
        "id": "wIi3jq7Zx7UJ",
        "outputId": "642a14cd-9045-4ea2-fde7-80fcbf2cef99"
      },
      "outputs": [
        {
          "output_type": "stream",
          "name": "stdout",
          "text": [
            "(1913, 8)\n"
          ]
        },
        {
          "output_type": "execute_result",
          "data": {
            "text/plain": [
              "          car_id           model  car_type fuel_type  car_rating  \\\n",
              "118   V56226787D   Smart ForFour   economy    petrol        3.80   \n",
              "270   F-5963184s      VW Polo VI   economy    petrol        5.24   \n",
              "1161  z42577454j  Renault Kaptur  standart    petrol        3.48   \n",
              "\n",
              "      year_to_start  riders  year_to_work  \n",
              "118            2017  112276          2018  \n",
              "270            2015   83472          2018  \n",
              "1161           2015   89628          2017  "
            ],
            "text/html": [
              "\n",
              "  <div id=\"df-5376195d-d225-4a9d-9c70-e0a8d22edfe8\">\n",
              "    <div class=\"colab-df-container\">\n",
              "      <div>\n",
              "<style scoped>\n",
              "    .dataframe tbody tr th:only-of-type {\n",
              "        vertical-align: middle;\n",
              "    }\n",
              "\n",
              "    .dataframe tbody tr th {\n",
              "        vertical-align: top;\n",
              "    }\n",
              "\n",
              "    .dataframe thead th {\n",
              "        text-align: right;\n",
              "    }\n",
              "</style>\n",
              "<table border=\"1\" class=\"dataframe\">\n",
              "  <thead>\n",
              "    <tr style=\"text-align: right;\">\n",
              "      <th></th>\n",
              "      <th>car_id</th>\n",
              "      <th>model</th>\n",
              "      <th>car_type</th>\n",
              "      <th>fuel_type</th>\n",
              "      <th>car_rating</th>\n",
              "      <th>year_to_start</th>\n",
              "      <th>riders</th>\n",
              "      <th>year_to_work</th>\n",
              "    </tr>\n",
              "  </thead>\n",
              "  <tbody>\n",
              "    <tr>\n",
              "      <th>118</th>\n",
              "      <td>V56226787D</td>\n",
              "      <td>Smart ForFour</td>\n",
              "      <td>economy</td>\n",
              "      <td>petrol</td>\n",
              "      <td>3.80</td>\n",
              "      <td>2017</td>\n",
              "      <td>112276</td>\n",
              "      <td>2018</td>\n",
              "    </tr>\n",
              "    <tr>\n",
              "      <th>270</th>\n",
              "      <td>F-5963184s</td>\n",
              "      <td>VW Polo VI</td>\n",
              "      <td>economy</td>\n",
              "      <td>petrol</td>\n",
              "      <td>5.24</td>\n",
              "      <td>2015</td>\n",
              "      <td>83472</td>\n",
              "      <td>2018</td>\n",
              "    </tr>\n",
              "    <tr>\n",
              "      <th>1161</th>\n",
              "      <td>z42577454j</td>\n",
              "      <td>Renault Kaptur</td>\n",
              "      <td>standart</td>\n",
              "      <td>petrol</td>\n",
              "      <td>3.48</td>\n",
              "      <td>2015</td>\n",
              "      <td>89628</td>\n",
              "      <td>2017</td>\n",
              "    </tr>\n",
              "  </tbody>\n",
              "</table>\n",
              "</div>\n",
              "      <button class=\"colab-df-convert\" onclick=\"convertToInteractive('df-5376195d-d225-4a9d-9c70-e0a8d22edfe8')\"\n",
              "              title=\"Convert this dataframe to an interactive table.\"\n",
              "              style=\"display:none;\">\n",
              "        \n",
              "  <svg xmlns=\"http://www.w3.org/2000/svg\" height=\"24px\"viewBox=\"0 0 24 24\"\n",
              "       width=\"24px\">\n",
              "    <path d=\"M0 0h24v24H0V0z\" fill=\"none\"/>\n",
              "    <path d=\"M18.56 5.44l.94 2.06.94-2.06 2.06-.94-2.06-.94-.94-2.06-.94 2.06-2.06.94zm-11 1L8.5 8.5l.94-2.06 2.06-.94-2.06-.94L8.5 2.5l-.94 2.06-2.06.94zm10 10l.94 2.06.94-2.06 2.06-.94-2.06-.94-.94-2.06-.94 2.06-2.06.94z\"/><path d=\"M17.41 7.96l-1.37-1.37c-.4-.4-.92-.59-1.43-.59-.52 0-1.04.2-1.43.59L10.3 9.45l-7.72 7.72c-.78.78-.78 2.05 0 2.83L4 21.41c.39.39.9.59 1.41.59.51 0 1.02-.2 1.41-.59l7.78-7.78 2.81-2.81c.8-.78.8-2.07 0-2.86zM5.41 20L4 18.59l7.72-7.72 1.47 1.35L5.41 20z\"/>\n",
              "  </svg>\n",
              "      </button>\n",
              "      \n",
              "  <style>\n",
              "    .colab-df-container {\n",
              "      display:flex;\n",
              "      flex-wrap:wrap;\n",
              "      gap: 12px;\n",
              "    }\n",
              "\n",
              "    .colab-df-convert {\n",
              "      background-color: #E8F0FE;\n",
              "      border: none;\n",
              "      border-radius: 50%;\n",
              "      cursor: pointer;\n",
              "      display: none;\n",
              "      fill: #1967D2;\n",
              "      height: 32px;\n",
              "      padding: 0 0 0 0;\n",
              "      width: 32px;\n",
              "    }\n",
              "\n",
              "    .colab-df-convert:hover {\n",
              "      background-color: #E2EBFA;\n",
              "      box-shadow: 0px 1px 2px rgba(60, 64, 67, 0.3), 0px 1px 3px 1px rgba(60, 64, 67, 0.15);\n",
              "      fill: #174EA6;\n",
              "    }\n",
              "\n",
              "    [theme=dark] .colab-df-convert {\n",
              "      background-color: #3B4455;\n",
              "      fill: #D2E3FC;\n",
              "    }\n",
              "\n",
              "    [theme=dark] .colab-df-convert:hover {\n",
              "      background-color: #434B5C;\n",
              "      box-shadow: 0px 1px 3px 1px rgba(0, 0, 0, 0.15);\n",
              "      filter: drop-shadow(0px 1px 2px rgba(0, 0, 0, 0.3));\n",
              "      fill: #FFFFFF;\n",
              "    }\n",
              "  </style>\n",
              "\n",
              "      <script>\n",
              "        const buttonEl =\n",
              "          document.querySelector('#df-5376195d-d225-4a9d-9c70-e0a8d22edfe8 button.colab-df-convert');\n",
              "        buttonEl.style.display =\n",
              "          google.colab.kernel.accessAllowed ? 'block' : 'none';\n",
              "\n",
              "        async function convertToInteractive(key) {\n",
              "          const element = document.querySelector('#df-5376195d-d225-4a9d-9c70-e0a8d22edfe8');\n",
              "          const dataTable =\n",
              "            await google.colab.kernel.invokeFunction('convertToInteractive',\n",
              "                                                     [key], {});\n",
              "          if (!dataTable) return;\n",
              "\n",
              "          const docLinkHtml = 'Like what you see? Visit the ' +\n",
              "            '<a target=\"_blank\" href=https://colab.research.google.com/notebooks/data_table.ipynb>data table notebook</a>'\n",
              "            + ' to learn more about interactive tables.';\n",
              "          element.innerHTML = '';\n",
              "          dataTable['output_type'] = 'display_data';\n",
              "          await google.colab.output.renderOutput(dataTable, element);\n",
              "          const docLink = document.createElement('div');\n",
              "          docLink.innerHTML = docLinkHtml;\n",
              "          element.appendChild(docLink);\n",
              "        }\n",
              "      </script>\n",
              "    </div>\n",
              "  </div>\n",
              "  "
            ]
          },
          "metadata": {},
          "execution_count": 6
        }
      ],
      "source": [
        "path = data_root + 'car_test.csv'\n",
        "test = pd.read_csv(path)\n",
        "print(test.shape)\n",
        "test.sample(3)"
      ]
    },
    {
      "cell_type": "markdown",
      "metadata": {
        "id": "IP02hytLx7UL"
      },
      "source": [
        "## Классифицируем признаки на типы"
      ]
    },
    {
      "cell_type": "code",
      "execution_count": null,
      "metadata": {
        "colab": {
          "base_uri": "https://localhost:8080/"
        },
        "id": "7onoJ-73x7UM",
        "outputId": "49616c0d-6f5a-4141-de44-3beaf74f33ec"
      },
      "outputs": [
        {
          "output_type": "stream",
          "name": "stdout",
          "text": [
            "cat_features : 3 ['car_type', 'fuel_type', 'model']\n",
            "num_features : 4 ['car_rating', 'year_to_start', 'riders', 'year_to_work']\n",
            "targets ['target_class', 'target_reg']\n"
          ]
        }
      ],
      "source": [
        "features2drop = ['car_id'] # то что надо выбросить\n",
        "targets = ['target_class', 'target_reg'] # таргеты\n",
        "cat_features = ['car_type', 'fuel_type', 'model'] # категориальные признаки\n",
        "\n",
        "filtered_features = [i for i in train.columns if (i not in targets and i not in features2drop)]\n",
        "num_features = [i for i in filtered_features if i not in cat_features]\n",
        "\n",
        "print('cat_features :', len(cat_features), cat_features)\n",
        "print('num_features :', len(num_features), num_features)\n",
        "print('targets', targets)"
      ]
    },
    {
      "cell_type": "markdown",
      "metadata": {
        "id": "ZXKjvLAfx7UN"
      },
      "source": [
        "## Объявляем модель для кросс-валидации"
      ]
    },
    {
      "cell_type": "markdown",
      "metadata": {
        "id": "A5kp_DKrx7UN"
      },
      "source": [
        "Чтобы в дальнейшем было удобно обучать и инференсить модели, обученные при помоищ кросс-валидации, напишем под это дело отдельный класс. Он будет принимать модель (в нашем случае `catboost`), и обучать несколько ее вариации - отдельная модель на каждый фолд. Во время инференса будем просто брать тот класс, за который проголосовало наиобольшее кол-во моделей."
      ]
    },
    {
      "cell_type": "code",
      "execution_count": null,
      "metadata": {
        "id": "KX-BR2lax7UO"
      },
      "outputs": [],
      "source": [
        "from sklearn.model_selection import StratifiedKFold\n",
        "import copy\n",
        "from collections import Counter\n",
        "from sklearn.metrics import accuracy_score\n",
        "\n",
        "class CvModel:\n",
        "    def __init__(self, clf):\n",
        "        self.models = []\n",
        "        self.clf = clf\n",
        "        self.scores = []\n",
        "\n",
        "    def fit(self, X, y, cv=5):\n",
        "        self.models = []\n",
        "        self.scores = []\n",
        "\n",
        "        skf = StratifiedKFold(n_splits=cv)\n",
        "        for i, (train_idx, test_idx) in enumerate(skf.split(X, y)):\n",
        "            now_model = copy.deepcopy(self.clf)\n",
        "            X_train, X_val, y_train, y_val = X.iloc[train_idx], X.iloc[test_idx], y.iloc[train_idx], y.iloc[test_idx]\n",
        "\n",
        "            now_model.fit(X_train, y_train,\n",
        "                          eval_set=(X_val, y_val),\n",
        "                          early_stopping_rounds=150,\n",
        "                          verbose=False)\n",
        "\n",
        "            acc = accuracy_score(now_model.predict(X_val), y_val)\n",
        "            print(f'Fold {i}/{cv} acc = {acc}')\n",
        "\n",
        "            self.scores.append(acc)\n",
        "            self.models.append(now_model)\n",
        "        print('Mean acc = {}'.format(np.mean(self.scores)))\n",
        "\n",
        "    def predict_proba(self, X):\n",
        "        if len(self.models) == 0:\n",
        "            raise Exception(\"There is not fitted model\")\n",
        "\n",
        "        res = [model.predict_proba(X) for model in self.models]\n",
        "        return np.sum(res, axis=0)\n",
        "\n",
        "    def predict(self, X):\n",
        "        if len(self.models) == 0:\n",
        "            raise Exception(\"There is not fitted model\")\n",
        "\n",
        "        preds = np.concatenate([model.predict(X).reshape(-1, 1) for model in self.models], axis=1)\n",
        "#         print(preds.shape)\n",
        "        res = [Counter(el).most_common()[0][0] for el in preds]\n",
        "        return res"
      ]
    },
    {
      "cell_type": "markdown",
      "metadata": {
        "id": "ywzU8lCBx7UP"
      },
      "source": [
        "## Обучаем Catboost и делаем прогноз на тест"
      ]
    },
    {
      "cell_type": "code",
      "execution_count": null,
      "metadata": {
        "id": "eKDKlqo2x7UP"
      },
      "outputs": [],
      "source": [
        "from catboost import CatBoostClassifier\n",
        "from sklearn.model_selection import train_test_split"
      ]
    },
    {
      "cell_type": "code",
      "execution_count": null,
      "metadata": {
        "id": "twmbWMDEx7UQ"
      },
      "outputs": [],
      "source": [
        "X = train[filtered_features].drop(targets, axis=1, errors='ignore')\n",
        "y = train['target_class']"
      ]
    },
    {
      "cell_type": "code",
      "execution_count": null,
      "metadata": {
        "id": "E748gBRZx7UR"
      },
      "outputs": [],
      "source": [
        "params_cat = {\n",
        "    \"n_estimators\": 1500,\n",
        "    \"learning_rate\": 0.03,\n",
        "    \"depth\": 5,\n",
        "    \"use_best_model\": True,\n",
        "    \"cat_features\": cat_features,\n",
        "    \"text_features\": [],\n",
        "    \"l2_leaf_reg\": 1,\n",
        "    \"bagging_temperature\": 2,\n",
        "    \"random_state\": 42,\n",
        "    \"loss_function\": 'MultiClass',\n",
        "    'eval_metric': 'Accuracy',\n",
        "}"
      ]
    },
    {
      "cell_type": "code",
      "execution_count": null,
      "metadata": {
        "id": "THZd9M8Rx7UR"
      },
      "outputs": [],
      "source": [
        "clf = CatBoostClassifier(**params_cat)\n",
        "cv_model = CvModel(clf)"
      ]
    },
    {
      "cell_type": "code",
      "execution_count": null,
      "metadata": {
        "colab": {
          "base_uri": "https://localhost:8080/"
        },
        "id": "4qT0bhOhx7US",
        "outputId": "54c308e8-1035-4ed8-8f11-c9c80a694ad2"
      },
      "outputs": [
        {
          "output_type": "stream",
          "name": "stdout",
          "text": [
            "Fold 0/5 acc = 0.13034188034188035\n",
            "Fold 1/5 acc = 0.1346153846153846\n",
            "Fold 2/5 acc = 0.14775160599571735\n",
            "Fold 3/5 acc = 0.14989293361884368\n",
            "Fold 4/5 acc = 0.14132762312633834\n",
            "Mean acc = 0.14078588553963284\n"
          ]
        }
      ],
      "source": [
        "cv_model.fit(X, y)"
      ]
    },
    {
      "cell_type": "code",
      "execution_count": null,
      "metadata": {
        "colab": {
          "base_uri": "https://localhost:8080/"
        },
        "id": "8IOq7QOax7UT",
        "outputId": "a0b28fa0-de8e-4fdd-b95e-08143e6b5de6"
      },
      "outputs": [
        {
          "output_type": "stream",
          "name": "stdout",
          "text": [
            "CSV file saved!\n"
          ]
        }
      ],
      "source": [
        "test['target_class'] = cv_model.predict(test[filtered_features])\n",
        "#test[['car_id', 'target_class']].to_csv('../subs/simple_baseline_v1.csv', index=False)\n",
        "test[['car_id', 'target_class']].to_csv('simple_baseline_v1.csv', index=False)\n",
        "print('CSV file saved!')"
      ]
    },
    {
      "cell_type": "markdown",
      "metadata": {
        "id": "Bzn92RRZx7UU"
      },
      "source": [
        "## Добавим информацию про поездки из rides_info"
      ]
    },
    {
      "cell_type": "markdown",
      "metadata": {
        "id": "VqxBKrtjx7UV"
      },
      "source": [
        "\n",
        "🏇 Информация про поездки - `rides_info.csv`.  **Пояснение столбцов:**\n",
        "- `user_id` / `car_id` / `ride_id` - идентификаторы водителя, машины, поездки соответственно\n",
        "- `ride_date` / `rating` - дата поездки и рейтинг, поставленный водителем\n",
        "- `ride_duration` / `distance` / `ride_cost` -  длительность (время),  пройденное расстояние, стоимость поездки\n",
        "- `speed_avg` / `speed_max` - средняя и максимальная скорости поездки соответственно\n",
        "- `stop_times` / `refueling` - количество остановок (паузы) и флаг - была ли дозаправка.\n",
        "- `user_ride_quality` - оценка манеры вождения машины водителя, определенная скоринговой ML системой сервиса.\n",
        "- `deviation_normal` - общий показатель датчиков о состоянии машины, относительно эталонных показателей (нормы).\n"
      ]
    },
    {
      "cell_type": "code",
      "execution_count": null,
      "metadata": {
        "tags": [],
        "colab": {
          "base_uri": "https://localhost:8080/",
          "height": 268
        },
        "id": "ltip2vm0x7UV",
        "outputId": "2765dae6-5d62-4377-d29d-7e2cd943a161"
      },
      "outputs": [
        {
          "output_type": "execute_result",
          "data": {
            "text/plain": [
              "           user_id      car_id ride_id   ride_date  rating  ride_duration  \\\n",
              "399911  t10596009J  c-7401486X     y1z  2020-02-01    6.32            113   \n",
              "404195  M36042624o  c22334367p     V1y  2020-03-29    9.35             25   \n",
              "209265  r87867134Z  O22101080f     h1a  2020-03-03    3.69             65   \n",
              "633511  i17228160O  s22484554J     H1L  2020-03-21    1.38             35   \n",
              "515071  Q25707401z  k-6134216L     h1E  2020-01-17    1.60              5   \n",
              "\n",
              "        ride_cost  speed_avg   speed_max  stop_times     distance  refueling  \\\n",
              "399911       1237         46   77.089245           0   917.789968          0   \n",
              "404195        271         38   48.000000           2   484.362149          0   \n",
              "209265       1035         52  106.000000           3  2710.832758          0   \n",
              "633511        416         82  148.777634           0  2946.721020          0   \n",
              "515071         75         28  113.410958           0   131.717539          0   \n",
              "\n",
              "        user_ride_quality  deviation_normal  \n",
              "399911          19.355723             4.471  \n",
              "404195           3.878435            25.628  \n",
              "209265         -11.827660           -39.508  \n",
              "633511         -21.534503             8.581  \n",
              "515071           0.693062            18.794  "
            ],
            "text/html": [
              "\n",
              "  <div id=\"df-8d4c7bab-c315-42b3-a857-352a9499f10e\">\n",
              "    <div class=\"colab-df-container\">\n",
              "      <div>\n",
              "<style scoped>\n",
              "    .dataframe tbody tr th:only-of-type {\n",
              "        vertical-align: middle;\n",
              "    }\n",
              "\n",
              "    .dataframe tbody tr th {\n",
              "        vertical-align: top;\n",
              "    }\n",
              "\n",
              "    .dataframe thead th {\n",
              "        text-align: right;\n",
              "    }\n",
              "</style>\n",
              "<table border=\"1\" class=\"dataframe\">\n",
              "  <thead>\n",
              "    <tr style=\"text-align: right;\">\n",
              "      <th></th>\n",
              "      <th>user_id</th>\n",
              "      <th>car_id</th>\n",
              "      <th>ride_id</th>\n",
              "      <th>ride_date</th>\n",
              "      <th>rating</th>\n",
              "      <th>ride_duration</th>\n",
              "      <th>ride_cost</th>\n",
              "      <th>speed_avg</th>\n",
              "      <th>speed_max</th>\n",
              "      <th>stop_times</th>\n",
              "      <th>distance</th>\n",
              "      <th>refueling</th>\n",
              "      <th>user_ride_quality</th>\n",
              "      <th>deviation_normal</th>\n",
              "    </tr>\n",
              "  </thead>\n",
              "  <tbody>\n",
              "    <tr>\n",
              "      <th>399911</th>\n",
              "      <td>t10596009J</td>\n",
              "      <td>c-7401486X</td>\n",
              "      <td>y1z</td>\n",
              "      <td>2020-02-01</td>\n",
              "      <td>6.32</td>\n",
              "      <td>113</td>\n",
              "      <td>1237</td>\n",
              "      <td>46</td>\n",
              "      <td>77.089245</td>\n",
              "      <td>0</td>\n",
              "      <td>917.789968</td>\n",
              "      <td>0</td>\n",
              "      <td>19.355723</td>\n",
              "      <td>4.471</td>\n",
              "    </tr>\n",
              "    <tr>\n",
              "      <th>404195</th>\n",
              "      <td>M36042624o</td>\n",
              "      <td>c22334367p</td>\n",
              "      <td>V1y</td>\n",
              "      <td>2020-03-29</td>\n",
              "      <td>9.35</td>\n",
              "      <td>25</td>\n",
              "      <td>271</td>\n",
              "      <td>38</td>\n",
              "      <td>48.000000</td>\n",
              "      <td>2</td>\n",
              "      <td>484.362149</td>\n",
              "      <td>0</td>\n",
              "      <td>3.878435</td>\n",
              "      <td>25.628</td>\n",
              "    </tr>\n",
              "    <tr>\n",
              "      <th>209265</th>\n",
              "      <td>r87867134Z</td>\n",
              "      <td>O22101080f</td>\n",
              "      <td>h1a</td>\n",
              "      <td>2020-03-03</td>\n",
              "      <td>3.69</td>\n",
              "      <td>65</td>\n",
              "      <td>1035</td>\n",
              "      <td>52</td>\n",
              "      <td>106.000000</td>\n",
              "      <td>3</td>\n",
              "      <td>2710.832758</td>\n",
              "      <td>0</td>\n",
              "      <td>-11.827660</td>\n",
              "      <td>-39.508</td>\n",
              "    </tr>\n",
              "    <tr>\n",
              "      <th>633511</th>\n",
              "      <td>i17228160O</td>\n",
              "      <td>s22484554J</td>\n",
              "      <td>H1L</td>\n",
              "      <td>2020-03-21</td>\n",
              "      <td>1.38</td>\n",
              "      <td>35</td>\n",
              "      <td>416</td>\n",
              "      <td>82</td>\n",
              "      <td>148.777634</td>\n",
              "      <td>0</td>\n",
              "      <td>2946.721020</td>\n",
              "      <td>0</td>\n",
              "      <td>-21.534503</td>\n",
              "      <td>8.581</td>\n",
              "    </tr>\n",
              "    <tr>\n",
              "      <th>515071</th>\n",
              "      <td>Q25707401z</td>\n",
              "      <td>k-6134216L</td>\n",
              "      <td>h1E</td>\n",
              "      <td>2020-01-17</td>\n",
              "      <td>1.60</td>\n",
              "      <td>5</td>\n",
              "      <td>75</td>\n",
              "      <td>28</td>\n",
              "      <td>113.410958</td>\n",
              "      <td>0</td>\n",
              "      <td>131.717539</td>\n",
              "      <td>0</td>\n",
              "      <td>0.693062</td>\n",
              "      <td>18.794</td>\n",
              "    </tr>\n",
              "  </tbody>\n",
              "</table>\n",
              "</div>\n",
              "      <button class=\"colab-df-convert\" onclick=\"convertToInteractive('df-8d4c7bab-c315-42b3-a857-352a9499f10e')\"\n",
              "              title=\"Convert this dataframe to an interactive table.\"\n",
              "              style=\"display:none;\">\n",
              "        \n",
              "  <svg xmlns=\"http://www.w3.org/2000/svg\" height=\"24px\"viewBox=\"0 0 24 24\"\n",
              "       width=\"24px\">\n",
              "    <path d=\"M0 0h24v24H0V0z\" fill=\"none\"/>\n",
              "    <path d=\"M18.56 5.44l.94 2.06.94-2.06 2.06-.94-2.06-.94-.94-2.06-.94 2.06-2.06.94zm-11 1L8.5 8.5l.94-2.06 2.06-.94-2.06-.94L8.5 2.5l-.94 2.06-2.06.94zm10 10l.94 2.06.94-2.06 2.06-.94-2.06-.94-.94-2.06-.94 2.06-2.06.94z\"/><path d=\"M17.41 7.96l-1.37-1.37c-.4-.4-.92-.59-1.43-.59-.52 0-1.04.2-1.43.59L10.3 9.45l-7.72 7.72c-.78.78-.78 2.05 0 2.83L4 21.41c.39.39.9.59 1.41.59.51 0 1.02-.2 1.41-.59l7.78-7.78 2.81-2.81c.8-.78.8-2.07 0-2.86zM5.41 20L4 18.59l7.72-7.72 1.47 1.35L5.41 20z\"/>\n",
              "  </svg>\n",
              "      </button>\n",
              "      \n",
              "  <style>\n",
              "    .colab-df-container {\n",
              "      display:flex;\n",
              "      flex-wrap:wrap;\n",
              "      gap: 12px;\n",
              "    }\n",
              "\n",
              "    .colab-df-convert {\n",
              "      background-color: #E8F0FE;\n",
              "      border: none;\n",
              "      border-radius: 50%;\n",
              "      cursor: pointer;\n",
              "      display: none;\n",
              "      fill: #1967D2;\n",
              "      height: 32px;\n",
              "      padding: 0 0 0 0;\n",
              "      width: 32px;\n",
              "    }\n",
              "\n",
              "    .colab-df-convert:hover {\n",
              "      background-color: #E2EBFA;\n",
              "      box-shadow: 0px 1px 2px rgba(60, 64, 67, 0.3), 0px 1px 3px 1px rgba(60, 64, 67, 0.15);\n",
              "      fill: #174EA6;\n",
              "    }\n",
              "\n",
              "    [theme=dark] .colab-df-convert {\n",
              "      background-color: #3B4455;\n",
              "      fill: #D2E3FC;\n",
              "    }\n",
              "\n",
              "    [theme=dark] .colab-df-convert:hover {\n",
              "      background-color: #434B5C;\n",
              "      box-shadow: 0px 1px 3px 1px rgba(0, 0, 0, 0.15);\n",
              "      filter: drop-shadow(0px 1px 2px rgba(0, 0, 0, 0.3));\n",
              "      fill: #FFFFFF;\n",
              "    }\n",
              "  </style>\n",
              "\n",
              "      <script>\n",
              "        const buttonEl =\n",
              "          document.querySelector('#df-8d4c7bab-c315-42b3-a857-352a9499f10e button.colab-df-convert');\n",
              "        buttonEl.style.display =\n",
              "          google.colab.kernel.accessAllowed ? 'block' : 'none';\n",
              "\n",
              "        async function convertToInteractive(key) {\n",
              "          const element = document.querySelector('#df-8d4c7bab-c315-42b3-a857-352a9499f10e');\n",
              "          const dataTable =\n",
              "            await google.colab.kernel.invokeFunction('convertToInteractive',\n",
              "                                                     [key], {});\n",
              "          if (!dataTable) return;\n",
              "\n",
              "          const docLinkHtml = 'Like what you see? Visit the ' +\n",
              "            '<a target=\"_blank\" href=https://colab.research.google.com/notebooks/data_table.ipynb>data table notebook</a>'\n",
              "            + ' to learn more about interactive tables.';\n",
              "          element.innerHTML = '';\n",
              "          dataTable['output_type'] = 'display_data';\n",
              "          await google.colab.output.renderOutput(dataTable, element);\n",
              "          const docLink = document.createElement('div');\n",
              "          docLink.innerHTML = docLinkHtml;\n",
              "          element.appendChild(docLink);\n",
              "        }\n",
              "      </script>\n",
              "    </div>\n",
              "  </div>\n",
              "  "
            ]
          },
          "metadata": {},
          "execution_count": 15
        }
      ],
      "source": [
        "path = data_root + 'rides_info.csv'\n",
        "rides = pd.read_csv(path)\n",
        "rides.sample(5)"
      ]
    },
    {
      "cell_type": "code",
      "execution_count": null,
      "metadata": {
        "colab": {
          "base_uri": "https://localhost:8080/",
          "height": 209
        },
        "id": "HPSXbrFex7UW",
        "outputId": "a9828003-c901-4e93-85c5-6222f399f2be"
      },
      "outputs": [
        {
          "output_type": "execute_result",
          "data": {
            "text/plain": [
              "       car_id  mean_rating  distance_sum  rating_min   speed_max  \\\n",
              "0  A-1049127W     4.255172  1.125753e+07         0.1  179.729652   \n",
              "1  A-1079539w     4.088046  1.912765e+07         0.1  184.505566   \n",
              "\n",
              "   user_ride_quality_median  deviation_normal_count  user_uniq  \n",
              "0                 -0.288229                     174        172  \n",
              "1                  2.508746                     174        173  "
            ],
            "text/html": [
              "\n",
              "  <div id=\"df-eaff4a4e-d416-4b51-9795-af8a127272f7\">\n",
              "    <div class=\"colab-df-container\">\n",
              "      <div>\n",
              "<style scoped>\n",
              "    .dataframe tbody tr th:only-of-type {\n",
              "        vertical-align: middle;\n",
              "    }\n",
              "\n",
              "    .dataframe tbody tr th {\n",
              "        vertical-align: top;\n",
              "    }\n",
              "\n",
              "    .dataframe thead th {\n",
              "        text-align: right;\n",
              "    }\n",
              "</style>\n",
              "<table border=\"1\" class=\"dataframe\">\n",
              "  <thead>\n",
              "    <tr style=\"text-align: right;\">\n",
              "      <th></th>\n",
              "      <th>car_id</th>\n",
              "      <th>mean_rating</th>\n",
              "      <th>distance_sum</th>\n",
              "      <th>rating_min</th>\n",
              "      <th>speed_max</th>\n",
              "      <th>user_ride_quality_median</th>\n",
              "      <th>deviation_normal_count</th>\n",
              "      <th>user_uniq</th>\n",
              "    </tr>\n",
              "  </thead>\n",
              "  <tbody>\n",
              "    <tr>\n",
              "      <th>0</th>\n",
              "      <td>A-1049127W</td>\n",
              "      <td>4.255172</td>\n",
              "      <td>1.125753e+07</td>\n",
              "      <td>0.1</td>\n",
              "      <td>179.729652</td>\n",
              "      <td>-0.288229</td>\n",
              "      <td>174</td>\n",
              "      <td>172</td>\n",
              "    </tr>\n",
              "    <tr>\n",
              "      <th>1</th>\n",
              "      <td>A-1079539w</td>\n",
              "      <td>4.088046</td>\n",
              "      <td>1.912765e+07</td>\n",
              "      <td>0.1</td>\n",
              "      <td>184.505566</td>\n",
              "      <td>2.508746</td>\n",
              "      <td>174</td>\n",
              "      <td>173</td>\n",
              "    </tr>\n",
              "  </tbody>\n",
              "</table>\n",
              "</div>\n",
              "      <button class=\"colab-df-convert\" onclick=\"convertToInteractive('df-eaff4a4e-d416-4b51-9795-af8a127272f7')\"\n",
              "              title=\"Convert this dataframe to an interactive table.\"\n",
              "              style=\"display:none;\">\n",
              "        \n",
              "  <svg xmlns=\"http://www.w3.org/2000/svg\" height=\"24px\"viewBox=\"0 0 24 24\"\n",
              "       width=\"24px\">\n",
              "    <path d=\"M0 0h24v24H0V0z\" fill=\"none\"/>\n",
              "    <path d=\"M18.56 5.44l.94 2.06.94-2.06 2.06-.94-2.06-.94-.94-2.06-.94 2.06-2.06.94zm-11 1L8.5 8.5l.94-2.06 2.06-.94-2.06-.94L8.5 2.5l-.94 2.06-2.06.94zm10 10l.94 2.06.94-2.06 2.06-.94-2.06-.94-.94-2.06-.94 2.06-2.06.94z\"/><path d=\"M17.41 7.96l-1.37-1.37c-.4-.4-.92-.59-1.43-.59-.52 0-1.04.2-1.43.59L10.3 9.45l-7.72 7.72c-.78.78-.78 2.05 0 2.83L4 21.41c.39.39.9.59 1.41.59.51 0 1.02-.2 1.41-.59l7.78-7.78 2.81-2.81c.8-.78.8-2.07 0-2.86zM5.41 20L4 18.59l7.72-7.72 1.47 1.35L5.41 20z\"/>\n",
              "  </svg>\n",
              "      </button>\n",
              "      \n",
              "  <style>\n",
              "    .colab-df-container {\n",
              "      display:flex;\n",
              "      flex-wrap:wrap;\n",
              "      gap: 12px;\n",
              "    }\n",
              "\n",
              "    .colab-df-convert {\n",
              "      background-color: #E8F0FE;\n",
              "      border: none;\n",
              "      border-radius: 50%;\n",
              "      cursor: pointer;\n",
              "      display: none;\n",
              "      fill: #1967D2;\n",
              "      height: 32px;\n",
              "      padding: 0 0 0 0;\n",
              "      width: 32px;\n",
              "    }\n",
              "\n",
              "    .colab-df-convert:hover {\n",
              "      background-color: #E2EBFA;\n",
              "      box-shadow: 0px 1px 2px rgba(60, 64, 67, 0.3), 0px 1px 3px 1px rgba(60, 64, 67, 0.15);\n",
              "      fill: #174EA6;\n",
              "    }\n",
              "\n",
              "    [theme=dark] .colab-df-convert {\n",
              "      background-color: #3B4455;\n",
              "      fill: #D2E3FC;\n",
              "    }\n",
              "\n",
              "    [theme=dark] .colab-df-convert:hover {\n",
              "      background-color: #434B5C;\n",
              "      box-shadow: 0px 1px 3px 1px rgba(0, 0, 0, 0.15);\n",
              "      filter: drop-shadow(0px 1px 2px rgba(0, 0, 0, 0.3));\n",
              "      fill: #FFFFFF;\n",
              "    }\n",
              "  </style>\n",
              "\n",
              "      <script>\n",
              "        const buttonEl =\n",
              "          document.querySelector('#df-eaff4a4e-d416-4b51-9795-af8a127272f7 button.colab-df-convert');\n",
              "        buttonEl.style.display =\n",
              "          google.colab.kernel.accessAllowed ? 'block' : 'none';\n",
              "\n",
              "        async function convertToInteractive(key) {\n",
              "          const element = document.querySelector('#df-eaff4a4e-d416-4b51-9795-af8a127272f7');\n",
              "          const dataTable =\n",
              "            await google.colab.kernel.invokeFunction('convertToInteractive',\n",
              "                                                     [key], {});\n",
              "          if (!dataTable) return;\n",
              "\n",
              "          const docLinkHtml = 'Like what you see? Visit the ' +\n",
              "            '<a target=\"_blank\" href=https://colab.research.google.com/notebooks/data_table.ipynb>data table notebook</a>'\n",
              "            + ' to learn more about interactive tables.';\n",
              "          element.innerHTML = '';\n",
              "          dataTable['output_type'] = 'display_data';\n",
              "          await google.colab.output.renderOutput(dataTable, element);\n",
              "          const docLink = document.createElement('div');\n",
              "          docLink.innerHTML = docLinkHtml;\n",
              "          element.appendChild(docLink);\n",
              "        }\n",
              "      </script>\n",
              "    </div>\n",
              "  </div>\n",
              "  "
            ]
          },
          "metadata": {},
          "execution_count": 16
        }
      ],
      "source": [
        "f = lambda x: x.nunique()\n",
        "rides_df_gr = rides.groupby('car_id', as_index=False).agg(mean_rating = ('rating', 'mean'),\n",
        "                                                   distance_sum = ('distance', 'sum'),\n",
        "                                                   rating_min = ('rating', 'min'),\n",
        "                                                   speed_max = ('speed_max', 'max'),\n",
        "                                                   user_ride_quality_median = ('user_ride_quality', 'median'),\n",
        "                                                   deviation_normal_count = ('deviation_normal', 'count'),\n",
        "                                                   user_uniq = ('user_id', f))\n",
        "\n",
        "\n",
        "rides_df_gr.head(2)"
      ]
    },
    {
      "cell_type": "code",
      "execution_count": null,
      "metadata": {
        "id": "g3h8MgiPx7UX"
      },
      "outputs": [],
      "source": [
        "def add_featues(df):\n",
        "\n",
        "    if 'mean_rating' not in df.columns:\n",
        "        data = df.merge(rides_df_gr, on = 'car_id', how = 'left')\n",
        "    else:\n",
        "        data = df.copy()\n",
        "\n",
        "    data['sum_rating'] = data['mean_rating'] * data['riders']\n",
        "    data['year_in_work'] = data['year_to_work'] - data['year_to_start']\n",
        "    data['mean_distance'] = data['distance_sum'] / data['year_in_work']\n",
        "    data['riders_per_year'] = data['riders'] / data['year_in_work']\n",
        "\n",
        "    return data\n",
        "\n",
        "\n",
        "train = add_featues(train)\n",
        "test = add_featues(test)"
      ]
    },
    {
      "cell_type": "code",
      "execution_count": null,
      "metadata": {
        "colab": {
          "base_uri": "https://localhost:8080/",
          "height": 238
        },
        "id": "8sllHh0Nx7UY",
        "outputId": "b32c56fd-73d1-4f98-a579-f7eea8ad1a89"
      },
      "outputs": [
        {
          "output_type": "execute_result",
          "data": {
            "text/plain": [
              "          car_id            model car_type fuel_type  car_rating  \\\n",
              "2116  P19653432E  Hyundai Solaris  economy    petrol         3.5   \n",
              "438   Z16147645X      Skoda Rapid  economy    petrol         3.7   \n",
              "\n",
              "      year_to_start  riders  year_to_work  target_reg     target_class  ...  \\\n",
              "2116           2015   76001          2018       54.36  engine_ignition  ...   \n",
              "438            2015   81430          2021       26.61      engine_fuel  ...   \n",
              "\n",
              "      distance_sum  rating_min   speed_max  user_ride_quality_median  \\\n",
              "2116  1.215522e+07         0.1  190.443106                 -2.415873   \n",
              "438   1.244182e+07         0.1  158.936072                  7.184481   \n",
              "\n",
              "      deviation_normal_count  user_uniq     sum_rating  year_in_work  \\\n",
              "2116                     174        173  314779.544080             3   \n",
              "438                      174        167  343381.886207             6   \n",
              "\n",
              "      mean_distance  riders_per_year  \n",
              "2116   4.051739e+06     25333.666667  \n",
              "438    2.073637e+06     13571.666667  \n",
              "\n",
              "[2 rows x 21 columns]"
            ],
            "text/html": [
              "\n",
              "  <div id=\"df-76300f7b-d2ec-48ec-8e0a-23a81cee352f\">\n",
              "    <div class=\"colab-df-container\">\n",
              "      <div>\n",
              "<style scoped>\n",
              "    .dataframe tbody tr th:only-of-type {\n",
              "        vertical-align: middle;\n",
              "    }\n",
              "\n",
              "    .dataframe tbody tr th {\n",
              "        vertical-align: top;\n",
              "    }\n",
              "\n",
              "    .dataframe thead th {\n",
              "        text-align: right;\n",
              "    }\n",
              "</style>\n",
              "<table border=\"1\" class=\"dataframe\">\n",
              "  <thead>\n",
              "    <tr style=\"text-align: right;\">\n",
              "      <th></th>\n",
              "      <th>car_id</th>\n",
              "      <th>model</th>\n",
              "      <th>car_type</th>\n",
              "      <th>fuel_type</th>\n",
              "      <th>car_rating</th>\n",
              "      <th>year_to_start</th>\n",
              "      <th>riders</th>\n",
              "      <th>year_to_work</th>\n",
              "      <th>target_reg</th>\n",
              "      <th>target_class</th>\n",
              "      <th>...</th>\n",
              "      <th>distance_sum</th>\n",
              "      <th>rating_min</th>\n",
              "      <th>speed_max</th>\n",
              "      <th>user_ride_quality_median</th>\n",
              "      <th>deviation_normal_count</th>\n",
              "      <th>user_uniq</th>\n",
              "      <th>sum_rating</th>\n",
              "      <th>year_in_work</th>\n",
              "      <th>mean_distance</th>\n",
              "      <th>riders_per_year</th>\n",
              "    </tr>\n",
              "  </thead>\n",
              "  <tbody>\n",
              "    <tr>\n",
              "      <th>2116</th>\n",
              "      <td>P19653432E</td>\n",
              "      <td>Hyundai Solaris</td>\n",
              "      <td>economy</td>\n",
              "      <td>petrol</td>\n",
              "      <td>3.5</td>\n",
              "      <td>2015</td>\n",
              "      <td>76001</td>\n",
              "      <td>2018</td>\n",
              "      <td>54.36</td>\n",
              "      <td>engine_ignition</td>\n",
              "      <td>...</td>\n",
              "      <td>1.215522e+07</td>\n",
              "      <td>0.1</td>\n",
              "      <td>190.443106</td>\n",
              "      <td>-2.415873</td>\n",
              "      <td>174</td>\n",
              "      <td>173</td>\n",
              "      <td>314779.544080</td>\n",
              "      <td>3</td>\n",
              "      <td>4.051739e+06</td>\n",
              "      <td>25333.666667</td>\n",
              "    </tr>\n",
              "    <tr>\n",
              "      <th>438</th>\n",
              "      <td>Z16147645X</td>\n",
              "      <td>Skoda Rapid</td>\n",
              "      <td>economy</td>\n",
              "      <td>petrol</td>\n",
              "      <td>3.7</td>\n",
              "      <td>2015</td>\n",
              "      <td>81430</td>\n",
              "      <td>2021</td>\n",
              "      <td>26.61</td>\n",
              "      <td>engine_fuel</td>\n",
              "      <td>...</td>\n",
              "      <td>1.244182e+07</td>\n",
              "      <td>0.1</td>\n",
              "      <td>158.936072</td>\n",
              "      <td>7.184481</td>\n",
              "      <td>174</td>\n",
              "      <td>167</td>\n",
              "      <td>343381.886207</td>\n",
              "      <td>6</td>\n",
              "      <td>2.073637e+06</td>\n",
              "      <td>13571.666667</td>\n",
              "    </tr>\n",
              "  </tbody>\n",
              "</table>\n",
              "<p>2 rows × 21 columns</p>\n",
              "</div>\n",
              "      <button class=\"colab-df-convert\" onclick=\"convertToInteractive('df-76300f7b-d2ec-48ec-8e0a-23a81cee352f')\"\n",
              "              title=\"Convert this dataframe to an interactive table.\"\n",
              "              style=\"display:none;\">\n",
              "        \n",
              "  <svg xmlns=\"http://www.w3.org/2000/svg\" height=\"24px\"viewBox=\"0 0 24 24\"\n",
              "       width=\"24px\">\n",
              "    <path d=\"M0 0h24v24H0V0z\" fill=\"none\"/>\n",
              "    <path d=\"M18.56 5.44l.94 2.06.94-2.06 2.06-.94-2.06-.94-.94-2.06-.94 2.06-2.06.94zm-11 1L8.5 8.5l.94-2.06 2.06-.94-2.06-.94L8.5 2.5l-.94 2.06-2.06.94zm10 10l.94 2.06.94-2.06 2.06-.94-2.06-.94-.94-2.06-.94 2.06-2.06.94z\"/><path d=\"M17.41 7.96l-1.37-1.37c-.4-.4-.92-.59-1.43-.59-.52 0-1.04.2-1.43.59L10.3 9.45l-7.72 7.72c-.78.78-.78 2.05 0 2.83L4 21.41c.39.39.9.59 1.41.59.51 0 1.02-.2 1.41-.59l7.78-7.78 2.81-2.81c.8-.78.8-2.07 0-2.86zM5.41 20L4 18.59l7.72-7.72 1.47 1.35L5.41 20z\"/>\n",
              "  </svg>\n",
              "      </button>\n",
              "      \n",
              "  <style>\n",
              "    .colab-df-container {\n",
              "      display:flex;\n",
              "      flex-wrap:wrap;\n",
              "      gap: 12px;\n",
              "    }\n",
              "\n",
              "    .colab-df-convert {\n",
              "      background-color: #E8F0FE;\n",
              "      border: none;\n",
              "      border-radius: 50%;\n",
              "      cursor: pointer;\n",
              "      display: none;\n",
              "      fill: #1967D2;\n",
              "      height: 32px;\n",
              "      padding: 0 0 0 0;\n",
              "      width: 32px;\n",
              "    }\n",
              "\n",
              "    .colab-df-convert:hover {\n",
              "      background-color: #E2EBFA;\n",
              "      box-shadow: 0px 1px 2px rgba(60, 64, 67, 0.3), 0px 1px 3px 1px rgba(60, 64, 67, 0.15);\n",
              "      fill: #174EA6;\n",
              "    }\n",
              "\n",
              "    [theme=dark] .colab-df-convert {\n",
              "      background-color: #3B4455;\n",
              "      fill: #D2E3FC;\n",
              "    }\n",
              "\n",
              "    [theme=dark] .colab-df-convert:hover {\n",
              "      background-color: #434B5C;\n",
              "      box-shadow: 0px 1px 3px 1px rgba(0, 0, 0, 0.15);\n",
              "      filter: drop-shadow(0px 1px 2px rgba(0, 0, 0, 0.3));\n",
              "      fill: #FFFFFF;\n",
              "    }\n",
              "  </style>\n",
              "\n",
              "      <script>\n",
              "        const buttonEl =\n",
              "          document.querySelector('#df-76300f7b-d2ec-48ec-8e0a-23a81cee352f button.colab-df-convert');\n",
              "        buttonEl.style.display =\n",
              "          google.colab.kernel.accessAllowed ? 'block' : 'none';\n",
              "\n",
              "        async function convertToInteractive(key) {\n",
              "          const element = document.querySelector('#df-76300f7b-d2ec-48ec-8e0a-23a81cee352f');\n",
              "          const dataTable =\n",
              "            await google.colab.kernel.invokeFunction('convertToInteractive',\n",
              "                                                     [key], {});\n",
              "          if (!dataTable) return;\n",
              "\n",
              "          const docLinkHtml = 'Like what you see? Visit the ' +\n",
              "            '<a target=\"_blank\" href=https://colab.research.google.com/notebooks/data_table.ipynb>data table notebook</a>'\n",
              "            + ' to learn more about interactive tables.';\n",
              "          element.innerHTML = '';\n",
              "          dataTable['output_type'] = 'display_data';\n",
              "          await google.colab.output.renderOutput(dataTable, element);\n",
              "          const docLink = document.createElement('div');\n",
              "          docLink.innerHTML = docLinkHtml;\n",
              "          element.appendChild(docLink);\n",
              "        }\n",
              "      </script>\n",
              "    </div>\n",
              "  </div>\n",
              "  "
            ]
          },
          "metadata": {},
          "execution_count": 18
        }
      ],
      "source": [
        "train.sample(2)"
      ]
    },
    {
      "cell_type": "code",
      "execution_count": null,
      "metadata": {
        "id": "5Qp1xWi2x7UZ"
      },
      "outputs": [],
      "source": [
        "# train.to_csv('../tmp_data/quickstart_train.csv', index=False)"
      ]
    },
    {
      "cell_type": "code",
      "execution_count": null,
      "metadata": {
        "id": "5LT2aQCcx7UZ"
      },
      "outputs": [],
      "source": [
        "# test.to_csv('../tmp_data/quickstart_tra.csv', index=False)"
      ]
    },
    {
      "cell_type": "markdown",
      "metadata": {
        "id": "P7dEIzLZx7Ua"
      },
      "source": [
        "# Снова обновляем типы фичей"
      ]
    },
    {
      "cell_type": "code",
      "execution_count": null,
      "metadata": {
        "colab": {
          "base_uri": "https://localhost:8080/"
        },
        "id": "lovDMNdax7Ub",
        "outputId": "e22cc272-7c3a-4871-d331-5271755f8b5f"
      },
      "outputs": [
        {
          "output_type": "stream",
          "name": "stdout",
          "text": [
            "num_features : 15 ['car_rating', 'year_to_start', 'riders', 'year_to_work', 'mean_rating', 'distance_sum', 'rating_min', 'speed_max', 'user_ride_quality_median', 'deviation_normal_count', 'user_uniq', 'sum_rating', 'year_in_work', 'mean_distance', 'riders_per_year']\n",
            "cat_features : 3 ['car_type', 'fuel_type', 'model']\n",
            "targets ['target_class', 'target_reg']\n"
          ]
        }
      ],
      "source": [
        "filtered_features = [i for i in train.columns if (i not in targets and i not in features2drop)]\n",
        "num_features = [i for i in filtered_features if i not in cat_features]\n",
        "\n",
        "\n",
        "print('num_features :', len(num_features), num_features)\n",
        "print('cat_features :', len(cat_features), cat_features)\n",
        "print('targets', targets)"
      ]
    },
    {
      "cell_type": "markdown",
      "metadata": {
        "id": "cJ4CEumEx7Uc"
      },
      "source": [
        "# Обучаем Catboost на новых данных и делаем новый прогноз"
      ]
    },
    {
      "cell_type": "code",
      "execution_count": null,
      "metadata": {
        "id": "wHQU_7DVx7Uc"
      },
      "outputs": [],
      "source": [
        "X = train[filtered_features].drop(targets, axis=1, errors='ignore')\n",
        "y = train['target_class']"
      ]
    },
    {
      "cell_type": "code",
      "execution_count": null,
      "metadata": {
        "id": "0vc0SDL0x7Ud"
      },
      "outputs": [],
      "source": [
        "clf = CatBoostClassifier(**params_cat)\n",
        "cv_model = CvModel(clf)"
      ]
    },
    {
      "cell_type": "code",
      "execution_count": null,
      "metadata": {
        "colab": {
          "base_uri": "https://localhost:8080/"
        },
        "id": "ZPBV4CA8x7Ue",
        "outputId": "da64d317-75c9-4cfa-b63e-e9c9eb628989"
      },
      "outputs": [
        {
          "output_type": "stream",
          "name": "stdout",
          "text": [
            "Fold 0/5 acc = 0.7841880341880342\n",
            "Fold 1/5 acc = 0.8034188034188035\n",
            "Fold 2/5 acc = 0.8137044967880086\n",
            "Fold 3/5 acc = 0.8394004282655246\n",
            "Fold 4/5 acc = 0.7987152034261242\n",
            "Mean acc = 0.807885393217299\n"
          ]
        }
      ],
      "source": [
        "cv_model.fit(X, y)"
      ]
    },
    {
      "cell_type": "code",
      "execution_count": null,
      "metadata": {
        "tags": [],
        "colab": {
          "base_uri": "https://localhost:8080/"
        },
        "id": "lvcL1nadx7Uf",
        "outputId": "6bc1ec88-49f3-42d4-9f73-d748c4af62c8"
      },
      "outputs": [
        {
          "output_type": "stream",
          "name": "stdout",
          "text": [
            "CSV file saved!\n"
          ]
        }
      ],
      "source": [
        "test['target_class'] = cv_model.predict(test[filtered_features])\n",
        "#test[['car_id', 'target_class']].to_csv('../subs/simple_baseline_v2.csv', index=False)\n",
        "test[['car_id', 'target_class']].to_csv('simple_baseline_v2.csv', index=False)\n",
        "print('CSV file saved!')"
      ]
    },
    {
      "cell_type": "markdown",
      "metadata": {
        "id": "E1eFUIzmx7Ug"
      },
      "source": [
        "## Смотрим на важность признаков"
      ]
    },
    {
      "cell_type": "code",
      "source": [
        "! pip install shap"
      ],
      "metadata": {
        "colab": {
          "base_uri": "https://localhost:8080/"
        },
        "id": "oCgxytUt0YXd",
        "outputId": "fc317baf-e5f7-459f-dce0-c6443a692cc7"
      },
      "execution_count": null,
      "outputs": [
        {
          "output_type": "stream",
          "name": "stdout",
          "text": [
            "Looking in indexes: https://pypi.org/simple, https://us-python.pkg.dev/colab-wheels/public/simple/\n",
            "Collecting shap\n",
            "  Downloading shap-0.41.0-cp310-cp310-manylinux_2_12_x86_64.manylinux2010_x86_64.whl (572 kB)\n",
            "\u001b[2K     \u001b[90m━━━━━━━━━━━━━━━━━━━━━━━━━━━━━━━━━━━━━━\u001b[0m \u001b[32m572.6/572.6 kB\u001b[0m \u001b[31m19.8 MB/s\u001b[0m eta \u001b[36m0:00:00\u001b[0m\n",
            "\u001b[?25hRequirement already satisfied: numpy in /usr/local/lib/python3.10/dist-packages (from shap) (1.22.4)\n",
            "Requirement already satisfied: scipy in /usr/local/lib/python3.10/dist-packages (from shap) (1.10.1)\n",
            "Requirement already satisfied: scikit-learn in /usr/local/lib/python3.10/dist-packages (from shap) (1.2.2)\n",
            "Requirement already satisfied: pandas in /usr/local/lib/python3.10/dist-packages (from shap) (1.5.3)\n",
            "Requirement already satisfied: tqdm>4.25.0 in /usr/local/lib/python3.10/dist-packages (from shap) (4.65.0)\n",
            "Requirement already satisfied: packaging>20.9 in /usr/local/lib/python3.10/dist-packages (from shap) (23.1)\n",
            "Collecting slicer==0.0.7 (from shap)\n",
            "  Downloading slicer-0.0.7-py3-none-any.whl (14 kB)\n",
            "Requirement already satisfied: numba in /usr/local/lib/python3.10/dist-packages (from shap) (0.56.4)\n",
            "Requirement already satisfied: cloudpickle in /usr/local/lib/python3.10/dist-packages (from shap) (2.2.1)\n",
            "Requirement already satisfied: llvmlite<0.40,>=0.39.0dev0 in /usr/local/lib/python3.10/dist-packages (from numba->shap) (0.39.1)\n",
            "Requirement already satisfied: setuptools in /usr/local/lib/python3.10/dist-packages (from numba->shap) (67.7.2)\n",
            "Requirement already satisfied: python-dateutil>=2.8.1 in /usr/local/lib/python3.10/dist-packages (from pandas->shap) (2.8.2)\n",
            "Requirement already satisfied: pytz>=2020.1 in /usr/local/lib/python3.10/dist-packages (from pandas->shap) (2022.7.1)\n",
            "Requirement already satisfied: joblib>=1.1.1 in /usr/local/lib/python3.10/dist-packages (from scikit-learn->shap) (1.2.0)\n",
            "Requirement already satisfied: threadpoolctl>=2.0.0 in /usr/local/lib/python3.10/dist-packages (from scikit-learn->shap) (3.1.0)\n",
            "Requirement already satisfied: six>=1.5 in /usr/local/lib/python3.10/dist-packages (from python-dateutil>=2.8.1->pandas->shap) (1.16.0)\n",
            "Installing collected packages: slicer, shap\n",
            "Successfully installed shap-0.41.0 slicer-0.0.7\n"
          ]
        }
      ]
    },
    {
      "cell_type": "code",
      "execution_count": null,
      "metadata": {
        "id": "mGjHid-qx7Uk"
      },
      "outputs": [],
      "source": [
        "import shap\n",
        "from catboost import Pool"
      ]
    },
    {
      "cell_type": "code",
      "execution_count": null,
      "metadata": {
        "colab": {
          "base_uri": "https://localhost:8080/",
          "height": 502
        },
        "id": "lws-JwCJx7Ul",
        "outputId": "634ef675-5512-438b-999f-76593273b08d"
      },
      "outputs": [
        {
          "output_type": "display_data",
          "data": {
            "text/plain": [
              "<Figure size 800x600 with 1 Axes>"
            ],
            "image/png": "[encoded data removed]"
          },
          "metadata": {}
        }
      ],
      "source": [
        "# Построим усредненный shap values\n",
        "explainer = shap.TreeExplainer(cv_model.models[0])\n",
        "shap_values = explainer.shap_values(Pool(X, y, cat_features=cat_features))\n",
        "\n",
        "shap.summary_plot(shap_values, X, plot_size=0.25,)"
      ]
    },
    {
      "cell_type": "code",
      "execution_count": null,
      "metadata": {
        "colab": {
          "base_uri": "https://localhost:8080/",
          "height": 563
        },
        "id": "nnJj0_8Ux7Um",
        "outputId": "56c58213-caac-45fa-ec40-e87f2dc2a0b4"
      },
      "outputs": [
        {
          "output_type": "stream",
          "name": "stderr",
          "text": [
            "No data for colormapping provided via 'c'. Parameters 'vmin', 'vmax' will be ignored\n",
            "invalid value encountered in subtract\n"
          ]
        },
        {
          "output_type": "display_data",
          "data": {
            "text/plain": [
              "<Figure size 800x600 with 2 Axes>"
            ],
            "image/png": "[encoded data removed]"
          },
          "metadata": {}
        }
      ],
      "source": [
        "# построем shap values отдельно для нулевого класса\n",
        "shap.summary_plot(shap_values[0], X, plot_size=0.25,)"
      ]
    },
    {
      "cell_type": "markdown",
      "metadata": {
        "id": "mwHjeLsLx7Un"
      },
      "source": [
        "## Что дальше? Зашли решение на Kaggle\n",
        "\n",
        "- Нажимаем `Save Version`\n",
        "- Проверяем, что в `Advanced Settings` выбрано - всегда сохранять результаты ноутбука.\n",
        "- Тип сохранения `Save & Run All (Commit)`\n",
        "- Жмем окончательно кнопку `Save`"
      ]
    },
    {
      "cell_type": "markdown",
      "metadata": {
        "id": "sVaos11Sx7Uq"
      },
      "source": [
        "**Как еще можно улучшить это решение?**\n",
        "\n",
        "- Во время кросс валидации делать не hard, а soft voiting\n",
        "- Нагенерить новых фичей (может быть даже при помощи `AutoML`)\n",
        "- Присоединить сюда информацию о машинах из модуля про парсинг\n",
        "- Перебрать гиперпараметры при помощи `Optuna`\n",
        "- Сбледнить/застекать модели"
      ]
    },
    {
      "cell_type": "code",
      "execution_count": null,
      "metadata": {
        "id": "UnsCPBOyx7Us"
      },
      "outputs": [],
      "source": []
    }
  ],
  "metadata": {
    "finalized": {
      "timestamp": 1661552636568,
      "trusted": true
    },
    "kernelspec": {
      "display_name": "Python 3 (ipykernel)",
      "language": "python",
      "name": "python3"
    },
    "language_info": {
      "codemirror_mode": {
        "name": "ipython",
        "version": 3
      },
      "file_extension": ".py",
      "mimetype": "text/x-python",
      "name": "python",
      "nbconvert_exporter": "python",
      "pygments_lexer": "ipython3",
      "version": "3.10.8"
    },
    "toc": {
      "base_numbering": 1,
      "nav_menu": {},
      "number_sections": true,
      "sideBar": true,
      "skip_h1_title": false,
      "title_cell": "Table of Contents",
      "title_sidebar": "Contents",
      "toc_cell": false,
      "toc_position": {},
      "toc_section_display": true,
      "toc_window_display": false
    },
    "colab": {
      "provenance": []
    }
  },
  "nbformat": 4,
  "nbformat_minor": 0
}