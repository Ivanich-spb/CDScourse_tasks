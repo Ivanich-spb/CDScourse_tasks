{
 "cells": [
  {
   "cell_type": "markdown",
   "id": "a002e1a3-c585-491a-821d-02025caf7411",
   "metadata": {
    "id": "a002e1a3-c585-491a-821d-02025caf7411"
   },
   "source": [
    "# <center>3.3.1 - Regularization</center>\n",
    "\n",
    "<center> <img src = https://github.com/a-milenkin/Competitive_Data_Science/blob/main/images/lasso_ridge.png?raw=true> </center>\n",
    "\n",
    "Лассо- и ридж-регрессии. [Источник](https://hastie.su.domains/Papers/ESLII.pdf)"
   ]
  },
  {
   "cell_type": "markdown",
   "id": "dadb38c5-1a69-4029-967d-41442a2ca388",
   "metadata": {
    "id": "dadb38c5-1a69-4029-967d-41442a2ca388"
   },
   "source": [
    "Для победы в соревнованиях по машинному обучению вы редко будете использовать линейную регрессию, но на этой простой модели легко показать принципы регуляризации и отбора признаков, которые в той или иной форме встречаются в других более сложных алгоритмах. Хорошо разобравшись в этой теме, уже можно обучать устойчивые модели, которые не будут улетать вниз на прайват части лидерборда, а так же эти знания пригодятся и в продакшен моделях, которые не будут ломаться от каждого изменения в данных.<br>\n",
    "Постараемся в этом ноутбуке обойтись без формул и доказательств, а сразу посмотреть всё на примерах."
   ]
  },
  {
   "cell_type": "markdown",
   "id": "562f5364-9a3f-4bb0-b80f-a8bae63fd575",
   "metadata": {
    "id": "562f5364-9a3f-4bb0-b80f-a8bae63fd575"
   },
   "source": [
    "У модели два основных источника ошибок:\n",
    "* **Дисперсия** (variance) - ошибка, связанная с чувствительностью к малейшим изменениям в обучающих данных.\n",
    "* **Смещение** (bias) - ошибка, связанная с неверными предположениями модели относительно связи признаков и таргета.\n",
    "\n",
    "Если сумма этих ошибок будет минимальной, то получим на выходе максимально эффективную устойчивую модель."
   ]
  },
  {
   "cell_type": "markdown",
   "id": "73424416-937a-492a-aaba-6d0a5283b7c2",
   "metadata": {
    "id": "73424416-937a-492a-aaba-6d0a5283b7c2"
   },
   "source": [
    "<center> <img src = https://www.researchgate.net/publication/342624204/figure/fig7/AS:908763229847559@1593677446952/overfitting-vs-underfitting.ppm> </center>"
   ]
  },
  {
   "cell_type": "markdown",
   "id": "1333039c-53cc-4a64-b041-d2a4e6b7ee74",
   "metadata": {
    "id": "1333039c-53cc-4a64-b041-d2a4e6b7ee74"
   },
   "source": [
    "Рассмотрим формулу линейной регрессии:\n",
    "* Yi - зависимая переменная (таргет)\n",
    "* Xi - независимая переменная (признак, предиктор)\n",
    "* β - коэффициенты, при домножении X на которые получаем искомый прогноз, причем β0 - свободный член (константа, intercept), равен 0, если функция проходит через начало координат."
   ]
  },
  {
   "cell_type": "markdown",
   "id": "3204580e-02c6-4c67-92cb-78ef9e38b73f",
   "metadata": {
    "id": "3204580e-02c6-4c67-92cb-78ef9e38b73f"
   },
   "source": [
    "<center> <img src = https://www.isixsigma.com/wp-content/uploads/2018/11/linear_regression_transfer_function.png height=400 width=500> </center>"
   ]
  },
  {
   "cell_type": "markdown",
   "id": "76a8c2ec-4b44-4a10-95de-d8b2bdfbe7ab",
   "metadata": {
    "id": "76a8c2ec-4b44-4a10-95de-d8b2bdfbe7ab"
   },
   "source": [
    "### Обычно задача регрессии формулируется так:\n",
    "Имея набор признаков (обычно матрица X), требуется найти набор коэффициентов (обычно вектор β), котрые нужно умножить на значения Х, чтобы получить предсказание (обычно вектор Y)."
   ]
  },
  {
   "cell_type": "markdown",
   "id": "db412a7a-55ef-4cf0-8a0f-8b3f54d95569",
   "metadata": {
    "id": "db412a7a-55ef-4cf0-8a0f-8b3f54d95569"
   },
   "source": [
    "<center> <img src = https://github.com/a-milenkin/Competitive_Data_Science/blob/main/images/formule.png?raw=true height=500 width=700> </center>"
   ]
  },
  {
   "cell_type": "markdown",
   "id": "6dbea605-f5cd-461f-89f3-d1d2d906eba4",
   "metadata": {
    "id": "6dbea605-f5cd-461f-89f3-d1d2d906eba4"
   },
   "source": [
    "Довольно часто при обучении регрессии происходит \"черезмерно близкая подгонка\" данных (оверфит). В этом случае нам помогут методы регуляризации."
   ]
  },
  {
   "cell_type": "markdown",
   "id": "d9f84007-3eae-4586-9ae0-165a80bfd3df",
   "metadata": {
    "id": "d9f84007-3eae-4586-9ae0-165a80bfd3df"
   },
   "source": [
    "## Ридж- и Лассо-регрессии\n",
    "Ридж и Лассо (Ridge & Lasso)   —  это модели линейной регрессии, но с поправочными (штрафными) коэффициентами, также называемыми регуляризацией. Они вносят поправки в размерность β-вектора разными способами.\n",
    "* **Лассо-регрессия (l1-регуляризация)** — накладывает штраф на l1-норму β-вектора. l1-норма вектора  —  это сумма абсолютных значений в этом векторе. Модель пытается достичь большей точности, путем нахождения и отбрасывания бесполезных коэффициентов.\n",
    "* **Ридж-регрессия (l2-регуляризация)** — накладывает штраф на l2-норму β-вектора. l2-норма вектора  —  это квадратный корень из суммы квадратов значений в векторе. Ридж-регрессия не позволяет коэффициентам β-вектора достигать экстремальных значений (что часто происходит при переобучении). Модель пытается достичь большей точности, при этом ни один коэффициент не должен достигать экстремальных значений.\n",
    "\n",
    "Оба эти метода имеют **коэффициент регуляризации** (называемый “лямбда”), который контролирует величину штрафа. При λ=0 как лассо-, так и ридж-регрессия становятся моделями линейной регрессии (в этом случае просто не накладываются никакие штрафы). При увеличении лямбды возрастает ограничение на размер β-вектора. При этом каждая регрессия оптимизирует его по-своему, пытаясь подобрать наилучший набор коэффициентов с учетом собственных ограничений.<br>\n",
    "Переходим от теории к практике."
   ]
  },
  {
   "cell_type": "code",
   "execution_count": 1,
   "id": "68052e59-a714-4000-8908-8b166add1841",
   "metadata": {
    "id": "68052e59-a714-4000-8908-8b166add1841"
   },
   "outputs": [],
   "source": [
    "import pandas as pd\n",
    "import matplotlib.pyplot as plt\n",
    "import numpy as np\n",
    "from sklearn.model_selection import train_test_split\n",
    "from sklearn.linear_model import LinearRegression, Lasso, Ridge, ElasticNet\n",
    "from sklearn.metrics import mean_squared_error\n",
    "\n",
    "import warnings\n",
    "warnings.filterwarnings(\"ignore\")"
   ]
  },
  {
   "cell_type": "code",
   "execution_count": 2,
   "id": "55caa98e-86fe-4a7f-88b2-e3ad82ff8621",
   "metadata": {
    "colab": {
     "base_uri": "https://localhost:8080/",
     "height": 353
    },
    "id": "55caa98e-86fe-4a7f-88b2-e3ad82ff8621",
    "outputId": "12360242-c085-4bdb-ee45-0f8143b01ef2"
   },
   "outputs": [
    {
     "data": {
      "text/html": [
       "\n",
       "  <div id=\"df-a74e543c-546b-43d0-8279-7658b84fe56b\">\n",
       "    <div class=\"colab-df-container\">\n",
       "      <div>\n",
       "<style scoped>\n",
       "    .dataframe tbody tr th:only-of-type {\n",
       "        vertical-align: middle;\n",
       "    }\n",
       "\n",
       "    .dataframe tbody tr th {\n",
       "        vertical-align: top;\n",
       "    }\n",
       "\n",
       "    .dataframe thead th {\n",
       "        text-align: right;\n",
       "    }\n",
       "</style>\n",
       "<table border=\"1\" class=\"dataframe\">\n",
       "  <thead>\n",
       "    <tr style=\"text-align: right;\">\n",
       "      <th></th>\n",
       "      <th>car_id</th>\n",
       "      <th>model</th>\n",
       "      <th>car_type</th>\n",
       "      <th>fuel_type</th>\n",
       "      <th>car_rating</th>\n",
       "      <th>year_to_start</th>\n",
       "      <th>riders</th>\n",
       "      <th>year_to_work</th>\n",
       "      <th>target_reg</th>\n",
       "      <th>target_class</th>\n",
       "      <th>mean_rating</th>\n",
       "      <th>distance_sum</th>\n",
       "      <th>rating_min</th>\n",
       "      <th>speed_max</th>\n",
       "      <th>user_ride_quality_median</th>\n",
       "      <th>deviation_normal_count</th>\n",
       "      <th>user_uniq</th>\n",
       "    </tr>\n",
       "  </thead>\n",
       "  <tbody>\n",
       "    <tr>\n",
       "      <th>0</th>\n",
       "      <td>y13744087j</td>\n",
       "      <td>Kia Rio X-line</td>\n",
       "      <td>economy</td>\n",
       "      <td>petrol</td>\n",
       "      <td>3.78</td>\n",
       "      <td>2015</td>\n",
       "      <td>76163</td>\n",
       "      <td>2021</td>\n",
       "      <td>109.99</td>\n",
       "      <td>another_bug</td>\n",
       "      <td>4.737759</td>\n",
       "      <td>1.214131e+07</td>\n",
       "      <td>0.1</td>\n",
       "      <td>180.855726</td>\n",
       "      <td>0.023174</td>\n",
       "      <td>174</td>\n",
       "      <td>170</td>\n",
       "    </tr>\n",
       "    <tr>\n",
       "      <th>1</th>\n",
       "      <td>O41613818T</td>\n",
       "      <td>VW Polo VI</td>\n",
       "      <td>economy</td>\n",
       "      <td>petrol</td>\n",
       "      <td>3.90</td>\n",
       "      <td>2015</td>\n",
       "      <td>78218</td>\n",
       "      <td>2021</td>\n",
       "      <td>34.48</td>\n",
       "      <td>electro_bug</td>\n",
       "      <td>4.480517</td>\n",
       "      <td>1.803909e+07</td>\n",
       "      <td>0.0</td>\n",
       "      <td>187.862734</td>\n",
       "      <td>12.306011</td>\n",
       "      <td>174</td>\n",
       "      <td>174</td>\n",
       "    </tr>\n",
       "    <tr>\n",
       "      <th>2</th>\n",
       "      <td>d-2109686j</td>\n",
       "      <td>Renault Sandero</td>\n",
       "      <td>standart</td>\n",
       "      <td>petrol</td>\n",
       "      <td>6.30</td>\n",
       "      <td>2012</td>\n",
       "      <td>23340</td>\n",
       "      <td>2017</td>\n",
       "      <td>34.93</td>\n",
       "      <td>gear_stick</td>\n",
       "      <td>4.768391</td>\n",
       "      <td>1.588366e+07</td>\n",
       "      <td>0.1</td>\n",
       "      <td>102.382857</td>\n",
       "      <td>2.513319</td>\n",
       "      <td>174</td>\n",
       "      <td>173</td>\n",
       "    </tr>\n",
       "    <tr>\n",
       "      <th>3</th>\n",
       "      <td>u29695600e</td>\n",
       "      <td>Mercedes-Benz GLC</td>\n",
       "      <td>business</td>\n",
       "      <td>petrol</td>\n",
       "      <td>4.04</td>\n",
       "      <td>2011</td>\n",
       "      <td>1263</td>\n",
       "      <td>2020</td>\n",
       "      <td>32.22</td>\n",
       "      <td>engine_fuel</td>\n",
       "      <td>3.880920</td>\n",
       "      <td>1.651883e+07</td>\n",
       "      <td>0.1</td>\n",
       "      <td>172.793237</td>\n",
       "      <td>-5.029476</td>\n",
       "      <td>174</td>\n",
       "      <td>170</td>\n",
       "    </tr>\n",
       "    <tr>\n",
       "      <th>4</th>\n",
       "      <td>N-8915870N</td>\n",
       "      <td>Renault Sandero</td>\n",
       "      <td>standart</td>\n",
       "      <td>petrol</td>\n",
       "      <td>4.70</td>\n",
       "      <td>2012</td>\n",
       "      <td>26428</td>\n",
       "      <td>2017</td>\n",
       "      <td>27.51</td>\n",
       "      <td>engine_fuel</td>\n",
       "      <td>4.181149</td>\n",
       "      <td>1.398317e+07</td>\n",
       "      <td>0.1</td>\n",
       "      <td>203.462289</td>\n",
       "      <td>-14.260456</td>\n",
       "      <td>174</td>\n",
       "      <td>171</td>\n",
       "    </tr>\n",
       "  </tbody>\n",
       "</table>\n",
       "</div>\n",
       "      <button class=\"colab-df-convert\" onclick=\"convertToInteractive('df-a74e543c-546b-43d0-8279-7658b84fe56b')\"\n",
       "              title=\"Convert this dataframe to an interactive table.\"\n",
       "              style=\"display:none;\">\n",
       "        \n",
       "  <svg xmlns=\"http://www.w3.org/2000/svg\" height=\"24px\"viewBox=\"0 0 24 24\"\n",
       "       width=\"24px\">\n",
       "    <path d=\"M0 0h24v24H0V0z\" fill=\"none\"/>\n",
       "    <path d=\"M18.56 5.44l.94 2.06.94-2.06 2.06-.94-2.06-.94-.94-2.06-.94 2.06-2.06.94zm-11 1L8.5 8.5l.94-2.06 2.06-.94-2.06-.94L8.5 2.5l-.94 2.06-2.06.94zm10 10l.94 2.06.94-2.06 2.06-.94-2.06-.94-.94-2.06-.94 2.06-2.06.94z\"/><path d=\"M17.41 7.96l-1.37-1.37c-.4-.4-.92-.59-1.43-.59-.52 0-1.04.2-1.43.59L10.3 9.45l-7.72 7.72c-.78.78-.78 2.05 0 2.83L4 21.41c.39.39.9.59 1.41.59.51 0 1.02-.2 1.41-.59l7.78-7.78 2.81-2.81c.8-.78.8-2.07 0-2.86zM5.41 20L4 18.59l7.72-7.72 1.47 1.35L5.41 20z\"/>\n",
       "  </svg>\n",
       "      </button>\n",
       "      \n",
       "  <style>\n",
       "    .colab-df-container {\n",
       "      display:flex;\n",
       "      flex-wrap:wrap;\n",
       "      gap: 12px;\n",
       "    }\n",
       "\n",
       "    .colab-df-convert {\n",
       "      background-color: #E8F0FE;\n",
       "      border: none;\n",
       "      border-radius: 50%;\n",
       "      cursor: pointer;\n",
       "      display: none;\n",
       "      fill: #1967D2;\n",
       "      height: 32px;\n",
       "      padding: 0 0 0 0;\n",
       "      width: 32px;\n",
       "    }\n",
       "\n",
       "    .colab-df-convert:hover {\n",
       "      background-color: #E2EBFA;\n",
       "      box-shadow: 0px 1px 2px rgba(60, 64, 67, 0.3), 0px 1px 3px 1px rgba(60, 64, 67, 0.15);\n",
       "      fill: #174EA6;\n",
       "    }\n",
       "\n",
       "    [theme=dark] .colab-df-convert {\n",
       "      background-color: #3B4455;\n",
       "      fill: #D2E3FC;\n",
       "    }\n",
       "\n",
       "    [theme=dark] .colab-df-convert:hover {\n",
       "      background-color: #434B5C;\n",
       "      box-shadow: 0px 1px 3px 1px rgba(0, 0, 0, 0.15);\n",
       "      filter: drop-shadow(0px 1px 2px rgba(0, 0, 0, 0.3));\n",
       "      fill: #FFFFFF;\n",
       "    }\n",
       "  </style>\n",
       "\n",
       "      <script>\n",
       "        const buttonEl =\n",
       "          document.querySelector('#df-a74e543c-546b-43d0-8279-7658b84fe56b button.colab-df-convert');\n",
       "        buttonEl.style.display =\n",
       "          google.colab.kernel.accessAllowed ? 'block' : 'none';\n",
       "\n",
       "        async function convertToInteractive(key) {\n",
       "          const element = document.querySelector('#df-a74e543c-546b-43d0-8279-7658b84fe56b');\n",
       "          const dataTable =\n",
       "            await google.colab.kernel.invokeFunction('convertToInteractive',\n",
       "                                                     [key], {});\n",
       "          if (!dataTable) return;\n",
       "\n",
       "          const docLinkHtml = 'Like what you see? Visit the ' +\n",
       "            '<a target=\"_blank\" href=https://colab.research.google.com/notebooks/data_table.ipynb>data table notebook</a>'\n",
       "            + ' to learn more about interactive tables.';\n",
       "          element.innerHTML = '';\n",
       "          dataTable['output_type'] = 'display_data';\n",
       "          await google.colab.output.renderOutput(dataTable, element);\n",
       "          const docLink = document.createElement('div');\n",
       "          docLink.innerHTML = docLinkHtml;\n",
       "          element.appendChild(docLink);\n",
       "        }\n",
       "      </script>\n",
       "    </div>\n",
       "  </div>\n",
       "  "
      ],
      "text/plain": [
       "       car_id              model  car_type fuel_type  car_rating  \\\n",
       "0  y13744087j     Kia Rio X-line   economy    petrol        3.78   \n",
       "1  O41613818T         VW Polo VI   economy    petrol        3.90   \n",
       "2  d-2109686j    Renault Sandero  standart    petrol        6.30   \n",
       "3  u29695600e  Mercedes-Benz GLC  business    petrol        4.04   \n",
       "4  N-8915870N    Renault Sandero  standart    petrol        4.70   \n",
       "\n",
       "   year_to_start  riders  year_to_work  target_reg target_class  mean_rating  \\\n",
       "0           2015   76163          2021      109.99  another_bug     4.737759   \n",
       "1           2015   78218          2021       34.48  electro_bug     4.480517   \n",
       "2           2012   23340          2017       34.93   gear_stick     4.768391   \n",
       "3           2011    1263          2020       32.22  engine_fuel     3.880920   \n",
       "4           2012   26428          2017       27.51  engine_fuel     4.181149   \n",
       "\n",
       "   distance_sum  rating_min   speed_max  user_ride_quality_median  \\\n",
       "0  1.214131e+07         0.1  180.855726                  0.023174   \n",
       "1  1.803909e+07         0.0  187.862734                 12.306011   \n",
       "2  1.588366e+07         0.1  102.382857                  2.513319   \n",
       "3  1.651883e+07         0.1  172.793237                 -5.029476   \n",
       "4  1.398317e+07         0.1  203.462289                -14.260456   \n",
       "\n",
       "   deviation_normal_count  user_uniq  \n",
       "0                     174        170  \n",
       "1                     174        174  \n",
       "2                     174        173  \n",
       "3                     174        170  \n",
       "4                     174        171  "
      ]
     },
     "execution_count": 2,
     "metadata": {},
     "output_type": "execute_result"
    }
   ],
   "source": [
    "# Загружаем train-датасет который мы сохранили на шаге quickstart\n",
    "data_root = \"https://raw.githubusercontent.com/a-milenkin/Competitive_Data_Science/main/data/\"\n",
    "rides_info = pd.read_csv(data_root + 'quickstart_train.csv')\n",
    "rides_info.head()"
   ]
  },
  {
   "cell_type": "code",
   "execution_count": 3,
   "id": "1c285be8-6424-4170-9cda-d2120e42c8d4",
   "metadata": {
    "id": "1c285be8-6424-4170-9cda-d2120e42c8d4"
   },
   "outputs": [],
   "source": [
    "drop_cols = ['car_id', 'target_reg', 'target_class']\n",
    "cat_cols = ['car_type', 'fuel_type', 'model']"
   ]
  },
  {
   "cell_type": "code",
   "execution_count": 4,
   "id": "32fc3de2-60f1-4b39-ad50-e1e59eefe559",
   "metadata": {
    "id": "32fc3de2-60f1-4b39-ad50-e1e59eefe559"
   },
   "outputs": [],
   "source": [
    "# закодируем категориальные фичи в one hot encoding вектора\n",
    "rides_info = pd.get_dummies(rides_info, columns=cat_cols)"
   ]
  },
  {
   "cell_type": "markdown",
   "id": "f61965ce-cb65-469c-967c-f6e29b8c281f",
   "metadata": {
    "id": "f61965ce-cb65-469c-967c-f6e29b8c281f"
   },
   "source": [
    "Так же важно отметить, что признаки следует отнормировать перед подачей в лиейную модель. Так же без нормировки не будет работать регуляризация."
   ]
  },
  {
   "cell_type": "code",
   "execution_count": 5,
   "id": "70beb638-fcbc-4856-b0f1-bdeb8d829e04",
   "metadata": {
    "id": "70beb638-fcbc-4856-b0f1-bdeb8d829e04"
   },
   "outputs": [],
   "source": [
    "from sklearn.preprocessing import StandardScaler\n",
    "\n",
    "scaler = StandardScaler()\n",
    "target_scaler = StandardScaler()\n",
    "df = scaler.fit_transform(rides_info.drop(drop_cols, axis=1))\n",
    "target = target_scaler.fit_transform(rides_info['target_reg'].values.reshape(-1, 1))"
   ]
  },
  {
   "cell_type": "code",
   "execution_count": 6,
   "id": "b8e4b829-7429-4710-b2ab-0972e1b51598",
   "metadata": {
    "id": "b8e4b829-7429-4710-b2ab-0972e1b51598"
   },
   "outputs": [],
   "source": [
    "X = rides_info.drop(drop_cols, axis=1)\n",
    "y = rides_info['target_reg']"
   ]
  },
  {
   "cell_type": "code",
   "execution_count": 7,
   "id": "eb62b2cc-b6a1-45d2-b51d-cef594521ab7",
   "metadata": {
    "id": "eb62b2cc-b6a1-45d2-b51d-cef594521ab7"
   },
   "outputs": [],
   "source": [
    "X_train, X_test, y_train, y_test = train_test_split(X, y, test_size=0.2, random_state=42)"
   ]
  },
  {
   "cell_type": "markdown",
   "id": "699259ee-0001-47e1-a521-1011f6ee48c3",
   "metadata": {
    "id": "699259ee-0001-47e1-a521-1011f6ee48c3"
   },
   "source": [
    "### Linear regression"
   ]
  },
  {
   "cell_type": "code",
   "execution_count": 8,
   "id": "35a93df7-bbd4-4646-be92-0d50c58d9668",
   "metadata": {
    "colab": {
     "base_uri": "https://localhost:8080/"
    },
    "id": "35a93df7-bbd4-4646-be92-0d50c58d9668",
    "outputId": "87c32ce3-9f2f-4d2d-d698-eacd0cd77909"
   },
   "outputs": [
    {
     "name": "stdout",
     "output_type": "stream",
     "text": [
      "14.562509138703938\n"
     ]
    }
   ],
   "source": [
    "linear_reg = LinearRegression()\n",
    "linear_reg.fit(X_train, y_train)\n",
    "y_pred = linear_reg.predict(X_test)\n",
    "\n",
    "# посчитаем RMSE, чтобы избавиться от ошибки в квадрате (что это за ошибка дни в квадрате)\n",
    "rmse_linear = mean_squared_error(y_pred, y_test) ** 0.5\n",
    "\n",
    "print(rmse_linear)"
   ]
  },
  {
   "cell_type": "code",
   "execution_count": 9,
   "id": "9fa07121-7868-4a53-97fd-88febb5d2d92",
   "metadata": {
    "colab": {
     "base_uri": "https://localhost:8080/"
    },
    "id": "9fa07121-7868-4a53-97fd-88febb5d2d92",
    "outputId": "7122097c-7fba-4c6b-82d5-5aa1af58f026"
   },
   "outputs": [
    {
     "name": "stdout",
     "output_type": "stream",
     "text": [
      "[ 2.88087629e-01 -1.47064987e-01  7.37558446e-06  1.75613018e-01\n",
      "  1.26243062e+01 -3.55794645e-07  1.08577758e+01  3.24482039e-01\n",
      "  1.08684847e-01  9.59232693e-14 -1.20121796e+00  2.97857360e+00\n",
      " -1.82927630e+00  9.23232090e-02 -1.24162051e+00  4.61756336e-01\n",
      " -4.61756336e-01  4.23255447e+00  8.42750125e+00  8.63650367e-01\n",
      " -3.49578759e-01 -2.82502348e+00 -1.11253041e+00  2.05235742e+00\n",
      " -2.14072616e-01 -8.31091154e-01 -1.75816704e-01  1.38931392e+01\n",
      " -5.50415913e+00 -4.53951548e+00  2.30371124e+00  7.36789945e-01\n",
      " -2.08662389e+00  2.84030138e-01 -3.61732658e-01  1.32633767e+00\n",
      "  1.12230379e-01 -1.69230884e+00 -2.93892641e+00 -1.73186984e+00\n",
      " -5.63547818e-01  1.18695156e+00 -1.04924565e+01]\n"
     ]
    }
   ],
   "source": [
    "# Посмотрим на вектор весов\n",
    "print(linear_reg.coef_)"
   ]
  },
  {
   "cell_type": "code",
   "execution_count": 10,
   "id": "2f970817-607b-4f13-9e2a-3f71fe5d2f19",
   "metadata": {
    "colab": {
     "base_uri": "https://localhost:8080/"
    },
    "id": "2f970817-607b-4f13-9e2a-3f71fe5d2f19",
    "outputId": "fbd284a8-5819-45e3-bdd8-eeaaec8435d8"
   },
   "outputs": [
    {
     "name": "stdout",
     "output_type": "stream",
     "text": [
      "87.57368293696254\n"
     ]
    }
   ],
   "source": [
    "# Посмотрим на свободный член бэта0\n",
    "print(linear_reg.intercept_)"
   ]
  },
  {
   "cell_type": "markdown",
   "id": "810d8d7d-6b5d-48cb-8411-7fe22cc1cbfe",
   "metadata": {
    "id": "810d8d7d-6b5d-48cb-8411-7fe22cc1cbfe"
   },
   "source": [
    "### Lasso Regression"
   ]
  },
  {
   "cell_type": "code",
   "execution_count": 11,
   "id": "b0822d2c-afba-4183-bd0e-a0d8007cade4",
   "metadata": {
    "colab": {
     "base_uri": "https://localhost:8080/"
    },
    "id": "b0822d2c-afba-4183-bd0e-a0d8007cade4",
    "outputId": "7f7a7458-4606-46fc-fb62-476ee5024396"
   },
   "outputs": [
    {
     "name": "stdout",
     "output_type": "stream",
     "text": [
      "Lasso MSE with Lambda=1e-05 is 14.562531337396313\n",
      "Lasso MSE with Lambda=0.0001 is 14.562865207580808\n",
      "Lasso MSE with Lambda=0.001 is 14.566221980543073\n",
      "Lasso MSE with Lambda=0.005 is 14.578707717809754\n",
      "Lasso MSE with Lambda=0.01 is 14.587063886816646\n",
      "Lasso MSE with Lambda=0.05 is 14.632224481072921\n",
      "Lasso MSE with Lambda=0.1 is 14.6785774335615\n",
      "Lasso MSE with Lambda=0.2 is 14.83139532344045\n",
      "Lasso MSE with Lambda=0.3 is 14.937077750584294\n",
      "Lasso MSE with Lambda=0.4 is 14.977851978983788\n",
      "Lasso MSE with Lambda=0.5 is 15.005633595052027\n"
     ]
    }
   ],
   "source": [
    "lambda_values = [0.00001, 0.0001, 0.001, 0.005, 0.01, 0.05,  0.1, 0.2, 0.3, 0.4, 0.5]\n",
    "\n",
    "for lambda_val in lambda_values:\n",
    "    lasso_reg = Lasso(lambda_val)\n",
    "    lasso_reg.fit(X_train, y_train)\n",
    "    y_pred = lasso_reg.predict(X_test)\n",
    "    #y_pred = target_scaler.inverse_transform(np.array(y_pred).reshape(-1, 1))\n",
    "    #y_true = target_scaler.inverse_transform(np.array(y_test).reshape(-1, 1))\n",
    "    rmse_lasso = mean_squared_error(y_pred, y_test) ** 0.5\n",
    "    #mse_lasso = mean_squared_error(y_pred, y_test)\n",
    "    print((\"Lasso MSE with Lambda={} is {}\").format(lambda_val, rmse_lasso))"
   ]
  },
  {
   "cell_type": "code",
   "execution_count": 12,
   "id": "bac8dc6a-c4b5-4365-b928-1670ba501f62",
   "metadata": {
    "colab": {
     "base_uri": "https://localhost:8080/"
    },
    "id": "bac8dc6a-c4b5-4365-b928-1670ba501f62",
    "outputId": "d7b5b918-e783-4c9d-e062-0d0b82b98ec7"
   },
   "outputs": [
    {
     "name": "stdout",
     "output_type": "stream",
     "text": [
      "<class 'pandas.core.frame.DataFrame'>\n",
      "RangeIndex: 2337 entries, 0 to 2336\n",
      "Data columns (total 43 columns):\n",
      " #   Column                    Non-Null Count  Dtype  \n",
      "---  ------                    --------------  -----  \n",
      " 0   car_rating                2337 non-null   float64\n",
      " 1   year_to_start             2337 non-null   int64  \n",
      " 2   riders                    2337 non-null   int64  \n",
      " 3   year_to_work              2337 non-null   int64  \n",
      " 4   mean_rating               2337 non-null   float64\n",
      " 5   distance_sum              2337 non-null   float64\n",
      " 6   rating_min                2337 non-null   float64\n",
      " 7   speed_max                 2337 non-null   float64\n",
      " 8   user_ride_quality_median  2337 non-null   float64\n",
      " 9   deviation_normal_count    2337 non-null   int64  \n",
      " 10  user_uniq                 2337 non-null   int64  \n",
      " 11  car_type_business         2337 non-null   uint8  \n",
      " 12  car_type_economy          2337 non-null   uint8  \n",
      " 13  car_type_premium          2337 non-null   uint8  \n",
      " 14  car_type_standart         2337 non-null   uint8  \n",
      " 15  fuel_type_electro         2337 non-null   uint8  \n",
      " 16  fuel_type_petrol          2337 non-null   uint8  \n",
      " 17  model_Audi A3             2337 non-null   uint8  \n",
      " 18  model_Audi A4             2337 non-null   uint8  \n",
      " 19  model_Audi Q3             2337 non-null   uint8  \n",
      " 20  model_BMW 320i            2337 non-null   uint8  \n",
      " 21  model_Fiat 500            2337 non-null   uint8  \n",
      " 22  model_Hyundai Solaris     2337 non-null   uint8  \n",
      " 23  model_Kia Rio             2337 non-null   uint8  \n",
      " 24  model_Kia Rio X           2337 non-null   uint8  \n",
      " 25  model_Kia Rio X-line      2337 non-null   uint8  \n",
      " 26  model_Kia Sportage        2337 non-null   uint8  \n",
      " 27  model_MINI CooperSE       2337 non-null   uint8  \n",
      " 28  model_Mercedes-Benz E200  2337 non-null   uint8  \n",
      " 29  model_Mercedes-Benz GLC   2337 non-null   uint8  \n",
      " 30  model_Mini Cooper         2337 non-null   uint8  \n",
      " 31  model_Nissan Qashqai      2337 non-null   uint8  \n",
      " 32  model_Renault Kaptur      2337 non-null   uint8  \n",
      " 33  model_Renault Sandero     2337 non-null   uint8  \n",
      " 34  model_Skoda Rapid         2337 non-null   uint8  \n",
      " 35  model_Smart Coupe         2337 non-null   uint8  \n",
      " 36  model_Smart ForFour       2337 non-null   uint8  \n",
      " 37  model_Smart ForTwo        2337 non-null   uint8  \n",
      " 38  model_Tesla Model 3       2337 non-null   uint8  \n",
      " 39  model_VW Polo             2337 non-null   uint8  \n",
      " 40  model_VW Polo VI          2337 non-null   uint8  \n",
      " 41  model_VW Tiguan           2337 non-null   uint8  \n",
      " 42  model_Volkswagen ID.4     2337 non-null   uint8  \n",
      "dtypes: float64(6), int64(5), uint8(32)\n",
      "memory usage: 274.0 KB\n"
     ]
    }
   ],
   "source": [
    "X.info()"
   ]
  },
  {
   "cell_type": "code",
   "execution_count": 13,
   "id": "aaea85ba-0c93-4f5b-9b44-e816b605848d",
   "metadata": {
    "colab": {
     "base_uri": "https://localhost:8080/"
    },
    "id": "aaea85ba-0c93-4f5b-9b44-e816b605848d",
    "outputId": "79f108e5-2b00-42d2-b5c0-3d09aae8ddee"
   },
   "outputs": [
    {
     "name": "stdout",
     "output_type": "stream",
     "text": [
      "[ 0.00000000e+00 -0.00000000e+00  2.23656591e-06  1.48373258e-01\n",
      "  9.82163697e+00 -4.04185024e-07  0.00000000e+00  2.91162882e-01\n",
      "  9.35758139e-02  0.00000000e+00 -1.08874728e+00  0.00000000e+00\n",
      " -0.00000000e+00  0.00000000e+00 -0.00000000e+00  0.00000000e+00\n",
      " -0.00000000e+00  0.00000000e+00  0.00000000e+00  0.00000000e+00\n",
      "  0.00000000e+00  0.00000000e+00 -0.00000000e+00  0.00000000e+00\n",
      " -0.00000000e+00 -0.00000000e+00  0.00000000e+00  0.00000000e+00\n",
      " -0.00000000e+00 -0.00000000e+00  0.00000000e+00  0.00000000e+00\n",
      " -0.00000000e+00  0.00000000e+00 -0.00000000e+00  0.00000000e+00\n",
      " -0.00000000e+00 -0.00000000e+00  0.00000000e+00 -0.00000000e+00\n",
      " -0.00000000e+00  0.00000000e+00 -0.00000000e+00]\n"
     ]
    }
   ],
   "source": [
    "# Посмотрим на вектор весов при самом большом значении лямбда\n",
    "print(lasso_reg.coef_)"
   ]
  },
  {
   "cell_type": "markdown",
   "id": "23b91656-9881-4c16-9c5b-6b04607c5e13",
   "metadata": {
    "id": "23b91656-9881-4c16-9c5b-6b04607c5e13"
   },
   "source": [
    "Чем больше лямбда, тем больше фичей зануляется, при этом точность не сильно упала всего на 0.5.\n",
    "Как видно, модель обнулила 80% коэффициентов, оставив 8 из них. Для одного из признаков (mean_rating) сохранился достаточно большой вес. <br>\n",
    "Другими словами, мы “приказали” лассо-регрессии найти наилучшую модель, учитывая ограничения на то, какой вес можно придать каждому коэффициенту (т.е. “бюджет”). Поэтому она “решила” приложить большую часть этого “бюджета” к среднему рейтингу, чтобы определить когда машина сломается."
   ]
  },
  {
   "cell_type": "code",
   "execution_count": 14,
   "id": "b79f6c11-88c1-490c-94c6-37afba9a9d9d",
   "metadata": {
    "colab": {
     "base_uri": "https://localhost:8080/"
    },
    "id": "b79f6c11-88c1-490c-94c6-37afba9a9d9d",
    "outputId": "510bf3bf-3234-4cd3-a601-9d8eb883e118"
   },
   "outputs": [
    {
     "name": "stdout",
     "output_type": "stream",
     "text": [
      "[ 2.88104946e-01 -1.46906355e-01  7.36890966e-06  1.75609645e-01\n",
      "  1.26242892e+01 -3.55799201e-07  1.08572978e+01  3.24481907e-01\n",
      "  1.08682523e-01  0.00000000e+00 -1.20102589e+00  5.29166001e+00\n",
      " -8.47978481e-01  2.56663861e+00 -1.89698308e-01  2.82490775e+00\n",
      " -1.19174823e-12  3.19230589e+00  7.38750850e+00 -1.74119498e-01\n",
      " -1.22517642e+00 -3.70156937e+00 -6.58186788e-01  2.50627453e+00\n",
      "  2.39947245e-01 -3.76739807e-01  2.07606587e-01  1.11132262e+01\n",
      " -6.38055826e+00 -5.41495441e+00  1.42494854e+00  1.12018524e+00\n",
      " -1.70292494e+00  6.67433043e-01  9.22293725e-02  1.78021231e+00\n",
      "  5.66196655e-01 -1.23807417e+00 -5.87173694e+00 -1.27755087e+00\n",
      " -1.09317457e-01  1.64099625e+00 -1.34265637e+01]\n"
     ]
    }
   ],
   "source": [
    "# Посмотрим на вектор весов при самом низком значении лямбда\n",
    "lasso_reg = Lasso(lambda_values[0])\n",
    "lasso_reg.fit(X_train, y_train)\n",
    "\n",
    "print(lasso_reg.coef_)"
   ]
  },
  {
   "cell_type": "markdown",
   "id": "c9c89a7c-8212-4c37-a730-3637c5445f4a",
   "metadata": {
    "id": "c9c89a7c-8212-4c37-a730-3637c5445f4a"
   },
   "source": [
    "При низком значении лямбды занулился только 1 признак, но модель показала самую высокую точность."
   ]
  },
  {
   "cell_type": "markdown",
   "id": "3e1b0535-608a-490c-adf1-5960604d21f8",
   "metadata": {
    "id": "3e1b0535-608a-490c-adf1-5960604d21f8"
   },
   "source": [
    "### Ridge Regression"
   ]
  },
  {
   "cell_type": "markdown",
   "id": "2a809b24-847c-43fb-9b3e-e07a0c513dd1",
   "metadata": {
    "id": "2a809b24-847c-43fb-9b3e-e07a0c513dd1"
   },
   "source": [
    "Следует помнить, что значения лямбды у ридж- и лассо-регрессий не пропорциональны, т.е. лямбда 5 для лассо-регрессии ни в коем случае не равна лямбде 5 для ридж-регрессии.\n"
   ]
  },
  {
   "cell_type": "code",
   "execution_count": 15,
   "id": "1b7465d2-eed1-41a8-89c8-4fb2f01e8ff5",
   "metadata": {
    "colab": {
     "base_uri": "https://localhost:8080/"
    },
    "id": "1b7465d2-eed1-41a8-89c8-4fb2f01e8ff5",
    "outputId": "55df82d2-5150-44af-c17e-98778dcbff70"
   },
   "outputs": [
    {
     "name": "stdout",
     "output_type": "stream",
     "text": [
      "Lasso MSE with Lambda=1e-05 is 14.562509249645004\n",
      "Lasso MSE with Lambda=0.01 is 14.562620036241206\n",
      "Lasso MSE with Lambda=0.05 is 14.563062643911982\n",
      "Lasso MSE with Lambda=0.1 is 14.563613664360378\n",
      "Lasso MSE with Lambda=0.5 is 14.567927794980237\n",
      "Lasso MSE with Lambda=1 is 14.573072267667614\n",
      "Lasso MSE with Lambda=1.5 is 14.577934023113965\n",
      "Lasso MSE with Lambda=3 is 14.59090883755609\n",
      "Lasso MSE with Lambda=5 is 14.605048920001117\n",
      "Lasso MSE with Lambda=6 is 14.61105720176623\n",
      "Lasso MSE with Lambda=7 is 14.616503299811134\n",
      "Lasso MSE with Lambda=8 is 14.621474874564859\n",
      "Lasso MSE with Lambda=9 is 14.626044668305562\n",
      "Lasso MSE with Lambda=10 is 14.6302729405031\n"
     ]
    }
   ],
   "source": [
    "lambda_values = [0.00001, 0.01, 0.05, 0.1, 0.5, 1, 1.5, 3, 5, 6, 7, 8, 9, 10]\n",
    "\n",
    "for lambda_val in lambda_values:\n",
    "    ridge_reg = Ridge(lambda_val)\n",
    "    ridge_reg.fit(X_train, y_train)\n",
    "    y_pred = ridge_reg.predict(X_test)\n",
    "    rmse_ridge = mean_squared_error(y_pred, y_test) ** 0.5\n",
    "    print((\"Lasso MSE with Lambda={} is {}\").format(lambda_val, rmse_ridge))"
   ]
  },
  {
   "cell_type": "code",
   "execution_count": 16,
   "id": "f3b931bd-355a-4182-b0b7-0cd0d72747be",
   "metadata": {
    "colab": {
     "base_uri": "https://localhost:8080/"
    },
    "id": "f3b931bd-355a-4182-b0b7-0cd0d72747be",
    "outputId": "7da1f20f-230d-40e0-e2fd-be38fe31b492"
   },
   "outputs": [
    {
     "name": "stdout",
     "output_type": "stream",
     "text": [
      "[ 3.32096994e-01 -1.50849264e-01  8.43435004e-06  1.79872879e-01\n",
      "  1.23345909e+01 -3.68037181e-07  8.97384865e+00  3.20562428e-01\n",
      "  1.04929922e-01  0.00000000e+00 -9.85576156e-01  2.41447288e+00\n",
      " -2.02200941e+00  9.94439846e-01 -1.38690331e+00  2.09105737e+00\n",
      " -2.09105737e+00  1.76873902e+00  4.54397883e+00 -1.21869890e-01\n",
      "  1.92525834e-01 -1.54749288e+00 -9.92209838e-01  1.79756277e+00\n",
      " -1.74624366e-01 -7.62421482e-01 -1.49420630e-01  7.28746548e+00\n",
      " -3.20457811e+00 -1.92395981e+00  1.61051237e+00  5.52109592e-01\n",
      " -1.99204006e+00  2.02447784e-01 -3.47748469e-01  1.09084058e+00\n",
      "  9.00700576e-02 -1.65732619e+00 -5.58763336e-01 -1.59412231e+00\n",
      " -6.14207480e-01  1.14217732e+00 -4.63764478e+00]\n"
     ]
    }
   ],
   "source": [
    "# Вектор весов при высокой лямбда\n",
    "print(ridge_reg.coef_)"
   ]
  },
  {
   "cell_type": "code",
   "execution_count": 17,
   "id": "48d62def-029e-43c8-98f6-fa4f974c5e29",
   "metadata": {
    "colab": {
     "base_uri": "https://localhost:8080/"
    },
    "id": "48d62def-029e-43c8-98f6-fa4f974c5e29",
    "outputId": "ce296b3e-7fe0-4093-d4f5-69237fbd6482"
   },
   "outputs": [
    {
     "name": "stdout",
     "output_type": "stream",
     "text": [
      "[ 2.88104946e-01 -1.46906355e-01  7.36890966e-06  1.75609645e-01\n",
      "  1.26242892e+01 -3.55799201e-07  1.08572978e+01  3.24481907e-01\n",
      "  1.08682523e-01  0.00000000e+00 -1.20102589e+00  5.29166001e+00\n",
      " -8.47978481e-01  2.56663861e+00 -1.89698308e-01  2.82490775e+00\n",
      " -1.19174823e-12  3.19230589e+00  7.38750850e+00 -1.74119498e-01\n",
      " -1.22517642e+00 -3.70156937e+00 -6.58186788e-01  2.50627453e+00\n",
      "  2.39947245e-01 -3.76739807e-01  2.07606587e-01  1.11132262e+01\n",
      " -6.38055826e+00 -5.41495441e+00  1.42494854e+00  1.12018524e+00\n",
      " -1.70292494e+00  6.67433043e-01  9.22293725e-02  1.78021231e+00\n",
      "  5.66196655e-01 -1.23807417e+00 -5.87173694e+00 -1.27755087e+00\n",
      " -1.09317457e-01  1.64099625e+00 -1.34265637e+01]\n"
     ]
    }
   ],
   "source": [
    "# Вектор весов при низкой лямбда\n",
    "ridge_reg = Lasso(lambda_values[0])\n",
    "ridge_reg.fit(X_train, y_train)\n",
    "\n",
    "print(ridge_reg.coef_)"
   ]
  },
  {
   "cell_type": "markdown",
   "id": "acf8cfda-22b3-4d4d-9178-399eb4a653a2",
   "metadata": {
    "id": "acf8cfda-22b3-4d4d-9178-399eb4a653a2"
   },
   "source": [
    "Как видите, коэффициент для mean_rating уже не такой высокий, в то время как все остальные коэффициенты уменьшились. Однако только один из них был обнулен, в отличие от лассо-регрессии. Так же заметно, что точность модели почти не меняется при изменении лямбда (скорее всего из-за специфики данных).\n",
    "\n",
    "В этом заключается ключевое различие между двумя методами: лассо-регрессия часто обнуляет признаки, а ридж-регрессия уменьшает вес большинства из них в модели.\n",
    "\n",
    "Поэтому стоит просматривать бета-векторы каждой модели и перепроверять значения: понимание того, что происходит в бета-векторе, является ключом к пониманию этих моделей."
   ]
  },
  {
   "cell_type": "markdown",
   "id": "01867aec-f284-4123-9eeb-22d98c88142c",
   "metadata": {
    "id": "01867aec-f284-4123-9eeb-22d98c88142c"
   },
   "source": [
    "### Elastic-Net - COMBO L1 + L2\n",
    "Посмотрим описание из документации библиотеки [sklearn](https://scikit-learn.ru/1-1-linear-models/#elastic-net):\n",
    ">ElasticNet is a linear regression model trained with both and -norm regularization of the coefficients. This combination allows for learning a sparse model where few of the weights are non-zero like Lasso, while still maintaining the regularization properties of Ridge. We control the convex combination of and using the l1_ratio parameter.\n",
    "Elastic-net is useful when there are multiple features that are correlated with one another. Lasso is likely to pick one of these at random, while elastic-net is likely to pick both. A practical advantage of trading-off between Lasso and Ridge is that it allows Elastic-Net to inherit some of Ridge’s stability under rotation.\n",
    "\n",
    ">ElasticNet полезна, когда есть несколько признаков, которые коррелируют друг с другом. Лассо, вероятно, выберет один из них наугад, а elastic-net — и то, и другое."
   ]
  },
  {
   "cell_type": "code",
   "execution_count": 18,
   "id": "bf658958-0113-47ba-ae41-9188a47535ff",
   "metadata": {
    "colab": {
     "base_uri": "https://localhost:8080/"
    },
    "id": "bf658958-0113-47ba-ae41-9188a47535ff",
    "outputId": "51970a48-d380-415e-8c4c-07c34329a71a"
   },
   "outputs": [
    {
     "name": "stdout",
     "output_type": "stream",
     "text": [
      "ElasticNet MSE with l1_ratio=1e-05 is 15.521003805723765\n",
      "ElasticNet MSE with l1_ratio=0.001 is 15.521033832732579\n",
      "ElasticNet MSE with l1_ratio=0.01 is 15.521544122482227\n",
      "ElasticNet MSE with l1_ratio=0.05 is 15.524490800044598\n",
      "ElasticNet MSE with l1_ratio=0.1 is 15.527894342826967\n",
      "ElasticNet MSE with l1_ratio=0.5 is 15.524286170666146\n",
      "ElasticNet MSE with l1_ratio=0.7 is 15.485878593163136\n",
      "ElasticNet MSE with l1_ratio=0.9 is 15.384412021567083\n",
      "ElasticNet MSE with l1_ratio=1 is 15.22755055292332\n"
     ]
    }
   ],
   "source": [
    "l1_ratios = [0.00001, 0.001, 0.01, 0.05, 0.1, 0.5, 0.7, 0.9, 1]\n",
    "\n",
    "for l1_ratio in l1_ratios:\n",
    "    elasticnet_reg = ElasticNet(l1_ratio=l1_ratio)\n",
    "    elasticnet_reg.fit(X_train, y_train)\n",
    "    y_pred = elasticnet_reg.predict(X_test)\n",
    "    rmse_elastic = mean_squared_error(y_pred, y_test) ** 0.5\n",
    "    print((\"ElasticNet MSE with l1_ratio={} is {}\").format(l1_ratio, rmse_elastic))"
   ]
  },
  {
   "cell_type": "code",
   "execution_count": 19,
   "id": "3d9b2b67-01fb-4abd-8770-9aba21163dd0",
   "metadata": {
    "colab": {
     "base_uri": "https://localhost:8080/"
    },
    "id": "3d9b2b67-01fb-4abd-8770-9aba21163dd0",
    "outputId": "54bbf246-bbe7-483b-bc5c-cd7fe3fbc263"
   },
   "outputs": [
    {
     "name": "stdout",
     "output_type": "stream",
     "text": [
      "[ 0.00000000e+00  0.00000000e+00  1.75088697e-06  5.22841395e-02\n",
      "  5.52377744e+00 -4.33881114e-07  0.00000000e+00  2.60065381e-01\n",
      "  8.29048465e-02  0.00000000e+00 -1.02761786e+00  0.00000000e+00\n",
      " -0.00000000e+00  0.00000000e+00 -0.00000000e+00  0.00000000e+00\n",
      " -0.00000000e+00  0.00000000e+00  0.00000000e+00  0.00000000e+00\n",
      "  0.00000000e+00  0.00000000e+00 -0.00000000e+00  0.00000000e+00\n",
      " -0.00000000e+00 -0.00000000e+00  0.00000000e+00  0.00000000e+00\n",
      " -0.00000000e+00  0.00000000e+00  0.00000000e+00  0.00000000e+00\n",
      " -0.00000000e+00  0.00000000e+00 -0.00000000e+00  0.00000000e+00\n",
      " -0.00000000e+00 -0.00000000e+00  0.00000000e+00 -0.00000000e+00\n",
      " -0.00000000e+00  0.00000000e+00 -0.00000000e+00]\n"
     ]
    }
   ],
   "source": [
    "# При высоком значении l1_ratio\n",
    "print(elasticnet_reg.coef_)"
   ]
  },
  {
   "cell_type": "markdown",
   "id": "7dbb4b14-c216-48d8-aaa0-a49f6e2b59ff",
   "metadata": {
    "id": "7dbb4b14-c216-48d8-aaa0-a49f6e2b59ff"
   },
   "source": [
    "ElasticNet присвоил большие коэффициенты 2 признакам mean_rating и speed_max  и занулил большинство фичей."
   ]
  },
  {
   "cell_type": "code",
   "execution_count": 20,
   "id": "5c8c8d2d-702b-4705-8bc0-538a2298b983",
   "metadata": {
    "colab": {
     "base_uri": "https://localhost:8080/"
    },
    "id": "5c8c8d2d-702b-4705-8bc0-538a2298b983",
    "outputId": "1753f913-ab70-4aab-fdee-8839ebc0f495"
   },
   "outputs": [
    {
     "name": "stdout",
     "output_type": "stream",
     "text": [
      "[ 2.20143687e-01  5.61252346e-03  1.68286708e-07  2.19162534e-01\n",
      "  1.47365163e+00 -4.61771802e-07  4.11666318e-01  2.32428307e-01\n",
      "  8.52749684e-02  0.00000000e+00 -9.89820806e-01  2.64921465e-01\n",
      " -2.76617416e-01  1.42562753e-01 -1.30866802e-01  1.98958188e-01\n",
      " -1.98958188e-01  3.95489150e-02  8.96639025e-02  1.03539870e-02\n",
      "  3.05439315e-02  6.52737650e-03 -5.78935917e-02  7.47719748e-02\n",
      " -2.57143753e-02 -7.69603299e-02 -8.79465243e-04  1.95982239e-01\n",
      " -1.57406643e-02 -1.42660242e-04  4.77412421e-02 -1.98423478e-02\n",
      " -1.24775718e-01  1.46407289e-02  5.88515990e-03  2.48453365e-02\n",
      "  1.60444912e-03 -1.37352026e-01  2.22436185e-02 -1.01382663e-01\n",
      " -4.17673519e-02  5.73460018e-02 -1.92676700e-02]\n"
     ]
    }
   ],
   "source": [
    "# При низком значении l1_ratio\n",
    "elasticnet_reg = ElasticNet(l1_ratio=l1_ratios[0])\n",
    "elasticnet_reg.fit(X_train, y_train)\n",
    "print(elasticnet_reg.coef_)"
   ]
  },
  {
   "cell_type": "markdown",
   "id": "3a7297a8-704e-4785-a351-ae5e1e8ecd91",
   "metadata": {
    "id": "3a7297a8-704e-4785-a351-ae5e1e8ecd91"
   },
   "source": [
    "## Что же выбрать?\n",
    "* **Лассо (l1-регуляризацию)** следует использовать, когда есть несколько характеристик с высокой предсказательной способностью, а остальные бесполезны. Она обнуляет бесполезные характеристики и оставляет только подмножество переменных.\n",
    "\n",
    "* **Ридж (l2-регуляризацию)** лучше применять, когда предсказательная способность набора данных распределена между различными характеристиками. Ридж-регрессия не обнуляет характеристики, которые могут быть полезны при составлении прогнозов, а просто уменьшает вес большинства переменных в модели.\n",
    "\n",
    "На практике это обычно трудно определить поэтому лучше экспериментировать на тестовом множестве, используя различные значения лямбды.\n",
    "### Зачем же в итоге нужна регуляризация?\n",
    "* Регуляризация предназначена для регулирования сложности модели и её целью является упрощение модели.\n",
    "* Регуляризация помогает бороться с переобучением и увеличивает обобщающую способность (робастность) модели.\n",
    "* Регуляризация применяется когда независимые переменные (признаки) коррелируют друг с другом, т.е. имеет место быть мультиколлинеарность признаков.\n",
    "* Регуляризация работает даже при полной мультиколлинеарности признаков.\n",
    "\n",
    "Как уже отмечалось в начале, вы вряд ли будете использовать линейную регрессию и её модификации с регуляризацией в соревнованиях, но параметры отвечающие за регуляризацию присутствуют во многих популярных библиотеках и моделях машинного обучения (CatBoost, LightGBM, RandomForest, SVM, и многие другие). Надеемся, что освоив этот урок, вы будете более осознанно подходить к тюнингу того или иного параметра, а не просто рандомно перебирать цифры, пытаясь угадать заветную комбинацию 😁.\n"
   ]
  },
  {
   "cell_type": "markdown",
   "id": "c39315c4-57ad-497d-8527-186ae3e20ae3",
   "metadata": {
    "id": "c39315c4-57ad-497d-8527-186ae3e20ae3"
   },
   "source": [
    "## Полезные ссылки:\n",
    "1. Отличный [курс от ODS](https://ods.ai/tracks/linear-models-spring22) про линейные модели и регуляризацию со всеми математическими выкладками.\n",
    "2. Если хотите углубиться в математику (это поможет понять, как работает регуляризация), прочитайте главу 3.4 в книге [“Элементы статистического обучения”](https://hastie.su.domains/Papers/ESLII.pdf), написанной Треворой Хасти, Робертом Тибширани и Джеромом Фридманом. Роберт Тибширани  —  автор метода лассо-регрессии.\n",
    "3. [Англоязычная статья](https://towardsdatascience.com/lasso-and-ridge-regression-an-intuitive-comparison-3ee415487d18), которая легла в основу этого ноутбука."
   ]
  }
 ],
 "metadata": {
  "colab": {
   "provenance": []
  },
  "kernelspec": {
   "display_name": "cv",
   "language": "python",
   "name": "python3"
  },
  "language_info": {
   "codemirror_mode": {
    "name": "ipython",
    "version": 3
   },
   "file_extension": ".py",
   "mimetype": "text/x-python",
   "name": "python",
   "nbconvert_exporter": "python",
   "pygments_lexer": "ipython3",
   "version": "3.10.12"
  }
 },
 "nbformat": 4,
 "nbformat_minor": 5
}
