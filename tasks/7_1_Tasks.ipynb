{
  "nbformat": 4,
  "nbformat_minor": 0,
  "metadata": {
    "colab": {
      "provenance": [],
      "collapsed_sections": [
        "tQFfZ4nx_fMo",
        "MzSsFM41G7bl",
        "9Naq02eP-5Te",
        "tp2kr4xK_Lgu",
        "XoxhPMZzHlNU"
      ]
    },
    "kernelspec": {
      "name": "python3",
      "display_name": "Python 3"
    },
    "language_info": {
      "name": "python"
    }
  },
  "cells": [
    {
      "cell_type": "markdown",
      "source": [
        "# Задача на 4-ом шаге урока"
      ],
      "metadata": {
        "id": "tQFfZ4nx_fMo"
      }
    },
    {
      "cell_type": "markdown",
      "source": [
        "**🤜 Универсальный ужиматель 🤛**"
      ],
      "metadata": {
        "id": "Q2_wV79Pnea_"
      }
    },
    {
      "cell_type": "code",
      "source": [],
      "metadata": {
        "id": "XdzSrbSDwDEY"
      },
      "execution_count": null,
      "outputs": []
    },
    {
      "cell_type": "markdown",
      "source": [
        "В ноутбуке этого урока мы реализовали функцию reduce_mem_usage"
      ],
      "metadata": {
        "id": "Q9Wd53aa9HKf"
      }
    },
    {
      "cell_type": "code",
      "source": [
        "def reduce_mem_usage(df):\n",
        "    \"\"\" iterate through all the columns of a dataframe and modify the data type\n",
        "        to reduce memory usage.\n",
        "    \"\"\"\n",
        "    start_mem = df.memory_usage().sum() / 1024**2\n",
        "    print('Memory usage of dataframe is {:.2f} MB'.format(start_mem))\n",
        "\n",
        "    for col in df.columns:\n",
        "        col_type = df[col].dtype.name\n",
        "\n",
        "        if col_type not in ['object', 'category', 'datetime64[ns, UTC]']:\n",
        "            c_min = df[col].min()\n",
        "            c_max = df[col].max()\n",
        "            if str(col_type)[:3] == 'int':\n",
        "                if c_min > np.iinfo(np.int8).min and c_max < np.iinfo(np.int8).max:\n",
        "                    df[col] = df[col].astype(np.int8)\n",
        "                elif c_min > np.iinfo(np.int16).min and c_max < np.iinfo(np.int16).max:\n",
        "                    df[col] = df[col].astype(np.int16)\n",
        "                elif c_min > np.iinfo(np.int32).min and c_max < np.iinfo(np.int32).max:\n",
        "                    df[col] = df[col].astype(np.int32)\n",
        "                elif c_min > np.iinfo(np.int64).min and c_max < np.iinfo(np.int64).max:\n",
        "                    df[col] = df[col].astype(np.int64)\n",
        "            else:\n",
        "                if c_min > np.finfo(np.float16).min and c_max < np.finfo(np.float16).max:\n",
        "                    df[col] = df[col].astype(np.float16)\n",
        "                elif c_min > np.finfo(np.float32).min and c_max < np.finfo(np.float32).max:\n",
        "                    df[col] = df[col].astype(np.float32)\n",
        "                else:\n",
        "                    df[col] = df[col].astype(np.float64)\n",
        "\n",
        "    end_mem = df.memory_usage().sum() / 1024**2\n",
        "    print('Memory usage after optimization is: {:.2f} MB'.format(end_mem))\n",
        "    print('Decreased by {:.1f}%'.format(100 * (start_mem - end_mem) / start_mem))\n",
        "\n",
        "    return df"
      ],
      "metadata": {
        "id": "Z982cnrJ82qi"
      },
      "execution_count": null,
      "outputs": []
    },
    {
      "cell_type": "code",
      "source": [],
      "metadata": {
        "id": "W2wqgTJIniAt"
      },
      "execution_count": null,
      "outputs": []
    },
    {
      "cell_type": "markdown",
      "source": [
        "🧠 Задача: Добавьте в функцию reduce_mem_usage возможность оптимизации категориальных признаков (названия этих колонок передаются в cat_cols в аргументах функции). Про оптимизацию хранения категориальных признаков мы рассказывали в ноутбуке к уроку."
      ],
      "metadata": {
        "id": "6z5RFBHS_5se"
      }
    },
    {
      "cell_type": "code",
      "execution_count": null,
      "metadata": {
        "id": "SJ48wmwEtd82"
      },
      "outputs": [],
      "source": [
        "def reduce_mem_usage(df, cat_cols=[]):\n",
        "    \"\"\" iterate through all the columns of a dataframe and modify the data type\n",
        "        to reduce memory usage.\n",
        "    \"\"\"\n",
        "    start_mem = df.memory_usage().sum() / 1024**2\n",
        "    # print('Memory usage of dataframe is {:.2f} MB'.format(start_mem))\n",
        "\n",
        "    for col in df.columns:\n",
        "        col_type = df[col].dtype.name\n",
        "\n",
        "        if col_type not in ['object', 'category', 'datetime64[ns, UTC]']:\n",
        "            c_min = df[col].min()\n",
        "            c_max = df[col].max()\n",
        "            if str(col_type)[:3] == 'int':\n",
        "                if c_min > np.iinfo(np.int8).min and c_max < np.iinfo(np.int8).max:\n",
        "                    df[col] = df[col].astype(np.int8)\n",
        "                elif c_min > np.iinfo(np.int16).min and c_max < np.iinfo(np.int16).max:\n",
        "                    df[col] = df[col].astype(np.int16)\n",
        "                elif c_min > np.iinfo(np.int32).min and c_max < np.iinfo(np.int32).max:\n",
        "                    df[col] = df[col].astype(np.int32)\n",
        "                elif c_min > np.iinfo(np.int64).min and c_max < np.iinfo(np.int64).max:\n",
        "                    df[col] = df[col].astype(np.int64)\n",
        "            else:\n",
        "                if c_min > np.finfo(np.float16).min and c_max < np.finfo(np.float16).max:\n",
        "                    df[col] = df[col].astype(np.float16)\n",
        "                elif c_min > np.finfo(np.float32).min and c_max < np.finfo(np.float32).max:\n",
        "                    df[col] = df[col].astype(np.float32)\n",
        "                else:\n",
        "                    df[col] = df[col].astype(np.float64)\n",
        "\n",
        "    end_mem = df.memory_usage().sum() / 1024**2\n",
        "    # print('Memory usage after optimization is: {:.2f} MB'.format(end_mem))\n",
        "    # print('Decreased by {:.1f}%'.format(100 * (start_mem - end_mem) / start_mem))\n",
        "\n",
        "    return df"
      ]
    },
    {
      "cell_type": "code",
      "source": [],
      "metadata": {
        "id": "ZP0PMcbsffYP"
      },
      "execution_count": null,
      "outputs": []
    },
    {
      "cell_type": "markdown",
      "source": [
        "# Задача на 5-ом шаге урока"
      ],
      "metadata": {
        "id": "MzSsFM41G7bl"
      }
    },
    {
      "cell_type": "markdown",
      "source": [
        "**Генераторы**"
      ],
      "metadata": {
        "id": "GpdzC9J7fy-t"
      }
    },
    {
      "cell_type": "code",
      "source": [],
      "metadata": {
        "id": "y3vjByvL-H6w"
      },
      "execution_count": null,
      "outputs": []
    },
    {
      "cell_type": "markdown",
      "source": [
        "Напишите генератор, который принимает массив натуральных чисел и максимально возможное число в нем, а потом на каждой итерации возвращает OHE следующего элемента в массиве. Возвращаемый массив должен быть размерности (max_class + 1,)."
      ],
      "metadata": {
        "id": "itKHwJfmHLgT"
      }
    },
    {
      "cell_type": "code",
      "source": [
        "import numpy as np\n",
        "\n",
        "def ohe_generator(numbers, max_class):\n",
        "    for num in numbers:\n",
        "\n",
        "        # Your Code\n",
        "\n",
        "        yield smth"
      ],
      "metadata": {
        "id": "qzv-UWuh-39m"
      },
      "execution_count": 19,
      "outputs": []
    },
    {
      "cell_type": "code",
      "source": [],
      "metadata": {
        "id": "KDSD8LrXDF3k"
      },
      "execution_count": null,
      "outputs": []
    },
    {
      "cell_type": "markdown",
      "source": [
        "# Задача на 8-ом шаге урока"
      ],
      "metadata": {
        "id": "9Naq02eP-5Te"
      }
    },
    {
      "cell_type": "markdown",
      "source": [
        "**🔎 Метод np.where()**"
      ],
      "metadata": {
        "id": "Qw9O72WvEUjJ"
      }
    },
    {
      "cell_type": "markdown",
      "source": [
        "Датасет для тестирования"
      ],
      "metadata": {
        "id": "5gyzAHx-chPb"
      }
    },
    {
      "cell_type": "code",
      "source": [
        "import pandas as pd\n",
        "path = 'https://raw.githubusercontent.com/a-milenkin/Competitive_Data_Science/main/data/car_info.csv'\n",
        "df_cars = pd.read_csv(path)\n",
        "df_cars.sample(5)"
      ],
      "metadata": {
        "colab": {
          "base_uri": "https://localhost:8080/",
          "height": 250
        },
        "id": "WNsvU_JpEbnY",
        "outputId": "7905dc92-1199-489c-ff68-0826910f171f"
      },
      "execution_count": 37,
      "outputs": [
        {
          "output_type": "execute_result",
          "data": {
            "text/plain": [
              "     car_type fuel_type  car_rating  year_to_start  riders      car_id  \\\n",
              "2359  economy    petrol        3.10           2014   70488  H11593230U   \n",
              "2039  economy    petrol        3.94           2013   44331  e-5805562W   \n",
              "4020  economy    petrol        5.52           2015   71259  R-9466744L   \n",
              "3107  economy    petrol        3.58           2015   79993  M-3079970D   \n",
              "1240  economy    petrol        3.96           2015   78511  z67141488o   \n",
              "\n",
              "                model     target_class  year_to_work  target_reg  \n",
              "2359          VW Polo  engine_overheat          2019   41.521005  \n",
              "2039          Kia Rio       gear_stick          2016   21.567456  \n",
              "4020          Kia Rio      another_bug          2018   61.460986  \n",
              "3107          VW Polo      engine_fuel          2020   38.425402  \n",
              "1240  Hyundai Solaris      wheel_shake          2017   23.514044  "
            ],
            "text/html": [
              "\n",
              "\n",
              "  <div id=\"df-39069a75-1c75-414b-936f-125ec1e6e104\">\n",
              "    <div class=\"colab-df-container\">\n",
              "      <div>\n",
              "<style scoped>\n",
              "    .dataframe tbody tr th:only-of-type {\n",
              "        vertical-align: middle;\n",
              "    }\n",
              "\n",
              "    .dataframe tbody tr th {\n",
              "        vertical-align: top;\n",
              "    }\n",
              "\n",
              "    .dataframe thead th {\n",
              "        text-align: right;\n",
              "    }\n",
              "</style>\n",
              "<table border=\"1\" class=\"dataframe\">\n",
              "  <thead>\n",
              "    <tr style=\"text-align: right;\">\n",
              "      <th></th>\n",
              "      <th>car_type</th>\n",
              "      <th>fuel_type</th>\n",
              "      <th>car_rating</th>\n",
              "      <th>year_to_start</th>\n",
              "      <th>riders</th>\n",
              "      <th>car_id</th>\n",
              "      <th>model</th>\n",
              "      <th>target_class</th>\n",
              "      <th>year_to_work</th>\n",
              "      <th>target_reg</th>\n",
              "    </tr>\n",
              "  </thead>\n",
              "  <tbody>\n",
              "    <tr>\n",
              "      <th>2359</th>\n",
              "      <td>economy</td>\n",
              "      <td>petrol</td>\n",
              "      <td>3.10</td>\n",
              "      <td>2014</td>\n",
              "      <td>70488</td>\n",
              "      <td>H11593230U</td>\n",
              "      <td>VW Polo</td>\n",
              "      <td>engine_overheat</td>\n",
              "      <td>2019</td>\n",
              "      <td>41.521005</td>\n",
              "    </tr>\n",
              "    <tr>\n",
              "      <th>2039</th>\n",
              "      <td>economy</td>\n",
              "      <td>petrol</td>\n",
              "      <td>3.94</td>\n",
              "      <td>2013</td>\n",
              "      <td>44331</td>\n",
              "      <td>e-5805562W</td>\n",
              "      <td>Kia Rio</td>\n",
              "      <td>gear_stick</td>\n",
              "      <td>2016</td>\n",
              "      <td>21.567456</td>\n",
              "    </tr>\n",
              "    <tr>\n",
              "      <th>4020</th>\n",
              "      <td>economy</td>\n",
              "      <td>petrol</td>\n",
              "      <td>5.52</td>\n",
              "      <td>2015</td>\n",
              "      <td>71259</td>\n",
              "      <td>R-9466744L</td>\n",
              "      <td>Kia Rio</td>\n",
              "      <td>another_bug</td>\n",
              "      <td>2018</td>\n",
              "      <td>61.460986</td>\n",
              "    </tr>\n",
              "    <tr>\n",
              "      <th>3107</th>\n",
              "      <td>economy</td>\n",
              "      <td>petrol</td>\n",
              "      <td>3.58</td>\n",
              "      <td>2015</td>\n",
              "      <td>79993</td>\n",
              "      <td>M-3079970D</td>\n",
              "      <td>VW Polo</td>\n",
              "      <td>engine_fuel</td>\n",
              "      <td>2020</td>\n",
              "      <td>38.425402</td>\n",
              "    </tr>\n",
              "    <tr>\n",
              "      <th>1240</th>\n",
              "      <td>economy</td>\n",
              "      <td>petrol</td>\n",
              "      <td>3.96</td>\n",
              "      <td>2015</td>\n",
              "      <td>78511</td>\n",
              "      <td>z67141488o</td>\n",
              "      <td>Hyundai Solaris</td>\n",
              "      <td>wheel_shake</td>\n",
              "      <td>2017</td>\n",
              "      <td>23.514044</td>\n",
              "    </tr>\n",
              "  </tbody>\n",
              "</table>\n",
              "</div>\n",
              "      <button class=\"colab-df-convert\" onclick=\"convertToInteractive('df-39069a75-1c75-414b-936f-125ec1e6e104')\"\n",
              "              title=\"Convert this dataframe to an interactive table.\"\n",
              "              style=\"display:none;\">\n",
              "\n",
              "  <svg xmlns=\"http://www.w3.org/2000/svg\" height=\"24px\"viewBox=\"0 0 24 24\"\n",
              "       width=\"24px\">\n",
              "    <path d=\"M0 0h24v24H0V0z\" fill=\"none\"/>\n",
              "    <path d=\"M18.56 5.44l.94 2.06.94-2.06 2.06-.94-2.06-.94-.94-2.06-.94 2.06-2.06.94zm-11 1L8.5 8.5l.94-2.06 2.06-.94-2.06-.94L8.5 2.5l-.94 2.06-2.06.94zm10 10l.94 2.06.94-2.06 2.06-.94-2.06-.94-.94-2.06-.94 2.06-2.06.94z\"/><path d=\"M17.41 7.96l-1.37-1.37c-.4-.4-.92-.59-1.43-.59-.52 0-1.04.2-1.43.59L10.3 9.45l-7.72 7.72c-.78.78-.78 2.05 0 2.83L4 21.41c.39.39.9.59 1.41.59.51 0 1.02-.2 1.41-.59l7.78-7.78 2.81-2.81c.8-.78.8-2.07 0-2.86zM5.41 20L4 18.59l7.72-7.72 1.47 1.35L5.41 20z\"/>\n",
              "  </svg>\n",
              "      </button>\n",
              "\n",
              "\n",
              "\n",
              "    <div id=\"df-9faa7929-ec10-4ea6-b60e-f9a352a7c5cd\">\n",
              "      <button class=\"colab-df-quickchart\" onclick=\"quickchart('df-9faa7929-ec10-4ea6-b60e-f9a352a7c5cd')\"\n",
              "              title=\"Suggest charts.\"\n",
              "              style=\"display:none;\">\n",
              "\n",
              "<svg xmlns=\"http://www.w3.org/2000/svg\" height=\"24px\"viewBox=\"0 0 24 24\"\n",
              "     width=\"24px\">\n",
              "    <g>\n",
              "        <path d=\"M19 3H5c-1.1 0-2 .9-2 2v14c0 1.1.9 2 2 2h14c1.1 0 2-.9 2-2V5c0-1.1-.9-2-2-2zM9 17H7v-7h2v7zm4 0h-2V7h2v10zm4 0h-2v-4h2v4z\"/>\n",
              "    </g>\n",
              "</svg>\n",
              "      </button>\n",
              "    </div>\n",
              "\n",
              "<style>\n",
              "  .colab-df-quickchart {\n",
              "    background-color: #E8F0FE;\n",
              "    border: none;\n",
              "    border-radius: 50%;\n",
              "    cursor: pointer;\n",
              "    display: none;\n",
              "    fill: #1967D2;\n",
              "    height: 32px;\n",
              "    padding: 0 0 0 0;\n",
              "    width: 32px;\n",
              "  }\n",
              "\n",
              "  .colab-df-quickchart:hover {\n",
              "    background-color: #E2EBFA;\n",
              "    box-shadow: 0px 1px 2px rgba(60, 64, 67, 0.3), 0px 1px 3px 1px rgba(60, 64, 67, 0.15);\n",
              "    fill: #174EA6;\n",
              "  }\n",
              "\n",
              "  [theme=dark] .colab-df-quickchart {\n",
              "    background-color: #3B4455;\n",
              "    fill: #D2E3FC;\n",
              "  }\n",
              "\n",
              "  [theme=dark] .colab-df-quickchart:hover {\n",
              "    background-color: #434B5C;\n",
              "    box-shadow: 0px 1px 3px 1px rgba(0, 0, 0, 0.15);\n",
              "    filter: drop-shadow(0px 1px 2px rgba(0, 0, 0, 0.3));\n",
              "    fill: #FFFFFF;\n",
              "  }\n",
              "</style>\n",
              "\n",
              "    <script>\n",
              "      async function quickchart(key) {\n",
              "        const containerElement = document.querySelector('#' + key);\n",
              "        const charts = await google.colab.kernel.invokeFunction(\n",
              "            'suggestCharts', [key], {});\n",
              "      }\n",
              "    </script>\n",
              "\n",
              "      <script>\n",
              "\n",
              "function displayQuickchartButton(domScope) {\n",
              "  let quickchartButtonEl =\n",
              "    domScope.querySelector('#df-9faa7929-ec10-4ea6-b60e-f9a352a7c5cd button.colab-df-quickchart');\n",
              "  quickchartButtonEl.style.display =\n",
              "    google.colab.kernel.accessAllowed ? 'block' : 'none';\n",
              "}\n",
              "\n",
              "        displayQuickchartButton(document);\n",
              "      </script>\n",
              "      <style>\n",
              "    .colab-df-container {\n",
              "      display:flex;\n",
              "      flex-wrap:wrap;\n",
              "      gap: 12px;\n",
              "    }\n",
              "\n",
              "    .colab-df-convert {\n",
              "      background-color: #E8F0FE;\n",
              "      border: none;\n",
              "      border-radius: 50%;\n",
              "      cursor: pointer;\n",
              "      display: none;\n",
              "      fill: #1967D2;\n",
              "      height: 32px;\n",
              "      padding: 0 0 0 0;\n",
              "      width: 32px;\n",
              "    }\n",
              "\n",
              "    .colab-df-convert:hover {\n",
              "      background-color: #E2EBFA;\n",
              "      box-shadow: 0px 1px 2px rgba(60, 64, 67, 0.3), 0px 1px 3px 1px rgba(60, 64, 67, 0.15);\n",
              "      fill: #174EA6;\n",
              "    }\n",
              "\n",
              "    [theme=dark] .colab-df-convert {\n",
              "      background-color: #3B4455;\n",
              "      fill: #D2E3FC;\n",
              "    }\n",
              "\n",
              "    [theme=dark] .colab-df-convert:hover {\n",
              "      background-color: #434B5C;\n",
              "      box-shadow: 0px 1px 3px 1px rgba(0, 0, 0, 0.15);\n",
              "      filter: drop-shadow(0px 1px 2px rgba(0, 0, 0, 0.3));\n",
              "      fill: #FFFFFF;\n",
              "    }\n",
              "  </style>\n",
              "\n",
              "      <script>\n",
              "        const buttonEl =\n",
              "          document.querySelector('#df-39069a75-1c75-414b-936f-125ec1e6e104 button.colab-df-convert');\n",
              "        buttonEl.style.display =\n",
              "          google.colab.kernel.accessAllowed ? 'block' : 'none';\n",
              "\n",
              "        async function convertToInteractive(key) {\n",
              "          const element = document.querySelector('#df-39069a75-1c75-414b-936f-125ec1e6e104');\n",
              "          const dataTable =\n",
              "            await google.colab.kernel.invokeFunction('convertToInteractive',\n",
              "                                                     [key], {});\n",
              "          if (!dataTable) return;\n",
              "\n",
              "          const docLinkHtml = 'Like what you see? Visit the ' +\n",
              "            '<a target=\"_blank\" href=https://colab.research.google.com/notebooks/data_table.ipynb>data table notebook</a>'\n",
              "            + ' to learn more about interactive tables.';\n",
              "          element.innerHTML = '';\n",
              "          dataTable['output_type'] = 'display_data';\n",
              "          await google.colab.output.renderOutput(dataTable, element);\n",
              "          const docLink = document.createElement('div');\n",
              "          docLink.innerHTML = docLinkHtml;\n",
              "          element.appendChild(docLink);\n",
              "        }\n",
              "      </script>\n",
              "    </div>\n",
              "  </div>\n"
            ]
          },
          "metadata": {},
          "execution_count": 37
        }
      ]
    },
    {
      "cell_type": "code",
      "source": [],
      "metadata": {
        "id": "_h4hH_8uEbjF"
      },
      "execution_count": null,
      "outputs": []
    },
    {
      "cell_type": "markdown",
      "source": [
        "Напишите функцию, которая возвращает car_id, если данная строка датафрейма удовлетворяет условию, иначе -1."
      ],
      "metadata": {
        "id": "ctvnFeOlF567"
      }
    },
    {
      "cell_type": "markdown",
      "source": [
        "Условие: Либо year_to_start < 2015 и тип машины business, либо ее рейтинг строго больше 3, и ее модель - это одна из ['Hyundai Solaris', 'Smart ForFour', 'Renault Kaptur', 'Renault Sandero']."
      ],
      "metadata": {
        "id": "i6bpMBJ5GH2g"
      }
    },
    {
      "cell_type": "code",
      "source": [
        "def get_where(df_cars):\n",
        "    # your code here"
      ],
      "metadata": {
        "id": "ZfOlVIz5EbfR"
      },
      "execution_count": null,
      "outputs": []
    },
    {
      "cell_type": "markdown",
      "source": [
        "# Задача на 10-ом шаге урока"
      ],
      "metadata": {
        "id": "tp2kr4xK_Lgu"
      }
    },
    {
      "cell_type": "markdown",
      "source": [
        "**🍢 Векторизация**"
      ],
      "metadata": {
        "id": "WhrgCYgKezLq"
      }
    },
    {
      "cell_type": "markdown",
      "source": [
        "Дана функция"
      ],
      "metadata": {
        "id": "-W3H0_chdd_M"
      }
    },
    {
      "cell_type": "code",
      "source": [
        "def f(x):\n",
        "    if 'Audi' == x['model']:\n",
        "        if x['car_rating'] > 3:\n",
        "            return 0\n",
        "        else:\n",
        "            if x['fuel_type'] == 'petrol':\n",
        "                return 1\n",
        "            return np.nan\n",
        "    elif x['year_to_start'] in [2015, 2016, 2017] or x['car_rating'] > 4:\n",
        "        return round(x['car_rating'] - 4.5, 3) * 10\n",
        "    else:\n",
        "        return 3"
      ],
      "metadata": {
        "id": "82Yty3Q9_G3o"
      },
      "execution_count": 1,
      "outputs": []
    },
    {
      "cell_type": "code",
      "source": [
        "import pandas as pd\n",
        "\n",
        "path = 'https://raw.githubusercontent.com/a-milenkin/Competitive_Data_Science/main/data/car_info.csv'\n",
        "df_cars = pd.read_csv(path)"
      ],
      "metadata": {
        "id": "dsIV7CEPHk0X"
      },
      "execution_count": 5,
      "outputs": []
    },
    {
      "cell_type": "markdown",
      "source": [
        "необходимо объявить векторизованную версию этой функции и запишите ее в переменную vectfunc. Для тестирования используется код:"
      ],
      "metadata": {
        "id": "Tjxg8U9fdwHn"
      }
    },
    {
      "cell_type": "code",
      "source": [
        "preds = vectfunc(df_cars['car_rating'],\n",
        "                 df_cars['model'],\n",
        "                 df_cars['year_to_start'],\n",
        "                 df_cars['fuel_type'])"
      ],
      "metadata": {
        "id": "6btIwR7deKSp"
      },
      "execution_count": 6,
      "outputs": []
    },
    {
      "cell_type": "code",
      "source": [],
      "metadata": {
        "id": "DQbhFZYabM2H"
      },
      "execution_count": null,
      "outputs": []
    },
    {
      "cell_type": "markdown",
      "source": [
        "Решение"
      ],
      "metadata": {
        "id": "GHJ5ompefLNQ"
      }
    },
    {
      "cell_type": "code",
      "source": [
        "import numpy as np\n",
        "\n",
        "vectfunc = #your code"
      ],
      "metadata": {
        "id": "mVsQqiF8bMx6"
      },
      "execution_count": null,
      "outputs": []
    },
    {
      "cell_type": "markdown",
      "source": [
        "# Задача на 11-ом шаге урока"
      ],
      "metadata": {
        "id": "XoxhPMZzHlNU"
      }
    },
    {
      "cell_type": "markdown",
      "source": [
        "**🚦 Mетод np.select()**"
      ],
      "metadata": {
        "id": "7SoeTlige84X"
      }
    },
    {
      "cell_type": "markdown",
      "source": [
        "У вас есть датафрейм df_cars"
      ],
      "metadata": {
        "id": "iL3WPNEZ-V2V"
      }
    },
    {
      "cell_type": "code",
      "source": [
        "import pandas as pd\n",
        "import numpy as np\n",
        "\n",
        "\n",
        "path = 'https://raw.githubusercontent.com/a-milenkin/Competitive_Data_Science/main/data/car_info.csv'\n",
        "df_cars = pd.read_csv(path)"
      ],
      "metadata": {
        "id": "eXeNz954fxeD"
      },
      "execution_count": 4,
      "outputs": []
    },
    {
      "cell_type": "markdown",
      "source": [
        "Напишите conditions, choices и default_value, которые нужно будет использовать в np.select(), чтобы посчитать следующую функцию:"
      ],
      "metadata": {
        "id": "lzBG1Slsp5EH"
      }
    },
    {
      "cell_type": "code",
      "source": [
        "def f(x):\n",
        "    if 'Audi' == x['model']:\n",
        "        if x['car_rating'] > 3:\n",
        "            return 0\n",
        "        else:\n",
        "            if x['fuel_type'] == 'petrol':\n",
        "                return 1\n",
        "            return np.nan\n",
        "    elif x['year_to_start'] in [2015, 2016, 2017] or x['car_rating'] > 4:\n",
        "        return round(x['car_rating'] - 4.5, 3) * 10\n",
        "    else:\n",
        "        return 3"
      ],
      "metadata": {
        "id": "aPAAQYpZHwcE"
      },
      "execution_count": 5,
      "outputs": []
    },
    {
      "cell_type": "markdown",
      "source": [
        "Для проверки будет использоваться следующий код:"
      ],
      "metadata": {
        "id": "835onOT6DBy1"
      }
    },
    {
      "cell_type": "code",
      "source": [
        "preds = np.select(conditions, choices, default=default_value)"
      ],
      "metadata": {
        "id": "2j3w6qDZHwOv"
      },
      "execution_count": 8,
      "outputs": []
    },
    {
      "cell_type": "code",
      "source": [],
      "metadata": {
        "id": "KnQDniIbc14l"
      },
      "execution_count": null,
      "outputs": []
    },
    {
      "cell_type": "markdown",
      "source": [
        "Решение"
      ],
      "metadata": {
        "id": "_EoSBuE8c26a"
      }
    },
    {
      "cell_type": "code",
      "source": [
        "import numpy as np\n",
        "\n",
        "conditions = #your code\n",
        "choices = #your code\n",
        "default_value = #your code"
      ],
      "metadata": {
        "id": "i2KMeIugc11y"
      },
      "execution_count": null,
      "outputs": []
    },
    {
      "cell_type": "code",
      "source": [],
      "metadata": {
        "id": "9i7xP6Zcc1vj"
      },
      "execution_count": null,
      "outputs": []
    }
  ]
}