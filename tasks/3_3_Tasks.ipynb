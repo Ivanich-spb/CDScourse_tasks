{
  "nbformat": 4,
  "nbformat_minor": 0,
  "metadata": {
    "colab": {
      "provenance": []
    },
    "kernelspec": {
      "name": "python3",
      "display_name": "Python 3"
    },
    "language_info": {
      "name": "python"
    }
  },
  "cells": [
    {
      "cell_type": "code",
      "execution_count": null,
      "metadata": {
        "id": "LfGlvEc7Z27O"
      },
      "outputs": [],
      "source": [
        "import numpy as np\n",
        "import pandas as pd\n",
        "import matplotlib.pyplot as plt\n",
        "import seaborn as sns"
      ]
    },
    {
      "cell_type": "code",
      "source": [
        "!pip install shap -q"
      ],
      "metadata": {
        "id": "R_YV318icBz_"
      },
      "execution_count": null,
      "outputs": []
    },
    {
      "cell_type": "code",
      "source": [
        "import shap"
      ],
      "metadata": {
        "id": "yWXcUzMpcFhY"
      },
      "execution_count": null,
      "outputs": []
    },
    {
      "cell_type": "markdown",
      "source": [
        "# Для решения шага 3 в уроке"
      ],
      "metadata": {
        "id": "jbXHpdvcbhE1"
      }
    },
    {
      "cell_type": "code",
      "source": [
        "path = 'https://stepik.org/media/attachments/lesson/779915/fs_task1_10f.csv'\n",
        "df = pd.read_csv(path)"
      ],
      "metadata": {
        "id": "KP8XJxbPbGDe"
      },
      "execution_count": null,
      "outputs": []
    },
    {
      "cell_type": "markdown",
      "source": [
        "# Для решения шага 6 в уроке"
      ],
      "metadata": {
        "id": "5qLatcYzboIQ"
      }
    },
    {
      "cell_type": "code",
      "source": [
        "path = 'https://stepik.org/media/attachments/lesson/779915/fs_task2_22f.csv'\n",
        "df = pd.read_csv(path)"
      ],
      "metadata": {
        "id": "jDVLr3SYbrGz"
      },
      "execution_count": null,
      "outputs": []
    },
    {
      "cell_type": "markdown",
      "source": [
        "# Для решения шага 8 в уроке"
      ],
      "metadata": {
        "id": "yaY0ebIib-OP"
      }
    },
    {
      "cell_type": "code",
      "source": [
        "path = 'https://stepik.org/media/attachments/lesson/779915/fs_task3_310f.csv'\n",
        "df = pd.read_csv(path)"
      ],
      "metadata": {
        "id": "ZHoWoJlob5Al"
      },
      "execution_count": null,
      "outputs": []
    },
    {
      "cell_type": "code",
      "source": [],
      "metadata": {
        "id": "9m0_4GmxcSbI"
      },
      "execution_count": null,
      "outputs": []
    }
  ]
}