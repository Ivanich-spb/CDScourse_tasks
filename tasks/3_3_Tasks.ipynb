{
  "nbformat": 4,
  "nbformat_minor": 0,
  "metadata": {
    "colab": {
      "provenance": [],
      "collapsed_sections": [
        "jbXHpdvcbhE1",
        "5qLatcYzboIQ"
      ]
    },
    "kernelspec": {
      "name": "python3",
      "display_name": "Python 3"
    },
    "language_info": {
      "name": "python"
    }
  },
  "cells": [
    {
      "cell_type": "markdown",
      "source": [
        "# Для решения шага 3 в уроке"
      ],
      "metadata": {
        "id": "jbXHpdvcbhE1"
      }
    },
    {
      "cell_type": "markdown",
      "source": [
        "**🧠 Отранжируй по важности**"
      ],
      "metadata": {
        "id": "f0-BRmJsdkmJ"
      }
    },
    {
      "cell_type": "markdown",
      "source": [
        "Датасет"
      ],
      "metadata": {
        "id": "dDBKaFuPA-H8"
      }
    },
    {
      "cell_type": "code",
      "source": [
        "import pandas as pd\n",
        "path = 'https://stepik.org/media/attachments/lesson/779915/fs_task1_10f.csv'\n",
        "df = pd.read_csv(path)"
      ],
      "metadata": {
        "id": "KP8XJxbPbGDe"
      },
      "execution_count": null,
      "outputs": []
    },
    {
      "cell_type": "markdown",
      "source": [
        "Попробуйте составить свой рейтинг признаков по важности. Будем проверять только первые 5, но в ответе можно указать все 10 значений с номерами (feature_0 соответствует 0).\n",
        "\n"
      ],
      "metadata": {
        "id": "Pr1KPj8L-ckv"
      }
    },
    {
      "cell_type": "markdown",
      "source": [
        "Пример ответа: answer_list = [5, 1, 9, 2, 8] ."
      ],
      "metadata": {
        "id": "N8-5d2ileGHG"
      }
    },
    {
      "cell_type": "markdown",
      "source": [
        "Ответ засчитывается, если в списке оказались все верные признаки. Порядок фичей важен!"
      ],
      "metadata": {
        "id": "GyS68psF-vUL"
      }
    },
    {
      "cell_type": "code",
      "source": [],
      "metadata": {
        "id": "4-f238NgeIJD"
      },
      "execution_count": null,
      "outputs": []
    },
    {
      "cell_type": "markdown",
      "source": [
        "# Для решения шага 6 в уроке"
      ],
      "metadata": {
        "id": "5qLatcYzboIQ"
      }
    },
    {
      "cell_type": "markdown",
      "source": [
        "**🕵️‍♀️ Найди рандомные фичи в датасете***"
      ],
      "metadata": {
        "id": "IKGZB_UseP5F"
      }
    },
    {
      "cell_type": "markdown",
      "source": [
        "Датасет"
      ],
      "metadata": {
        "id": "T8d5VsEnBEG6"
      }
    },
    {
      "cell_type": "code",
      "source": [
        "import pandas as pd\n",
        "path = 'https://stepik.org/media/attachments/lesson/779915/fs_task2_22f.csv'\n",
        "df = pd.read_csv(path)"
      ],
      "metadata": {
        "id": "jDVLr3SYbrGz"
      },
      "execution_count": null,
      "outputs": []
    },
    {
      "cell_type": "markdown",
      "source": [
        "Ваша задача: Провести расследование, используя любые методы из урока, и найти названия рандомных фичей.\n",
        "Например: Если выяснилось, что рандомными являются feature_2 и feature_10, то следует в поле ответа внести их названия в список answer.\n",
        "\n",
        "\n"
      ],
      "metadata": {
        "id": "WtlXE9IBeb_L"
      }
    },
    {
      "cell_type": "markdown",
      "source": [
        "Формат ответа\n"
      ],
      "metadata": {
        "id": "Xrw4V1qb--96"
      }
    },
    {
      "cell_type": "code",
      "source": [
        "answer = ['feature_2', 'feature_10']"
      ],
      "metadata": {
        "id": "JlT7-avFebQ7"
      },
      "execution_count": null,
      "outputs": []
    },
    {
      "cell_type": "markdown",
      "source": [
        "! порядок НЕ важен!"
      ],
      "metadata": {
        "id": "dzrlrN0i_JAn"
      }
    },
    {
      "cell_type": "code",
      "source": [],
      "metadata": {
        "id": "kH1dk0p2_M5X"
      },
      "execution_count": null,
      "outputs": []
    },
    {
      "cell_type": "markdown",
      "source": [
        "# Для решения шага 8 в уроке"
      ],
      "metadata": {
        "id": "yaY0ebIib-OP"
      }
    },
    {
      "cell_type": "markdown",
      "source": [
        "**🤯 Отранжируй признаки, если их ооочень много**"
      ],
      "metadata": {
        "id": "17YHEEmWdfe3"
      }
    },
    {
      "cell_type": "markdown",
      "source": [
        "Датасет"
      ],
      "metadata": {
        "id": "pbgGhzWu_kAG"
      }
    },
    {
      "cell_type": "code",
      "source": [
        "path = 'https://stepik.org/media/attachments/lesson/779915/fs_task3_310f.csv'\n",
        "df = pd.read_csv(path)"
      ],
      "metadata": {
        "id": "ZHoWoJlob5Al"
      },
      "execution_count": null,
      "outputs": []
    },
    {
      "cell_type": "markdown",
      "source": [
        "Попробуй найти заветную десятку. За каждый правильный ответ получишь балл."
      ],
      "metadata": {
        "id": "1CegFVJ2_6y3"
      }
    },
    {
      "cell_type": "markdown",
      "source": [
        "У тебя всего 10 попыток. Пока система проверяет решение, не надо дополнительно нажимать \"Отправить\", т. к. сгорают попытки!!!"
      ],
      "metadata": {
        "id": "S3NnlJGpAN0z"
      }
    },
    {
      "cell_type": "markdown",
      "source": [
        "Формат вывода ответа"
      ],
      "metadata": {
        "id": "gslh9RVOAj0d"
      }
    },
    {
      "cell_type": "code",
      "source": [
        "feature_1\n",
        "feature_2\n",
        "feature_3"
      ],
      "metadata": {
        "id": "zIGIi7k_eu7Q"
      },
      "execution_count": null,
      "outputs": []
    }
  ]
}