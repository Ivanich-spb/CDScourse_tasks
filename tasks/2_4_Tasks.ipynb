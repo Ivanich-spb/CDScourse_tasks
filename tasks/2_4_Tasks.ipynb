{
  "nbformat": 4,
  "nbformat_minor": 0,
  "metadata": {
    "colab": {
      "provenance": []
    },
    "kernelspec": {
      "name": "python3",
      "display_name": "Python 3"
    },
    "language_info": {
      "name": "python"
    }
  },
  "cells": [
    {
      "cell_type": "code",
      "execution_count": 1,
      "metadata": {
        "id": "zVYTzoX_oHHk"
      },
      "outputs": [],
      "source": [
        "import pandas as pd\n",
        "import numpy as np\n",
        "import seaborn as sns"
      ]
    },
    {
      "cell_type": "markdown",
      "source": [
        "# Задача на 6-ом шаге урока"
      ],
      "metadata": {
        "id": "JpX468Q-qfFk"
      }
    },
    {
      "cell_type": "code",
      "source": [
        "path = 'https://stepik.org/media/attachments/lesson/779913/stratified_valid.csv'\n",
        "df = pd.read_csv(path)"
      ],
      "metadata": {
        "id": "wRhNhRStoPEa"
      },
      "execution_count": 2,
      "outputs": []
    },
    {
      "cell_type": "code",
      "source": [],
      "metadata": {
        "id": "C2SIx8bb66PD"
      },
      "execution_count": null,
      "outputs": []
    },
    {
      "cell_type": "code",
      "source": [
        "# Код для подсчета метрики\n",
        "answer.groupby('num_fold', as_index=False)['target_reg'].agg('mean')['target_reg'].std()"
      ],
      "metadata": {
        "id": "iD5nB_WJoz0G"
      },
      "execution_count": null,
      "outputs": []
    },
    {
      "cell_type": "code",
      "source": [
        "# Для того чтобы сверять csv файл с ответом, нажми на ярлык папки в панели инструментов которая слева, далее ПКМ на название файла\n",
        "# Не забудьте index=False при сохранении результата в csv формате\n",
        "answer.to_csv('answer_task1.csv')"
      ],
      "metadata": {
        "id": "M4NGUFGepMc0"
      },
      "execution_count": null,
      "outputs": []
    },
    {
      "cell_type": "code",
      "source": [],
      "metadata": {
        "id": "VFRL275bXjIY"
      },
      "execution_count": null,
      "outputs": []
    },
    {
      "cell_type": "markdown",
      "source": [
        "# Задача на 7-ом шаге урока"
      ],
      "metadata": {
        "id": "LrZm7n4AqoK-"
      }
    },
    {
      "cell_type": "code",
      "source": [
        "# Вспомогательная библиотека для решения\n",
        "# Документация: https://github.com/trent-b/iterative-stratification"
      ],
      "metadata": {
        "id": "xnNt3RiWrsHl"
      },
      "execution_count": null,
      "outputs": []
    },
    {
      "cell_type": "code",
      "source": [
        "!pip install iterative-stratification -q"
      ],
      "metadata": {
        "id": "aKASzpB9rPol"
      },
      "execution_count": 4,
      "outputs": []
    },
    {
      "cell_type": "code",
      "source": [
        "from iterstrat.ml_stratifiers import MultilabelStratifiedKFold"
      ],
      "metadata": {
        "id": "n64Vu9ekrWm4"
      },
      "execution_count": 5,
      "outputs": []
    },
    {
      "cell_type": "code",
      "source": [
        "path = 'https://stepik.org/media/attachments/lesson/779913/multi_label.csv'\n",
        "df = pd.read_csv(path)"
      ],
      "metadata": {
        "id": "pkr3NBwTqwLt"
      },
      "execution_count": 6,
      "outputs": []
    },
    {
      "cell_type": "code",
      "source": [
        "targets = ['Computer Science', 'Physics', 'Mathematics', 'Statistics',\n",
        "           'Quantitative Biology', 'Quantitative Finance', 'Chemistry',\n",
        "           'Astrology', 'Spaceology', 'Life Science', 'Earth Science', 'Data Science']"
      ],
      "metadata": {
        "id": "k-H2QijUq9eT"
      },
      "execution_count": null,
      "outputs": []
    },
    {
      "cell_type": "code",
      "source": [
        "tmp = df.groupby(['kfold'], as_index=False).sum()\n",
        "tmp_melt = tmp.melt(id_vars = 'kfold', value_vars = targets, value_name = 'count', var_name = 'class')\n",
        "print(tmp_melt.groupby(['class'], as_index=False).std()['count'].mean())"
      ],
      "metadata": {
        "id": "xZIobJ7aZvDB"
      },
      "execution_count": null,
      "outputs": []
    },
    {
      "cell_type": "code",
      "source": [
        "# Для того чтобы сверять csv файл с ответом, нажми на ярлык папки в панели инструментов которая слева,\n",
        "# далее ПКМ на название файла\n",
        "# Не забудьте index=False при сохранении результата в csv формате\n",
        "\n",
        "# df.to_csv('answer_task2.csv')"
      ],
      "metadata": {
        "id": "agejbRVJr2vi"
      },
      "execution_count": null,
      "outputs": []
    },
    {
      "cell_type": "code",
      "source": [],
      "metadata": {
        "id": "cwxljgrE8XlQ"
      },
      "execution_count": null,
      "outputs": []
    }
  ]
}