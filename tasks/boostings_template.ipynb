{
  "nbformat": 4,
  "nbformat_minor": 0,
  "metadata": {
    "colab": {
      "provenance": [],
      "toc_visible": true
    },
    "kernelspec": {
      "name": "python3",
      "display_name": "Python 3"
    },
    "language_info": {
      "name": "python"
    }
  },
  "cells": [
    {
      "cell_type": "markdown",
      "source": [
        "# 1️⃣ **Описание шаблона для решения задачи.**\n",
        "\n",
        "**Задача**: обучить несколько бустингов на 3-х фолдах, выбрать лучшие, усреднить предсказания.\n",
        "\n",
        "**Модели, которые будем обучать:**\n",
        "- `CatBoostRegressor`\n",
        "- `LightGBMRegressor (goss)`\n",
        "- `XGBoostRegressor (dart)`\n",
        "\n",
        "\n",
        "✅ Будут выполнены:\n",
        "- все дополнительные условия\n",
        "- возможности фреймворков (загрузка датасетов с помощью соответствующих классов, правильная подготовка категориальных признаков, early_stopping, многопоточность)\n",
        "- подбор гиперпараметров для каждой модели\n",
        "\n",
        "👀 При желании, рекомендуется проделать следующее:\n",
        "- Провести EDA (Exploratory Data Analysis) и сделать выводы на основе графики\n",
        "- Провести Feature Selection\n",
        "- Провести Object Selection\n",
        "- Использовать scheduler или custom callbacks\n",
        "- Обучить дополнительные модели\n",
        "\n",
        "\n",
        "❗️❗️❗️ **P.S.**\n",
        "- Данный ноутбук - далеко не единственное верное решение, воспринимайте его как помощник для вашего собственного решения или чтобы побороть страх белого листа :)\n",
        "\n",
        "- При полном заполнении ноутбука можно получить максимум 9 баллов из 10, так как из дополнительных баллов - только балл за подбор гиперпараметров.\n",
        "\n",
        "- При любых найденных ошибках/опечатках/непонятных моментов в коде, пишите в [чат курса](https://stepik.org/lesson/681941/step/6?unit=680724)"
      ],
      "metadata": {
        "id": "xcAIjkpfJgAT"
      }
    },
    {
      "cell_type": "markdown",
      "source": [
        "# 2️⃣ **Подключение необходимых библиотек и загрузка данных.**"
      ],
      "metadata": {
        "id": "Jd69gcnIKuqq"
      }
    },
    {
      "cell_type": "code",
      "source": [
        "!pip install catboost lightgbm xgboost -q"
      ],
      "metadata": {
        "id": "R8K6kvfHK442"
      },
      "execution_count": null,
      "outputs": []
    },
    {
      "cell_type": "code",
      "source": [
        "import numpy as np\n",
        "import pandas as pd\n",
        "\n",
        "from sklearn.model_selection import KFold, RandomizedSearchCV\n",
        "from sklearn.metrics import mean_squared_error\n",
        "from sklearn.preprocessing import LabelEncoder\n",
        "\n",
        "from catboost import CatBoostRegressor, Pool\n",
        "\n",
        "import lightgbm as lgb\n",
        "from lightgbm import Dataset, LGBMRegressor\n",
        "\n",
        "import xgboost as xgb\n",
        "from xgboost import XGBRegressor\n",
        "\n",
        "import warnings\n",
        "warnings.filterwarnings('ignore')"
      ],
      "metadata": {
        "id": "9-gwHQUZKzQ1"
      },
      "execution_count": null,
      "outputs": []
    },
    {
      "cell_type": "code",
      "source": [
        "train = pd.read_csv('https://raw.githubusercontent.com/a-milenkin/Competitive_Data_Science/main/data/quickstart_train.csv')\n",
        "test = pd.read_csv('https://raw.githubusercontent.com/a-milenkin/Competitive_Data_Science/main/data/quickstart_test.csv')"
      ],
      "metadata": {
        "id": "vPIRk3-kK7CF"
      },
      "execution_count": null,
      "outputs": []
    },
    {
      "cell_type": "code",
      "source": [
        "RANDOM_STATE = ... # Ваше любимое число :)"
      ],
      "metadata": {
        "id": "Tg2-UN6fK-QJ"
      },
      "execution_count": null,
      "outputs": []
    },
    {
      "cell_type": "code",
      "source": [
        "results = [] # Здесь будем хранить информацию по каждой модели"
      ],
      "metadata": {
        "id": "eUiOUxQXLjj2"
      },
      "execution_count": null,
      "outputs": []
    },
    {
      "cell_type": "markdown",
      "source": [
        "# 3️⃣ **Определим вспомогательные функции.**"
      ],
      "metadata": {
        "id": "bcz6wiDEMBHu"
      }
    },
    {
      "cell_type": "code",
      "source": [
        "def train_model(algorithm,\n",
        "                X,\n",
        "                y,\n",
        "                early_stopping_rounds,\n",
        "                init_params=None,\n",
        "                cat_features=None,\n",
        "                random_seed=2023\n",
        "    ):\n",
        "    scores = []\n",
        "    models = []\n",
        "\n",
        "    kf = KFold(n_splits=3, shuffle=True, random_state=random_seed)\n",
        "\n",
        "    print(f\"========= TRAINING {algorithm.__name__} =========\")\n",
        "\n",
        "    for num_fold, (train_index, val_index) in enumerate(kf.split(X)):\n",
        "        X_train, X_eval = # YOUR CODE\n",
        "        y_train, y_eval = # YOUR CODE\n",
        "\n",
        "        if init_params is not None:\n",
        "            model = algorithm(**init_params)\n",
        "        else:\n",
        "            model = algorithm()\n",
        "\n",
        "        if algorithm.__name__ == 'CatBoostRegressor':\n",
        "            # Используйте соответствующий класс\n",
        "            train_dataset = # YOUR CODE\n",
        "            eval_dataset = # YOUR CODE\n",
        "\n",
        "            model.fit(train_dataset,\n",
        "                      eval_set=eval_dataset,\n",
        "                      verbose=0,\n",
        "                      early_stopping_rounds=early_stopping_rounds)\n",
        "\n",
        "        elif algorithm.__name__ == 'LGBMRegressor':\n",
        "            # Используйте соответствующий класс\n",
        "            train_dataset = # YOUR CODE\n",
        "            eval_dataset = # YOUR CODE\n",
        "\n",
        "            model = lgb.train(params=init_params,\n",
        "                              train_set=train_dataset,\n",
        "                              valid_sets=(eval_dataset),\n",
        "                              categorical_feature=cat_features,\n",
        "                              verbose_eval=False)\n",
        "\n",
        "        elif algorithm.__name__ == 'XGBRegressor':\n",
        "            # Используйте соответствующий класс\n",
        "            train_dataset = # YOUR CODE\n",
        "            eval_dataset = # YOUR CODE\n",
        "\n",
        "            model = xgb.train(params=init_params,\n",
        "                              dtrain=train_dataset,\n",
        "                              evals=[(train_dataset, 'dtrain'), (eval_dataset, 'dtest')],\n",
        "                              verbose_eval=False,\n",
        "                              early_stopping_rounds=early_stopping_rounds)\n",
        "\n",
        "            X_eval = eval_dataset\n",
        "\n",
        "        # Сделайте предсказание на X_eval и посчитайте RMSE\n",
        "        y_pred = # YOUR CODE\n",
        "        score = # YOUR CODE\n",
        "\n",
        "        models.append(model)\n",
        "        scores.append(score)\n",
        "\n",
        "        print(f'FOLD {num_fold}: SCORE {score}')\n",
        "\n",
        "    mean_kfold_score = np.mean(scores, dtype=\"float16\") -  np.std(scores, dtype=\"float16\")\n",
        "    print(\"\\nMEAN RMSE SCORE\", mean_kfold_score)\n",
        "\n",
        "    # Выберите модель с наименьшим значением скора\n",
        "    best_model = # YOUR CODE\n",
        "\n",
        "    return mean_kfold_score, best_model"
      ],
      "metadata": {
        "id": "fqAVKKYLMHph"
      },
      "execution_count": null,
      "outputs": []
    },
    {
      "cell_type": "code",
      "source": [
        "def tuning_hyperparams(algorithm,\n",
        "                       X,\n",
        "                       y,\n",
        "                       init_params,\n",
        "                       fit_params,\n",
        "                       grid_params,\n",
        "                       n_iter,\n",
        "                       cv=3,\n",
        "                       random_state=2023,\n",
        "    ):\n",
        "\n",
        "    estimator = algorithm(**init_params)\n",
        "\n",
        "    # Можно использоавть GridSearchCV\n",
        "    model = RandomizedSearchCV(estimator=estimator,\n",
        "                               param_distributions=grid_params,\n",
        "                               n_iter=n_iter,\n",
        "                               cv=cv,\n",
        "                               scoring='neg_root_mean_squared_error',\n",
        "                               n_jobs=-1,\n",
        "                               verbose=0,\n",
        "                               random_state=random_state\n",
        "    )\n",
        "\n",
        "    model.fit(X, y, **fit_params)\n",
        "\n",
        "    return model.best_params_ | init_params"
      ],
      "metadata": {
        "id": "e-MKlTnfM6MA"
      },
      "execution_count": null,
      "outputs": []
    },
    {
      "cell_type": "markdown",
      "source": [
        "# 4️⃣ **Группируем признаки, отбираем категориальные, выделяем датасет для обучения.**"
      ],
      "metadata": {
        "id": "1a6FylJCLU7h"
      }
    },
    {
      "cell_type": "code",
      "source": [
        "cat_features = [...]\n",
        "targets = [...]\n",
        "features2drop = [...]\n",
        "\n",
        "filtered_features = [...]\n",
        "num_features = [...]\n",
        "\n",
        "\n",
        "print(\"cat_features\", cat_features)\n",
        "print(\"num_features\", num_features)\n",
        "print(\"targets\", targets)"
      ],
      "metadata": {
        "id": "onk3dKxWLeA4"
      },
      "execution_count": null,
      "outputs": []
    },
    {
      "cell_type": "code",
      "source": [
        "X = train[filtered_features].drop(targets, axis=1, errors=\"ignore\")\n",
        "y = train[\"target_reg\"]"
      ],
      "metadata": {
        "id": "xQscXB71LyD3"
      },
      "execution_count": null,
      "outputs": []
    },
    {
      "cell_type": "markdown",
      "source": [
        "# 5️⃣ **CatBoostRegressor.**\n",
        "\n"
      ],
      "metadata": {
        "id": "lnhblPO4NLtH"
      }
    },
    {
      "cell_type": "markdown",
      "source": [
        "## **Обучение модели.**"
      ],
      "metadata": {
        "id": "qXCeIM5PNQL8"
      }
    },
    {
      "cell_type": "code",
      "source": [
        "cb_init_params = {\n",
        "    'loss_function': ...,\n",
        "    'eval_metric': ...,\n",
        "    'thread_count': -1,\n",
        "    'task_type': 'CPU',\n",
        "    'random_seed': RANDOM_STATE\n",
        "}\n",
        "\n",
        "cb_score, cb_model = train_model(\n",
        "    algorithm=CatBoostRegressor,\n",
        "    X=X, y=y,\n",
        "    init_params=cb_init_params,\n",
        "    early_stopping_rounds=...,\n",
        "    cat_features=cat_features,\n",
        "    random_seed=RANDOM_STATE\n",
        ")"
      ],
      "metadata": {
        "id": "WScOQ_MONWFp"
      },
      "execution_count": null,
      "outputs": []
    },
    {
      "cell_type": "markdown",
      "source": [
        "Сделаем предсказание для тестовой части и проверим скор на [лидерборде](https://stepik.org/lesson/779920/step/5?unit=782494)"
      ],
      "metadata": {
        "id": "TufsUWJjRJTD"
      }
    },
    {
      "cell_type": "code",
      "source": [
        "cb_test_pred = ... # YOUR CODE\n",
        "\n",
        "pd.DataFrame({'car_id': test['car_id'], 'target_reg': cb_test_pred}).to_csv('cb_pred.csv', index=False)"
      ],
      "metadata": {
        "id": "oZ_LG072RTxN"
      },
      "execution_count": null,
      "outputs": []
    },
    {
      "cell_type": "code",
      "source": [
        "results.append({\n",
        "    'model_name': 'CatBoostRegressor',\n",
        "    'tuning': False,\n",
        "    'kfold_score': cb_score,\n",
        "    'leaderboard_score': ...,\n",
        "    'model': cb_model\n",
        "})"
      ],
      "metadata": {
        "id": "oXIWK645Nt0M"
      },
      "execution_count": null,
      "outputs": []
    },
    {
      "cell_type": "markdown",
      "source": [
        "## **Подбор гиперпараметров и обучение модели с новыми параметрами.**"
      ],
      "metadata": {
        "id": "CcrCheXqRrZU"
      }
    },
    {
      "cell_type": "code",
      "source": [
        "cb_fit_params = {\n",
        "    'cat_features': cat_features,\n",
        "    'verbose': 0,\n",
        "    'early_stopping_rounds': ...\n",
        "}\n",
        "\n",
        "\n",
        "# Параметры, которые будем перебирать\n",
        "cb_grid_params = {\n",
        "    'depth': ...,\n",
        "    'learning_rate': ...,\n",
        "    # YOUR PARAMS\n",
        "}\n",
        "\n",
        "\n",
        "catboost_params_after_tuning = tuning_hyperparams(algorithm=CatBoostRegressor,\n",
        "                                                  X=X, y=y,\n",
        "                                                  init_params=cb_init_params,\n",
        "                                                  fit_params=cb_fit_params,\n",
        "                                                  grid_params=cb_grid_params,\n",
        "                                                  n_iter=...,\n",
        "                                                  cv=...,\n",
        "                                                  random_state=RANDOM_STATE\n",
        ")\n",
        "\n",
        "catboost_params_after_tuning"
      ],
      "metadata": {
        "id": "lq73ekOdN9fw"
      },
      "execution_count": null,
      "outputs": []
    },
    {
      "cell_type": "code",
      "source": [
        "cb_tuning_score, cb_tuning_model = train_model(algorithm=CatBoostRegressor,\n",
        "                                               X=X, y=y,\n",
        "                                               early_stopping_rounds=...,\n",
        "                                               init_params=catboost_params_after_tuning,\n",
        "                                               cat_features=cat_features,\n",
        "                                               random_seed=RANDOM_STATE)"
      ],
      "metadata": {
        "id": "V5IZgFRlR9if"
      },
      "execution_count": null,
      "outputs": []
    },
    {
      "cell_type": "markdown",
      "source": [
        "Сделаем предсказание для тестовой части и проверим скор на [лидерборде](https://stepik.org/lesson/779920/step/5?unit=782494)"
      ],
      "metadata": {
        "id": "I_PNFvpYSH9C"
      }
    },
    {
      "cell_type": "code",
      "source": [
        "tuning_cb_test_pred = # YOUR CODE\n",
        "\n",
        "pd.DataFrame({'car_id': test['car_id'], 'target_reg': tuning_cb_test_pred}).to_csv('tuning_cb_pred.csv', index=False)"
      ],
      "metadata": {
        "id": "94G-JA6cSCYu"
      },
      "execution_count": null,
      "outputs": []
    },
    {
      "cell_type": "code",
      "source": [
        "results.append({\n",
        "    'model_name': 'CatBoostRegressor',\n",
        "    'tuning': True,\n",
        "    'mean_kfold_score': cb_tuning_score,\n",
        "    'leaderboard_score': ...,\n",
        "    'model': cb_tuning_model\n",
        "})"
      ],
      "metadata": {
        "id": "hexgAKeWSA8x"
      },
      "execution_count": null,
      "outputs": []
    },
    {
      "cell_type": "markdown",
      "source": [
        "# 6️⃣ **LightGBMRegressor (goss).**"
      ],
      "metadata": {
        "id": "BwSIh0ElSXe5"
      }
    },
    {
      "cell_type": "markdown",
      "source": [
        "## **Подготовка категориальных признаков.**"
      ],
      "metadata": {
        "id": "CqDuym5uSjd5"
      }
    },
    {
      "cell_type": "markdown",
      "source": [
        "[Ссылка](https://github.com/a-milenkin/Competitive_Data_Science/blob/main/notebooks/4.2%20-%20LightGBM.ipynb), если забыли, как готовить категориальные признаки"
      ],
      "metadata": {
        "id": "u5z9tNMmSxxR"
      }
    },
    {
      "cell_type": "code",
      "source": [
        "X_lgb = X.copy()\n",
        "\n",
        "le = LabelEncoder()\n",
        "\n",
        "### YOUR CODE"
      ],
      "metadata": {
        "id": "vXTavKTrSXF4"
      },
      "execution_count": null,
      "outputs": []
    },
    {
      "cell_type": "markdown",
      "source": [
        "## **Обучение модели.**"
      ],
      "metadata": {
        "id": "W63NYnc7Tejy"
      }
    },
    {
      "cell_type": "code",
      "source": [
        "lgb_init_params = {\n",
        "    'boosting_type': ...,\n",
        "    'n_jobs': -1,\n",
        "    'metric': ...,\n",
        "    'objective': ...,\n",
        "    'random_state': RANDOM_STATE,\n",
        "    'verbosity': -1,\n",
        "    'device': 'cpu',\n",
        "}\n",
        "\n",
        "\n",
        "lgb_score, lgb_model = train_model(\n",
        "    algorithm=LGBMRegressor,\n",
        "    X=X_lgb, y=y,\n",
        "    init_params=lgb_init_params,\n",
        "    early_stopping_rounds=...,\n",
        "    cat_features=cat_features,\n",
        "    random_seed=RANDOM_STATE\n",
        ")"
      ],
      "metadata": {
        "id": "7ozfTucMTdM7"
      },
      "execution_count": null,
      "outputs": []
    },
    {
      "cell_type": "markdown",
      "source": [
        "Сделаем предсказание для тестовой части и проверим скор на [лидерборде](https://stepik.org/lesson/779920/step/5?unit=782494)"
      ],
      "metadata": {
        "id": "ZqEMTMx6Ttbe"
      }
    },
    {
      "cell_type": "code",
      "source": [
        "lgb_test_pred = # YOUR CODE\n",
        "\n",
        "pd.DataFrame({'car_id': test['car_id'], 'target_reg': lgb_test_pred}).to_csv('lgb_pred.csv', index=False)"
      ],
      "metadata": {
        "id": "pf1frOYfUE50"
      },
      "execution_count": null,
      "outputs": []
    },
    {
      "cell_type": "code",
      "source": [
        "results.append({\n",
        "    'model_name': 'LGBMRegressor (goss)',\n",
        "    'tuning': False,\n",
        "    'mean_kfold_score': lgb_score,\n",
        "    'leaderboard_score': ...,\n",
        "    'model': lgb_model\n",
        "})"
      ],
      "metadata": {
        "id": "ZDTHKxXaUK40"
      },
      "execution_count": null,
      "outputs": []
    },
    {
      "cell_type": "markdown",
      "source": [
        "## **Подбор гиперпараметров и обучение модели с новыми параметрами**"
      ],
      "metadata": {
        "id": "LIKGKDkDXZ5K"
      }
    },
    {
      "cell_type": "code",
      "source": [
        "lgb_fit_params = {\n",
        "    'eval_metric': 'rmse',\n",
        "    'categorical_feature': cat_features\n",
        "}\n",
        "\n",
        "\n",
        "lgb_grid_params = {\n",
        "    'max_depth': ...,\n",
        "    'min_data_in_leaf': ...,\n",
        "    # YOUR PARAMS\n",
        "}\n",
        "\n",
        "\n",
        "lgb_params_after_tuning = tuning_hyperparams(algorithm=LGBMRegressor,\n",
        "                                             X=X_lgb, y=y,\n",
        "                                             init_params=lgb_init_params,\n",
        "                                             fit_params=lgb_fit_params,\n",
        "                                             grid_params=lgb_grid_params,\n",
        "                                             n_iter=...,\n",
        "                                             cv=...,\n",
        "                                             random_state=RANDOM_STATE\n",
        ")\n",
        "\n",
        "lgb_params_after_tuning"
      ],
      "metadata": {
        "id": "j0I5mwCdXYcv"
      },
      "execution_count": null,
      "outputs": []
    },
    {
      "cell_type": "code",
      "source": [
        "lgb_tuning_score, lgb_tuning_model = train_model(\n",
        "    algorithm=LGBMRegressor,\n",
        "    X=X_lgb, y=y,\n",
        "    init_params=lgb_params_after_tuning,\n",
        "    early_stopping_rounds=...,\n",
        "    cat_features=cat_features,\n",
        "    random_seed=RANDOM_STATE\n",
        ")"
      ],
      "metadata": {
        "id": "jne4XIAiXvaw"
      },
      "execution_count": null,
      "outputs": []
    },
    {
      "cell_type": "markdown",
      "source": [
        "Сделаем предсказание для тестовой части и проверим скор на [лидерборде](https://stepik.org/lesson/779920/step/5?unit=782494)"
      ],
      "metadata": {
        "id": "iB1gg4joX3IO"
      }
    },
    {
      "cell_type": "code",
      "source": [
        "results.append({\n",
        "    'model_name': 'LGBMRegressor (goss)',\n",
        "    'tuning': True,\n",
        "    'mean_kfold_score': lgb_tuning_score,\n",
        "    'leaderboard_score': ...,\n",
        "    'model': lgb_tuning_model\n",
        "})"
      ],
      "metadata": {
        "id": "djILQED2X2DW"
      },
      "execution_count": null,
      "outputs": []
    },
    {
      "cell_type": "markdown",
      "source": [
        "# 7️⃣ **XGBoostRegressor (dart).**"
      ],
      "metadata": {
        "id": "WnqbWGbiYGBd"
      }
    },
    {
      "cell_type": "markdown",
      "source": [
        "## **Подготовка категориальных признаков.**"
      ],
      "metadata": {
        "id": "oRBiMOpIYTli"
      }
    },
    {
      "cell_type": "markdown",
      "source": [
        "[Ссылка](https://github.com/a-milenkin/Competitive_Data_Science/blob/main/notebooks/4.3%20-%20XGBoost.ipynb), если забыли, как готовить категориальные признаки"
      ],
      "metadata": {
        "id": "P3MWWfnhYYTH"
      }
    },
    {
      "cell_type": "code",
      "source": [
        "X_xgb = X.copy()\n",
        "\n",
        "# YOUR CODE"
      ],
      "metadata": {
        "id": "yeqBQJt6YFYk"
      },
      "execution_count": null,
      "outputs": []
    },
    {
      "cell_type": "markdown",
      "source": [
        "## **Обучение модели.**"
      ],
      "metadata": {
        "id": "q1Xp96DnYjsm"
      }
    },
    {
      "cell_type": "code",
      "source": [
        "xgb_init_params = {\n",
        "    'enable_categorical': True,\n",
        "    'booster': ...,\n",
        "    'objective': 'reg:squarederror',\n",
        "    'eval_metric': 'rmse',\n",
        "    'random_state': RANDOM_STATE,\n",
        "    'n_jobs': -1,\n",
        "    'verbosity': 0,\n",
        "\n",
        "    # параметры, которые обязательно объявить, чтобы модель работала в режиме dart\n",
        "    ...: ...,\n",
        "    ...: ...,\n",
        "}\n",
        "\n",
        "\n",
        "xgb_score, xgb_model = train_model(\n",
        "    algorithm=XGBRegressor,\n",
        "    X=X_xgb, y=y,\n",
        "    init_params=xgb_init_params,\n",
        "    early_stopping_rounds=...,\n",
        "    cat_features=cat_features,\n",
        "    random_seed=RANDOM_STATE\n",
        ")"
      ],
      "metadata": {
        "id": "Pj6BTBUTYiG6"
      },
      "execution_count": null,
      "outputs": []
    },
    {
      "cell_type": "markdown",
      "source": [
        "Сделаем предсказание для тестовой части и проверим скор на [лидерборде](https://stepik.org/lesson/779920/step/5?unit=782494)"
      ],
      "metadata": {
        "id": "tyOQEpXNZHEL"
      }
    },
    {
      "cell_type": "code",
      "source": [
        "xgb_test_pred = ... # YOUR CODE\n",
        "\n",
        "pd.DataFrame({'car_id': test['car_id'], 'target_reg': xgb_test_pred}).to_csv('xgb_pred.csv', index=False)"
      ],
      "metadata": {
        "id": "gZ8FrkifZWsX"
      },
      "execution_count": null,
      "outputs": []
    },
    {
      "cell_type": "code",
      "source": [
        "results.append({\n",
        "    'model_name': 'XGBRegressor (dart)',\n",
        "    'tuning': False,\n",
        "    'mean_kfold_score': xgb_score,\n",
        "    'leaderboard_score': ...,\n",
        "    'model': xgb_model\n",
        "})"
      ],
      "metadata": {
        "id": "9X7ogmfDZKss"
      },
      "execution_count": null,
      "outputs": []
    },
    {
      "cell_type": "markdown",
      "source": [
        "## **Подбор гиперпараметров и обучение модели с новыми параметрами**"
      ],
      "metadata": {
        "id": "dWRwaqjmZ1U5"
      }
    },
    {
      "cell_type": "code",
      "source": [
        "xgb_grid_params = {\n",
        "    'max_depth': ...,\n",
        "    'max_leaves': ...,\n",
        "    # YOUR PARAMS\n",
        "}\n",
        "\n",
        "\n",
        "xgb_fit_params = {\n",
        "    'verbose': False\n",
        "}\n",
        "\n",
        "\n",
        "xgb_params_after_tuning = tuning_hyperparams(algorithm=XGBRegressor,\n",
        "                                             X=X_xgb, y=y,\n",
        "                                             init_params=xgb_init_params,\n",
        "                                             fit_params=xgb_fit_params,\n",
        "                                             grid_params=xgb_grid_params,\n",
        "                                             n_iter=...,\n",
        "                                             cv=...,\n",
        "                                             random_state=RANDOM_STATE\n",
        ")\n",
        "\n",
        "xgb_params_after_tuning"
      ],
      "metadata": {
        "id": "7iVV9rKkZwNV"
      },
      "execution_count": null,
      "outputs": []
    },
    {
      "cell_type": "code",
      "source": [
        "xgb_tuning_score, xgb_tuning_model = train_model(\n",
        "    algorithm=XGBRegressor,\n",
        "    X=X_xgb, y=y,\n",
        "    init_params=xgb_params_after_tuning,\n",
        "    early_stopping_rounds=...,\n",
        "    cat_features=cat_features,\n",
        "    random_seed=RANDOM_STATE\n",
        ")"
      ],
      "metadata": {
        "id": "b-L4idkFaJzV"
      },
      "execution_count": null,
      "outputs": []
    },
    {
      "cell_type": "code",
      "source": [
        "tuning_xgb_test_pred = ... # YOUR CODE\n",
        "\n",
        "pd.DataFrame({'car_id': test['car_id'], 'target_reg': tuning_xgb_test_pred}).to_csv('tuning_xgb_pred.csv', index=False)"
      ],
      "metadata": {
        "id": "EsFq9Hx4aMcl"
      },
      "execution_count": null,
      "outputs": []
    },
    {
      "cell_type": "code",
      "source": [
        "results.append({\n",
        "    'model_name': 'XGBRegressor (dart)',\n",
        "    'tuning': True,\n",
        "    'mean_kfold_score': xgb_tuning_score,\n",
        "    'leaderboard_score': ...,\n",
        "    'model': xgb_tuning_model\n",
        "})"
      ],
      "metadata": {
        "id": "4nkbPZIkab9I"
      },
      "execution_count": null,
      "outputs": []
    },
    {
      "cell_type": "markdown",
      "source": [
        "# 8️⃣ **Финальное предсказание и сохранение лучших моделей**"
      ],
      "metadata": {
        "id": "YwiwIYz6fAjl"
      }
    },
    {
      "cell_type": "code",
      "source": [
        "best_cb_model = # YOUR CODE\n",
        "best_cb_model.save_model('best_cb_model.cbm')\n",
        "\n",
        "best_lgb_model = # YOUR CODE\n",
        "best_lgb_model.save_model('best_lgb_model.mod')\n",
        "\n",
        "\n",
        "best_xgb_model = # YOUR CODE\n",
        "best_xgb_model.save_model('best_xgb_model.json')"
      ],
      "metadata": {
        "id": "QuuVUeQhfiix"
      },
      "execution_count": null,
      "outputs": []
    },
    {
      "cell_type": "code",
      "source": [
        "final_cb_pred = # YOUR CODE\n",
        "final_lgb_pred = # YOUR CODE\n",
        "final_xgb_pred = # YOUR CODE\n",
        "\n",
        "final_pred = # YOUR CODE\n",
        "\n",
        "pd.DataFrame({'car_id': test['car_id'], 'target_reg': final_pred}).to_csv('final_submission.csv', index=False)"
      ],
      "metadata": {
        "id": "5DFuWvp8gPVg"
      },
      "execution_count": null,
      "outputs": []
    },
    {
      "cell_type": "markdown",
      "source": [
        "# 9️⃣ **Выводы.**\n"
      ],
      "metadata": {
        "id": "rlLtFrs1cOh5"
      }
    },
    {
      "cell_type": "code",
      "source": [
        "results = pd.DataFrame(results)\n",
        "results"
      ],
      "metadata": {
        "id": "VuZtBfxCfh5U"
      },
      "execution_count": null,
      "outputs": []
    },
    {
      "cell_type": "markdown",
      "source": [
        "Примеры вопросов, на которые можно ответить при формулировании вывода:\n",
        "\n",
        "- Какая модель показала лучшее качество на валидации/лидерборде?\n",
        "- Помог ли тюнинг гиперпараметров?\n",
        "- Помог ли Feature Selection?\n",
        "- Помог ли Object Selection?\n",
        "- Что поняли благодаря построенным графикам?\n",
        "- Улучшилось ли качество на лидерборде после усреднения прогнозов моделей?\n",
        "- ...\n",
        "\n"
      ],
      "metadata": {
        "id": "CIs-RqwtcXRn"
      }
    }
  ]
}