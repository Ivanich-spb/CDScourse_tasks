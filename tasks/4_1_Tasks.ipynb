{
  "nbformat": 4,
  "nbformat_minor": 0,
  "metadata": {
    "colab": {
      "provenance": [],
      "collapsed_sections": [
        "tQFfZ4nx_fMo",
        "MzSsFM41G7bl"
      ]
    },
    "kernelspec": {
      "name": "python3",
      "display_name": "Python 3"
    },
    "language_info": {
      "name": "python"
    }
  },
  "cells": [
    {
      "cell_type": "markdown",
      "source": [
        "# Задача на 10-ом шаге урока"
      ],
      "metadata": {
        "id": "tQFfZ4nx_fMo"
      }
    },
    {
      "cell_type": "markdown",
      "source": [
        "**Напишите custom-метрику для CatBoost**"
      ],
      "metadata": {
        "id": "jtkRRz1J4HNB"
      }
    },
    {
      "cell_type": "markdown",
      "source": [
        "Датасет с бинарным таргетом для тестов."
      ],
      "metadata": {
        "id": "A2yuSblI5aoB"
      }
    },
    {
      "cell_type": "code",
      "source": [
        "path = 'https://stepik.org/media/attachments/lesson/779917/CB_bin_target_data.csv'"
      ],
      "metadata": {
        "id": "WtfFeSUHx1HS"
      },
      "execution_count": null,
      "outputs": []
    },
    {
      "cell_type": "markdown",
      "source": [
        "Фрагмент кода, который должен выполняться без ошибок на тестовом датасете"
      ],
      "metadata": {
        "id": "s46727bf53yc"
      }
    },
    {
      "cell_type": "code",
      "source": [
        "import pandas as pd\n",
        "from catboost import CatBoostClassifier\n",
        "from sklearn.model_selection import train_test_split\n",
        "\n",
        "rides_info = pd.read_csv(path)\n",
        "cat_cols = ['car_type', 'fuel_type', 'model']\n",
        "X = rides_info.drop(['target_bin'], axis=1)\n",
        "y = rides_info['target_bin']\n",
        "\n",
        "X_train, X_test, y_train, y_test = train_test_split(X, y, test_size=0.2, random_state=42)\n",
        "\n",
        "model = CatBoostClassifier(random_state=42,\n",
        "                           cat_features=cat_cols,\n",
        "                           eval_metric=P4Metric())\n",
        "\n",
        "model.fit(X_train, y_train,\n",
        "          eval_set=(X_test, y_test),\n",
        "          verbose=50, plot=False,\n",
        "          early_stopping_rounds=100)"
      ],
      "metadata": {
        "id": "GoW2Wdrd557G"
      },
      "execution_count": null,
      "outputs": []
    },
    {
      "cell_type": "markdown",
      "source": [
        "Решение"
      ],
      "metadata": {
        "id": "GCm9aPno6Pqh"
      }
    },
    {
      "cell_type": "code",
      "execution_count": null,
      "metadata": {
        "id": "SJ48wmwEtd82"
      },
      "outputs": [],
      "source": [
        "class P4Metric(object):\n",
        "    def get_final_error(self, error, weight):\n",
        "        return error / (weight + 1e-38)\n",
        "\n",
        "    def is_max_optimal(self):\n",
        "        return ####\n",
        "\n",
        "    def evaluate(self, approxes, target, weight):\n",
        "        assert len(approxes) == 1\n",
        "        assert len(target) == len(approxes[0])\n",
        "\n",
        "         # YOUR CODE HERE ..."
      ]
    },
    {
      "cell_type": "code",
      "source": [],
      "metadata": {
        "id": "Mhwbu91nthzl"
      },
      "execution_count": null,
      "outputs": []
    },
    {
      "cell_type": "markdown",
      "source": [
        "# Задача на 11-ом шаге урока"
      ],
      "metadata": {
        "id": "MzSsFM41G7bl"
      }
    },
    {
      "cell_type": "markdown",
      "source": [
        "**🤿 По следам custom-метрики!**"
      ],
      "metadata": {
        "id": "qH7JcNcq6dCU"
      }
    },
    {
      "cell_type": "markdown",
      "source": [
        "Заполните пропуски (****), чтобы ускорить вычисления функции:"
      ],
      "metadata": {
        "id": "uyd6NAcc6z21"
      }
    },
    {
      "cell_type": "code",
      "source": [
        "from **** import ****\n",
        "\n",
        "****\n",
        "def custom_func():\n",
        "    pass"
      ],
      "metadata": {
        "id": "YZc2bwsCUOnr"
      },
      "execution_count": null,
      "outputs": []
    }
  ]
}