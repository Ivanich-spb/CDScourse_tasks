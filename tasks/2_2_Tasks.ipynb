{
 "cells": [
  {
   "cell_type": "markdown",
   "metadata": {
    "id": "K3F02BN6QWap"
   },
   "source": [
    "# Ноутбук для решения задач урока 2.2 - Pandas забудь про циклы!"
   ]
  },
  {
   "cell_type": "code",
   "execution_count": null,
   "metadata": {
    "id": "kzNoQQ4Xz2Jd"
   },
   "outputs": [],
   "source": [
    "import pandas as pd"
   ]
  },
  {
   "cell_type": "markdown",
   "metadata": {
    "id": "-bPlFIUTRMiH"
   },
   "source": [
    "## Степы 4️⃣ и 7️⃣"
   ]
  },
  {
   "cell_type": "code",
   "execution_count": null,
   "metadata": {
    "id": "nZJbCtBf8SK4"
   },
   "outputs": [],
   "source": [
    "# для тестирования шагов 4,7\n",
    "path = 'https://raw.githubusercontent.com/a-milenkin/Competitive_Data_Science/main/data/driver_info.csv'\n",
    "driver_info = pd.read_csv(path)"
   ]
  },
  {
   "cell_type": "code",
   "execution_count": null,
   "metadata": {
    "id": "amRR61vXRJn1"
   },
   "outputs": [],
   "source": [
    "# YOUR CODE HERE"
   ]
  },
  {
   "cell_type": "markdown",
   "metadata": {
    "id": "Tu5iN6ptRfPk"
   },
   "source": [
    "## Степ 6️⃣: 🧠Сложная фильтрация\n",
    "\n",
    "Задача:\n",
    "- Соединить две таблицы вместе.\n",
    "- Оставить только строки, где `rating` > 4 и `stop_times` равен 2, 3 или 5.\n",
    "- В получившемся датафрейме оставить только те строки, где `car_id` не входит в список `car_black_list` и `user_id` входит в список `user_white_list`.\n",
    "- Оставить только строки, где `index` чётное число (датафрейм проиндексирован целыми числами).\n",
    "- Итоговый объект `pd.DataFrame()` поместить в переменную `result`."
   ]
  },
  {
   "cell_type": "code",
   "execution_count": null,
   "metadata": {
    "colab": {
     "base_uri": "https://localhost:8080/",
     "height": 206
    },
    "id": "kVFUsK6kz6za",
    "outputId": "b26bb729-58d2-4111-db56-1bec84f2d7e8"
   },
   "outputs": [],
   "source": [
    "df1 = pd.read_csv('https://stepik.org/media/attachments/lesson/681964/2.2.6_df1.csv', index_col=0)\n",
    "df2 = pd.read_csv('https://stepik.org/media/attachments/lesson/681964/2.2.6_df2.csv', index_col=0)\n",
    "\n",
    "# Учтите, что user_white_list и car_black_list в тестовой системе будут иметь другую длину и другие значения\n",
    "user_white_list = ['g10995906g', 'H90312511Q', 'C27138482L', 'H22518078t', 'n17438464n', 'F10525768e', 's15596151o', 'i18954748S', 'E84048392U', 'E69893354s']\n",
    "car_black_list = ['l-4285389z', 'n79502261g', 'N-1839822D']"
   ]
  },
  {
   "cell_type": "code",
   "execution_count": null,
   "metadata": {},
   "outputs": [],
   "source": [
    "# YOUR CODE HERE"
   ]
  },
  {
   "cell_type": "code",
   "execution_count": null,
   "metadata": {},
   "outputs": [],
   "source": [
    "# В ans содержится правильный ответ. Перед отправкой своего решения, сравнитесь с ним.\n",
    "ans = pd.read_csv('https://stepik.org/media/attachments/lesson/681964/2_2_6_ans.csv', index_col=0)"
   ]
  },
  {
   "cell_type": "markdown",
   "metadata": {
    "id": "BXolCrJDRnCG"
   },
   "source": [
    "## Степ 8️⃣: 🧠 Изменение и фильтрация `DataFrame` в Pandas\n",
    "Задача:\n",
    "\n",
    "- Создайте столбец `tripple_accident` из столбца `user_time_accident`,  умноженного на 3.\n",
    "- Создайте столбец `rides_on_rating` делением столбца `user_rides` на `user_rating`.\n",
    "- Оставьте только те строки, у которых `user_time_accident` больше 25 (используем фильтрацию).\n",
    "- Оставьте только те строки, у которых `age` выше среднего значения по полученной таблице в предыдущем пункте."
   ]
  },
  {
   "cell_type": "code",
   "execution_count": null,
   "metadata": {
    "colab": {
     "base_uri": "https://localhost:8080/",
     "height": 206
    },
    "id": "pEX_xfsx7IDY",
    "outputId": "173cc8dd-d86d-4a37-cf56-6eb8bb0499a2"
   },
   "outputs": [],
   "source": [
    "df = pd.read_csv('https://stepik.org/media/attachments/lesson/681964/2_2_8.csv')"
   ]
  },
  {
   "cell_type": "code",
   "execution_count": null,
   "metadata": {
    "id": "twzJ7Nv1Rvty"
   },
   "outputs": [],
   "source": [
    "# YOUR CODE HERE"
   ]
  },
  {
   "cell_type": "code",
   "execution_count": null,
   "metadata": {},
   "outputs": [],
   "source": [
    "# В ans содержится правильный ответ. Перед отправкой своего решения, сравнитесь с ним.\n",
    "ans = pd.read_csv('https://stepik.org/media/attachments/lesson/681964/2_2_8_ans.csv', index_col=0)"
   ]
  },
  {
   "cell_type": "markdown",
   "metadata": {
    "id": "Ftx1AobpR1cw"
   },
   "source": [
    "## Степ 🔟: 🧠 Задача на работу с индексами и столбцами\n",
    "Задача:\n",
    "\n",
    "- Добавьте новую строку (с индексом `new_index:(int / str)` и значениями `new_data: list`).\n",
    "- Удалите строки с индексами из списка `del_index_list: list`.\n",
    "- Увеличьте значение `destroy_degree` на 1 в строке с индексом равным `index`. Переменная `index` содержит индекс строки ИЛИ число (индекс).\n",
    "- Удалите столбец `fix_date`, т.к. не стоит сейчас думать о времени.\n",
    "- Создайте новый столбец `efficient`, который равен `destroy_degree` деленный на `work_duration`.\n",
    "- Возведите столбец `work_duration` в квадрат.\n",
    "- Переименуйте столбец `work_duration` в `work_duration_square`.\n",
    "- Удалите дубликаты по столбцу `car_id`."
   ]
  },
  {
   "cell_type": "code",
   "execution_count": null,
   "metadata": {
    "id": "Z9ilWKE58PQn"
   },
   "outputs": [],
   "source": [
    "df = pd.read_csv('https://stepik.org/media/attachments/lesson/681964/2_2_10.csv')\n",
    "\n",
    "# Учтите, что new_index, new_data, del_index_list, index в тестовой системе будут иметь другие значения\n",
    "new_index = 50\n",
    "new_data = ['new_car_id', 'new_worker_id', '2019-11-11 4:44','refuel_check', 3.5, 10]\n",
    "del_index_list = [41, 18, 33, 7, 46]\n",
    "index = 22"
   ]
  },
  {
   "cell_type": "code",
   "execution_count": null,
   "metadata": {
    "id": "0rL5d9W3SAcp"
   },
   "outputs": [],
   "source": [
    "# YOUR CODE HERE"
   ]
  },
  {
   "cell_type": "code",
   "execution_count": null,
   "metadata": {},
   "outputs": [],
   "source": [
    "# В ans содержится правильный ответ. Перед отправкой своего решения, сравнитесь с ним.\n",
    "ans = pd.read_csv('https://stepik.org/media/attachments/lesson/681964/2_2_10_ans.csv')"
   ]
  },
  {
   "cell_type": "markdown",
   "metadata": {
    "id": "pMPOZb22SBd0"
   },
   "source": [
    "## Степ 1️⃣1️⃣: 🧠 Сортировка и фильтрация\n",
    "Задача:\n",
    "\n",
    "- Отсортируйте строки сначала по убывания 1-го столбца из списка `sort_by_list`, затем по возрастанию 2-го столбца из списка.\n",
    "- Удалите столбцы из списка `cols2drop` с учетом того, что некоторых столбцов может не быть в df.\n",
    "- Сделайте порядок столбцов в `df` в соответствии с переменной `columns_order_list: List[str]`.\n",
    "- Удалите строки, в которых `car_rating` < `critical_car_rating`.\n",
    "- Удалите строки, где число поездок `riders` больше `10_000`, или тип машины `car_type` относится либо к `standart`, либо `economy`."
   ]
  },
  {
   "cell_type": "code",
   "execution_count": 8,
   "metadata": {
    "ExecuteTime": {
     "end_time": "2023-08-17T09:25:29.384891122Z",
     "start_time": "2023-08-17T09:25:28.926638694Z"
    },
    "colab": {
     "base_uri": "https://localhost:8080/",
     "height": 206
    },
    "id": "9yRlbfRjCIOp",
    "outputId": "f30733fc-3044-45ff-830f-ffbfdd323f31"
   },
   "outputs": [],
   "source": [
    "df = pd.read_csv('https://stepik.org/media/attachments/lesson/681964/2.2.11.csv')\n",
    "\n",
    "# Учтите, что sort_by_list, cols2drop, columns_order_list в тестовой системе будут иметь другие значения.\n",
    "sort_by_list = ['car_rating', 'riders']\n",
    "cols2drop = ['random_name_1', 'target_reg', 'target_class', 'random_name_2']\n",
    "columns_order_list = ['model', 'car_type', 'car_id', 'car_rating', 'year_to_start', 'year_to_work', 'riders', 'fuel_type']\n",
    "critical_car_rating = 2"
   ]
  },
  {
   "cell_type": "code",
   "execution_count": null,
   "metadata": {
    "id": "jzLQRnA2SMpV"
   },
   "outputs": [],
   "source": [
    "# YOUR CODE HERE"
   ]
  },
  {
   "cell_type": "code",
   "execution_count": 7,
   "metadata": {
    "ExecuteTime": {
     "end_time": "2023-08-17T09:25:27.132226695Z",
     "start_time": "2023-08-17T09:25:26.816815165Z"
    }
   },
   "outputs": [],
   "source": [
    "# В ans содержится правильный ответ. Перед отправкой своего решения, сравнитесь с ним.\n",
    "ans = pd.read_csv('https://stepik.org/media/attachments/lesson/681964/2_2_11_ans.csv', index_col=0)"
   ]
  },
  {
   "cell_type": "markdown",
   "metadata": {
    "id": "AQ7fDyijSFXk"
   },
   "source": [
    "## Степ 1️⃣2️⃣: 🧠 Задача на функции\n",
    "Задача\n",
    "- Запишите в переменную `mean_rating` среднее по столбцу `car_rating`.\n",
    "- Увеличьте на один все значения в столбцах `car_rating` и `year_to_work`.\n",
    "- Отфильтруйте любым из удобных способов машины с рейтингом выше среднего от столбца `car_rating` (используйте переменную `mean_rating`).\n",
    "- Преобразуйте столбец `year_to_work` следующим образом: если значение меньше `2017`, то прибавьте `2`, иначе разделите значение нацело на `5`.\n",
    "- Переименуйте столбец `year_to_start` в `new_year_to_start` и удалите столбец `fuel_type`.\n",
    "- Ко всем значениям из столбца `car_type` добавьте приставку `super_` (`standart` -> `super_standart`).\n",
    "- Решение запишите в переменную `result`."
   ]
  },
  {
   "cell_type": "code",
   "execution_count": 9,
   "metadata": {
    "ExecuteTime": {
     "end_time": "2023-08-17T09:26:25.274699514Z",
     "start_time": "2023-08-17T09:26:24.897526121Z"
    },
    "colab": {
     "base_uri": "https://localhost:8080/",
     "height": 269
    },
    "id": "0RHgZYe9E_mL",
    "outputId": "8a8778c7-6e4c-4e49-e708-c565495319b7"
   },
   "outputs": [],
   "source": [
    "df = pd.read_csv('https://stepik.org/media/attachments/lesson/681964/2_2_12.csv')"
   ]
  },
  {
   "cell_type": "code",
   "execution_count": null,
   "metadata": {
    "id": "OGVgRii3I3Dg"
   },
   "outputs": [],
   "source": [
    "# YOUR CODE HERE"
   ]
  },
  {
   "cell_type": "code",
   "execution_count": 10,
   "metadata": {
    "ExecuteTime": {
     "end_time": "2023-08-17T09:26:26.725456842Z",
     "start_time": "2023-08-17T09:26:26.359602016Z"
    }
   },
   "outputs": [],
   "source": [
    "# В ans содержится правильный ответ. Перед отправкой своего решения, сравнитесь с ним.\n",
    "ans = pd.read_csv('https://stepik.org/media/attachments/lesson/681964/2_2_12_ans.csv')"
   ]
  },
  {
   "cell_type": "markdown",
   "metadata": {},
   "source": [
    "## Степ 1️⃣3️⃣: 🧠 Работа с функциями\n",
    "Задача\n",
    "- Добавьте столбец `flag`, который равен `'good_line'`, если `rating > 5` and `speed_max < 100`. `'bad_line'`, если  `rating > 5` and `speed_max > 100`. `'undefined'` в остальных случаях.\n",
    "- Добавьте столбец `speed_check`, который принимает значения `'avg_more'`, если `distance/ride_duration > speed_avg`, иначе `'avg_less'`.\n",
    "- Удалите столбцы из списка `cols2drop`.\n",
    "- Удалите строки, в которых `car_id` имеет пустые значения (только NA удаляем).\n",
    "- Результат запишите в переменную `result`."
   ]
  },
  {
   "cell_type": "code",
   "execution_count": 11,
   "metadata": {
    "ExecuteTime": {
     "end_time": "2023-08-17T09:26:55.130669620Z",
     "start_time": "2023-08-17T09:26:54.623471087Z"
    }
   },
   "outputs": [],
   "source": [
    "df = pd.read_csv('https://stepik.org/media/attachments/lesson/681964/2_2_13.csv')\n",
    "\n",
    "# Учтите, что cols2drop в тестовой системе будет иметь другие значения.\n",
    "cols2drop = ['ride_cost', 'stop_times', 'user_ride_quality']"
   ]
  },
  {
   "cell_type": "code",
   "execution_count": null,
   "metadata": {},
   "outputs": [],
   "source": [
    "# YOUR CODE HERE"
   ]
  },
  {
   "cell_type": "code",
   "execution_count": 12,
   "metadata": {
    "ExecuteTime": {
     "end_time": "2023-08-17T09:26:56.414141075Z",
     "start_time": "2023-08-17T09:26:56.105423314Z"
    }
   },
   "outputs": [],
   "source": [
    "# В ans содержится правильный ответ. Перед отправкой своего решения, сравнитесь с ним.\n",
    "ans = pd.read_csv('https://stepik.org/media/attachments/lesson/681964/2_2_13_ans.csv', index_col=0)"
   ]
  },
  {
   "cell_type": "markdown",
   "metadata": {},
   "source": [
    "## Степ 1️⃣4️⃣: 🧠 Заполнение и редактирование таблиц\n",
    "Задача\n",
    "- Посчитайте количество пропусков в каждой строке и запишите это в новый столбец `nans_num`.\n",
    "- Удалите строки, где количество пропусков больше `2`.\n",
    "- Удалите строки, где `age` имеет пропущенные значения.\n",
    "- Заполните пропущенные значения в столбце `user_time_accident` медианным значением.\n",
    "- Оставьте только столбцы `age`, `user_rides`, `user_time_accident`.\n",
    "- Решение запишите в переменную `result`."
   ]
  },
  {
   "cell_type": "code",
   "execution_count": null,
   "metadata": {},
   "outputs": [],
   "source": [
    "df = pd.read_csv('https://stepik.org/media/attachments/lesson/681964/2_2_14.csv')"
   ]
  },
  {
   "cell_type": "code",
   "execution_count": null,
   "metadata": {},
   "outputs": [],
   "source": [
    "# В ans содержится правильный ответ. Перед отправкой своего решения, сравнитесь с ним.\n",
    "ans = pd.read_csv('https://stepik.org/media/attachments/lesson/681964/2_2_14_ans.csv', index_col=0)"
   ]
  }
 ],
 "metadata": {
  "colab": {
   "provenance": []
  },
  "kernelspec": {
   "display_name": "Python 3 (ipykernel)",
   "language": "python",
   "name": "python3"
  },
  "language_info": {
   "codemirror_mode": {
    "name": "ipython",
    "version": 3
   },
   "file_extension": ".py",
   "mimetype": "text/x-python",
   "name": "python",
   "nbconvert_exporter": "python",
   "pygments_lexer": "ipython3",
   "version": "3.11.4"
  }
 },
 "nbformat": 4,
 "nbformat_minor": 1
}
