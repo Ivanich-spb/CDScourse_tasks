{
  "nbformat": 4,
  "nbformat_minor": 0,
  "metadata": {
    "colab": {
      "provenance": [],
      "collapsed_sections": [
        "tQFfZ4nx_fMo",
        "MzSsFM41G7bl",
        "9Naq02eP-5Te",
        "tp2kr4xK_Lgu",
        "XoxhPMZzHlNU"
      ]
    },
    "kernelspec": {
      "name": "python3",
      "display_name": "Python 3"
    },
    "language_info": {
      "name": "python"
    }
  },
  "cells": [
    {
      "cell_type": "markdown",
      "source": [
        "# Задача на 6-ом шаге урока"
      ],
      "metadata": {
        "id": "tQFfZ4nx_fMo"
      }
    },
    {
      "cell_type": "markdown",
      "source": [
        "**🪢 Пишем categorical_transformer. 🤖**"
      ],
      "metadata": {
        "id": "Q2_wV79Pnea_"
      }
    },
    {
      "cell_type": "markdown",
      "source": [
        "Задача:\n",
        "\n",
        "*   При помощи sklearn.Pipelines напишите свой categorical_transformer, который принимает на вход pd.DataFrame\n",
        "\n",
        "*   Состоящий только из категориальных признаков\n",
        "\n",
        "*   Заполняет пропуски строкой 'Unknown', а потом делает one hot encoding.\n",
        "\n",
        "\n",
        "\n",
        "\n"
      ],
      "metadata": {
        "id": "Y7cjpay5wGHo"
      }
    },
    {
      "cell_type": "markdown",
      "source": [
        "Примечание: Не нужно писать это руками, воспользуйтесь трансформерами из sklearn.impute и sklearn.preprocessing."
      ],
      "metadata": {
        "id": "fnGsaI7FsWxX"
      }
    },
    {
      "cell_type": "markdown",
      "source": [
        "*Для отладки решения можно использовать следующий датасет:*"
      ],
      "metadata": {
        "id": "93HFzxXZUs4U"
      }
    },
    {
      "cell_type": "code",
      "source": [
        "import pandas as pd\n",
        "\n",
        "data_root = \"https://raw.githubusercontent.com/a-milenkin/Competitive_Data_Science/main/data/\"\n",
        "data = pd.read_csv(data_root + 'quickstart_train.csv')"
      ],
      "metadata": {
        "id": "H53zCfFPUol9"
      },
      "execution_count": null,
      "outputs": []
    },
    {
      "cell_type": "markdown",
      "source": [
        "Решение:"
      ],
      "metadata": {
        "id": "cvTvKOGdVHDr"
      }
    },
    {
      "cell_type": "code",
      "source": [
        "import sklearn\n",
        "\n",
        "categorical_transformer = ## your code here\n",
        "data_pred = categorical_transformer.fit_transform(data[categorical_features])"
      ],
      "metadata": {
        "id": "Mhwbu91nthzl"
      },
      "execution_count": null,
      "outputs": []
    },
    {
      "cell_type": "markdown",
      "source": [
        "# Задача на 7-ом шаге урока"
      ],
      "metadata": {
        "id": "MzSsFM41G7bl"
      }
    },
    {
      "cell_type": "markdown",
      "source": [
        "🧵 Пишем numerical_transformer 🤖"
      ],
      "metadata": {
        "id": "GpdzC9J7fy-t"
      }
    },
    {
      "cell_type": "markdown",
      "source": [
        "Задача:\n",
        "\n",
        "* Напишите свой numerical_transformer, который принимает на вход pd.DataFrame, состоящий только из численных признаков.\n",
        "\n",
        "* Он должен заполнить пропуски медианой, потом нормализовать данные с помощью MinMaxScaler\n",
        "\n",
        "* отобрать топ-5 признаков с наибольшим\n",
        "значением функции [ANOVA F-value](https://scikit-learn.org/stable/modules/generated/sklearn.feature_selection.f_classif.html).\n",
        "\n"
      ],
      "metadata": {
        "id": "Sx-HFxTVLTYl"
      }
    },
    {
      "cell_type": "markdown",
      "source": [
        "Примечание: Не нужно писать это руками, воспользуйтесь трансформерами из sklearn."
      ],
      "metadata": {
        "id": "_11g_08bVT3Z"
      }
    },
    {
      "cell_type": "markdown",
      "source": [
        "*Для отладки решения можно использовать следующий датасет:*"
      ],
      "metadata": {
        "id": "M_AksdSpV1Rx"
      }
    },
    {
      "cell_type": "code",
      "source": [
        "import pandas as pd\n",
        "\n",
        "data_root = \"https://raw.githubusercontent.com/a-milenkin/Competitive_Data_Science/main/data/\"\n",
        "data = pd.read_csv(data_root + 'quickstart_train.csv')"
      ],
      "metadata": {
        "id": "_WIDEhfuV3-n"
      },
      "execution_count": null,
      "outputs": []
    },
    {
      "cell_type": "markdown",
      "source": [
        "Решение:"
      ],
      "metadata": {
        "id": "ngyDfN0mVRFx"
      }
    },
    {
      "cell_type": "code",
      "source": [
        "import sklearn\n",
        "\n",
        "numerical_transformer = ## your code here\n",
        "\n",
        "data_pred = numerical_transformer.fit_transform(\n",
        "    data[numerical_features],\n",
        "    data['target'])"
      ],
      "metadata": {
        "id": "qzv-UWuh-39m"
      },
      "execution_count": null,
      "outputs": []
    },
    {
      "cell_type": "markdown",
      "source": [
        "# Задача на 8-ом шаге урока"
      ],
      "metadata": {
        "id": "9Naq02eP-5Te"
      }
    },
    {
      "cell_type": "markdown",
      "source": [
        "**🧳 Пишем data_transformer**"
      ],
      "metadata": {
        "id": "mSdj6gkPgAHe"
      }
    },
    {
      "cell_type": "markdown",
      "source": [
        "Задача:\n",
        "\n",
        "*  Объедините предыдущие два шага вместе чтобы выполнялось следующее\n",
        "\n",
        "*  на numerical_features ваш трансформер вызывал numerical_transformer\n",
        "\n",
        "*  на categorical_features использовал categorical_transformer.\n"
      ],
      "metadata": {
        "id": "xg-sGMBeVg3I"
      }
    },
    {
      "cell_type": "markdown",
      "source": [
        "Примечание:  categorical_transformer и numerical_transformer считайте уже объявленными.\n",
        "\n"
      ],
      "metadata": {
        "id": "d_BfoIauGeNy"
      }
    },
    {
      "cell_type": "markdown",
      "source": [
        "*Решение тестируется на тех же данных, что и предыдуще задачи - используются  трансформеры из предыдущих задач на 6-ом и 7-ом уроке*"
      ],
      "metadata": {
        "id": "bkxAPHoqWqHJ"
      }
    },
    {
      "cell_type": "markdown",
      "source": [
        "Решение:"
      ],
      "metadata": {
        "id": "iFNbiuGEYiNB"
      }
    },
    {
      "cell_type": "code",
      "source": [
        "import sklearn\n",
        "\n",
        "data_transformer = ## your code here\n",
        "\n",
        "data_pred = data_transformer.fit_transform(data, data['target']))"
      ],
      "metadata": {
        "id": "46CpNTSt_NUW"
      },
      "execution_count": null,
      "outputs": []
    },
    {
      "cell_type": "markdown",
      "source": [
        "# Задача на 9-ом шаге урока"
      ],
      "metadata": {
        "id": "tp2kr4xK_Lgu"
      }
    },
    {
      "cell_type": "markdown",
      "source": [
        "**🌂 Пишем свой классификатор**"
      ],
      "metadata": {
        "id": "WhrgCYgKezLq"
      }
    },
    {
      "cell_type": "markdown",
      "source": [
        "Задача:\n",
        "\n",
        "* Написать свой ансамбль по приведенной ниже структуре\n",
        "<center> <img src = https://ucarecdn.com/94fb93eb-b945-4cdf-900f-6741c1b0aaa4/> </center>\n",
        "\n",
        "*   В качестве final_estimator используй LogisticRegression()"
      ],
      "metadata": {
        "id": "Yze_INl6QfrS"
      }
    },
    {
      "cell_type": "markdown",
      "source": [
        "Примечание: ColumnTransformer уже объявлен и лежит в переменной data_transofmer. Список моделей вы можете найти в словаре в коде (их объявлять и импортировать не нужно)."
      ],
      "metadata": {
        "id": "U3f6Jh7AJFk9"
      }
    },
    {
      "cell_type": "markdown",
      "source": [
        "*Для тестирования решения можно использовать data_transformer из прошлой задачи*"
      ],
      "metadata": {
        "id": "_X052eX2HEOJ"
      }
    },
    {
      "cell_type": "markdown",
      "source": [
        "Решение:"
      ],
      "metadata": {
        "id": "erJfBLB6W4eD"
      }
    },
    {
      "cell_type": "code",
      "source": [
        "import sklearn\n",
        "\n",
        "models = {'random_forest': random_forest_model,\n",
        "          'xgboost': xgb_model,\n",
        "          'lightgbm': lgbm_model,\n",
        "          'catboost': cat_model}\n",
        "\n",
        "# data_transformer уже объявлен\n",
        "\n",
        "stacking_classifier = # your code"
      ],
      "metadata": {
        "id": "Ilf29skJ_G8E"
      },
      "execution_count": null,
      "outputs": []
    },
    {
      "cell_type": "markdown",
      "source": [
        "# Задача на 10-ом шаге урока"
      ],
      "metadata": {
        "id": "XoxhPMZzHlNU"
      }
    },
    {
      "cell_type": "markdown",
      "source": [
        "**🧶 Hard*. Пишем свой text_transformer 🤖**"
      ],
      "metadata": {
        "id": "7SoeTlige84X"
      }
    },
    {
      "cell_type": "markdown",
      "source": [
        "Задача:"
      ],
      "metadata": {
        "id": "iL3WPNEZ-V2V"
      }
    },
    {
      "cell_type": "markdown",
      "source": [
        "\n",
        "\n",
        "* Необходимо реализовать кастомный text_transformer, который можно будет встраивать в sklearn.Pipelines(). Подробно про то, как реализовать свой трансформер, вы можете прочитать [здесь](https://towardsdatascience.com/pipelines-custom-transformers-in-scikit-learn-the-step-by-step-guide-with-python-code-4a7d9b068156).\n",
        "\n",
        "\n",
        "*   трансформер должен работать с текстовыми столбцами и делать следующие преобразования:\n",
        "1. Удалять из текста стоп-слова, которые задаются списком в параметрах трансформера (сравнение нужно проводить до нормализации).\n",
        "2. Нормализовать слова при помощи get_normal_string(). То есть каждое слово нужно заменить на get_normal_string(word) для всех слов в тексте.\n",
        "3. Cчитайте, что слова разделены пробелами."
      ],
      "metadata": {
        "id": "J73-zOXn-VxL"
      }
    },
    {
      "cell_type": "markdown",
      "source": [
        "*Ваш код будет тестироваться вот таким небольшим пайплайном (можете его использовать, чтобы отлаживаться локально):*"
      ],
      "metadata": {
        "id": "MleESejHRqdu"
      }
    },
    {
      "cell_type": "code",
      "source": [
        "data = pd.DataFrame({'text': ['текст 1', 'текст 2']}) # это для примера\n",
        "\n",
        "text_transformers = Pipeline(steps=[\n",
        "    (\"imputer\", SimpleImputer(strategy='constant', fill_value='')),\n",
        "    (\"scaler\", TextTransformer(stop_words_list))\n",
        "])\n",
        "\n",
        "text_transformers.fit_transform(data[['text']])"
      ],
      "metadata": {
        "colab": {
          "base_uri": "https://localhost:8080/"
        },
        "id": "Hm8brOziUHsb",
        "outputId": "8c47957d-6271-488b-93b6-f92a37d3b54a"
      },
      "execution_count": 7,
      "outputs": [
        {
          "output_type": "execute_result",
          "data": {
            "text/plain": [
              "array([['текст 1'],\n",
              "       ['текст 2']], dtype=object)"
            ]
          },
          "metadata": {},
          "execution_count": 7
        }
      ]
    },
    {
      "cell_type": "markdown",
      "source": [
        "Решение:"
      ],
      "metadata": {
        "id": "lpKlc4Q0ICz7"
      }
    },
    {
      "cell_type": "code",
      "source": [
        "import sklearn\n",
        "\n",
        "# TextTransformer definition"
      ],
      "metadata": {
        "id": "67kM6S6IIHwM"
      },
      "execution_count": null,
      "outputs": []
    }
  ]
}