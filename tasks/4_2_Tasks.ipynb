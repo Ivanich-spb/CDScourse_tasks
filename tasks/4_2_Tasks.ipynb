{
  "nbformat": 4,
  "nbformat_minor": 0,
  "metadata": {
    "colab": {
      "provenance": [],
      "collapsed_sections": [
        "tQFfZ4nx_fMo"
      ]
    },
    "kernelspec": {
      "name": "python3",
      "display_name": "Python 3"
    },
    "language_info": {
      "name": "python"
    }
  },
  "cells": [
    {
      "cell_type": "markdown",
      "source": [
        "# Задача на 6-ом шаге урока"
      ],
      "metadata": {
        "id": "tQFfZ4nx_fMo"
      }
    },
    {
      "cell_type": "markdown",
      "source": [
        "**🦌 Кастомные loss'ы & eval функции в LightGBM**"
      ],
      "metadata": {
        "id": "_8c4owd7pW8D"
      }
    },
    {
      "cell_type": "code",
      "source": [],
      "metadata": {
        "id": "Oi9AEAGOBuec"
      },
      "execution_count": null,
      "outputs": []
    },
    {
      "cell_type": "markdown",
      "source": [
        "Датасет для тестов"
      ],
      "metadata": {
        "id": "nAdZNrW0p7W4"
      }
    },
    {
      "cell_type": "code",
      "execution_count": null,
      "metadata": {
        "id": "SJ48wmwEtd82"
      },
      "outputs": [],
      "source": [
        "import pandas as pd"
      ]
    },
    {
      "cell_type": "code",
      "source": [
        "path = 'https://raw.githubusercontent.com/a-milenkin/Competitive_Data_Science/main/data/car_train.csv'\n",
        "car_train = pd.read_csv(path)"
      ],
      "metadata": {
        "id": "Mhwbu91nthzl"
      },
      "execution_count": null,
      "outputs": []
    },
    {
      "cell_type": "code",
      "source": [],
      "metadata": {
        "id": "t8KIX_m7Vsxz"
      },
      "execution_count": null,
      "outputs": []
    },
    {
      "cell_type": "markdown",
      "source": [
        "Решение"
      ],
      "metadata": {
        "id": "d0v5ypU1qMqH"
      }
    },
    {
      "cell_type": "code",
      "source": [
        "# предикты получаем методом get_label()\n",
        "def custom_l2_loss(y, data):\n",
        "    t = data.get_label()\n",
        "    # YOUR CODE HERE ...\n",
        "    return grad, hess\n",
        "\n",
        "def custom_l2_eval(y, data):\n",
        "    t = data.get_label()\n",
        "    # YOUR CODE HERE ...\n",
        "    return 'l2', ###, ###"
      ],
      "metadata": {
        "id": "hWB45oYzqMBt"
      },
      "execution_count": null,
      "outputs": []
    },
    {
      "cell_type": "code",
      "source": [],
      "metadata": {
        "id": "f8-_Zy9Uqb0Q"
      },
      "execution_count": null,
      "outputs": []
    },
    {
      "cell_type": "markdown",
      "source": [
        "# Задача на 7-ом шаге урока"
      ],
      "metadata": {
        "id": "MzSsFM41G7bl"
      }
    },
    {
      "cell_type": "markdown",
      "source": [
        "**⏲ Напиши свой шедулер!**"
      ],
      "metadata": {
        "id": "W00JXcVQrAB9"
      }
    },
    {
      "cell_type": "code",
      "source": [],
      "metadata": {
        "id": "uU6q9g2yrnT_"
      },
      "execution_count": null,
      "outputs": []
    },
    {
      "cell_type": "markdown",
      "source": [
        "Решение"
      ],
      "metadata": {
        "id": "eT9Wt-5ZrzS0"
      }
    },
    {
      "cell_type": "code",
      "source": [
        "def generate_lr_list(start:float, stop:float, iterations:int, step:int)->list():\n",
        "    # YOUR CODE HERE ...\n",
        "    return ###\n"
      ],
      "metadata": {
        "id": "0TYAF7BirlEc"
      },
      "execution_count": null,
      "outputs": []
    }
  ]
}