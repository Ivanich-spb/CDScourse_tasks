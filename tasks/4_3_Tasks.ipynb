{
  "nbformat": 4,
  "nbformat_minor": 0,
  "metadata": {
    "colab": {
      "provenance": []
    },
    "kernelspec": {
      "name": "python3",
      "display_name": "Python 3"
    },
    "language_info": {
      "name": "python"
    }
  },
  "cells": [
    {
      "cell_type": "markdown",
      "source": [
        "# Задача на 6-ом шаге урока"
      ],
      "metadata": {
        "id": "tQFfZ4nx_fMo"
      }
    },
    {
      "cell_type": "markdown",
      "source": [
        "**Custom eval function в XGBoost**"
      ],
      "metadata": {
        "id": "uoSh3pClyx8H"
      }
    },
    {
      "cell_type": "code",
      "source": [],
      "metadata": {
        "id": "uImOeDlUy_z9"
      },
      "execution_count": null,
      "outputs": []
    },
    {
      "cell_type": "markdown",
      "source": [
        "Решение"
      ],
      "metadata": {
        "id": "Kmo6T4TC0H0s"
      }
    },
    {
      "cell_type": "code",
      "source": [
        "# метки получаем методом get_label()\n",
        "def custom_rmsle_eval(predictions, dmat):\n",
        "    labels = dmat.get_label()\n",
        "    # YOUR CODE HERE ...\n",
        "    return 'RMSLE', ###"
      ],
      "metadata": {
        "id": "Asi1uRAC0K7A"
      },
      "execution_count": null,
      "outputs": []
    },
    {
      "cell_type": "code",
      "source": [],
      "metadata": {
        "id": "SBebD1ANzFdN"
      },
      "execution_count": null,
      "outputs": []
    },
    {
      "cell_type": "markdown",
      "source": [
        "# Задача на 7-ом шаге урока"
      ],
      "metadata": {
        "id": "MzSsFM41G7bl"
      }
    },
    {
      "cell_type": "markdown",
      "source": [
        "**🤯 Extra-hard task: custom Log-cosh loss**"
      ],
      "metadata": {
        "id": "WtxgdIebztt4"
      }
    },
    {
      "cell_type": "code",
      "source": [],
      "metadata": {
        "id": "qYBsJCqU0d8W"
      },
      "execution_count": null,
      "outputs": []
    },
    {
      "cell_type": "markdown",
      "source": [
        "Решение"
      ],
      "metadata": {
        "id": "mr_XjNIf0gel"
      }
    },
    {
      "cell_type": "code",
      "source": [
        "import pandas as pd\n",
        "import numpy as np\n",
        "\n",
        "# метки получаем методом get_label()\n",
        "def custom_log_cosh_loss(predictions, dmat):\n",
        "    labels = dmat.get_label()\n",
        "    # YOUR CODE HERE ...\n",
        "    return ###, ###"
      ],
      "metadata": {
        "id": "YZc2bwsCUOnr"
      },
      "execution_count": null,
      "outputs": []
    },
    {
      "cell_type": "code",
      "source": [],
      "metadata": {
        "id": "zS3J3Cbv0ecX"
      },
      "execution_count": null,
      "outputs": []
    }
  ]
}