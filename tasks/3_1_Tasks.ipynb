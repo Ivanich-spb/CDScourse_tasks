{
 "cells": [
  {
   "cell_type": "markdown",
   "metadata": {
    "id": "dmuprBVAvMYT"
   },
   "source": [
    "# Задача на 2-ом шаге урока"
   ]
  },
  {
   "cell_type": "markdown",
   "metadata": {
    "id": "XFrOVkY1Hz4-"
   },
   "source": [
    "**🧠 Практика по apply() на 3 столбцах**"
   ]
  },
  {
   "cell_type": "markdown",
   "metadata": {
    "id": "DV1n2W2UH4Ix"
   },
   "source": [
    "Датасет для тестирования:"
   ]
  },
  {
   "cell_type": "markdown",
   "metadata": {},
   "source": [
    "Задание: Создайте в df новый столбец final_ride_cost, который будет зависеть от рейтинга (rating) и максимальной скорости (speed_max) поездки. Значения в этом столбце будут отличаться в зависимости от двух условий:\n",
    "- Если рейтинг выше 6 и максимальная скорость поездки меньше 120 км/ч, то стоимость поездки (ride_cost) уменьшите на 5%.\n",
    "- В противном случае: стоимость поездки (ride_cost) увеличьте на 5%.\n",
    "\n",
    "В новом столбце final_ride_cost отбросьте дробную часть значений, оставьте только целую часть. Так как стоимость измеряется в рублях, дробная часть не имеет значения."
   ]
  },
  {
   "cell_type": "code",
   "execution_count": null,
   "metadata": {
    "id": "XOXZ02DPvVUF"
   },
   "outputs": [],
   "source": [
    "import pandas as pd\n",
    "\n",
    "df = pd.read_csv('https://stepik.org/media/attachments/lesson/779916/3_1_2.csv')\n",
    "\n",
    "# В столбце true_final_ride_cost записаны правильные ответы.\n",
    "# Создайте столбец final_ride_cost исходя из условий задачи."
   ]
  },
  {
   "cell_type": "code",
   "execution_count": null,
   "metadata": {},
   "outputs": [],
   "source": [
    "# Корректность своего ответа можно проверить, например, таким образом\n",
    "print(df['final_ride_cost'].equals(df['true_final_ride_cost']))"
   ]
  },
  {
   "cell_type": "markdown",
   "metadata": {
    "id": "ZBlc9uMTIRNk"
   },
   "source": [
    "На вход подается: Переменная df  с полным DataFrame с исходными данными.\n",
    "На выходе принимается: Измененный DataFrame (переменная df)."
   ]
  },
  {
   "cell_type": "markdown",
   "metadata": {
    "id": "n1qGSTJmvnsC"
   },
   "source": [
    "# Задача на 3-ем шаге урока"
   ]
  },
  {
   "cell_type": "markdown",
   "metadata": {
    "id": "vCwJHh-SIhVK"
   },
   "source": [
    "**🧠 Задача: 🖐 gold фичей**"
   ]
  },
  {
   "cell_type": "markdown",
   "metadata": {},
   "source": [
    "Задача:\n",
    "\n",
    "Создайте новый датафрейм, в котором для каждой машины есть следующие столбцы:\n",
    "\n",
    "- Столбец feature_1 - Количество уникальных значений остановок (stop_times).\n",
    "- Столбец feature_2 - Второй максимум столбца максимальной скорости (speed_max).\n",
    "- Столбец feature_3 - Отношение минимального и максимального значения рейтинга.\n",
    "- Столбец feature_4 - Самое популярное значение числа остановок (другим словами, мода).\n",
    "- Столбец feature_5 - Стандартное отклонение стоимостей поездок (ride_cost). \n",
    "\n",
    "Решение запишите в переменную result."
   ]
  },
  {
   "cell_type": "code",
   "execution_count": null,
   "metadata": {},
   "outputs": [],
   "source": [
    "import pandas as pd\n",
    "\n",
    "df = pd.read_csv('https://stepik.org/media/attachments/lesson/779916/3_1_3.csv')\n",
    "\n",
    "# В переменной ans находится правильный ответ для df\n",
    "ans = pd.read_csv('https://stepik.org/media/attachments/lesson/779916/3_1_3_ans.csv')"
   ]
  },
  {
   "cell_type": "code",
   "execution_count": null,
   "metadata": {
    "id": "mVoQ3pxXGq8D"
   },
   "outputs": [],
   "source": [
    "# result ="
   ]
  },
  {
   "cell_type": "markdown",
   "metadata": {
    "id": "nB2dtgmpIySv"
   },
   "source": [
    "На вход подается: Переменная df  с исходными данными.\n",
    "На выходе принимается: Переменная result."
   ]
  },
  {
   "cell_type": "markdown",
   "metadata": {
    "id": "MzSsFM41G7bl"
   },
   "source": [
    "# Задача на 4-ом шаге урока"
   ]
  },
  {
   "cell_type": "markdown",
   "metadata": {
    "id": "jnX41DNvKrlG"
   },
   "source": [
    "**🧠 Задача на merge()**"
   ]
  },
  {
   "cell_type": "markdown",
   "metadata": {},
   "source": [
    "Задача:\n",
    "- Обогатите датасет rides про поездки информацией о будущем виде поломки, используя датасет cars. \n",
    "- Удалите лишние столбцы. Таблицу rides надо дополнить лишь столбцом target_class.\n",
    "- Удалите поездки, для которых нет информации про поломки.  \n",
    "- Запишите в переменную result.\n"
   ]
  },
  {
   "cell_type": "code",
   "execution_count": null,
   "metadata": {
    "id": "admRmTkgKk6S"
   },
   "outputs": [],
   "source": [
    "import pandas as pd\n",
    "\n",
    "rides = pd.read_csv('https://stepik.org/media/attachments/lesson/779916/3_1_4_rides.csv')\n",
    "cars = pd.read_csv('https://stepik.org/media/attachments/lesson/779916/3_1_4_cars.csv')\n",
    "\n",
    "# В переменную ans записан правильный ответ, с которым можно сверить свое решение.\n",
    "ans = pd.read_csv('https://stepik.org/media/attachments/lesson/779916/3_1_4_ans.csv')"
   ]
  },
  {
   "cell_type": "markdown",
   "metadata": {
    "id": "SQ3RSuS7Pk6r"
   },
   "source": [
    "На выходе принимается: Переменная result"
   ]
  },
  {
   "cell_type": "code",
   "execution_count": null,
   "metadata": {},
   "outputs": [],
   "source": [
    "# result ="
   ]
  },
  {
   "cell_type": "markdown",
   "metadata": {
    "id": "33H0v8E5JbU_"
   },
   "source": [
    "# Задача на 5-ом шаге урока"
   ]
  },
  {
   "cell_type": "markdown",
   "metadata": {
    "id": "n5E1acRqQAyi"
   },
   "source": [
    "**🧠 Задача на transform() и 3 silver фичи**"
   ]
  },
  {
   "cell_type": "markdown",
   "metadata": {
    "id": "LWZzk0jMRlv3"
   },
   "source": [
    "На вход подается: Переменная rides с исходными данными про поездки."
   ]
  },
  {
   "cell_type": "markdown",
   "metadata": {},
   "source": [
    "Задача:\n",
    "\n",
    "- Обогатите датасет rides про поездки дополнительными признаками без использования метода merge.\n",
    "- Добавьте столбец car_ride_count - общее число поездок для этой машины.\n",
    "- Добавьте столбец user_rating_max - максимальный рейтинг, поставленный этим пользователем.\n",
    "- Добавьте столбец user_ride_cost_mean - средняя стоимость поездки этого пользователя.\n",
    "- Результат запишите в переменную result."
   ]
  },
  {
   "cell_type": "code",
   "execution_count": null,
   "metadata": {},
   "outputs": [],
   "source": [
    "import pandas as pd\n",
    "\n",
    "rides = pd.read_csv('https://stepik.org/media/attachments/lesson/779916/3_1_5.csv')\n",
    "\n",
    "# В столбцах true_car_ride_count, true_user_rating_max, true_user_ride_cost_mean записаны правильные ответы.\n",
    "# Создайте столбцы car_ride_count, user_rating_max, user_ride_cost_mean"
   ]
  },
  {
   "cell_type": "code",
   "execution_count": null,
   "metadata": {},
   "outputs": [],
   "source": [
    "# Проверить корректность своего решения можно, например, таким способом\n",
    "print(rides['true_car_ride_count'].equals(rides['car_ride_count']))\n",
    "print(rides['true_user_rating_max'].equals(rides['user_rating_max']))\n",
    "print(rides['true_user_ride_cost_mean'].equals(rides['user_ride_cost_mean']))"
   ]
  },
  {
   "cell_type": "markdown",
   "metadata": {
    "id": "YnOkDGn-Ryuo"
   },
   "source": [
    "На выходе принимается: Переменная result."
   ]
  },
  {
   "cell_type": "code",
   "execution_count": null,
   "metadata": {
    "id": "dsfF4WDBRrby"
   },
   "outputs": [],
   "source": [
    "# result ="
   ]
  },
  {
   "cell_type": "markdown",
   "metadata": {
    "id": "2_b5M9_BTDpk"
   },
   "source": [
    "# Задача на 6-ом шаге урока\n"
   ]
  },
  {
   "cell_type": "markdown",
   "metadata": {
    "id": "AZZwvPVCSQBe"
   },
   "source": [
    "**🧠 Задача на transform() и 4 самописные функции**"
   ]
  },
  {
   "cell_type": "markdown",
   "metadata": {
    "id": "Wfp-VMm8S5nP"
   },
   "source": [
    "На вход подается: Переменная rides  с исходными данными про поездки."
   ]
  },
  {
   "cell_type": "markdown",
   "metadata": {},
   "source": [
    "Задача\n",
    "\n",
    "- Обогатите датасет rides про поездки дополнительными признаками без использования метода merge.\n",
    "- Добавьте столбец feature_1 — 75% перцентиль столбца ride_cost для каждого пользователя (user_id).\n",
    "- 🎃 Добавьте столбец feature_2 — разницу максимального и минимального значения rating, деленную на среднее столбца rating для каждого пользователя (user_id).\n",
    "- 👽 Добавьте столбец feature_3  — количество значений ride_duration, которое больше 40 для каждой машины (car_id).\n",
    "- 👾 Добавьте столбец feature_4 — сумму значений ride_duration, которая больше 40 для каждой машины (car_id).\n",
    "- Результат запишите в переменную result.\n"
   ]
  },
  {
   "cell_type": "code",
   "execution_count": null,
   "metadata": {
    "colab": {
     "base_uri": "https://localhost:8080/",
     "height": 270
    },
    "id": "rtoRipOOS11y",
    "outputId": "069565ce-2dbb-4776-e673-55a8be8d29c0"
   },
   "outputs": [],
   "source": [
    "import pandas as pd\n",
    "\n",
    "rides = pd.read_csv('https://stepik.org/media/attachments/lesson/779916/3_1_6.csv')\n",
    "\n",
    "# В столбцы true_feature_1, true_feature_2, true_feature_3, true_feature_4 записаны правильные ответы\n",
    "# Создайте столбцы feature_1, feature_2, feature_3, feature_4."
   ]
  },
  {
   "cell_type": "code",
   "execution_count": null,
   "metadata": {
    "id": "J-af1P9US1vv"
   },
   "outputs": [],
   "source": [
    "# Проверить корректность своего решения можно, например, таким способом\n",
    "print(rides['true_feature_1'].equals(rides['feature_1']))\n",
    "print(rides['true_feature_2'].equals(rides['feature_2']))\n",
    "print(rides['true_feature_3'].equals(rides['feature_3']))\n",
    "print(rides['true_feature_4'].equals(rides['feature_4']))"
   ]
  },
  {
   "cell_type": "markdown",
   "metadata": {
    "id": "1iaGTVORgI7T"
   },
   "source": [
    "На выходе принимается: Переменная result"
   ]
  },
  {
   "cell_type": "code",
   "execution_count": null,
   "metadata": {
    "id": "AmPa-ifJS1kO"
   },
   "outputs": [],
   "source": [
    "# result = "
   ]
  },
  {
   "cell_type": "markdown",
   "metadata": {
    "id": "ZH20WIAzih5p"
   },
   "source": [
    "# Задача на 7-ом шаге урока"
   ]
  },
  {
   "cell_type": "markdown",
   "metadata": {
    "id": "_XyqN8nokONU"
   },
   "source": [
    "**🧠 Задача на pivot_table() и merge()**"
   ]
  },
  {
   "cell_type": "markdown",
   "metadata": {},
   "source": [
    "Задача. На основе этого датафрейма надо будет собрать несколько сводных таблиц (pivot table) и потом смержить их в одну итоговую, получив некое подобие эмбеддингов для подачи в модель.\n",
    "\n",
    "- Индексом во всех таблицах будет user_id.\n",
    "- 🙂 Первая таблица: Сколько раз пользователь брал машины определенного класса? \n",
    "- 🙃 Вторая таблица: Какими были максимальная, минимальная и средняя дистанция и стоимость поездки пользователя?\n",
    "- 🙂 Третья таблица: Сколько уникальных машин брал пользователь в аренду?\n",
    "- Далее соединяем по ключу (смерживаем) все 3 таблицы в одну.\n",
    "- И в конце добавляем бинарный таргет в столбец crazy_driver: Является ли наш пользователь безумным гонщиком? Если его максимальная скорость превышала 100 км/ч, то 1; если не превышала, то 0.\n",
    "- Результат решения запишите в переменную result."
   ]
  },
  {
   "cell_type": "code",
   "execution_count": null,
   "metadata": {
    "id": "jxE8zUQgUNe7"
   },
   "outputs": [],
   "source": [
    "import pandas as pd\n",
    "\n",
    "df = pd.read_csv('https://stepik.org/media/attachments/lesson/779916/3_1_7.csv')\n",
    "\n",
    "# В ans записан правильный ответ\n",
    "ans = pd.read_csv('https://stepik.org/media/attachments/lesson/779916/3_1_7_ans.csv')"
   ]
  },
  {
   "cell_type": "code",
   "execution_count": null,
   "metadata": {
    "id": "E1MvIl6CmD9F"
   },
   "outputs": [],
   "source": [
    "# result = "
   ]
  },
  {
   "cell_type": "markdown",
   "metadata": {
    "id": "HqfgDYE6mFdD"
   },
   "source": [
    "Результат решения запишите в переменную result"
   ]
  },
  {
   "cell_type": "markdown",
   "metadata": {},
   "source": [
    "Комментарий: Не забывайте избавляться от мультииндекса и использовать pivot_table. Использовать groupby нельзя! Пропуски заполнять 0."
   ]
  }
 ],
 "metadata": {
  "colab": {
   "collapsed_sections": [
    "dmuprBVAvMYT",
    "ZH20WIAzih5p"
   ],
   "provenance": []
  },
  "kernelspec": {
   "display_name": "Python 3 (ipykernel)",
   "language": "python",
   "name": "python3"
  },
  "language_info": {
   "codemirror_mode": {
    "name": "ipython",
    "version": 3
   },
   "file_extension": ".py",
   "mimetype": "text/x-python",
   "name": "python",
   "nbconvert_exporter": "python",
   "pygments_lexer": "ipython3",
   "version": "3.11.4"
  }
 },
 "nbformat": 4,
 "nbformat_minor": 1
}
